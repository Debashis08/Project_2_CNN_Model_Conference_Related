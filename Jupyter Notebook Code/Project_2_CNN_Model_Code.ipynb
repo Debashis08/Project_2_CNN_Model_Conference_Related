{
  "cells": [
    {
      "cell_type": "markdown",
      "source": [
        "### Importing required libraries"
      ],
      "metadata": {
        "id": "uBYwCqCtEjYP"
      }
    },
    {
      "cell_type": "code",
      "execution_count": 2,
      "metadata": {
        "id": "vs9SfnnnlokY"
      },
      "outputs": [],
      "source": [
        "import tensorflow as tf\n",
        "from tensorflow.compat.v1 import ConfigProto\n",
        "from tensorflow.compat.v1 import InteractiveSession\n",
        "from tensorflow.keras.layers import Input, Lambda, Dense, Flatten\n",
        "from tensorflow.keras.models import Model\n",
        "from tensorflow.keras.preprocessing import image\n",
        "from tensorflow.keras.preprocessing.image import ImageDataGenerator,load_img\n",
        "from tensorflow.keras.models import Sequential\n",
        "from tensorflow.keras.layers import Rescaling, Conv2D, MaxPooling2D, Dense, Flatten, Dropout, BatchNormalization\n",
        "from tensorflow.keras.preprocessing.image import ImageDataGenerator\n",
        "from tensorflow.keras.models import load_model\n",
        "from tensorflow.keras.preprocessing import image\n",
        "from tensorflow.keras.metrics import Precision, Recall, Accuracy\n",
        "import numpy as np\n",
        "import matplotlib.pyplot as plt\n",
        "\n",
        "# config = ConfigProto()\n",
        "# config.gpu_options.per_process_gpu_memory_fraction = 0.5\n",
        "# config.gpu_options.allow_growth = True\n",
        "# session = InteractiveSession(config=config)"
      ]
    },
    {
      "cell_type": "markdown",
      "source": [
        "### Declaring the Image size and Batch size"
      ],
      "metadata": {
        "id": "iJ6CFKaPEVGd"
      }
    },
    {
      "cell_type": "code",
      "execution_count": 3,
      "metadata": {
        "id": "Za-dL2Aplrlv"
      },
      "outputs": [],
      "source": [
        "IMAGE_SIZE = [256, 256]\n",
        "BATCH_SIZE=16\n",
        "image_dir='/content/drive/MyDrive/Project_2/BLACK_WHITE'"
      ]
    },
    {
      "cell_type": "code",
      "execution_count": 4,
      "metadata": {
        "id": "sU-YeLLf4iAA"
      },
      "outputs": [],
      "source": [
        "classes=[\"1-1\",\"1-2\",\"1-4\",\"PURE\"]"
      ]
    },
    {
      "cell_type": "code",
      "execution_count": 5,
      "metadata": {
        "id": "OPvQOBPsn5Fo"
      },
      "outputs": [],
      "source": [
        "logdir='/content/drive/MyDrive/Project_2/CNN_Model_Related/Logs'"
      ]
    },
    {
      "cell_type": "code",
      "source": [
        "tensorboard_callback = tf.keras.callbacks.TensorBoard(log_dir=logdir)"
      ],
      "metadata": {
        "id": "h_ST2edlv3ZY"
      },
      "execution_count": 6,
      "outputs": []
    },
    {
      "cell_type": "markdown",
      "source": [
        "### Fetching and Preprocessing the image files"
      ],
      "metadata": {
        "id": "YPkn5rEDEdAN"
      }
    },
    {
      "cell_type": "code",
      "source": [
        "normalization_layer = tf.keras.layers.Rescaling(1./255)"
      ],
      "metadata": {
        "id": "fh6SpJSSEDSa"
      },
      "execution_count": 7,
      "outputs": []
    },
    {
      "cell_type": "code",
      "source": [
        "# Make sure you provide the same target size as initialied for the image size\n",
        "\n",
        "training_set =tf.keras.utils.image_dataset_from_directory(\n",
        "  image_dir,\n",
        "  label_mode='int',\n",
        "  validation_split=0.2,\n",
        "  subset='training',\n",
        "  seed=131,\n",
        "  image_size=IMAGE_SIZE,\n",
        "  batch_size=BATCH_SIZE)"
      ],
      "metadata": {
        "colab": {
          "base_uri": "https://localhost:8080/"
        },
        "id": "A-yPCHaZEGZ4",
        "outputId": "0d04f14a-7ba9-4b02-8cb5-271f9fe202db"
      },
      "execution_count": 8,
      "outputs": [
        {
          "output_type": "stream",
          "name": "stdout",
          "text": [
            "Found 2240 files belonging to 4 classes.\n",
            "Using 1792 files for training.\n"
          ]
        }
      ]
    },
    {
      "cell_type": "code",
      "source": [
        "# Make sure you provide the same target size as initialied for the image size\n",
        "\n",
        "test_set = tf.keras.utils.image_dataset_from_directory(\n",
        "  image_dir,\n",
        "  label_mode='int',\n",
        "  validation_split=0.2,\n",
        "  subset='validation',\n",
        "  seed=131,\n",
        "  image_size=IMAGE_SIZE,\n",
        "  batch_size=BATCH_SIZE)"
      ],
      "metadata": {
        "colab": {
          "base_uri": "https://localhost:8080/"
        },
        "id": "j5xc-iDwEKoD",
        "outputId": "d7ef560a-284b-4667-99f0-8bcd532204b6"
      },
      "execution_count": 9,
      "outputs": [
        {
          "output_type": "stream",
          "name": "stdout",
          "text": [
            "Found 2240 files belonging to 4 classes.\n",
            "Using 448 files for validation.\n"
          ]
        }
      ]
    },
    {
      "cell_type": "code",
      "source": [
        "normalized_training_set = training_set.map(lambda x, y: (normalization_layer(x), y))\n",
        "normalized_test_set=test_set.map(lambda x,y: (normalization_layer(x), y))\n",
        "\n",
        "# image_batch, labels_batch = next(iter(normalized_training_set))      #<-----the data is fethched in this form: image batch, label batch"
      ],
      "metadata": {
        "id": "sVLUfWNtEYSM"
      },
      "execution_count": null,
      "outputs": []
    },
    {
      "cell_type": "markdown",
      "source": [
        "### Building the CNN Model"
      ],
      "metadata": {
        "id": "yRpUjvO_EpUm"
      }
    },
    {
      "cell_type": "code",
      "execution_count": 97,
      "metadata": {
        "id": "gQjwuivTlHfl"
      },
      "outputs": [],
      "source": [
        "model=Sequential()"
      ]
    },
    {
      "cell_type": "code",
      "execution_count": 98,
      "metadata": {
        "id": "utBDjOGplWIg"
      },
      "outputs": [],
      "source": [
        "model.add(Conv2D(32, (3,3), 1, activation='relu', input_shape=(256,256,3)))\n",
        "model.add(MaxPooling2D(pool_size=(2,2)))\n",
        "\n",
        "\n",
        "model.add(Conv2D(64, (3,3), 1, activation='relu'))\n",
        "model.add(MaxPooling2D())\n",
        "\n",
        "model.add(Conv2D(64, (3,3), 1, activation='relu'))\n",
        "model.add(MaxPooling2D())\n",
        "\n",
        "\n",
        "model.add(Conv2D(128, (3,3), 1, activation='relu'))\n",
        "model.add(MaxPooling2D(pool_size=(2,2)))\n",
        "\n",
        "# model.add(Dropout(0.2))\n",
        "model.add(Flatten())\n",
        "# model.add(Dropout(0.1))\n",
        "\n",
        "model.add(Dense(256, activation='relu'))\n",
        "model.add(Dense(4, activation='sigmoid'))"
      ]
    },
    {
      "cell_type": "code",
      "execution_count": 99,
      "metadata": {
        "colab": {
          "base_uri": "https://localhost:8080/"
        },
        "id": "YDnLFulroTl1",
        "outputId": "5cdda0c3-ea80-4085-fc6c-6b34eb41929a"
      },
      "outputs": [
        {
          "output_type": "stream",
          "name": "stdout",
          "text": [
            "Model: \"sequential_5\"\n",
            "_________________________________________________________________\n",
            " Layer (type)                Output Shape              Param #   \n",
            "=================================================================\n",
            " conv2d_17 (Conv2D)          (None, 254, 254, 32)      896       \n",
            "                                                                 \n",
            " max_pooling2d_17 (MaxPoolin  (None, 127, 127, 32)     0         \n",
            " g2D)                                                            \n",
            "                                                                 \n",
            " conv2d_18 (Conv2D)          (None, 125, 125, 64)      18496     \n",
            "                                                                 \n",
            " max_pooling2d_18 (MaxPoolin  (None, 62, 62, 64)       0         \n",
            " g2D)                                                            \n",
            "                                                                 \n",
            " conv2d_19 (Conv2D)          (None, 60, 60, 64)        36928     \n",
            "                                                                 \n",
            " max_pooling2d_19 (MaxPoolin  (None, 30, 30, 64)       0         \n",
            " g2D)                                                            \n",
            "                                                                 \n",
            " conv2d_20 (Conv2D)          (None, 28, 28, 128)       73856     \n",
            "                                                                 \n",
            " max_pooling2d_20 (MaxPoolin  (None, 14, 14, 128)      0         \n",
            " g2D)                                                            \n",
            "                                                                 \n",
            " flatten_5 (Flatten)         (None, 25088)             0         \n",
            "                                                                 \n",
            " dense_10 (Dense)            (None, 256)               6422784   \n",
            "                                                                 \n",
            " dense_11 (Dense)            (None, 4)                 1028      \n",
            "                                                                 \n",
            "=================================================================\n",
            "Total params: 6,553,988\n",
            "Trainable params: 6,553,988\n",
            "Non-trainable params: 0\n",
            "_________________________________________________________________\n"
          ]
        }
      ],
      "source": [
        "# Summary of the model\n",
        "\n",
        "model.summary()"
      ]
    },
    {
      "cell_type": "code",
      "execution_count": 100,
      "metadata": {
        "id": "NMRS22KfoWFH"
      },
      "outputs": [],
      "source": [
        "# States the cost and optimization methods to use\n",
        "\n",
        "model.compile(\n",
        "    optimizer='adam',\n",
        "    loss='sparse_categorical_crossentropy',\n",
        "    metrics=['accuracy']\n",
        ")"
      ]
    },
    {
      "cell_type": "markdown",
      "source": [
        "### Training the model"
      ],
      "metadata": {
        "id": "21T4ffIQEuPG"
      }
    },
    {
      "cell_type": "code",
      "execution_count": 101,
      "metadata": {
        "colab": {
          "base_uri": "https://localhost:8080/"
        },
        "id": "YqGIJm5IpAzl",
        "outputId": "4de4f88c-58f6-4edc-ec04-4ed692a5f57c"
      },
      "outputs": [
        {
          "output_type": "stream",
          "name": "stdout",
          "text": [
            "Epoch 1/25\n",
            "112/112 [==============================] - 12s 89ms/step - loss: 0.5190 - accuracy: 0.7863 - val_loss: 0.3773 - val_accuracy: 0.8460\n",
            "Epoch 2/25\n",
            "112/112 [==============================] - 9s 77ms/step - loss: 0.4124 - accuracy: 0.8248 - val_loss: 0.3957 - val_accuracy: 0.8371\n",
            "Epoch 3/25\n",
            "112/112 [==============================] - 9s 78ms/step - loss: 0.4242 - accuracy: 0.8326 - val_loss: 0.4058 - val_accuracy: 0.8504\n",
            "Epoch 4/25\n",
            "112/112 [==============================] - 11s 100ms/step - loss: 0.3645 - accuracy: 0.8465 - val_loss: 0.4132 - val_accuracy: 0.8527\n",
            "Epoch 5/25\n",
            "112/112 [==============================] - 9s 72ms/step - loss: 0.3255 - accuracy: 0.8610 - val_loss: 0.2773 - val_accuracy: 0.8817\n",
            "Epoch 6/25\n",
            "112/112 [==============================] - 9s 79ms/step - loss: 0.3449 - accuracy: 0.8538 - val_loss: 0.4972 - val_accuracy: 0.7366\n",
            "Epoch 7/25\n",
            "112/112 [==============================] - 9s 78ms/step - loss: 0.3860 - accuracy: 0.8348 - val_loss: 0.3128 - val_accuracy: 0.8705\n",
            "Epoch 8/25\n",
            "112/112 [==============================] - 10s 79ms/step - loss: 0.2760 - accuracy: 0.8823 - val_loss: 0.3695 - val_accuracy: 0.8281\n",
            "Epoch 9/25\n",
            "112/112 [==============================] - 9s 78ms/step - loss: 0.3695 - accuracy: 0.8638 - val_loss: 0.4153 - val_accuracy: 0.7701\n",
            "Epoch 10/25\n",
            "112/112 [==============================] - 9s 77ms/step - loss: 0.2921 - accuracy: 0.8817 - val_loss: 0.2545 - val_accuracy: 0.9308\n",
            "Epoch 11/25\n",
            "112/112 [==============================] - 9s 78ms/step - loss: 0.2260 - accuracy: 0.9241 - val_loss: 0.1818 - val_accuracy: 0.9375\n",
            "Epoch 12/25\n",
            "112/112 [==============================] - 10s 80ms/step - loss: 0.1416 - accuracy: 0.9537 - val_loss: 0.1130 - val_accuracy: 0.9598\n",
            "Epoch 13/25\n",
            "112/112 [==============================] - 9s 78ms/step - loss: 0.1368 - accuracy: 0.9526 - val_loss: 0.2530 - val_accuracy: 0.9531\n",
            "Epoch 14/25\n",
            "112/112 [==============================] - 9s 77ms/step - loss: 0.2331 - accuracy: 0.9252 - val_loss: 0.1319 - val_accuracy: 0.9509\n",
            "Epoch 15/25\n",
            "112/112 [==============================] - 8s 67ms/step - loss: 0.1280 - accuracy: 0.9576 - val_loss: 0.0705 - val_accuracy: 0.9754\n",
            "Epoch 16/25\n",
            "112/112 [==============================] - 9s 78ms/step - loss: 0.0745 - accuracy: 0.9732 - val_loss: 0.2100 - val_accuracy: 0.9196\n",
            "Epoch 17/25\n",
            "112/112 [==============================] - 10s 86ms/step - loss: 0.0907 - accuracy: 0.9676 - val_loss: 0.1225 - val_accuracy: 0.9598\n",
            "Epoch 18/25\n",
            "112/112 [==============================] - 8s 66ms/step - loss: 0.0615 - accuracy: 0.9788 - val_loss: 0.0547 - val_accuracy: 0.9888\n",
            "Epoch 19/25\n",
            "112/112 [==============================] - 9s 79ms/step - loss: 0.0466 - accuracy: 0.9855 - val_loss: 0.0444 - val_accuracy: 0.9866\n",
            "Epoch 20/25\n",
            "112/112 [==============================] - 10s 84ms/step - loss: 0.0307 - accuracy: 0.9883 - val_loss: 0.2280 - val_accuracy: 0.9442\n",
            "Epoch 21/25\n",
            "112/112 [==============================] - 9s 77ms/step - loss: 0.0548 - accuracy: 0.9799 - val_loss: 0.0462 - val_accuracy: 0.9821\n",
            "Epoch 22/25\n",
            "112/112 [==============================] - 8s 65ms/step - loss: 0.0090 - accuracy: 0.9983 - val_loss: 0.0676 - val_accuracy: 0.9754\n",
            "Epoch 23/25\n",
            "112/112 [==============================] - 10s 88ms/step - loss: 0.0073 - accuracy: 0.9972 - val_loss: 0.0405 - val_accuracy: 0.9888\n",
            "Epoch 24/25\n",
            "112/112 [==============================] - 9s 78ms/step - loss: 0.0040 - accuracy: 0.9989 - val_loss: 0.0358 - val_accuracy: 0.9888\n",
            "Epoch 25/25\n",
            "112/112 [==============================] - 8s 68ms/step - loss: 0.0022 - accuracy: 0.9989 - val_loss: 0.0421 - val_accuracy: 0.9866\n"
          ]
        }
      ],
      "source": [
        "r = model.fit(\n",
        "    normalized_training_set,\n",
        "    validation_data=normalized_test_set,\n",
        "    epochs=25,\n",
        "    steps_per_epoch=len(normalized_training_set),\n",
        "    validation_steps=len(normalized_test_set),\n",
        "    callbacks=[tensorboard_callback]\n",
        ")"
      ]
    },
    {
      "cell_type": "markdown",
      "source": [
        "### Plotting the performance of the model"
      ],
      "metadata": {
        "id": "dAfpCTCWExrN"
      }
    },
    {
      "cell_type": "code",
      "execution_count": 102,
      "metadata": {
        "id": "Ip0NtKLos4sU",
        "colab": {
          "base_uri": "https://localhost:8080/",
          "height": 294
        },
        "outputId": "a9462659-c86e-4eec-c51d-a51b70f3827c"
      },
      "outputs": [
        {
          "output_type": "display_data",
          "data": {
            "text/plain": [
              "<Figure size 432x288 with 1 Axes>"
            ],
            "image/png": "[encoded data removed]"
          },
          "metadata": {
            "needs_background": "light"
          }
        }
      ],
      "source": [
        "# Plotting the loss\n",
        "\n",
        "\n",
        "fig=plt.figure();\n",
        "plt.plot(r.history['loss'], color='teal', label='train loss')\n",
        "plt.plot(r.history['val_loss'], color='orange', label='val loss')\n",
        "fig.suptitle('Loss',fontsize=15)\n",
        "plt.legend()\n",
        "plt.show()"
      ]
    },
    {
      "cell_type": "code",
      "source": [
        "# Plotting the accuracy\n",
        "\n",
        "\n",
        "fig=plt.figure();\n",
        "plt.plot(r.history['accuracy'], color='teal', label='train acc')\n",
        "plt.plot(r.history['val_accuracy'], color='orange', label='val acc')\n",
        "fig.suptitle('Accuracy',fontsize=15)\n",
        "plt.legend()\n",
        "plt.show()"
      ],
      "metadata": {
        "id": "Qif0CC2Wx-zq",
        "colab": {
          "base_uri": "https://localhost:8080/",
          "height": 294
        },
        "outputId": "1e8a13c2-8a87-414b-b357-5a2fd216f3ca"
      },
      "execution_count": 103,
      "outputs": [
        {
          "output_type": "display_data",
          "data": {
            "text/plain": [
              "<Figure size 432x288 with 1 Axes>"
            ],
            "image/png": "[encoded data removed]"
          },
          "metadata": {
            "needs_background": "light"
          }
        }
      ]
    },
    {
      "cell_type": "code",
      "source": [
        "pre = Precision()\n",
        "re = Recall()\n",
        "acc = Accuracy()"
      ],
      "metadata": {
        "id": "7A8M6AA-1KH0"
      },
      "execution_count": 104,
      "outputs": []
    },
    {
      "cell_type": "code",
      "source": [
        "for images,labels in (normalized_test_set):\n",
        "  y_pred=model.predict(images)\n",
        "  y_max=[]\n",
        "  for it in range(len(y_pred)):\n",
        "      y_max.append(np.argmax(y_pred[it]))\n",
        "  pre.update_state(labels,y_max)\n",
        "  re.update_state(labels,y_max)\n",
        "  acc.update_state(labels,y_max)"
      ],
      "metadata": {
        "id": "JOFrZ_XmgIx0",
        "colab": {
          "base_uri": "https://localhost:8080/"
        },
        "outputId": "011dfee6-9e85-449d-cfc9-2dc1eaa3fa40"
      },
      "execution_count": 105,
      "outputs": [
        {
          "output_type": "stream",
          "name": "stdout",
          "text": [
            "1/1 [==============================] - 0s 106ms/step\n",
            "1/1 [==============================] - 0s 35ms/step\n",
            "1/1 [==============================] - 0s 36ms/step\n",
            "1/1 [==============================] - 0s 31ms/step\n",
            "1/1 [==============================] - 0s 34ms/step\n",
            "1/1 [==============================] - 0s 27ms/step\n",
            "1/1 [==============================] - 0s 31ms/step\n",
            "1/1 [==============================] - 0s 25ms/step\n",
            "1/1 [==============================] - 0s 28ms/step\n",
            "1/1 [==============================] - 0s 32ms/step\n",
            "1/1 [==============================] - 0s 26ms/step\n",
            "1/1 [==============================] - 0s 27ms/step\n",
            "1/1 [==============================] - 0s 36ms/step\n",
            "1/1 [==============================] - 0s 26ms/step\n",
            "1/1 [==============================] - 0s 34ms/step\n",
            "1/1 [==============================] - 0s 29ms/step\n",
            "1/1 [==============================] - 0s 25ms/step\n",
            "1/1 [==============================] - 0s 29ms/step\n",
            "1/1 [==============================] - 0s 25ms/step\n",
            "1/1 [==============================] - 0s 29ms/step\n",
            "1/1 [==============================] - 0s 25ms/step\n",
            "1/1 [==============================] - 0s 42ms/step\n",
            "1/1 [==============================] - 0s 29ms/step\n",
            "1/1 [==============================] - 0s 24ms/step\n",
            "1/1 [==============================] - 0s 26ms/step\n",
            "1/1 [==============================] - 0s 30ms/step\n",
            "1/1 [==============================] - 0s 29ms/step\n",
            "1/1 [==============================] - 0s 28ms/step\n"
          ]
        }
      ]
    },
    {
      "cell_type": "code",
      "source": [
        "print(f'Precision: {pre.result().numpy()}, Recall: {re.result().numpy()}, Accuracy: {acc.result().numpy()}')"
      ],
      "metadata": {
        "id": "PpLwFhg_wzMw",
        "colab": {
          "base_uri": "https://localhost:8080/"
        },
        "outputId": "577211cb-80fd-4694-ed94-225e7c1aaadc"
      },
      "execution_count": 106,
      "outputs": [
        {
          "output_type": "stream",
          "name": "stdout",
          "text": [
            "Precision: 0.9970149397850037, Recall: 0.9970149397850037, Accuracy: 0.9866071343421936\n"
          ]
        }
      ]
    },
    {
      "cell_type": "markdown",
      "source": [
        "### Saving the model"
      ],
      "metadata": {
        "id": "_KmtxsGlFAUc"
      }
    },
    {
      "cell_type": "code",
      "source": [
        "# Saving it as a h5 file\n",
        "\n",
        "model.save('/content/drive/MyDrive/Project_2/CNN_Model_Related/Model/My_CNN_Model.h5')"
      ],
      "metadata": {
        "id": "gP6ezUodE7Wt"
      },
      "execution_count": 107,
      "outputs": []
    },
    {
      "cell_type": "markdown",
      "source": [
        "### Loading the model and testing"
      ],
      "metadata": {
        "id": "e6cf_9VqFDeE"
      }
    },
    {
      "cell_type": "code",
      "execution_count": 108,
      "metadata": {
        "id": "1YyHgu9vtf1R"
      },
      "outputs": [],
      "source": [
        "model=load_model('/content/drive/MyDrive/Project_2/CNN_Model_Related/Model/My_CNN_Model.h5')"
      ]
    },
    {
      "cell_type": "code",
      "execution_count": 109,
      "metadata": {
        "id": "VGVArk3JuqIh"
      },
      "outputs": [],
      "source": [
        "img=image.load_img('/content/drive/MyDrive/Project_2/BLACK_WHITE/1-4/CR_B_DU_1-4_013.jpg',target_size=(256,256))"
      ]
    },
    {
      "cell_type": "code",
      "execution_count": 110,
      "metadata": {
        "id": "mlSEanHNv0yv"
      },
      "outputs": [],
      "source": [
        "x=image.img_to_array(img)"
      ]
    },
    {
      "cell_type": "code",
      "execution_count": 111,
      "metadata": {
        "id": "Ytjm1xNNwDiw"
      },
      "outputs": [],
      "source": [
        "x=x/255\n",
        "# x.shape"
      ]
    },
    {
      "cell_type": "code",
      "execution_count": 112,
      "metadata": {
        "id": "O2XVAJk9wEOb",
        "colab": {
          "base_uri": "https://localhost:8080/"
        },
        "outputId": "f5bc55f6-1a6b-4504-a3bd-f673844802f5"
      },
      "outputs": [
        {
          "output_type": "execute_result",
          "data": {
            "text/plain": [
              "(1, 256, 256, 3)"
            ]
          },
          "metadata": {},
          "execution_count": 112
        }
      ],
      "source": [
        "x=np.expand_dims(x,axis=0)\n",
        "x.shape"
      ]
    },
    {
      "cell_type": "code",
      "execution_count": 113,
      "metadata": {
        "id": "Z0WCmtaYwGAy",
        "colab": {
          "base_uri": "https://localhost:8080/"
        },
        "outputId": "5200d85e-c247-4958-b012-2b5fb90d219a"
      },
      "outputs": [
        {
          "output_type": "stream",
          "name": "stdout",
          "text": [
            "1/1 [==============================] - 0s 78ms/step\n"
          ]
        }
      ],
      "source": [
        "pred=model.predict(x)"
      ]
    },
    {
      "cell_type": "code",
      "execution_count": 114,
      "metadata": {
        "id": "8Wxdt0m8wH0r",
        "colab": {
          "base_uri": "https://localhost:8080/"
        },
        "outputId": "10bb4e25-0fc8-412f-8f0a-24e1682c0d9b"
      },
      "outputs": [
        {
          "output_type": "stream",
          "name": "stdout",
          "text": [
            "[[1.8550825e-08 9.2803043e-01 1.0000000e+00 7.7381932e-17]]\n"
          ]
        }
      ],
      "source": [
        "print(pred)"
      ]
    },
    {
      "cell_type": "code",
      "execution_count": 115,
      "metadata": {
        "id": "LLL9i03t1hBo",
        "colab": {
          "base_uri": "https://localhost:8080/"
        },
        "outputId": "783a60c8-0b67-458a-e2e3-3bcf9f85140b"
      },
      "outputs": [
        {
          "output_type": "stream",
          "name": "stdout",
          "text": [
            "1-4\n"
          ]
        }
      ],
      "source": [
        "pred_name = classes[np.argmax(pred)]\n",
        "print(pred_name)"
      ]
    }
  ],
  "metadata": {
    "accelerator": "GPU",
    "colab": {
      "provenance": []
    },
    "gpuClass": "standard",
    "kernelspec": {
      "display_name": "Python 3 (ipykernel)",
      "language": "python",
      "name": "python3"
    },
    "language_info": {
      "codemirror_mode": {
        "name": "ipython",
        "version": 3
      },
      "file_extension": ".py",
      "mimetype": "text/x-python",
      "name": "python",
      "nbconvert_exporter": "python",
      "pygments_lexer": "ipython3",
      "version": "3.9.13"
    },
    "vscode": {
      "interpreter": {
        "hash": "b302cdd1e032ee910f5c889c3360c28564c92ad4f326fc3102e39fbe47faee66"
      }
    }
  },
  "nbformat": 4,
  "nbformat_minor": 0
}