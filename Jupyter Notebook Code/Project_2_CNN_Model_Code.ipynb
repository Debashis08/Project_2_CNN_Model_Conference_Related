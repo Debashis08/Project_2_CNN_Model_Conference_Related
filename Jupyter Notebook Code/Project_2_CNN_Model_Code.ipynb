{
  "cells": [
    {
      "cell_type": "markdown",
      "source": [
        "### Importing required libraries"
      ],
      "metadata": {
        "id": "uBYwCqCtEjYP"
      }
    },
    {
      "cell_type": "code",
      "execution_count": 2,
      "metadata": {
        "id": "vs9SfnnnlokY"
      },
      "outputs": [],
      "source": [
        "import tensorflow as tf\n",
        "from tensorflow.compat.v1 import ConfigProto\n",
        "from tensorflow.compat.v1 import InteractiveSession\n",
        "from tensorflow.keras.layers import Input, Lambda, Dense, Flatten\n",
        "from tensorflow.keras.models import Model\n",
        "from tensorflow.keras.preprocessing import image\n",
        "from tensorflow.keras.preprocessing.image import ImageDataGenerator,load_img\n",
        "from tensorflow.keras.models import Sequential\n",
        "from tensorflow.keras.layers import Rescaling, Conv2D, MaxPooling2D, Dense, Flatten, Dropout, BatchNormalization\n",
        "from tensorflow.keras.preprocessing.image import ImageDataGenerator\n",
        "from tensorflow.keras.models import load_model\n",
        "from tensorflow.keras.preprocessing import image\n",
        "from tensorflow.keras.metrics import Precision, Recall, Accuracy\n",
        "import numpy as np\n",
        "import matplotlib.pyplot as plt\n",
        "from sklearn import metrics\n",
        "\n",
        "# config = ConfigProto()\n",
        "# config.gpu_options.per_process_gpu_memory_fraction = 0.5\n",
        "# config.gpu_options.allow_growth = True\n",
        "# session = InteractiveSession(config=config)"
      ]
    },
    {
      "cell_type": "markdown",
      "source": [
        "### Declaring the Image size and Batch size"
      ],
      "metadata": {
        "id": "iJ6CFKaPEVGd"
      }
    },
    {
      "cell_type": "code",
      "execution_count": 3,
      "metadata": {
        "id": "Za-dL2Aplrlv"
      },
      "outputs": [],
      "source": [
        "IMAGE_SIZE = [256, 256]\n",
        "BATCH_SIZE=16\n",
        "image_dir='/content/drive/MyDrive/Project_2/BLACK_WHITE'"
      ]
    },
    {
      "cell_type": "code",
      "execution_count": 4,
      "metadata": {
        "id": "sU-YeLLf4iAA"
      },
      "outputs": [],
      "source": [
        "classes=[\"1-1\",\"1-2\",\"1-4\",\"PURE\"]"
      ]
    },
    {
      "cell_type": "code",
      "execution_count": 5,
      "metadata": {
        "id": "OPvQOBPsn5Fo"
      },
      "outputs": [],
      "source": [
        "logdir='/content/drive/MyDrive/Project_2/CNN_Model_Related/Logs'"
      ]
    },
    {
      "cell_type": "code",
      "source": [
        "tensorboard_callback = tf.keras.callbacks.TensorBoard(log_dir=logdir)"
      ],
      "metadata": {
        "id": "h_ST2edlv3ZY"
      },
      "execution_count": 6,
      "outputs": []
    },
    {
      "cell_type": "markdown",
      "source": [
        "### Fetching and Preprocessing the image files"
      ],
      "metadata": {
        "id": "YPkn5rEDEdAN"
      }
    },
    {
      "cell_type": "code",
      "source": [
        "normalization_layer = tf.keras.layers.Rescaling(1./255)"
      ],
      "metadata": {
        "id": "fh6SpJSSEDSa"
      },
      "execution_count": 7,
      "outputs": []
    },
    {
      "cell_type": "code",
      "source": [
        "# Make sure you provide the same target size as initialied for the image size\n",
        "\n",
        "training_set =tf.keras.utils.image_dataset_from_directory(\n",
        "  image_dir,\n",
        "  label_mode='int',\n",
        "  validation_split=0.2,\n",
        "  subset='training',\n",
        "  seed=131,\n",
        "  image_size=IMAGE_SIZE,\n",
        "  batch_size=BATCH_SIZE)"
      ],
      "metadata": {
        "colab": {
          "base_uri": "https://localhost:8080/"
        },
        "id": "A-yPCHaZEGZ4",
        "outputId": "9c5d6aa3-2238-4959-c500-0dad270b57e4"
      },
      "execution_count": 8,
      "outputs": [
        {
          "output_type": "stream",
          "name": "stdout",
          "text": [
            "Found 2240 files belonging to 4 classes.\n",
            "Using 1792 files for training.\n"
          ]
        }
      ]
    },
    {
      "cell_type": "code",
      "source": [
        "# Make sure you provide the same target size as initialied for the image size\n",
        "\n",
        "test_set = tf.keras.utils.image_dataset_from_directory(\n",
        "  image_dir,\n",
        "  label_mode='int',\n",
        "  validation_split=0.2,\n",
        "  subset='validation',\n",
        "  seed=131,\n",
        "  image_size=IMAGE_SIZE,\n",
        "  batch_size=BATCH_SIZE)"
      ],
      "metadata": {
        "colab": {
          "base_uri": "https://localhost:8080/"
        },
        "id": "j5xc-iDwEKoD",
        "outputId": "4f8e3f84-3d92-444a-ac11-9c7229d3d828"
      },
      "execution_count": 9,
      "outputs": [
        {
          "output_type": "stream",
          "name": "stdout",
          "text": [
            "Found 2240 files belonging to 4 classes.\n",
            "Using 448 files for validation.\n"
          ]
        }
      ]
    },
    {
      "cell_type": "code",
      "source": [
        "normalized_training_set = training_set.map(lambda x, y: (normalization_layer(x), y))\n",
        "normalized_test_set=test_set.map(lambda x,y: (normalization_layer(x), y))\n",
        "\n",
        "# image_batch, labels_batch = next(iter(normalized_training_set))      #<-----the data is fethched in this form: image batch, label batch"
      ],
      "metadata": {
        "id": "sVLUfWNtEYSM"
      },
      "execution_count": null,
      "outputs": []
    },
    {
      "cell_type": "markdown",
      "source": [
        "### Building the CNN Model"
      ],
      "metadata": {
        "id": "yRpUjvO_EpUm"
      }
    },
    {
      "cell_type": "code",
      "execution_count": 89,
      "metadata": {
        "id": "gQjwuivTlHfl"
      },
      "outputs": [],
      "source": [
        "model=Sequential()"
      ]
    },
    {
      "cell_type": "code",
      "execution_count": 90,
      "metadata": {
        "id": "utBDjOGplWIg"
      },
      "outputs": [],
      "source": [
        "model.add(Conv2D(32, (3,3), 1, activation='relu', input_shape=(256,256,3)))\n",
        "model.add(MaxPooling2D(pool_size=(2,2)))\n",
        "\n",
        "\n",
        "model.add(Conv2D(64, (3,3), 1, activation='relu'))\n",
        "model.add(MaxPooling2D())\n",
        "\n",
        "model.add(Conv2D(64, (3,3), 1, activation='relu'))\n",
        "model.add(MaxPooling2D())\n",
        "\n",
        "\n",
        "model.add(Conv2D(128, (3,3), 1, activation='relu'))\n",
        "model.add(MaxPooling2D(pool_size=(2,2)))\n",
        "\n",
        "# model.add(Dropout(0.2))\n",
        "model.add(Flatten())\n",
        "# model.add(Dropout(0.1))\n",
        "\n",
        "model.add(Dense(256, activation='relu'))\n",
        "model.add(Dense(4, activation='sigmoid'))"
      ]
    },
    {
      "cell_type": "code",
      "execution_count": 91,
      "metadata": {
        "colab": {
          "base_uri": "https://localhost:8080/"
        },
        "id": "YDnLFulroTl1",
        "outputId": "9f23fe42-1d34-42ae-c9e4-f63b1a4b20c2"
      },
      "outputs": [
        {
          "output_type": "stream",
          "name": "stdout",
          "text": [
            "Model: \"sequential_3\"\n",
            "_________________________________________________________________\n",
            " Layer (type)                Output Shape              Param #   \n",
            "=================================================================\n",
            " conv2d_12 (Conv2D)          (None, 254, 254, 32)      896       \n",
            "                                                                 \n",
            " max_pooling2d_12 (MaxPoolin  (None, 127, 127, 32)     0         \n",
            " g2D)                                                            \n",
            "                                                                 \n",
            " conv2d_13 (Conv2D)          (None, 125, 125, 64)      18496     \n",
            "                                                                 \n",
            " max_pooling2d_13 (MaxPoolin  (None, 62, 62, 64)       0         \n",
            " g2D)                                                            \n",
            "                                                                 \n",
            " conv2d_14 (Conv2D)          (None, 60, 60, 64)        36928     \n",
            "                                                                 \n",
            " max_pooling2d_14 (MaxPoolin  (None, 30, 30, 64)       0         \n",
            " g2D)                                                            \n",
            "                                                                 \n",
            " conv2d_15 (Conv2D)          (None, 28, 28, 128)       73856     \n",
            "                                                                 \n",
            " max_pooling2d_15 (MaxPoolin  (None, 14, 14, 128)      0         \n",
            " g2D)                                                            \n",
            "                                                                 \n",
            " flatten_3 (Flatten)         (None, 25088)             0         \n",
            "                                                                 \n",
            " dense_6 (Dense)             (None, 256)               6422784   \n",
            "                                                                 \n",
            " dense_7 (Dense)             (None, 4)                 1028      \n",
            "                                                                 \n",
            "=================================================================\n",
            "Total params: 6,553,988\n",
            "Trainable params: 6,553,988\n",
            "Non-trainable params: 0\n",
            "_________________________________________________________________\n"
          ]
        }
      ],
      "source": [
        "# Summary of the model\n",
        "\n",
        "model.summary()"
      ]
    },
    {
      "cell_type": "code",
      "execution_count": 92,
      "metadata": {
        "id": "NMRS22KfoWFH"
      },
      "outputs": [],
      "source": [
        "# States the cost and optimization methods to use\n",
        "\n",
        "model.compile(\n",
        "    optimizer='adam',\n",
        "    loss='sparse_categorical_crossentropy',\n",
        "    metrics=['accuracy']\n",
        ")"
      ]
    },
    {
      "cell_type": "markdown",
      "source": [
        "### Training the model"
      ],
      "metadata": {
        "id": "21T4ffIQEuPG"
      }
    },
    {
      "cell_type": "code",
      "execution_count": 93,
      "metadata": {
        "colab": {
          "base_uri": "https://localhost:8080/"
        },
        "id": "YqGIJm5IpAzl",
        "outputId": "958d22ce-9903-4337-e6c4-67ae35a9aebd"
      },
      "outputs": [
        {
          "output_type": "stream",
          "name": "stdout",
          "text": [
            "Epoch 1/25\n",
            "112/112 [==============================] - 11s 79ms/step - loss: 0.5529 - accuracy: 0.7561 - val_loss: 0.6632 - val_accuracy: 0.6741\n",
            "Epoch 2/25\n",
            "112/112 [==============================] - 8s 70ms/step - loss: 0.4017 - accuracy: 0.8371 - val_loss: 0.5024 - val_accuracy: 0.8013\n",
            "Epoch 3/25\n",
            "112/112 [==============================] - 8s 65ms/step - loss: 0.3852 - accuracy: 0.8460 - val_loss: 0.3452 - val_accuracy: 0.8549\n",
            "Epoch 4/25\n",
            "112/112 [==============================] - 10s 91ms/step - loss: 0.3797 - accuracy: 0.8398 - val_loss: 0.4732 - val_accuracy: 0.7478\n",
            "Epoch 5/25\n",
            "112/112 [==============================] - 10s 84ms/step - loss: 0.3329 - accuracy: 0.8728 - val_loss: 0.3860 - val_accuracy: 0.8304\n",
            "Epoch 6/25\n",
            "112/112 [==============================] - 9s 77ms/step - loss: 0.2822 - accuracy: 0.8850 - val_loss: 0.2813 - val_accuracy: 0.8929\n",
            "Epoch 7/25\n",
            "112/112 [==============================] - 9s 78ms/step - loss: 0.2760 - accuracy: 0.8839 - val_loss: 0.2312 - val_accuracy: 0.9040\n",
            "Epoch 8/25\n",
            "112/112 [==============================] - 9s 79ms/step - loss: 0.2234 - accuracy: 0.9124 - val_loss: 0.2065 - val_accuracy: 0.9263\n",
            "Epoch 9/25\n",
            "112/112 [==============================] - 9s 80ms/step - loss: 0.1708 - accuracy: 0.9431 - val_loss: 0.2533 - val_accuracy: 0.8705\n",
            "Epoch 10/25\n",
            "112/112 [==============================] - 8s 66ms/step - loss: 0.1721 - accuracy: 0.9431 - val_loss: 0.0944 - val_accuracy: 0.9732\n",
            "Epoch 11/25\n",
            "112/112 [==============================] - 8s 67ms/step - loss: 0.1908 - accuracy: 0.9487 - val_loss: 0.3264 - val_accuracy: 0.8728\n",
            "Epoch 12/25\n",
            "112/112 [==============================] - 10s 90ms/step - loss: 0.1059 - accuracy: 0.9570 - val_loss: 0.0612 - val_accuracy: 0.9777\n",
            "Epoch 13/25\n",
            "112/112 [==============================] - 9s 78ms/step - loss: 0.1323 - accuracy: 0.9576 - val_loss: 0.0607 - val_accuracy: 0.9777\n",
            "Epoch 14/25\n",
            "112/112 [==============================] - 9s 78ms/step - loss: 0.0688 - accuracy: 0.9760 - val_loss: 0.1312 - val_accuracy: 0.9509\n",
            "Epoch 15/25\n",
            "112/112 [==============================] - 9s 79ms/step - loss: 0.0626 - accuracy: 0.9794 - val_loss: 0.0452 - val_accuracy: 0.9799\n",
            "Epoch 16/25\n",
            "112/112 [==============================] - 10s 86ms/step - loss: 0.0587 - accuracy: 0.9782 - val_loss: 0.0511 - val_accuracy: 0.9844\n",
            "Epoch 17/25\n",
            "112/112 [==============================] - 8s 66ms/step - loss: 0.0764 - accuracy: 0.9754 - val_loss: 0.3283 - val_accuracy: 0.8683\n",
            "Epoch 18/25\n",
            "112/112 [==============================] - 9s 80ms/step - loss: 0.0850 - accuracy: 0.9743 - val_loss: 0.0765 - val_accuracy: 0.9732\n",
            "Epoch 19/25\n",
            "112/112 [==============================] - 9s 75ms/step - loss: 0.0903 - accuracy: 0.9727 - val_loss: 0.0813 - val_accuracy: 0.9665\n",
            "Epoch 20/25\n",
            "112/112 [==============================] - 9s 78ms/step - loss: 0.0282 - accuracy: 0.9922 - val_loss: 0.0266 - val_accuracy: 0.9888\n",
            "Epoch 21/25\n",
            "112/112 [==============================] - 10s 89ms/step - loss: 0.0192 - accuracy: 0.9933 - val_loss: 0.0900 - val_accuracy: 0.9821\n",
            "Epoch 22/25\n",
            "112/112 [==============================] - 9s 75ms/step - loss: 0.0162 - accuracy: 0.9939 - val_loss: 0.1028 - val_accuracy: 0.9710\n",
            "Epoch 23/25\n",
            "112/112 [==============================] - 8s 67ms/step - loss: 0.0173 - accuracy: 0.9927 - val_loss: 0.0247 - val_accuracy: 0.9933\n",
            "Epoch 24/25\n",
            "112/112 [==============================] - 10s 91ms/step - loss: 0.0092 - accuracy: 0.9967 - val_loss: 0.0350 - val_accuracy: 0.9866\n",
            "Epoch 25/25\n",
            "112/112 [==============================] - 10s 88ms/step - loss: 0.0032 - accuracy: 0.9994 - val_loss: 0.0372 - val_accuracy: 0.9888\n"
          ]
        }
      ],
      "source": [
        "r = model.fit(\n",
        "    normalized_training_set,\n",
        "    validation_data=normalized_test_set,\n",
        "    epochs=25,\n",
        "    steps_per_epoch=len(normalized_training_set),\n",
        "    validation_steps=len(normalized_test_set),\n",
        "    callbacks=[tensorboard_callback]\n",
        ")"
      ]
    },
    {
      "cell_type": "markdown",
      "source": [
        "### Plotting the performance of the model"
      ],
      "metadata": {
        "id": "dAfpCTCWExrN"
      }
    },
    {
      "cell_type": "code",
      "execution_count": 94,
      "metadata": {
        "id": "Ip0NtKLos4sU",
        "colab": {
          "base_uri": "https://localhost:8080/",
          "height": 431
        },
        "outputId": "153f679c-c688-4b4a-9add-1fcc9bd24b00"
      },
      "outputs": [
        {
          "output_type": "display_data",
          "data": {
            "text/plain": [
              "<Figure size 720x432 with 1 Axes>"
            ],
            "image/png": "[encoded data removed]"
          },
          "metadata": {
            "needs_background": "light"
          }
        }
      ],
      "source": [
        "# Plotting the loss\n",
        "\n",
        "\n",
        "fig=plt.figure(figsize=(10,6));\n",
        "plt.plot(r.history['loss'], color='teal', label='train loss')\n",
        "plt.plot(r.history['val_loss'], color='orange', label='val loss')\n",
        "plt.xlabel(\"Epochs\")\n",
        "plt.ylabel(\"Loss\")\n",
        "fig.suptitle('Loss',fontsize=15)\n",
        "plt.legend()\n",
        "plt.show()"
      ]
    },
    {
      "cell_type": "code",
      "source": [
        "# Plotting the accuracy\n",
        "\n",
        "\n",
        "fig=plt.figure(figsize=(10,6));\n",
        "plt.plot(r.history['accuracy'], color='teal', label='train acc')\n",
        "plt.plot(r.history['val_accuracy'], color='orange', label='val acc')\n",
        "plt.xlabel(\"Epochs\")\n",
        "plt.ylabel(\"Accuracy\")\n",
        "fig.suptitle('Accuracy',fontsize=15)\n",
        "plt.legend()\n",
        "plt.show()"
      ],
      "metadata": {
        "id": "Qif0CC2Wx-zq",
        "colab": {
          "base_uri": "https://localhost:8080/",
          "height": 431
        },
        "outputId": "2951d7f9-bbeb-4cae-f4b6-bda3430d2c55"
      },
      "execution_count": 95,
      "outputs": [
        {
          "output_type": "display_data",
          "data": {
            "text/plain": [
              "<Figure size 720x432 with 1 Axes>"
            ],
            "image/png": "[encoded data removed]"
          },
          "metadata": {
            "needs_background": "light"
          }
        }
      ]
    },
    {
      "cell_type": "code",
      "source": [
        "pre = Precision()\n",
        "re = Recall()\n",
        "acc = Accuracy()"
      ],
      "metadata": {
        "id": "7A8M6AA-1KH0"
      },
      "execution_count": 96,
      "outputs": []
    },
    {
      "cell_type": "code",
      "source": [
        "y_true=[]\n",
        "y_pred=[]\n",
        "for images,labels in (normalized_test_set):\n",
        "  for it in range(len(labels)):\n",
        "    y_true.append(labels[it])\n",
        "  pred=model.predict(images)\n",
        "  y_max=[]\n",
        "  for it in range(len(pred)):\n",
        "      y_max.append(np.argmax(pred[it]))\n",
        "      y_pred.append(np.argmax(pred[it]))\n",
        "  pre.update_state(labels,y_max)\n",
        "  re.update_state(labels,y_max)\n",
        "  acc.update_state(labels,y_max)"
      ],
      "metadata": {
        "id": "JOFrZ_XmgIx0",
        "colab": {
          "base_uri": "https://localhost:8080/"
        },
        "outputId": "4f75408a-8187-4e69-ac76-8929149a3e51"
      },
      "execution_count": 97,
      "outputs": [
        {
          "output_type": "stream",
          "name": "stdout",
          "text": [
            "1/1 [==============================] - 0s 121ms/step\n",
            "1/1 [==============================] - 0s 24ms/step\n",
            "1/1 [==============================] - 0s 43ms/step\n",
            "1/1 [==============================] - 0s 24ms/step\n",
            "1/1 [==============================] - 0s 29ms/step\n",
            "1/1 [==============================] - 0s 32ms/step\n",
            "1/1 [==============================] - 0s 28ms/step\n",
            "1/1 [==============================] - 0s 34ms/step\n",
            "1/1 [==============================] - 0s 32ms/step\n",
            "1/1 [==============================] - 0s 27ms/step\n",
            "1/1 [==============================] - 0s 24ms/step\n",
            "1/1 [==============================] - 0s 30ms/step\n",
            "1/1 [==============================] - 0s 28ms/step\n",
            "1/1 [==============================] - 0s 27ms/step\n",
            "1/1 [==============================] - 0s 34ms/step\n",
            "1/1 [==============================] - 0s 35ms/step\n",
            "1/1 [==============================] - 0s 30ms/step\n",
            "1/1 [==============================] - 0s 27ms/step\n",
            "1/1 [==============================] - 0s 31ms/step\n",
            "1/1 [==============================] - 0s 28ms/step\n",
            "1/1 [==============================] - 0s 25ms/step\n",
            "1/1 [==============================] - 0s 26ms/step\n",
            "1/1 [==============================] - 0s 28ms/step\n",
            "1/1 [==============================] - 0s 28ms/step\n",
            "1/1 [==============================] - 0s 29ms/step\n",
            "1/1 [==============================] - 0s 27ms/step\n",
            "1/1 [==============================] - 0s 25ms/step\n",
            "1/1 [==============================] - 0s 26ms/step\n"
          ]
        }
      ]
    },
    {
      "cell_type": "code",
      "source": [
        "confusion_matrix=metrics.confusion_matrix(y_true,y_pred,normalize='true')\n",
        "cm_display = metrics.ConfusionMatrixDisplay(confusion_matrix = confusion_matrix, display_labels = ['1-1', '1-2','1-4','PURE'])\n",
        "fig, ax = plt.subplots(figsize=(10,10))\n",
        "cm_display.plot(ax=ax)\n",
        "plt.show();"
      ],
      "metadata": {
        "colab": {
          "base_uri": "https://localhost:8080/",
          "height": 584
        },
        "id": "8mnJ-hQR8lPL",
        "outputId": "823ee944-faba-44da-feb3-7f7e67f71d0c"
      },
      "execution_count": 98,
      "outputs": [
        {
          "output_type": "display_data",
          "data": {
            "text/plain": [
              "<Figure size 720x720 with 2 Axes>"
            ],
            "image/png": "[encoded data removed]"
          },
          "metadata": {
            "needs_background": "light"
          }
        }
      ]
    },
    {
      "cell_type": "code",
      "source": [
        "print(f'Precision: {pre.result().numpy()}, Recall: {re.result().numpy()}, Accuracy: {acc.result().numpy()}')"
      ],
      "metadata": {
        "id": "PpLwFhg_wzMw",
        "colab": {
          "base_uri": "https://localhost:8080/"
        },
        "outputId": "bc4b44ef-fff1-4c78-fe9f-2ccd13bc9b9c"
      },
      "execution_count": 99,
      "outputs": [
        {
          "output_type": "stream",
          "name": "stdout",
          "text": [
            "Precision: 1.0, Recall: 0.9910447597503662, Accuracy: 0.9888392686843872\n"
          ]
        }
      ]
    },
    {
      "cell_type": "markdown",
      "source": [
        "### Saving the model"
      ],
      "metadata": {
        "id": "_KmtxsGlFAUc"
      }
    },
    {
      "cell_type": "code",
      "source": [
        "# Saving it as a h5 file\n",
        "\n",
        "model.save('/content/drive/MyDrive/Project_2/CNN_Model_Related/Model/My_CNN_Model.h5')"
      ],
      "metadata": {
        "id": "gP6ezUodE7Wt"
      },
      "execution_count": 100,
      "outputs": []
    },
    {
      "cell_type": "markdown",
      "source": [
        "### Loading the model and testing"
      ],
      "metadata": {
        "id": "e6cf_9VqFDeE"
      }
    },
    {
      "cell_type": "code",
      "execution_count": 101,
      "metadata": {
        "id": "1YyHgu9vtf1R"
      },
      "outputs": [],
      "source": [
        "model=load_model('/content/drive/MyDrive/Project_2/CNN_Model_Related/Model/My_CNN_Model.h5')"
      ]
    },
    {
      "cell_type": "code",
      "execution_count": 102,
      "metadata": {
        "id": "VGVArk3JuqIh"
      },
      "outputs": [],
      "source": [
        "img=image.load_img('/content/drive/MyDrive/Project_2/BLACK_WHITE/1-4/CR_B_DU_1-4_013.jpg',target_size=(256,256))"
      ]
    },
    {
      "cell_type": "code",
      "execution_count": 103,
      "metadata": {
        "id": "mlSEanHNv0yv"
      },
      "outputs": [],
      "source": [
        "x=image.img_to_array(img)"
      ]
    },
    {
      "cell_type": "code",
      "execution_count": 104,
      "metadata": {
        "id": "Ytjm1xNNwDiw"
      },
      "outputs": [],
      "source": [
        "x=x/255\n",
        "# x.shape"
      ]
    },
    {
      "cell_type": "code",
      "execution_count": 105,
      "metadata": {
        "id": "O2XVAJk9wEOb",
        "colab": {
          "base_uri": "https://localhost:8080/"
        },
        "outputId": "6b8d2dad-d968-4a5f-fe9d-6c58f8aca69e"
      },
      "outputs": [
        {
          "output_type": "execute_result",
          "data": {
            "text/plain": [
              "(1, 256, 256, 3)"
            ]
          },
          "metadata": {},
          "execution_count": 105
        }
      ],
      "source": [
        "x=np.expand_dims(x,axis=0)\n",
        "x.shape"
      ]
    },
    {
      "cell_type": "code",
      "execution_count": 106,
      "metadata": {
        "id": "Z0WCmtaYwGAy",
        "colab": {
          "base_uri": "https://localhost:8080/"
        },
        "outputId": "c13517d2-46da-4b33-b259-4081d31f0f31"
      },
      "outputs": [
        {
          "output_type": "stream",
          "name": "stdout",
          "text": [
            "1/1 [==============================] - 0s 86ms/step\n"
          ]
        }
      ],
      "source": [
        "pred=model.predict(x)"
      ]
    },
    {
      "cell_type": "code",
      "execution_count": 107,
      "metadata": {
        "id": "8Wxdt0m8wH0r",
        "colab": {
          "base_uri": "https://localhost:8080/"
        },
        "outputId": "d732277c-6a35-469e-eef3-b8bed1a7a02a"
      },
      "outputs": [
        {
          "output_type": "stream",
          "name": "stdout",
          "text": [
            "[[6.4612671e-08 9.3214500e-01 1.0000000e+00 4.6518167e-12]]\n"
          ]
        }
      ],
      "source": [
        "print(pred)"
      ]
    },
    {
      "cell_type": "code",
      "execution_count": 108,
      "metadata": {
        "id": "LLL9i03t1hBo",
        "colab": {
          "base_uri": "https://localhost:8080/"
        },
        "outputId": "5daab71e-ea99-415f-feb1-b71071eac3b2"
      },
      "outputs": [
        {
          "output_type": "stream",
          "name": "stdout",
          "text": [
            "1-4\n"
          ]
        }
      ],
      "source": [
        "pred_name = classes[np.argmax(pred)]\n",
        "print(pred_name)"
      ]
    }
  ],
  "metadata": {
    "accelerator": "GPU",
    "colab": {
      "provenance": []
    },
    "gpuClass": "standard",
    "kernelspec": {
      "display_name": "Python 3 (ipykernel)",
      "language": "python",
      "name": "python3"
    },
    "language_info": {
      "codemirror_mode": {
        "name": "ipython",
        "version": 3
      },
      "file_extension": ".py",
      "mimetype": "text/x-python",
      "name": "python",
      "nbconvert_exporter": "python",
      "pygments_lexer": "ipython3",
      "version": "3.9.13"
    },
    "vscode": {
      "interpreter": {
        "hash": "b302cdd1e032ee910f5c889c3360c28564c92ad4f326fc3102e39fbe47faee66"
      }
    }
  },
  "nbformat": 4,
  "nbformat_minor": 0
}