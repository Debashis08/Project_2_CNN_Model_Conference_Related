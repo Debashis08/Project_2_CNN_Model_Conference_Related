{
  "cells": [
    {
      "cell_type": "markdown",
      "source": [
        "### Importing required libraries"
      ],
      "metadata": {
        "id": "uBYwCqCtEjYP"
      }
    },
    {
      "cell_type": "code",
      "execution_count": null,
      "metadata": {
        "id": "vs9SfnnnlokY"
      },
      "outputs": [],
      "source": [
        "import tensorflow as tf\n",
        "from tensorflow.keras.layers import Input, Lambda, Dense, Flatten\n",
        "from tensorflow.keras.models import Model\n",
        "from tensorflow.keras.preprocessing import image\n",
        "from tensorflow.keras.preprocessing.image import load_img\n",
        "from tensorflow.keras.models import Sequential\n",
        "from tensorflow.keras.layers import Rescaling, Conv2D, MaxPooling2D, Dense, Flatten, Dropout, BatchNormalization\n",
        "from tensorflow.keras.models import load_model\n",
        "from tensorflow.keras.preprocessing import image\n",
        "from tensorflow.keras.metrics import Precision, Recall, Accuracy\n",
        "import numpy as np\n",
        "import matplotlib.pyplot as plt\n",
        "from sklearn import metrics\n",
        "from tabulate import tabulate"
      ]
    },
    {
      "cell_type": "markdown",
      "source": [
        "### Declaring the Variables"
      ],
      "metadata": {
        "id": "iJ6CFKaPEVGd"
      }
    },
    {
      "cell_type": "code",
      "execution_count": null,
      "metadata": {
        "id": "Za-dL2Aplrlv"
      },
      "outputs": [],
      "source": [
        "IMAGE_SIZE = [256, 256]\n",
        "BATCH_SIZE=16\n",
        "FOLDS=10\n",
        "SCORES_PER_FOLD=[]\n",
        "CLASSES=[\"1-1\",\"1-2\",\"1-4\",\"PURE\"]"
      ]
    },
    {
      "cell_type": "code",
      "execution_count": null,
      "metadata": {
        "id": "sU-YeLLf4iAA"
      },
      "outputs": [],
      "source": [
        "image_dir='/content/drive/MyDrive/Project_2/BLACK_WHITE'"
      ]
    },
    {
      "cell_type": "code",
      "execution_count": null,
      "metadata": {
        "id": "OPvQOBPsn5Fo"
      },
      "outputs": [],
      "source": [
        "logdir='/content/drive/MyDrive/Project_2/CNN_Model_Related/Logs'"
      ]
    },
    {
      "cell_type": "code",
      "source": [
        "model_dir='/content/drive/MyDrive/Project_2/CNN_Model_Related/Model/'"
      ],
      "metadata": {
        "id": "Yuwp9t4Sp9-p"
      },
      "execution_count": null,
      "outputs": []
    },
    {
      "cell_type": "code",
      "source": [
        "tensorboard_callback = tf.keras.callbacks.TensorBoard(log_dir=logdir)"
      ],
      "metadata": {
        "id": "h_ST2edlv3ZY"
      },
      "execution_count": null,
      "outputs": []
    },
    {
      "cell_type": "markdown",
      "source": [
        "### Fetching and Preprocessing the image files"
      ],
      "metadata": {
        "id": "YPkn5rEDEdAN"
      }
    },
    {
      "cell_type": "code",
      "source": [
        "normalization_layer = tf.keras.layers.Rescaling(1./255)"
      ],
      "metadata": {
        "id": "fh6SpJSSEDSa"
      },
      "execution_count": null,
      "outputs": []
    },
    {
      "cell_type": "code",
      "source": [
        "image_data_set =tf.keras.utils.image_dataset_from_directory(\n",
        "  image_dir,\n",
        "  label_mode='int',\n",
        "  seed=131,\n",
        "  image_size=IMAGE_SIZE,\n",
        "  batch_size=BATCH_SIZE,\n",
        ")"
      ],
      "metadata": {
        "id": "A-yPCHaZEGZ4",
        "colab": {
          "base_uri": "https://localhost:8080/"
        },
        "outputId": "cbabf552-db79-4233-88eb-06cb6615eba0"
      },
      "execution_count": null,
      "outputs": [
        {
          "output_type": "stream",
          "name": "stdout",
          "text": [
            "Found 2240 files belonging to 4 classes.\n"
          ]
        }
      ]
    },
    {
      "cell_type": "code",
      "source": [
        "train_val_set=image_data_set.take(100)\n",
        "test_set=image_data_set.skip(100).take(40)\n",
        "print(f'Using {len(train_val_set)} sets for Training and Validation')\n",
        "print(f'Using {len(test_set)} sets for Testing')"
      ],
      "metadata": {
        "id": "QImbuHT0NFce",
        "colab": {
          "base_uri": "https://localhost:8080/"
        },
        "outputId": "9dfc0b6e-70df-4e2a-b07c-3158dbf0a384"
      },
      "execution_count": null,
      "outputs": [
        {
          "output_type": "stream",
          "name": "stdout",
          "text": [
            "Using 100 sets for Training and Validation\n",
            "Using 40 sets for Testing\n"
          ]
        }
      ]
    },
    {
      "cell_type": "code",
      "source": [
        "normalized_train_val_set=train_val_set.map(lambda x,y: (normalization_layer(x), y))\n",
        "normalized_testing_set=test_set.map(lambda x,y: (normalization_layer(x), y))\n",
        "\n",
        "# image_batch, labels_batch = next(iter(normalized_training_set))      #<-----the data is fethched in this form: image batch, label batch"
      ],
      "metadata": {
        "id": "sVLUfWNtEYSM"
      },
      "execution_count": null,
      "outputs": []
    },
    {
      "cell_type": "markdown",
      "source": [
        "### Building the CNN Model"
      ],
      "metadata": {
        "id": "yRpUjvO_EpUm"
      }
    },
    {
      "cell_type": "code",
      "source": [
        "def Build_Model():\n",
        "  model=Sequential()\n",
        "  \n",
        "  model.add(Conv2D(32, (3,3), 1, activation='relu', input_shape=(256,256,3)))\n",
        "  model.add(MaxPooling2D(pool_size=(2,2)))\n",
        "\n",
        "  model.add(Conv2D(64, (3,3), 1, activation='relu'))\n",
        "  model.add(MaxPooling2D())\n",
        "\n",
        "  model.add(Conv2D(64, (3,3), 1, activation='relu'))\n",
        "  model.add(MaxPooling2D())\n",
        "\n",
        "  model.add(Conv2D(128, (3,3), 1, activation='relu'))\n",
        "  model.add(MaxPooling2D(pool_size=(2,2)))\n",
        "\n",
        "  model.add(Flatten())\n",
        "\n",
        "  model.add(Dense(256, activation='relu'))\n",
        "  model.add(Dense(4, activation='sigmoid'))\n",
        "\n",
        "  model.compile(optimizer='adam', loss='sparse_categorical_crossentropy', metrics=['accuracy'])\n",
        "  \n",
        "  return model"
      ],
      "metadata": {
        "id": "tJm9QzZgH-DI"
      },
      "execution_count": null,
      "outputs": []
    },
    {
      "cell_type": "code",
      "execution_count": null,
      "metadata": {
        "id": "YDnLFulroTl1",
        "colab": {
          "base_uri": "https://localhost:8080/"
        },
        "outputId": "b85834f2-c24f-4e25-c974-95122a9997f4"
      },
      "outputs": [
        {
          "output_type": "stream",
          "name": "stdout",
          "text": [
            "Model: \"sequential\"\n",
            "_________________________________________________________________\n",
            " Layer (type)                Output Shape              Param #   \n",
            "=================================================================\n",
            " conv2d (Conv2D)             (None, 254, 254, 32)      896       \n",
            "                                                                 \n",
            " max_pooling2d (MaxPooling2D  (None, 127, 127, 32)     0         \n",
            " )                                                               \n",
            "                                                                 \n",
            " conv2d_1 (Conv2D)           (None, 125, 125, 64)      18496     \n",
            "                                                                 \n",
            " max_pooling2d_1 (MaxPooling  (None, 62, 62, 64)       0         \n",
            " 2D)                                                             \n",
            "                                                                 \n",
            " conv2d_2 (Conv2D)           (None, 60, 60, 64)        36928     \n",
            "                                                                 \n",
            " max_pooling2d_2 (MaxPooling  (None, 30, 30, 64)       0         \n",
            " 2D)                                                             \n",
            "                                                                 \n",
            " conv2d_3 (Conv2D)           (None, 28, 28, 128)       73856     \n",
            "                                                                 \n",
            " max_pooling2d_3 (MaxPooling  (None, 14, 14, 128)      0         \n",
            " 2D)                                                             \n",
            "                                                                 \n",
            " flatten (Flatten)           (None, 25088)             0         \n",
            "                                                                 \n",
            " dense (Dense)               (None, 256)               6422784   \n",
            "                                                                 \n",
            " dense_1 (Dense)             (None, 4)                 1028      \n",
            "                                                                 \n",
            "=================================================================\n",
            "Total params: 6,553,988\n",
            "Trainable params: 6,553,988\n",
            "Non-trainable params: 0\n",
            "_________________________________________________________________\n"
          ]
        }
      ],
      "source": [
        "# Summary of the model\n",
        "model=Build_Model()\n",
        "model.summary()"
      ]
    },
    {
      "cell_type": "markdown",
      "source": [
        "### Peforming the 10 Fold Cross Validation"
      ],
      "metadata": {
        "id": "21T4ffIQEuPG"
      }
    },
    {
      "cell_type": "code",
      "source": [
        "i=0\n",
        "j=10\n",
        "k=90\n",
        "\n",
        "for fold_var in range(0,FOLDS,1):\n",
        "  print(f'Fold {fold_var+1}')\n",
        "  print('--------------------------------------------------------------------------------------------')\n",
        "  training_set1=normalized_train_val_set.take(i)\n",
        "  training_set2=normalized_train_val_set.skip(i+j).take(k)\n",
        "  training_set=training_set1.concatenate(training_set2)\n",
        "  validation_set=normalized_train_val_set.skip(i).take(j)\n",
        "  i=i+10\n",
        "  j=10\n",
        "  k=k-10\n",
        "  \n",
        "  model=Build_Model()\n",
        "  Model_Run = model.fit(\n",
        "    training_set,\n",
        "    epochs=15,\n",
        "    steps_per_epoch=len(training_set),\n",
        "    callbacks=[tensorboard_callback]\n",
        "  )\n",
        "  print('\\n')\n",
        "  print(f'Evaluating the model')\n",
        "  print('\\n')\n",
        "  cur_scores=model.evaluate(validation_set)\n",
        "  cur_scores[0]*=100\n",
        "  cur_scores[1]*=100\n",
        "  cur_scores=[fold_var+1,cur_scores[0],cur_scores[1]]\n",
        "  SCORES_PER_FOLD.append(cur_scores)\n",
        "\n",
        "  model.save(model_dir+'model_'+str(fold_var+1)+'.h5')\n",
        "  print('--------------------------------------------------------------------------------------------')\n",
        "  tf.keras.backend.clear_session()\n"
      ],
      "metadata": {
        "id": "otK1Dp9aebg5",
        "colab": {
          "base_uri": "https://localhost:8080/"
        },
        "outputId": "0ccf2f18-3932-4e8a-c5a2-2c312ea64dc4"
      },
      "execution_count": null,
      "outputs": [
        {
          "output_type": "stream",
          "name": "stdout",
          "text": [
            "Fold 1\n",
            "--------------------------------------------------------------------------------------------\n",
            "Epoch 1/15\n",
            "90/90 [==============================] - 446s 4s/step - loss: 0.6571 - accuracy: 0.7111\n",
            "Epoch 2/15\n",
            "90/90 [==============================] - 7s 73ms/step - loss: 0.4670 - accuracy: 0.8014\n",
            "Epoch 3/15\n",
            "90/90 [==============================] - 6s 57ms/step - loss: 0.3652 - accuracy: 0.8389\n",
            "Epoch 4/15\n",
            "90/90 [==============================] - 7s 60ms/step - loss: 0.3918 - accuracy: 0.8229\n",
            "Epoch 5/15\n",
            "90/90 [==============================] - 6s 61ms/step - loss: 0.3372 - accuracy: 0.8507\n",
            "Epoch 6/15\n",
            "90/90 [==============================] - 6s 57ms/step - loss: 0.3476 - accuracy: 0.8569\n",
            "Epoch 7/15\n",
            "90/90 [==============================] - 7s 74ms/step - loss: 0.3047 - accuracy: 0.8674\n",
            "Epoch 8/15\n",
            "90/90 [==============================] - 6s 56ms/step - loss: 0.3625 - accuracy: 0.8632\n",
            "Epoch 9/15\n",
            "90/90 [==============================] - 7s 69ms/step - loss: 0.3326 - accuracy: 0.8667\n",
            "Epoch 10/15\n",
            "90/90 [==============================] - 7s 69ms/step - loss: 0.2496 - accuracy: 0.8986\n",
            "Epoch 11/15\n",
            "90/90 [==============================] - 6s 56ms/step - loss: 0.2266 - accuracy: 0.9111\n",
            "Epoch 12/15\n",
            "90/90 [==============================] - 7s 73ms/step - loss: 0.1790 - accuracy: 0.9354\n",
            "Epoch 13/15\n",
            "90/90 [==============================] - 6s 56ms/step - loss: 0.1983 - accuracy: 0.9347\n",
            "Epoch 14/15\n",
            "90/90 [==============================] - 6s 57ms/step - loss: 0.2716 - accuracy: 0.9125\n",
            "Epoch 15/15\n",
            "90/90 [==============================] - 6s 64ms/step - loss: 0.1427 - accuracy: 0.9493\n",
            "\n",
            "\n",
            "Evaluating the model\n",
            "\n",
            "\n",
            "10/10 [==============================] - 1s 46ms/step - loss: 0.1195 - accuracy: 0.9750\n",
            "--------------------------------------------------------------------------------------------\n",
            "Fold 2\n",
            "--------------------------------------------------------------------------------------------\n",
            "Epoch 1/15\n",
            "90/90 [==============================] - 10s 85ms/step - loss: 0.5960 - accuracy: 0.7312\n",
            "Epoch 2/15\n",
            "90/90 [==============================] - 7s 73ms/step - loss: 0.4378 - accuracy: 0.8076\n",
            "Epoch 3/15\n",
            "90/90 [==============================] - 7s 70ms/step - loss: 0.3713 - accuracy: 0.8451\n",
            "Epoch 4/15\n",
            "90/90 [==============================] - 8s 86ms/step - loss: 0.3989 - accuracy: 0.8306\n",
            "Epoch 5/15\n",
            "90/90 [==============================] - 7s 72ms/step - loss: 0.3296 - accuracy: 0.8597\n",
            "Epoch 6/15\n",
            "90/90 [==============================] - 7s 68ms/step - loss: 0.3260 - accuracy: 0.8514\n",
            "Epoch 7/15\n",
            "90/90 [==============================] - 8s 85ms/step - loss: 0.3096 - accuracy: 0.8938\n",
            "Epoch 8/15\n",
            "90/90 [==============================] - 7s 74ms/step - loss: 0.2322 - accuracy: 0.9236\n",
            "Epoch 9/15\n",
            "90/90 [==============================] - 8s 78ms/step - loss: 0.2750 - accuracy: 0.9146\n",
            "Epoch 10/15\n",
            "90/90 [==============================] - 8s 86ms/step - loss: 0.1629 - accuracy: 0.9424\n",
            "Epoch 11/15\n",
            "90/90 [==============================] - 7s 75ms/step - loss: 0.1049 - accuracy: 0.9667\n",
            "Epoch 12/15\n",
            "90/90 [==============================] - 7s 70ms/step - loss: 0.1472 - accuracy: 0.9493\n",
            "Epoch 13/15\n",
            "90/90 [==============================] - 8s 85ms/step - loss: 0.1026 - accuracy: 0.9674\n",
            "Epoch 14/15\n",
            "90/90 [==============================] - 6s 69ms/step - loss: 0.0942 - accuracy: 0.9743\n",
            "Epoch 15/15\n",
            "90/90 [==============================] - 8s 85ms/step - loss: 0.1159 - accuracy: 0.9618\n",
            "\n",
            "\n",
            "Evaluating the model\n",
            "\n",
            "\n",
            "10/10 [==============================] - 1s 54ms/step - loss: 0.0469 - accuracy: 0.9875\n",
            "--------------------------------------------------------------------------------------------\n",
            "Fold 3\n",
            "--------------------------------------------------------------------------------------------\n",
            "Epoch 1/15\n",
            "90/90 [==============================] - 10s 90ms/step - loss: 0.5716 - accuracy: 0.7667\n",
            "Epoch 2/15\n",
            "90/90 [==============================] - 8s 87ms/step - loss: 0.4197 - accuracy: 0.8208\n",
            "Epoch 3/15\n",
            "90/90 [==============================] - 7s 75ms/step - loss: 0.4009 - accuracy: 0.8299\n",
            "Epoch 4/15\n",
            "90/90 [==============================] - 8s 89ms/step - loss: 0.4206 - accuracy: 0.8306\n",
            "Epoch 5/15\n",
            "90/90 [==============================] - 7s 73ms/step - loss: 0.3316 - accuracy: 0.8729\n",
            "Epoch 6/15\n",
            "90/90 [==============================] - 7s 73ms/step - loss: 0.3398 - accuracy: 0.8604\n",
            "Epoch 7/15\n",
            "90/90 [==============================] - 7s 76ms/step - loss: 0.3322 - accuracy: 0.8611\n",
            "Epoch 8/15\n",
            "90/90 [==============================] - 8s 90ms/step - loss: 0.3036 - accuracy: 0.8694\n",
            "Epoch 9/15\n",
            "90/90 [==============================] - 7s 73ms/step - loss: 0.3011 - accuracy: 0.8806\n",
            "Epoch 10/15\n",
            "90/90 [==============================] - 8s 91ms/step - loss: 0.2691 - accuracy: 0.8951\n",
            "Epoch 11/15\n",
            "90/90 [==============================] - 8s 80ms/step - loss: 0.1819 - accuracy: 0.9382\n",
            "Epoch 12/15\n",
            "90/90 [==============================] - 8s 85ms/step - loss: 0.1747 - accuracy: 0.9431\n",
            "Epoch 13/15\n",
            "90/90 [==============================] - 9s 92ms/step - loss: 0.1516 - accuracy: 0.9576\n",
            "Epoch 14/15\n",
            "90/90 [==============================] - 7s 80ms/step - loss: 0.1238 - accuracy: 0.9590\n",
            "Epoch 15/15\n",
            "90/90 [==============================] - 8s 83ms/step - loss: 0.1125 - accuracy: 0.9667\n",
            "\n",
            "\n",
            "Evaluating the model\n",
            "\n",
            "\n",
            "10/10 [==============================] - 2s 49ms/step - loss: 0.1477 - accuracy: 0.9625\n",
            "--------------------------------------------------------------------------------------------\n",
            "Fold 4\n",
            "--------------------------------------------------------------------------------------------\n",
            "Epoch 1/15\n",
            "90/90 [==============================] - 11s 80ms/step - loss: 0.6957 - accuracy: 0.6972\n",
            "Epoch 2/15\n",
            "90/90 [==============================] - 9s 94ms/step - loss: 0.4050 - accuracy: 0.8215\n",
            "Epoch 3/15\n",
            "90/90 [==============================] - 9s 96ms/step - loss: 0.4394 - accuracy: 0.8104\n",
            "Epoch 4/15\n",
            "90/90 [==============================] - 7s 80ms/step - loss: 0.3955 - accuracy: 0.8417\n",
            "Epoch 5/15\n",
            "90/90 [==============================] - 8s 78ms/step - loss: 0.3255 - accuracy: 0.8625\n",
            "Epoch 6/15\n",
            "90/90 [==============================] - 9s 95ms/step - loss: 0.3191 - accuracy: 0.8708\n",
            "Epoch 7/15\n",
            "90/90 [==============================] - 8s 81ms/step - loss: 0.3527 - accuracy: 0.8507\n",
            "Epoch 8/15\n",
            "90/90 [==============================] - 9s 88ms/step - loss: 0.3119 - accuracy: 0.8910\n",
            "Epoch 9/15\n",
            "90/90 [==============================] - 9s 95ms/step - loss: 0.1615 - accuracy: 0.9403\n",
            "Epoch 10/15\n",
            "90/90 [==============================] - 8s 82ms/step - loss: 0.1981 - accuracy: 0.9319\n",
            "Epoch 11/15\n",
            "90/90 [==============================] - 8s 86ms/step - loss: 0.1099 - accuracy: 0.9660\n",
            "Epoch 12/15\n",
            "90/90 [==============================] - 9s 96ms/step - loss: 0.1371 - accuracy: 0.9611\n",
            "Epoch 13/15\n",
            "90/90 [==============================] - 7s 78ms/step - loss: 0.2110 - accuracy: 0.9403\n",
            "Epoch 14/15\n",
            "90/90 [==============================] - 9s 95ms/step - loss: 0.1632 - accuracy: 0.9521\n",
            "Epoch 15/15\n",
            "90/90 [==============================] - 7s 79ms/step - loss: 0.2395 - accuracy: 0.9181\n",
            "\n",
            "\n",
            "Evaluating the model\n",
            "\n",
            "\n",
            "10/10 [==============================] - 2s 47ms/step - loss: 0.0823 - accuracy: 0.9750\n",
            "--------------------------------------------------------------------------------------------\n",
            "Fold 5\n",
            "--------------------------------------------------------------------------------------------\n",
            "Epoch 1/15\n",
            "90/90 [==============================] - 11s 101ms/step - loss: 0.6549 - accuracy: 0.7028\n",
            "Epoch 2/15\n",
            "90/90 [==============================] - 8s 82ms/step - loss: 0.4257 - accuracy: 0.8049\n",
            "Epoch 3/15\n",
            "90/90 [==============================] - 8s 83ms/step - loss: 0.3650 - accuracy: 0.8521\n",
            "Epoch 4/15\n",
            "90/90 [==============================] - 9s 99ms/step - loss: 0.4071 - accuracy: 0.8208\n",
            "Epoch 5/15\n",
            "90/90 [==============================] - 8s 90ms/step - loss: 0.3812 - accuracy: 0.8431\n",
            "Epoch 6/15\n",
            "90/90 [==============================] - 8s 84ms/step - loss: 0.3214 - accuracy: 0.8674\n",
            "Epoch 7/15\n",
            "90/90 [==============================] - 9s 89ms/step - loss: 0.2959 - accuracy: 0.8771\n",
            "Epoch 8/15\n",
            "90/90 [==============================] - 9s 99ms/step - loss: 0.3126 - accuracy: 0.8806\n",
            "Epoch 9/15\n",
            "90/90 [==============================] - 8s 82ms/step - loss: 0.2949 - accuracy: 0.8896\n",
            "Epoch 10/15\n",
            "90/90 [==============================] - 9s 98ms/step - loss: 0.3335 - accuracy: 0.8882\n",
            "Epoch 11/15\n",
            "90/90 [==============================] - 9s 99ms/step - loss: 0.3415 - accuracy: 0.8694\n",
            "Epoch 12/15\n",
            "90/90 [==============================] - 8s 85ms/step - loss: 0.2627 - accuracy: 0.9049\n",
            "Epoch 13/15\n",
            "90/90 [==============================] - 9s 97ms/step - loss: 0.2388 - accuracy: 0.9194\n",
            "Epoch 14/15\n",
            "90/90 [==============================] - 9s 99ms/step - loss: 0.1902 - accuracy: 0.9507\n",
            "Epoch 15/15\n",
            "90/90 [==============================] - 8s 83ms/step - loss: 0.1703 - accuracy: 0.9465\n",
            "\n",
            "\n",
            "Evaluating the model\n",
            "\n",
            "\n",
            "10/10 [==============================] - 3s 51ms/step - loss: 0.0860 - accuracy: 0.9812\n",
            "--------------------------------------------------------------------------------------------\n",
            "Fold 6\n",
            "--------------------------------------------------------------------------------------------\n",
            "Epoch 1/15\n",
            "90/90 [==============================] - 12s 105ms/step - loss: 0.6698 - accuracy: 0.6924\n",
            "Epoch 2/15\n",
            "90/90 [==============================] - 8s 88ms/step - loss: 0.3855 - accuracy: 0.8160\n",
            "Epoch 3/15\n",
            "90/90 [==============================] - 9s 98ms/step - loss: 0.4257 - accuracy: 0.8111\n",
            "Epoch 4/15\n",
            "90/90 [==============================] - 10s 104ms/step - loss: 0.3360 - accuracy: 0.8674\n",
            "Epoch 5/15\n",
            "90/90 [==============================] - 8s 88ms/step - loss: 0.2986 - accuracy: 0.8729\n",
            "Epoch 6/15\n",
            "90/90 [==============================] - 8s 88ms/step - loss: 0.3570 - accuracy: 0.8486\n",
            "Epoch 7/15\n",
            "90/90 [==============================] - 9s 102ms/step - loss: 0.2697 - accuracy: 0.8875\n",
            "Epoch 8/15\n",
            "90/90 [==============================] - 10s 104ms/step - loss: 0.2746 - accuracy: 0.9049\n",
            "Epoch 9/15\n",
            "90/90 [==============================] - 8s 86ms/step - loss: 0.3614 - accuracy: 0.8972\n",
            "Epoch 10/15\n",
            "90/90 [==============================] - 9s 93ms/step - loss: 0.2772 - accuracy: 0.9097\n",
            "Epoch 11/15\n",
            "90/90 [==============================] - 10s 105ms/step - loss: 0.1711 - accuracy: 0.9417\n",
            "Epoch 12/15\n",
            "90/90 [==============================] - 10s 104ms/step - loss: 0.1748 - accuracy: 0.9368\n",
            "Epoch 13/15\n",
            "90/90 [==============================] - 8s 89ms/step - loss: 0.2218 - accuracy: 0.9215\n",
            "Epoch 14/15\n",
            "90/90 [==============================] - 10s 104ms/step - loss: 0.1350 - accuracy: 0.9583\n",
            "Epoch 15/15\n",
            "90/90 [==============================] - 9s 98ms/step - loss: 0.1154 - accuracy: 0.9632\n",
            "\n",
            "\n",
            "Evaluating the model\n",
            "\n",
            "\n",
            "10/10 [==============================] - 3s 49ms/step - loss: 0.0830 - accuracy: 0.9438\n",
            "--------------------------------------------------------------------------------------------\n",
            "Fold 7\n",
            "--------------------------------------------------------------------------------------------\n",
            "Epoch 1/15\n",
            "90/90 [==============================] - 12s 109ms/step - loss: 0.6066 - accuracy: 0.7410\n",
            "Epoch 2/15\n",
            "90/90 [==============================] - 9s 92ms/step - loss: 0.3684 - accuracy: 0.8354\n",
            "Epoch 3/15\n",
            "90/90 [==============================] - 9s 96ms/step - loss: 0.4058 - accuracy: 0.8278\n",
            "Epoch 4/15\n",
            "90/90 [==============================] - 10s 107ms/step - loss: 0.3743 - accuracy: 0.8347\n",
            "Epoch 5/15\n",
            "90/90 [==============================] - 10s 106ms/step - loss: 0.3830 - accuracy: 0.8396\n",
            "Epoch 6/15\n",
            "90/90 [==============================] - 9s 93ms/step - loss: 0.3704 - accuracy: 0.8625\n",
            "Epoch 7/15\n",
            "90/90 [==============================] - 10s 106ms/step - loss: 0.3393 - accuracy: 0.8674\n",
            "Epoch 8/15\n",
            "90/90 [==============================] - 10s 108ms/step - loss: 0.2681 - accuracy: 0.8896\n",
            "Epoch 9/15\n",
            "90/90 [==============================] - 8s 91ms/step - loss: 0.3390 - accuracy: 0.8729\n",
            "Epoch 10/15\n",
            "90/90 [==============================] - 10s 106ms/step - loss: 0.2733 - accuracy: 0.8944\n",
            "Epoch 11/15\n",
            "90/90 [==============================] - 10s 106ms/step - loss: 0.2316 - accuracy: 0.9201\n",
            "Epoch 12/15\n",
            "90/90 [==============================] - 9s 93ms/step - loss: 0.2399 - accuracy: 0.9222\n",
            "Epoch 13/15\n",
            "90/90 [==============================] - 9s 91ms/step - loss: 0.2012 - accuracy: 0.9465\n",
            "Epoch 14/15\n",
            "90/90 [==============================] - 10s 107ms/step - loss: 0.2051 - accuracy: 0.9299\n",
            "Epoch 15/15\n",
            "90/90 [==============================] - 10s 108ms/step - loss: 0.1646 - accuracy: 0.9479\n",
            "\n",
            "\n",
            "Evaluating the model\n",
            "\n",
            "\n",
            "10/10 [==============================] - 3s 52ms/step - loss: 0.2433 - accuracy: 0.8562\n",
            "--------------------------------------------------------------------------------------------\n",
            "Fold 8\n",
            "--------------------------------------------------------------------------------------------\n",
            "Epoch 1/15\n",
            "90/90 [==============================] - 13s 116ms/step - loss: 0.5859 - accuracy: 0.7681\n",
            "Epoch 2/15\n",
            "90/90 [==============================] - 10s 113ms/step - loss: 0.4478 - accuracy: 0.7861\n",
            "Epoch 3/15\n",
            "90/90 [==============================] - 10s 105ms/step - loss: 0.3983 - accuracy: 0.8431\n",
            "Epoch 4/15\n",
            "90/90 [==============================] - 10s 102ms/step - loss: 0.3342 - accuracy: 0.8521\n",
            "Epoch 5/15\n",
            "90/90 [==============================] - 10s 113ms/step - loss: 0.3162 - accuracy: 0.8722\n",
            "Epoch 6/15\n",
            "90/90 [==============================] - 10s 113ms/step - loss: 0.3118 - accuracy: 0.8694\n",
            "Epoch 7/15\n",
            "90/90 [==============================] - 9s 97ms/step - loss: 0.3444 - accuracy: 0.8799\n",
            "Epoch 8/15\n",
            "90/90 [==============================] - 10s 108ms/step - loss: 0.2800 - accuracy: 0.8944\n",
            "Epoch 9/15\n",
            "90/90 [==============================] - 10s 111ms/step - loss: 0.2491 - accuracy: 0.9243\n",
            "Epoch 10/15\n",
            "90/90 [==============================] - 10s 110ms/step - loss: 0.2247 - accuracy: 0.9312\n",
            "Epoch 11/15\n",
            "90/90 [==============================] - 9s 97ms/step - loss: 0.1493 - accuracy: 0.9479\n",
            "Epoch 12/15\n",
            "90/90 [==============================] - 10s 111ms/step - loss: 0.1147 - accuracy: 0.9521\n",
            "Epoch 13/15\n",
            "90/90 [==============================] - 10s 107ms/step - loss: 0.1356 - accuracy: 0.9507\n",
            "Epoch 14/15\n",
            "90/90 [==============================] - 9s 97ms/step - loss: 0.1097 - accuracy: 0.9604\n",
            "Epoch 15/15\n",
            "90/90 [==============================] - 10s 113ms/step - loss: 0.1123 - accuracy: 0.9549\n",
            "\n",
            "\n",
            "Evaluating the model\n",
            "\n",
            "\n",
            "10/10 [==============================] - 4s 54ms/step - loss: 0.1092 - accuracy: 0.9750\n",
            "--------------------------------------------------------------------------------------------\n",
            "Fold 9\n",
            "--------------------------------------------------------------------------------------------\n",
            "Epoch 1/15\n",
            "90/90 [==============================] - 13s 113ms/step - loss: 0.6663 - accuracy: 0.6958\n",
            "Epoch 2/15\n",
            "90/90 [==============================] - 10s 101ms/step - loss: 0.4274 - accuracy: 0.8271\n",
            "Epoch 3/15\n",
            "90/90 [==============================] - 11s 117ms/step - loss: 0.3795 - accuracy: 0.8438\n",
            "Epoch 4/15\n",
            "90/90 [==============================] - 11s 115ms/step - loss: 0.3359 - accuracy: 0.8576\n",
            "Epoch 5/15\n",
            "90/90 [==============================] - 10s 109ms/step - loss: 0.3622 - accuracy: 0.8556\n",
            "Epoch 6/15\n",
            "90/90 [==============================] - 11s 116ms/step - loss: 0.3657 - accuracy: 0.8347\n",
            "Epoch 7/15\n",
            "90/90 [==============================] - 10s 111ms/step - loss: 0.3334 - accuracy: 0.8521\n",
            "Epoch 8/15\n",
            "90/90 [==============================] - 11s 117ms/step - loss: 0.3362 - accuracy: 0.8632\n",
            "Epoch 9/15\n",
            "90/90 [==============================] - 11s 116ms/step - loss: 0.3858 - accuracy: 0.8333\n",
            "Epoch 10/15\n",
            "90/90 [==============================] - 9s 100ms/step - loss: 0.3533 - accuracy: 0.8569\n",
            "Epoch 11/15\n",
            "90/90 [==============================] - 11s 112ms/step - loss: 0.2992 - accuracy: 0.8833\n",
            "Epoch 12/15\n",
            "90/90 [==============================] - 11s 117ms/step - loss: 0.2802 - accuracy: 0.8792\n",
            "Epoch 13/15\n",
            "90/90 [==============================] - 10s 103ms/step - loss: 0.3518 - accuracy: 0.8486\n",
            "Epoch 14/15\n",
            "90/90 [==============================] - 10s 108ms/step - loss: 0.2761 - accuracy: 0.8931\n",
            "Epoch 15/15\n",
            "90/90 [==============================] - 11s 118ms/step - loss: 0.2679 - accuracy: 0.9049\n",
            "\n",
            "\n",
            "Evaluating the model\n",
            "\n",
            "\n",
            "10/10 [==============================] - 4s 48ms/step - loss: 0.2350 - accuracy: 0.9000\n",
            "--------------------------------------------------------------------------------------------\n",
            "Fold 10\n",
            "--------------------------------------------------------------------------------------------\n",
            "Epoch 1/15\n",
            "90/90 [==============================] - 8s 59ms/step - loss: 0.6116 - accuracy: 0.7382\n",
            "Epoch 2/15\n",
            "90/90 [==============================] - 6s 61ms/step - loss: 0.4102 - accuracy: 0.8215\n",
            "Epoch 3/15\n",
            "90/90 [==============================] - 7s 70ms/step - loss: 0.3524 - accuracy: 0.8472\n",
            "Epoch 4/15\n",
            "90/90 [==============================] - 6s 58ms/step - loss: 0.3811 - accuracy: 0.8313\n",
            "Epoch 5/15\n",
            "90/90 [==============================] - 6s 58ms/step - loss: 0.4001 - accuracy: 0.8271\n",
            "Epoch 6/15\n",
            "90/90 [==============================] - 7s 69ms/step - loss: 0.3233 - accuracy: 0.8549\n",
            "Epoch 7/15\n",
            "90/90 [==============================] - 6s 60ms/step - loss: 0.3875 - accuracy: 0.8181\n",
            "Epoch 8/15\n",
            "90/90 [==============================] - 7s 77ms/step - loss: 0.3511 - accuracy: 0.8597\n",
            "Epoch 9/15\n",
            "90/90 [==============================] - 6s 59ms/step - loss: 0.3465 - accuracy: 0.8597\n",
            "Epoch 10/15\n",
            "90/90 [==============================] - 6s 58ms/step - loss: 0.3169 - accuracy: 0.8924\n",
            "Epoch 11/15\n",
            "90/90 [==============================] - 7s 67ms/step - loss: 0.2340 - accuracy: 0.9208\n",
            "Epoch 12/15\n",
            "90/90 [==============================] - 6s 58ms/step - loss: 0.2349 - accuracy: 0.9222\n",
            "Epoch 13/15\n",
            "90/90 [==============================] - 7s 74ms/step - loss: 0.1561 - accuracy: 0.9410\n",
            "Epoch 14/15\n",
            "90/90 [==============================] - 6s 58ms/step - loss: 0.1245 - accuracy: 0.9590\n",
            "Epoch 15/15\n",
            "90/90 [==============================] - 6s 58ms/step - loss: 0.1411 - accuracy: 0.9507\n",
            "\n",
            "\n",
            "Evaluating the model\n",
            "\n",
            "\n",
            "10/10 [==============================] - 6s 51ms/step - loss: 0.1246 - accuracy: 0.9688\n",
            "--------------------------------------------------------------------------------------------\n"
          ]
        }
      ]
    },
    {
      "cell_type": "code",
      "source": [
        "column_headers=['Fold Number','Validation Loss(%)','Validation Accuracy(%)']\n",
        "print(tabulate(SCORES_PER_FOLD, headers=column_headers, tablefmt=\"grid\"))"
      ],
      "metadata": {
        "id": "IxXiy2USK3hC",
        "colab": {
          "base_uri": "https://localhost:8080/"
        },
        "outputId": "5de0c632-a2be-4913-eb99-b3af4c789a90"
      },
      "execution_count": null,
      "outputs": [
        {
          "output_type": "stream",
          "name": "stdout",
          "text": [
            "+---------------+----------------------+--------------------------+\n",
            "|   Fold Number |   Validation Loss(%) |   Validation Accuracy(%) |\n",
            "+===============+======================+==========================+\n",
            "|             1 |             11.9479  |                   97.5   |\n",
            "+---------------+----------------------+--------------------------+\n",
            "|             2 |              4.69334 |                   98.75  |\n",
            "+---------------+----------------------+--------------------------+\n",
            "|             3 |             14.7684  |                   96.25  |\n",
            "+---------------+----------------------+--------------------------+\n",
            "|             4 |              8.22934 |                   97.5   |\n",
            "+---------------+----------------------+--------------------------+\n",
            "|             5 |              8.59968 |                   98.125 |\n",
            "+---------------+----------------------+--------------------------+\n",
            "|             6 |              8.30335 |                   94.375 |\n",
            "+---------------+----------------------+--------------------------+\n",
            "|             7 |             24.3263  |                   85.625 |\n",
            "+---------------+----------------------+--------------------------+\n",
            "|             8 |             10.9151  |                   97.5   |\n",
            "+---------------+----------------------+--------------------------+\n",
            "|             9 |             23.4966  |                   90     |\n",
            "+---------------+----------------------+--------------------------+\n",
            "|            10 |             12.4598  |                   96.875 |\n",
            "+---------------+----------------------+--------------------------+\n"
          ]
        }
      ]
    },
    {
      "cell_type": "markdown",
      "source": [
        "### Selecting the model with highest accuracy for training"
      ],
      "metadata": {
        "id": "Ou_MBkGIG1sd"
      }
    },
    {
      "cell_type": "code",
      "source": [
        "max_acc=SCORES_PER_FOLD[0][2]\n",
        "max_acc_index=[]\n",
        "for i in range(len(SCORES_PER_FOLD)):\n",
        "  if(SCORES_PER_FOLD[i][2]>max_acc):\n",
        "    max_acc=SCORES_PER_FOLD[i][2]\n",
        "print(max_acc)\n",
        "for i in range(len(SCORES_PER_FOLD)):\n",
        "  if(SCORES_PER_FOLD[i][2]==max_acc):\n",
        "    max_acc_index.append(i)\n",
        "print(max_acc_index)\n",
        "result=-1\n",
        "if(len(max_acc_index)>1):\n",
        "  min_loss=SCORES_PER_FOLD[max_acc_index[0]][1]\n",
        "  j=0\n",
        "  result=-1\n",
        "  while(index<len(SCORES_PER_FOLD)):\n",
        "    index=max_acc_index[j]\n",
        "    if(SCORES_PER_FOLD[index][1]<min_loss):\n",
        "      min_loss=SCORES_PER_FOLD[index][1]\n",
        "      result=index\n",
        "    j+=1\n",
        "else:\n",
        "  result=max_acc_index[0]\n",
        "\n",
        "model=load_model(model_dir+'model_'+str(result+1)+'.h5')"
      ],
      "metadata": {
        "colab": {
          "base_uri": "https://localhost:8080/"
        },
        "id": "iIj4X_luG1Ce",
        "outputId": "d905b118-35f5-4889-df63-7cb33e895141"
      },
      "execution_count": null,
      "outputs": [
        {
          "output_type": "stream",
          "name": "stdout",
          "text": [
            "98.7500011920929\n",
            "[1]\n"
          ]
        }
      ]
    },
    {
      "cell_type": "markdown",
      "source": [
        "### Training the model for fine parameter tuning"
      ],
      "metadata": {
        "id": "5WyyGpDKsyuK"
      }
    },
    {
      "cell_type": "code",
      "source": [
        "training_set=normalized_train_val_set.take(80)\n",
        "validation_set=normalized_train_val_set.skip(80).take(20)\n",
        "\n",
        "Cur_Model_Run = model.fit(\n",
        "    training_set,\n",
        "    validation_data=validation_set,\n",
        "    epochs=25,\n",
        "    steps_per_epoch=len(training_set),\n",
        "    validation_steps=len(validation_set),\n",
        "    callbacks=[tensorboard_callback]\n",
        "  )"
      ],
      "metadata": {
        "colab": {
          "base_uri": "https://localhost:8080/"
        },
        "id": "QXQHGC5ys6Up",
        "outputId": "1a2bc0ad-dc04-4a59-f7c4-4610fbc66000"
      },
      "execution_count": null,
      "outputs": [
        {
          "output_type": "stream",
          "name": "stdout",
          "text": [
            "Epoch 1/25\n",
            "80/80 [==============================] - 13s 135ms/step - loss: 0.1440 - accuracy: 0.9469 - val_loss: 0.0510 - val_accuracy: 0.9844\n",
            "Epoch 2/25\n",
            "80/80 [==============================] - 11s 129ms/step - loss: 0.1123 - accuracy: 0.9594 - val_loss: 0.0505 - val_accuracy: 0.9875\n",
            "Epoch 3/25\n",
            "80/80 [==============================] - 11s 128ms/step - loss: 0.0790 - accuracy: 0.9758 - val_loss: 0.0434 - val_accuracy: 0.9906\n",
            "Epoch 4/25\n",
            "80/80 [==============================] - 10s 113ms/step - loss: 0.0872 - accuracy: 0.9789 - val_loss: 0.1316 - val_accuracy: 0.9656\n",
            "Epoch 5/25\n",
            "80/80 [==============================] - 11s 129ms/step - loss: 0.0969 - accuracy: 0.9695 - val_loss: 0.0266 - val_accuracy: 0.9906\n",
            "Epoch 6/25\n",
            "80/80 [==============================] - 11s 130ms/step - loss: 0.0644 - accuracy: 0.9805 - val_loss: 0.1484 - val_accuracy: 0.9531\n",
            "Epoch 7/25\n",
            "80/80 [==============================] - 10s 117ms/step - loss: 0.0929 - accuracy: 0.9703 - val_loss: 0.0716 - val_accuracy: 0.9781\n",
            "Epoch 8/25\n",
            "80/80 [==============================] - 10s 113ms/step - loss: 0.0593 - accuracy: 0.9773 - val_loss: 0.0967 - val_accuracy: 0.9688\n",
            "Epoch 9/25\n",
            "80/80 [==============================] - 10s 128ms/step - loss: 0.1061 - accuracy: 0.9641 - val_loss: 0.0314 - val_accuracy: 0.9937\n",
            "Epoch 10/25\n",
            "80/80 [==============================] - 10s 127ms/step - loss: 0.0203 - accuracy: 0.9914 - val_loss: 0.0281 - val_accuracy: 0.9937\n",
            "Epoch 11/25\n",
            "80/80 [==============================] - 10s 123ms/step - loss: 0.0178 - accuracy: 0.9953 - val_loss: 0.0094 - val_accuracy: 0.9969\n",
            "Epoch 12/25\n",
            "80/80 [==============================] - 10s 127ms/step - loss: 0.0115 - accuracy: 0.9961 - val_loss: 0.0267 - val_accuracy: 0.9875\n",
            "Epoch 13/25\n",
            "80/80 [==============================] - 9s 115ms/step - loss: 0.0153 - accuracy: 0.9953 - val_loss: 0.0053 - val_accuracy: 0.9969\n",
            "Epoch 14/25\n",
            "80/80 [==============================] - 10s 122ms/step - loss: 0.0044 - accuracy: 0.9977 - val_loss: 0.0175 - val_accuracy: 0.9906\n",
            "Epoch 15/25\n",
            "80/80 [==============================] - 10s 127ms/step - loss: 0.0023 - accuracy: 1.0000 - val_loss: 0.0227 - val_accuracy: 0.9937\n",
            "Epoch 16/25\n",
            "80/80 [==============================] - 10s 121ms/step - loss: 0.0359 - accuracy: 0.9906 - val_loss: 0.0325 - val_accuracy: 0.9906\n",
            "Epoch 17/25\n",
            "80/80 [==============================] - 10s 114ms/step - loss: 0.0361 - accuracy: 0.9930 - val_loss: 0.0314 - val_accuracy: 0.9875\n",
            "Epoch 18/25\n",
            "80/80 [==============================] - 11s 130ms/step - loss: 0.0184 - accuracy: 0.9969 - val_loss: 0.0143 - val_accuracy: 0.9937\n",
            "Epoch 19/25\n",
            "80/80 [==============================] - 10s 127ms/step - loss: 0.0186 - accuracy: 0.9930 - val_loss: 0.0210 - val_accuracy: 0.9937\n",
            "Epoch 20/25\n",
            "80/80 [==============================] - 15s 188ms/step - loss: 0.0039 - accuracy: 1.0000 - val_loss: 0.0111 - val_accuracy: 0.9937\n",
            "Epoch 21/25\n",
            "80/80 [==============================] - 11s 131ms/step - loss: 0.0010 - accuracy: 1.0000 - val_loss: 0.0046 - val_accuracy: 1.0000\n",
            "Epoch 22/25\n",
            "80/80 [==============================] - 11s 130ms/step - loss: 6.3531e-04 - accuracy: 1.0000 - val_loss: 0.0028 - val_accuracy: 1.0000\n",
            "Epoch 23/25\n",
            "80/80 [==============================] - 10s 126ms/step - loss: 1.4276e-04 - accuracy: 1.0000 - val_loss: 0.0026 - val_accuracy: 1.0000\n",
            "Epoch 24/25\n",
            "80/80 [==============================] - 9s 111ms/step - loss: 1.0504e-04 - accuracy: 1.0000 - val_loss: 9.6010e-04 - val_accuracy: 1.0000\n",
            "Epoch 25/25\n",
            "80/80 [==============================] - 11s 131ms/step - loss: 9.0294e-05 - accuracy: 1.0000 - val_loss: 6.4634e-04 - val_accuracy: 1.0000\n"
          ]
        }
      ]
    },
    {
      "cell_type": "markdown",
      "source": [
        "### Plotting the performance of the model after fine parameter tuning"
      ],
      "metadata": {
        "id": "dAfpCTCWExrN"
      }
    },
    {
      "cell_type": "code",
      "execution_count": null,
      "metadata": {
        "id": "Ip0NtKLos4sU",
        "colab": {
          "base_uri": "https://localhost:8080/",
          "height": 602
        },
        "outputId": "168b967f-4deb-44ab-a22f-421e96420744"
      },
      "outputs": [
        {
          "output_type": "display_data",
          "data": {
            "text/plain": [
              "<Figure size 1000x600 with 1 Axes>"
            ],
            "image/png": "[encoded data removed]"
          },
          "metadata": {}
        }
      ],
      "source": [
        "# Plotting the loss\n",
        "\n",
        "\n",
        "fig=plt.figure(figsize=(10,6));\n",
        "plt.plot(Cur_Model_Run.history['loss'], color='teal', label='training loss')\n",
        "plt.plot(Cur_Model_Run.history['val_loss'], color='orange', label='validation loss')\n",
        "plt.xlabel(\"Epochs\")\n",
        "plt.ylabel(\"Loss\")\n",
        "fig.suptitle('Loss',fontsize=15)\n",
        "plt.legend()\n",
        "plt.show()"
      ]
    },
    {
      "cell_type": "code",
      "source": [
        "# Plotting the accuracy\n",
        "\n",
        "\n",
        "fig=plt.figure(figsize=(10,6));\n",
        "plt.plot(Cur_Model_Run.history['accuracy'], color='teal', label='training acc')\n",
        "plt.plot(Cur_Model_Run.history['val_accuracy'], color='orange', label='validation acc')\n",
        "plt.xlabel(\"Epochs\")\n",
        "plt.ylabel(\"Accuracy\")\n",
        "fig.suptitle('Accuracy',fontsize=15)\n",
        "plt.legend()\n",
        "plt.show()"
      ],
      "metadata": {
        "id": "Qif0CC2Wx-zq",
        "colab": {
          "base_uri": "https://localhost:8080/",
          "height": 602
        },
        "outputId": "46298e12-d6c9-404f-8d69-499dd897d1f9"
      },
      "execution_count": null,
      "outputs": [
        {
          "output_type": "display_data",
          "data": {
            "text/plain": [
              "<Figure size 1000x600 with 1 Axes>"
            ],
            "image/png": "[encoded data removed]"
          },
          "metadata": {}
        }
      ]
    },
    {
      "cell_type": "markdown",
      "source": [
        "###Calcualting Precision, Recall, Accuracy and F Score of the Model"
      ],
      "metadata": {
        "id": "ry0YiEGL4H7v"
      }
    },
    {
      "cell_type": "code",
      "source": [
        "pre = Precision()\n",
        "re = Recall()\n",
        "acc = Accuracy()"
      ],
      "metadata": {
        "id": "7A8M6AA-1KH0"
      },
      "execution_count": null,
      "outputs": []
    },
    {
      "cell_type": "code",
      "source": [
        "True_label=[]\n",
        "Predicted_label=[]\n",
        "score=[]\n",
        "for images,labels in (normalized_testing_set):              \n",
        "  score.append(model.evaluate(images,labels))\n",
        "  for it in range(len(labels)):\n",
        "    True_label.append(labels[it])\n",
        "  pred=model.predict(images)\n",
        "  y_max=[]\n",
        "  for it in range(len(pred)):\n",
        "      y_max.append(np.argmax(pred[it]))\n",
        "      Predicted_label.append(np.argmax(pred[it]))\n",
        "  pre.update_state(labels,y_max)\n",
        "  re.update_state(labels,y_max)\n",
        "  acc.update_state(labels,y_max)"
      ],
      "metadata": {
        "id": "JOFrZ_XmgIx0",
        "colab": {
          "base_uri": "https://localhost:8080/"
        },
        "outputId": "1c547616-5245-40b8-e706-5d06480ec529"
      },
      "execution_count": null,
      "outputs": [
        {
          "output_type": "stream",
          "name": "stdout",
          "text": [
            "1/1 [==============================] - 0s 50ms/step - loss: 7.9123e-05 - accuracy: 1.0000\n",
            "1/1 [==============================] - 0s 112ms/step\n",
            "1/1 [==============================] - 0s 40ms/step - loss: 0.0398 - accuracy: 1.0000\n",
            "1/1 [==============================] - 0s 25ms/step\n",
            "1/1 [==============================] - 0s 54ms/step - loss: 9.8564e-06 - accuracy: 1.0000\n",
            "1/1 [==============================] - 0s 32ms/step\n",
            "1/1 [==============================] - 0s 41ms/step - loss: 6.7054e-06 - accuracy: 1.0000\n",
            "1/1 [==============================] - 0s 26ms/step\n",
            "1/1 [==============================] - 0s 40ms/step - loss: 9.7223e-06 - accuracy: 1.0000\n",
            "1/1 [==============================] - 0s 26ms/step\n",
            "1/1 [==============================] - 0s 47ms/step - loss: 4.4479e-06 - accuracy: 1.0000\n",
            "1/1 [==============================] - 0s 39ms/step\n",
            "1/1 [==============================] - 0s 43ms/step - loss: 0.3758 - accuracy: 0.9375\n",
            "1/1 [==============================] - 0s 27ms/step\n",
            "1/1 [==============================] - 0s 41ms/step - loss: 0.0088 - accuracy: 1.0000\n",
            "1/1 [==============================] - 0s 25ms/step\n",
            "1/1 [==============================] - 0s 51ms/step - loss: 0.0026 - accuracy: 1.0000\n",
            "1/1 [==============================] - 0s 35ms/step\n",
            "1/1 [==============================] - 0s 41ms/step - loss: 1.5049e-05 - accuracy: 1.0000\n",
            "1/1 [==============================] - 0s 24ms/step\n",
            "1/1 [==============================] - 0s 44ms/step - loss: 0.0327 - accuracy: 1.0000\n",
            "1/1 [==============================] - 0s 24ms/step\n",
            "1/1 [==============================] - 0s 42ms/step - loss: 0.1732 - accuracy: 0.9375\n",
            "1/1 [==============================] - 0s 30ms/step\n",
            "1/1 [==============================] - 0s 48ms/step - loss: 0.0220 - accuracy: 1.0000\n",
            "1/1 [==============================] - 0s 33ms/step\n",
            "1/1 [==============================] - 0s 37ms/step - loss: 0.0032 - accuracy: 1.0000\n",
            "1/1 [==============================] - 0s 27ms/step\n",
            "1/1 [==============================] - 0s 41ms/step - loss: 1.2876 - accuracy: 0.8750\n",
            "1/1 [==============================] - 0s 24ms/step\n",
            "1/1 [==============================] - 0s 50ms/step - loss: 1.8814e-04 - accuracy: 1.0000\n",
            "1/1 [==============================] - 0s 43ms/step\n",
            "1/1 [==============================] - 0s 40ms/step - loss: 0.0054 - accuracy: 1.0000\n",
            "1/1 [==============================] - 0s 24ms/step\n",
            "1/1 [==============================] - 0s 49ms/step - loss: 0.0030 - accuracy: 1.0000\n",
            "1/1 [==============================] - 0s 24ms/step\n",
            "1/1 [==============================] - 0s 51ms/step - loss: 3.1194e-04 - accuracy: 1.0000\n",
            "1/1 [==============================] - 0s 37ms/step\n",
            "1/1 [==============================] - 0s 38ms/step - loss: 0.0175 - accuracy: 1.0000\n",
            "1/1 [==============================] - 0s 24ms/step\n",
            "1/1 [==============================] - 0s 41ms/step - loss: 4.3527e-05 - accuracy: 1.0000\n",
            "1/1 [==============================] - 0s 28ms/step\n",
            "1/1 [==============================] - 0s 41ms/step - loss: 5.7767e-05 - accuracy: 1.0000\n",
            "1/1 [==============================] - 0s 25ms/step\n",
            "1/1 [==============================] - 0s 44ms/step - loss: 0.4604 - accuracy: 0.9375\n",
            "1/1 [==============================] - 0s 25ms/step\n",
            "1/1 [==============================] - 0s 41ms/step - loss: 1.1944e-04 - accuracy: 1.0000\n",
            "1/1 [==============================] - 0s 25ms/step\n",
            "1/1 [==============================] - 0s 54ms/step - loss: 2.0377e-04 - accuracy: 1.0000\n",
            "1/1 [==============================] - 0s 24ms/step\n",
            "1/1 [==============================] - 0s 41ms/step - loss: 0.0025 - accuracy: 1.0000\n",
            "1/1 [==============================] - 0s 34ms/step\n",
            "1/1 [==============================] - 0s 38ms/step - loss: 0.3097 - accuracy: 0.9375\n",
            "1/1 [==============================] - 0s 25ms/step\n",
            "1/1 [==============================] - 0s 47ms/step - loss: 8.0911e-05 - accuracy: 1.0000\n",
            "1/1 [==============================] - 0s 40ms/step\n",
            "1/1 [==============================] - 0s 39ms/step - loss: 0.0159 - accuracy: 1.0000\n",
            "1/1 [==============================] - 0s 25ms/step\n",
            "1/1 [==============================] - 0s 38ms/step - loss: 1.0423e-04 - accuracy: 1.0000\n",
            "1/1 [==============================] - 0s 25ms/step\n",
            "1/1 [==============================] - 0s 46ms/step - loss: 0.0363 - accuracy: 1.0000\n",
            "1/1 [==============================] - 0s 31ms/step\n",
            "1/1 [==============================] - 0s 41ms/step - loss: 8.3349e-04 - accuracy: 1.0000\n",
            "1/1 [==============================] - 0s 26ms/step\n",
            "1/1 [==============================] - 0s 40ms/step - loss: 0.0029 - accuracy: 1.0000\n",
            "1/1 [==============================] - 0s 24ms/step\n",
            "1/1 [==============================] - 0s 45ms/step - loss: 0.0264 - accuracy: 1.0000\n",
            "1/1 [==============================] - 0s 23ms/step\n",
            "1/1 [==============================] - 0s 39ms/step - loss: 6.7193e-04 - accuracy: 1.0000\n",
            "1/1 [==============================] - 0s 23ms/step\n",
            "1/1 [==============================] - 0s 49ms/step - loss: 0.0119 - accuracy: 1.0000\n",
            "1/1 [==============================] - 0s 24ms/step\n",
            "1/1 [==============================] - 0s 40ms/step - loss: 7.9253e-05 - accuracy: 1.0000\n",
            "1/1 [==============================] - 0s 24ms/step\n",
            "1/1 [==============================] - 0s 41ms/step - loss: 0.0025 - accuracy: 1.0000\n",
            "1/1 [==============================] - 0s 25ms/step\n",
            "1/1 [==============================] - 0s 41ms/step - loss: 3.0298e-05 - accuracy: 1.0000\n",
            "1/1 [==============================] - 0s 24ms/step\n",
            "1/1 [==============================] - 0s 37ms/step - loss: 1.4640e-04 - accuracy: 1.0000\n",
            "1/1 [==============================] - 0s 24ms/step\n"
          ]
        }
      ]
    },
    {
      "cell_type": "code",
      "source": [
        "f_score=(2*pre.result().numpy()*re.result().numpy())/(pre.result().numpy()+re.result().numpy())"
      ],
      "metadata": {
        "id": "sXaKqak7HO2B"
      },
      "execution_count": null,
      "outputs": []
    },
    {
      "cell_type": "code",
      "source": [
        "print(f'Precision: {pre.result().numpy()}, Recall: {re.result().numpy()}, Accuracy: {acc.result().numpy()}, F Score: {f_score}')"
      ],
      "metadata": {
        "id": "vXUmWz_3AzUr",
        "colab": {
          "base_uri": "https://localhost:8080/"
        },
        "outputId": "9d3c878d-c1a1-4ddb-b0c2-310cf57f8a9a"
      },
      "execution_count": null,
      "outputs": [
        {
          "output_type": "stream",
          "name": "stdout",
          "text": [
            "Precision: 0.9958763122558594, Recall: 0.9979338645935059, Accuracy: 0.9906250238418579, F Score: 0.9969040267585142\n"
          ]
        }
      ]
    },
    {
      "cell_type": "code",
      "source": [
        "confusion_matrix=metrics.confusion_matrix(True_label,Predicted_label,normalize='true')\n",
        "cm_display = metrics.ConfusionMatrixDisplay(confusion_matrix = confusion_matrix, display_labels = ['1-1', '1-2','1-4','PURE'])\n",
        "fig, ax = plt.subplots(figsize=(10,10))\n",
        "cm_display.plot(ax=ax)\n",
        "plt.show();"
      ],
      "metadata": {
        "id": "8mnJ-hQR8lPL",
        "colab": {
          "base_uri": "https://localhost:8080/",
          "height": 821
        },
        "outputId": "69e31556-170c-4f2d-b56d-f21d3491a04d"
      },
      "execution_count": null,
      "outputs": [
        {
          "output_type": "display_data",
          "data": {
            "text/plain": [
              "<Figure size 1000x1000 with 2 Axes>"
            ],
            "image/png": "[encoded data removed]"
          },
          "metadata": {}
        }
      ]
    },
    {
      "cell_type": "markdown",
      "source": [
        "### Demonstrating how to use the model"
      ],
      "metadata": {
        "id": "e6cf_9VqFDeE"
      }
    },
    {
      "cell_type": "code",
      "execution_count": null,
      "metadata": {
        "id": "VGVArk3JuqIh"
      },
      "outputs": [],
      "source": [
        "img=image.load_img('/content/drive/MyDrive/Project_2/BLACK_WHITE/1-4/CR_B_DU_1-4_013.jpg',target_size=(256,256))"
      ]
    },
    {
      "cell_type": "code",
      "execution_count": null,
      "metadata": {
        "id": "mlSEanHNv0yv"
      },
      "outputs": [],
      "source": [
        "x=image.img_to_array(img)"
      ]
    },
    {
      "cell_type": "code",
      "execution_count": null,
      "metadata": {
        "id": "Ytjm1xNNwDiw"
      },
      "outputs": [],
      "source": [
        "x=x/255"
      ]
    },
    {
      "cell_type": "code",
      "execution_count": null,
      "metadata": {
        "id": "O2XVAJk9wEOb",
        "colab": {
          "base_uri": "https://localhost:8080/"
        },
        "outputId": "3f12af0a-d669-47d6-e415-4427b09f88cb"
      },
      "outputs": [
        {
          "output_type": "execute_result",
          "data": {
            "text/plain": [
              "(1, 256, 256, 3)"
            ]
          },
          "metadata": {},
          "execution_count": 28
        }
      ],
      "source": [
        "x=np.expand_dims(x,axis=0)\n",
        "x.shape"
      ]
    },
    {
      "cell_type": "code",
      "execution_count": null,
      "metadata": {
        "id": "Z0WCmtaYwGAy",
        "colab": {
          "base_uri": "https://localhost:8080/"
        },
        "outputId": "8ce9dfd6-09a4-4b97-d427-ab4438c2b771"
      },
      "outputs": [
        {
          "output_type": "stream",
          "name": "stdout",
          "text": [
            "1/1 [==============================] - 0s 171ms/step\n"
          ]
        }
      ],
      "source": [
        "pred=model.predict(x)"
      ]
    },
    {
      "cell_type": "code",
      "execution_count": null,
      "metadata": {
        "id": "8Wxdt0m8wH0r",
        "colab": {
          "base_uri": "https://localhost:8080/"
        },
        "outputId": "0969789b-f4a8-468e-920f-c640cad94044"
      },
      "outputs": [
        {
          "output_type": "stream",
          "name": "stdout",
          "text": [
            "[[8.2065639e-12 6.4013165e-01 1.0000000e+00 1.9904557e-27]]\n"
          ]
        }
      ],
      "source": [
        "print(pred)"
      ]
    },
    {
      "cell_type": "code",
      "execution_count": null,
      "metadata": {
        "id": "LLL9i03t1hBo",
        "colab": {
          "base_uri": "https://localhost:8080/"
        },
        "outputId": "b99c42f6-7180-481e-9760-5ce335991ef9"
      },
      "outputs": [
        {
          "output_type": "stream",
          "name": "stdout",
          "text": [
            "1-4\n"
          ]
        }
      ],
      "source": [
        "pred_name = CLASSES[np.argmax(pred)]\n",
        "print(pred_name)"
      ]
    }
  ],
  "metadata": {
    "accelerator": "GPU",
    "colab": {
      "provenance": []
    },
    "gpuClass": "standard",
    "kernelspec": {
      "display_name": "Python 3 (ipykernel)",
      "language": "python",
      "name": "python3"
    },
    "language_info": {
      "codemirror_mode": {
        "name": "ipython",
        "version": 3
      },
      "file_extension": ".py",
      "mimetype": "text/x-python",
      "name": "python",
      "nbconvert_exporter": "python",
      "pygments_lexer": "ipython3",
      "version": "3.9.13"
    },
    "vscode": {
      "interpreter": {
        "hash": "b302cdd1e032ee910f5c889c3360c28564c92ad4f326fc3102e39fbe47faee66"
      }
    }
  },
  "nbformat": 4,
  "nbformat_minor": 0
}