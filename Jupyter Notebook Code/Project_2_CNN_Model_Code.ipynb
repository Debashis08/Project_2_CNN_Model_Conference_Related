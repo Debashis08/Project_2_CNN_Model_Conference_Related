{
  "cells": [
    {
      "cell_type": "markdown",
      "metadata": {
        "id": "uBYwCqCtEjYP"
      },
      "source": [
        "### Importing required libraries"
      ]
    },
    {
      "cell_type": "code",
      "execution_count": null,
      "metadata": {
        "id": "vs9SfnnnlokY"
      },
      "outputs": [],
      "source": [
        "import tensorflow as tf\n",
        "from tensorflow.keras.layers import Input, Lambda, Dense, Flatten\n",
        "from tensorflow.keras.models import Model\n",
        "from tensorflow.keras.preprocessing import image\n",
        "from tensorflow.keras.preprocessing.image import load_img\n",
        "from tensorflow.keras.models import Sequential\n",
        "from tensorflow.keras.layers import Rescaling, Conv2D, MaxPooling2D, Dense, Flatten, Dropout, BatchNormalization\n",
        "from tensorflow.keras.models import load_model\n",
        "from tensorflow.keras.preprocessing import image\n",
        "from tensorflow.keras.metrics import Precision, Recall, Accuracy\n",
        "import numpy as np\n",
        "import matplotlib.pyplot as plt\n",
        "from sklearn import metrics\n",
        "from tabulate import tabulate"
      ]
    },
    {
      "cell_type": "markdown",
      "metadata": {
        "id": "iJ6CFKaPEVGd"
      },
      "source": [
        "### Declaring the Variables"
      ]
    },
    {
      "cell_type": "code",
      "execution_count": null,
      "metadata": {
        "id": "Za-dL2Aplrlv"
      },
      "outputs": [],
      "source": [
        "IMAGE_SIZE = [256, 256]\n",
        "BATCH_SIZE=16\n",
        "FOLDS=10\n",
        "SCORES_PER_FOLD=[]\n",
        "CLASSES=[\"1-1\",\"1-2\",\"1-4\",\"PURE\"]"
      ]
    },
    {
      "cell_type": "code",
      "execution_count": null,
      "metadata": {
        "id": "sU-YeLLf4iAA"
      },
      "outputs": [],
      "source": [
        "image_dir='/content/drive/MyDrive/Project_2/BLACK_WHITE'"
      ]
    },
    {
      "cell_type": "code",
      "execution_count": null,
      "metadata": {
        "id": "OPvQOBPsn5Fo"
      },
      "outputs": [],
      "source": [
        "logdir='/content/drive/MyDrive/Project_2/CNN_Model_Related/Logs'"
      ]
    },
    {
      "cell_type": "code",
      "execution_count": null,
      "metadata": {
        "id": "Yuwp9t4Sp9-p"
      },
      "outputs": [],
      "source": [
        "model_dir='/content/drive/MyDrive/Project_2/CNN_Model_Related/Model/'"
      ]
    },
    {
      "cell_type": "code",
      "execution_count": null,
      "metadata": {
        "id": "h_ST2edlv3ZY"
      },
      "outputs": [],
      "source": [
        "tensorboard_callback = tf.keras.callbacks.TensorBoard(log_dir=logdir)"
      ]
    },
    {
      "cell_type": "markdown",
      "metadata": {
        "id": "YPkn5rEDEdAN"
      },
      "source": [
        "### Fetching and Preprocessing the image files"
      ]
    },
    {
      "cell_type": "code",
      "execution_count": null,
      "metadata": {
        "id": "fh6SpJSSEDSa"
      },
      "outputs": [],
      "source": [
        "normalization_layer = tf.keras.layers.Rescaling(1./255)"
      ]
    },
    {
      "cell_type": "code",
      "execution_count": null,
      "metadata": {
        "colab": {
          "base_uri": "https://localhost:8080/"
        },
        "id": "A-yPCHaZEGZ4",
        "outputId": "ded61308-a2c1-4025-9c74-7183799440a8"
      },
      "outputs": [
        {
          "output_type": "stream",
          "name": "stdout",
          "text": [
            "Found 2240 files belonging to 4 classes.\n"
          ]
        }
      ],
      "source": [
        "image_data_set =tf.keras.utils.image_dataset_from_directory(\n",
        "  image_dir,\n",
        "  label_mode='int',\n",
        "  seed=131,\n",
        "  image_size=IMAGE_SIZE,\n",
        "  batch_size=BATCH_SIZE,\n",
        ")"
      ]
    },
    {
      "cell_type": "code",
      "execution_count": null,
      "metadata": {
        "colab": {
          "base_uri": "https://localhost:8080/"
        },
        "id": "QImbuHT0NFce",
        "outputId": "30f6a64d-11b1-4c79-f37b-4874bd346520"
      },
      "outputs": [
        {
          "output_type": "stream",
          "name": "stdout",
          "text": [
            "Using 100 sets for Training and Validation\n",
            "Using 40 sets for Testing\n"
          ]
        }
      ],
      "source": [
        "train_val_set=image_data_set.take(100)\n",
        "test_set=image_data_set.skip(100).take(40)\n",
        "print(f'Using {len(train_val_set)} sets for Training and Validation')\n",
        "print(f'Using {len(test_set)} sets for Testing')"
      ]
    },
    {
      "cell_type": "code",
      "execution_count": null,
      "metadata": {
        "id": "sVLUfWNtEYSM"
      },
      "outputs": [],
      "source": [
        "normalized_train_val_set=train_val_set.map(lambda x,y: (normalization_layer(x), y))\n",
        "normalized_testing_set=test_set.map(lambda x,y: (normalization_layer(x), y))\n",
        "\n",
        "# image_batch, labels_batch = next(iter(normalized_training_set))      #<-----the data is fethched in this form: image batch, label batch"
      ]
    },
    {
      "cell_type": "markdown",
      "metadata": {
        "id": "yRpUjvO_EpUm"
      },
      "source": [
        "### Building the CNN Model"
      ]
    },
    {
      "cell_type": "code",
      "execution_count": null,
      "metadata": {
        "id": "tJm9QzZgH-DI"
      },
      "outputs": [],
      "source": [
        "def Build_Model():\n",
        "  model=Sequential()\n",
        "  \n",
        "  model.add(Conv2D(32, (3,3), 1, activation='relu', input_shape=(256,256,3)))\n",
        "  model.add(MaxPooling2D(pool_size=(2,2)))\n",
        "\n",
        "  model.add(Conv2D(64, (3,3), 1, activation='relu'))\n",
        "  model.add(MaxPooling2D())\n",
        "\n",
        "  model.add(Conv2D(64, (3,3), 1, activation='relu'))\n",
        "  model.add(MaxPooling2D())\n",
        "\n",
        "  model.add(Conv2D(128, (3,3), 1, activation='relu'))\n",
        "  model.add(MaxPooling2D(pool_size=(2,2)))\n",
        "\n",
        "  model.add(Flatten())\n",
        "\n",
        "  model.add(Dense(256, activation='relu'))\n",
        "  model.add(Dense(4, activation='sigmoid'))\n",
        "\n",
        "  model.compile(optimizer='adam', loss='sparse_categorical_crossentropy', metrics=['accuracy'])\n",
        "  \n",
        "  return model"
      ]
    },
    {
      "cell_type": "code",
      "execution_count": null,
      "metadata": {
        "colab": {
          "base_uri": "https://localhost:8080/"
        },
        "id": "YDnLFulroTl1",
        "outputId": "f12931eb-d478-4a1c-fa05-abfb1876524b"
      },
      "outputs": [
        {
          "output_type": "stream",
          "name": "stdout",
          "text": [
            "Model: \"sequential\"\n",
            "_________________________________________________________________\n",
            " Layer (type)                Output Shape              Param #   \n",
            "=================================================================\n",
            " conv2d (Conv2D)             (None, 254, 254, 32)      896       \n",
            "                                                                 \n",
            " max_pooling2d (MaxPooling2D  (None, 127, 127, 32)     0         \n",
            " )                                                               \n",
            "                                                                 \n",
            " conv2d_1 (Conv2D)           (None, 125, 125, 64)      18496     \n",
            "                                                                 \n",
            " max_pooling2d_1 (MaxPooling  (None, 62, 62, 64)       0         \n",
            " 2D)                                                             \n",
            "                                                                 \n",
            " conv2d_2 (Conv2D)           (None, 60, 60, 64)        36928     \n",
            "                                                                 \n",
            " max_pooling2d_2 (MaxPooling  (None, 30, 30, 64)       0         \n",
            " 2D)                                                             \n",
            "                                                                 \n",
            " conv2d_3 (Conv2D)           (None, 28, 28, 128)       73856     \n",
            "                                                                 \n",
            " max_pooling2d_3 (MaxPooling  (None, 14, 14, 128)      0         \n",
            " 2D)                                                             \n",
            "                                                                 \n",
            " flatten (Flatten)           (None, 25088)             0         \n",
            "                                                                 \n",
            " dense (Dense)               (None, 256)               6422784   \n",
            "                                                                 \n",
            " dense_1 (Dense)             (None, 4)                 1028      \n",
            "                                                                 \n",
            "=================================================================\n",
            "Total params: 6,553,988\n",
            "Trainable params: 6,553,988\n",
            "Non-trainable params: 0\n",
            "_________________________________________________________________\n"
          ]
        }
      ],
      "source": [
        "# Summary of the model\n",
        "model=Build_Model()\n",
        "model.summary()"
      ]
    },
    {
      "cell_type": "markdown",
      "metadata": {
        "id": "21T4ffIQEuPG"
      },
      "source": [
        "### Peforming the 10 Fold Cross Validation"
      ]
    },
    {
      "cell_type": "code",
      "execution_count": null,
      "metadata": {
        "colab": {
          "base_uri": "https://localhost:8080/"
        },
        "id": "otK1Dp9aebg5",
        "outputId": "f593c880-9f62-4eeb-fca2-9ac1e007f2da"
      },
      "outputs": [
        {
          "output_type": "stream",
          "name": "stdout",
          "text": [
            "Fold 1\n",
            "--------------------------------------------------------------------------------------------\n",
            "Epoch 1/20\n",
            "90/90 [==============================] - 306s 3s/step - loss: 0.6467 - accuracy: 0.7083\n",
            "Epoch 2/20\n",
            "90/90 [==============================] - 6s 56ms/step - loss: 0.4129 - accuracy: 0.8188\n",
            "Epoch 3/20\n",
            "90/90 [==============================] - 7s 72ms/step - loss: 0.3236 - accuracy: 0.8535\n",
            "Epoch 4/20\n",
            "90/90 [==============================] - 6s 55ms/step - loss: 0.3781 - accuracy: 0.8493\n",
            "Epoch 5/20\n",
            "90/90 [==============================] - 7s 69ms/step - loss: 0.3097 - accuracy: 0.8785\n",
            "Epoch 6/20\n",
            "90/90 [==============================] - 6s 54ms/step - loss: 0.3740 - accuracy: 0.8493\n",
            "Epoch 7/20\n",
            "90/90 [==============================] - 7s 72ms/step - loss: 0.3994 - accuracy: 0.8153\n",
            "Epoch 8/20\n",
            "90/90 [==============================] - 6s 58ms/step - loss: 0.3233 - accuracy: 0.8764\n",
            "Epoch 9/20\n",
            "90/90 [==============================] - 7s 63ms/step - loss: 0.3166 - accuracy: 0.8771\n",
            "Epoch 10/20\n",
            "90/90 [==============================] - 6s 54ms/step - loss: 0.2551 - accuracy: 0.8979\n",
            "Epoch 11/20\n",
            "90/90 [==============================] - 7s 71ms/step - loss: 0.2110 - accuracy: 0.9299\n",
            "Epoch 12/20\n",
            "90/90 [==============================] - 7s 65ms/step - loss: 0.3310 - accuracy: 0.9049\n",
            "Epoch 13/20\n",
            "90/90 [==============================] - 6s 55ms/step - loss: 0.2024 - accuracy: 0.9375\n",
            "Epoch 14/20\n",
            "90/90 [==============================] - 6s 56ms/step - loss: 0.1335 - accuracy: 0.9535\n",
            "Epoch 15/20\n",
            "90/90 [==============================] - 7s 68ms/step - loss: 0.1173 - accuracy: 0.9632\n",
            "Epoch 16/20\n",
            "90/90 [==============================] - 6s 54ms/step - loss: 0.0746 - accuracy: 0.9750\n",
            "Epoch 17/20\n",
            "90/90 [==============================] - 6s 60ms/step - loss: 0.2377 - accuracy: 0.9583\n",
            "Epoch 18/20\n",
            "90/90 [==============================] - 6s 55ms/step - loss: 0.1725 - accuracy: 0.9431\n",
            "Epoch 19/20\n",
            "90/90 [==============================] - 6s 54ms/step - loss: 0.0749 - accuracy: 0.9792\n",
            "Epoch 20/20\n",
            "90/90 [==============================] - 6s 57ms/step - loss: 0.0553 - accuracy: 0.9833\n",
            "\n",
            "\n",
            "Evaluating the model\n",
            "\n",
            "\n",
            "10/10 [==============================] - 1s 46ms/step - loss: 0.0521 - accuracy: 0.9812\n",
            "--------------------------------------------------------------------------------------------\n",
            "Fold 2\n",
            "--------------------------------------------------------------------------------------------\n",
            "Epoch 1/20\n",
            "90/90 [==============================] - 10s 69ms/step - loss: 0.6159 - accuracy: 0.7319\n",
            "Epoch 2/20\n",
            "90/90 [==============================] - 8s 84ms/step - loss: 0.4662 - accuracy: 0.8104\n",
            "Epoch 3/20\n",
            "90/90 [==============================] - 6s 67ms/step - loss: 0.4460 - accuracy: 0.8062\n",
            "Epoch 4/20\n",
            "90/90 [==============================] - 7s 69ms/step - loss: 0.3565 - accuracy: 0.8396\n",
            "Epoch 5/20\n",
            "90/90 [==============================] - 7s 79ms/step - loss: 0.3243 - accuracy: 0.8604\n",
            "Epoch 6/20\n",
            "90/90 [==============================] - 7s 67ms/step - loss: 0.3427 - accuracy: 0.8514\n",
            "Epoch 7/20\n",
            "90/90 [==============================] - 8s 82ms/step - loss: 0.3233 - accuracy: 0.8681\n",
            "Epoch 8/20\n",
            "90/90 [==============================] - 6s 68ms/step - loss: 0.3006 - accuracy: 0.8653\n",
            "Epoch 9/20\n",
            "90/90 [==============================] - 6s 66ms/step - loss: 0.3380 - accuracy: 0.8639\n",
            "Epoch 10/20\n",
            "90/90 [==============================] - 8s 83ms/step - loss: 0.2654 - accuracy: 0.8847\n",
            "Epoch 11/20\n",
            "90/90 [==============================] - 6s 69ms/step - loss: 0.2582 - accuracy: 0.9007\n",
            "Epoch 12/20\n",
            "90/90 [==============================] - 7s 73ms/step - loss: 0.2815 - accuracy: 0.9000\n",
            "Epoch 13/20\n",
            "90/90 [==============================] - 7s 77ms/step - loss: 0.2763 - accuracy: 0.9104\n",
            "Epoch 14/20\n",
            "90/90 [==============================] - 6s 67ms/step - loss: 0.1855 - accuracy: 0.9368\n",
            "Epoch 15/20\n",
            "90/90 [==============================] - 6s 67ms/step - loss: 0.2553 - accuracy: 0.9153\n",
            "Epoch 16/20\n",
            "90/90 [==============================] - 8s 82ms/step - loss: 0.2095 - accuracy: 0.9160\n",
            "Epoch 17/20\n",
            "90/90 [==============================] - 6s 67ms/step - loss: 0.2612 - accuracy: 0.9111\n",
            "Epoch 18/20\n",
            "90/90 [==============================] - 8s 85ms/step - loss: 0.2936 - accuracy: 0.9326\n",
            "Epoch 19/20\n",
            "90/90 [==============================] - 6s 66ms/step - loss: 0.1985 - accuracy: 0.9458\n",
            "Epoch 20/20\n",
            "90/90 [==============================] - 7s 74ms/step - loss: 0.1299 - accuracy: 0.9556\n",
            "\n",
            "\n",
            "Evaluating the model\n",
            "\n",
            "\n",
            "10/10 [==============================] - 1s 47ms/step - loss: 0.0815 - accuracy: 0.9688\n",
            "--------------------------------------------------------------------------------------------\n",
            "Fold 3\n",
            "--------------------------------------------------------------------------------------------\n",
            "Epoch 1/20\n",
            "90/90 [==============================] - 10s 90ms/step - loss: 0.6502 - accuracy: 0.7292\n",
            "Epoch 2/20\n",
            "90/90 [==============================] - 7s 73ms/step - loss: 0.4036 - accuracy: 0.8229\n",
            "Epoch 3/20\n",
            "90/90 [==============================] - 7s 77ms/step - loss: 0.3937 - accuracy: 0.8292\n",
            "Epoch 4/20\n",
            "90/90 [==============================] - 7s 76ms/step - loss: 0.3404 - accuracy: 0.8653\n",
            "Epoch 5/20\n",
            "90/90 [==============================] - 8s 90ms/step - loss: 0.3265 - accuracy: 0.8576\n",
            "Epoch 6/20\n",
            "90/90 [==============================] - 7s 73ms/step - loss: 0.3608 - accuracy: 0.8625\n",
            "Epoch 7/20\n",
            "90/90 [==============================] - 8s 79ms/step - loss: 0.2801 - accuracy: 0.8875\n",
            "Epoch 8/20\n",
            "90/90 [==============================] - 8s 88ms/step - loss: 0.3264 - accuracy: 0.8743\n",
            "Epoch 9/20\n",
            "90/90 [==============================] - 7s 80ms/step - loss: 0.2034 - accuracy: 0.9257\n",
            "Epoch 10/20\n",
            "90/90 [==============================] - 8s 78ms/step - loss: 0.3044 - accuracy: 0.9208\n",
            "Epoch 11/20\n",
            "90/90 [==============================] - 8s 86ms/step - loss: 0.2157 - accuracy: 0.9375\n",
            "Epoch 12/20\n",
            "90/90 [==============================] - 7s 71ms/step - loss: 0.1397 - accuracy: 0.9556\n",
            "Epoch 13/20\n",
            "90/90 [==============================] - 7s 71ms/step - loss: 0.0733 - accuracy: 0.9778\n",
            "Epoch 14/20\n",
            "90/90 [==============================] - 8s 88ms/step - loss: 0.0745 - accuracy: 0.9764\n",
            "Epoch 15/20\n",
            "90/90 [==============================] - 7s 72ms/step - loss: 0.1509 - accuracy: 0.9493\n",
            "Epoch 16/20\n",
            "90/90 [==============================] - 7s 71ms/step - loss: 0.0526 - accuracy: 0.9799\n",
            "Epoch 17/20\n",
            "90/90 [==============================] - 7s 76ms/step - loss: 0.0291 - accuracy: 0.9917\n",
            "Epoch 18/20\n",
            "90/90 [==============================] - 8s 89ms/step - loss: 0.0198 - accuracy: 0.9937\n",
            "Epoch 19/20\n",
            "90/90 [==============================] - 7s 71ms/step - loss: 0.0098 - accuracy: 0.9965\n",
            "Epoch 20/20\n",
            "90/90 [==============================] - 8s 88ms/step - loss: 0.0481 - accuracy: 0.9854\n",
            "\n",
            "\n",
            "Evaluating the model\n",
            "\n",
            "\n",
            "10/10 [==============================] - 2s 47ms/step - loss: 0.0942 - accuracy: 0.9750\n",
            "--------------------------------------------------------------------------------------------\n",
            "Fold 4\n",
            "--------------------------------------------------------------------------------------------\n",
            "Epoch 1/20\n",
            "90/90 [==============================] - 11s 92ms/step - loss: 0.6673 - accuracy: 0.7194\n",
            "Epoch 2/20\n",
            "90/90 [==============================] - 7s 75ms/step - loss: 0.4059 - accuracy: 0.8361\n",
            "Epoch 3/20\n",
            "90/90 [==============================] - 8s 87ms/step - loss: 0.3720 - accuracy: 0.8493\n",
            "Epoch 4/20\n",
            "90/90 [==============================] - 8s 89ms/step - loss: 0.3840 - accuracy: 0.8500\n",
            "Epoch 5/20\n",
            "90/90 [==============================] - 7s 76ms/step - loss: 0.4054 - accuracy: 0.8250\n",
            "Epoch 6/20\n",
            "90/90 [==============================] - 9s 92ms/step - loss: 0.3729 - accuracy: 0.8514\n",
            "Epoch 7/20\n",
            "90/90 [==============================] - 8s 87ms/step - loss: 0.3373 - accuracy: 0.8576\n",
            "Epoch 8/20\n",
            "90/90 [==============================] - 7s 76ms/step - loss: 0.4321 - accuracy: 0.8326\n",
            "Epoch 9/20\n",
            "90/90 [==============================] - 9s 93ms/step - loss: 0.3378 - accuracy: 0.8687\n",
            "Epoch 10/20\n",
            "90/90 [==============================] - 7s 78ms/step - loss: 0.2913 - accuracy: 0.8875\n",
            "Epoch 11/20\n",
            "90/90 [==============================] - 7s 77ms/step - loss: 0.3264 - accuracy: 0.8785\n",
            "Epoch 12/20\n",
            "90/90 [==============================] - 8s 79ms/step - loss: 0.2610 - accuracy: 0.9007\n",
            "Epoch 13/20\n",
            "90/90 [==============================] - 9s 93ms/step - loss: 0.2505 - accuracy: 0.9049\n",
            "Epoch 14/20\n",
            "90/90 [==============================] - 7s 77ms/step - loss: 0.2729 - accuracy: 0.9076\n",
            "Epoch 15/20\n",
            "90/90 [==============================] - 8s 91ms/step - loss: 0.1712 - accuracy: 0.9424\n",
            "Epoch 16/20\n",
            "90/90 [==============================] - 8s 89ms/step - loss: 0.2598 - accuracy: 0.9125\n",
            "Epoch 17/20\n",
            "90/90 [==============================] - 7s 76ms/step - loss: 0.1664 - accuracy: 0.9493\n",
            "Epoch 18/20\n",
            "90/90 [==============================] - 9s 93ms/step - loss: 0.1664 - accuracy: 0.9444\n",
            "Epoch 19/20\n",
            "90/90 [==============================] - 8s 86ms/step - loss: 0.1521 - accuracy: 0.9451\n",
            "Epoch 20/20\n",
            "90/90 [==============================] - 7s 74ms/step - loss: 0.1680 - accuracy: 0.9528\n",
            "\n",
            "\n",
            "Evaluating the model\n",
            "\n",
            "\n",
            "10/10 [==============================] - 2s 71ms/step - loss: 0.0291 - accuracy: 0.9937\n",
            "--------------------------------------------------------------------------------------------\n",
            "Fold 5\n",
            "--------------------------------------------------------------------------------------------\n",
            "Epoch 1/20\n",
            "90/90 [==============================] - 10s 82ms/step - loss: 0.6071 - accuracy: 0.7514\n",
            "Epoch 2/20\n",
            "90/90 [==============================] - 9s 97ms/step - loss: 0.4593 - accuracy: 0.7799\n",
            "Epoch 3/20\n",
            "90/90 [==============================] - 8s 88ms/step - loss: 0.4366 - accuracy: 0.8104\n",
            "Epoch 4/20\n",
            "90/90 [==============================] - 8s 87ms/step - loss: 0.3969 - accuracy: 0.8257\n",
            "Epoch 5/20\n",
            "90/90 [==============================] - 9s 97ms/step - loss: 0.3790 - accuracy: 0.8326\n",
            "Epoch 6/20\n",
            "90/90 [==============================] - 8s 84ms/step - loss: 0.3257 - accuracy: 0.8597\n",
            "Epoch 7/20\n",
            "90/90 [==============================] - 9s 92ms/step - loss: 0.3063 - accuracy: 0.8674\n",
            "Epoch 8/20\n",
            "90/90 [==============================] - 9s 96ms/step - loss: 0.3383 - accuracy: 0.8674\n",
            "Epoch 9/20\n",
            "90/90 [==============================] - 7s 80ms/step - loss: 0.3589 - accuracy: 0.8542\n",
            "Epoch 10/20\n",
            "90/90 [==============================] - 9s 95ms/step - loss: 0.2511 - accuracy: 0.9062\n",
            "Epoch 11/20\n",
            "90/90 [==============================] - 9s 95ms/step - loss: 0.2169 - accuracy: 0.9035\n",
            "Epoch 12/20\n",
            "90/90 [==============================] - 7s 79ms/step - loss: 0.3572 - accuracy: 0.8861\n",
            "Epoch 13/20\n",
            "90/90 [==============================] - 9s 96ms/step - loss: 0.3122 - accuracy: 0.8854\n",
            "Epoch 14/20\n",
            "90/90 [==============================] - 8s 89ms/step - loss: 0.1945 - accuracy: 0.9271\n",
            "Epoch 15/20\n",
            "90/90 [==============================] - 8s 81ms/step - loss: 0.2226 - accuracy: 0.9194\n",
            "Epoch 16/20\n",
            "90/90 [==============================] - 9s 97ms/step - loss: 0.1695 - accuracy: 0.9347\n",
            "Epoch 17/20\n",
            "90/90 [==============================] - 8s 89ms/step - loss: 0.1306 - accuracy: 0.9542\n",
            "Epoch 18/20\n",
            "90/90 [==============================] - 8s 80ms/step - loss: 0.1084 - accuracy: 0.9611\n",
            "Epoch 19/20\n",
            "90/90 [==============================] - 8s 85ms/step - loss: 0.0977 - accuracy: 0.9694\n",
            "Epoch 20/20\n",
            "90/90 [==============================] - 9s 96ms/step - loss: 0.0854 - accuracy: 0.9729\n",
            "\n",
            "\n",
            "Evaluating the model\n",
            "\n",
            "\n",
            "10/10 [==============================] - 2s 50ms/step - loss: 0.2301 - accuracy: 0.9250\n",
            "--------------------------------------------------------------------------------------------\n",
            "Fold 6\n",
            "--------------------------------------------------------------------------------------------\n",
            "Epoch 1/20\n",
            "90/90 [==============================] - 12s 102ms/step - loss: 0.6804 - accuracy: 0.7146\n",
            "Epoch 2/20\n",
            "90/90 [==============================] - 8s 85ms/step - loss: 0.4234 - accuracy: 0.8201\n",
            "Epoch 3/20\n",
            "90/90 [==============================] - 10s 104ms/step - loss: 0.4495 - accuracy: 0.8097\n",
            "Epoch 4/20\n",
            "90/90 [==============================] - 9s 102ms/step - loss: 0.3818 - accuracy: 0.8410\n",
            "Epoch 5/20\n",
            "90/90 [==============================] - 8s 85ms/step - loss: 0.3188 - accuracy: 0.8701\n",
            "Epoch 6/20\n",
            "90/90 [==============================] - 9s 97ms/step - loss: 0.3371 - accuracy: 0.8590\n",
            "Epoch 7/20\n",
            "90/90 [==============================] - 9s 102ms/step - loss: 0.3322 - accuracy: 0.8590\n",
            "Epoch 8/20\n",
            "90/90 [==============================] - 8s 85ms/step - loss: 0.3254 - accuracy: 0.8687\n",
            "Epoch 9/20\n",
            "90/90 [==============================] - 8s 85ms/step - loss: 0.3444 - accuracy: 0.8556\n",
            "Epoch 10/20\n",
            "90/90 [==============================] - 9s 101ms/step - loss: 0.2877 - accuracy: 0.8813\n",
            "Epoch 11/20\n",
            "90/90 [==============================] - 9s 96ms/step - loss: 0.3229 - accuracy: 0.8819\n",
            "Epoch 12/20\n",
            "90/90 [==============================] - 9s 88ms/step - loss: 0.3599 - accuracy: 0.8514\n",
            "Epoch 13/20\n",
            "90/90 [==============================] - 9s 101ms/step - loss: 0.2887 - accuracy: 0.8799\n",
            "Epoch 14/20\n",
            "90/90 [==============================] - 9s 96ms/step - loss: 0.2158 - accuracy: 0.9076\n",
            "Epoch 15/20\n",
            "90/90 [==============================] - 8s 88ms/step - loss: 0.2262 - accuracy: 0.9174\n",
            "Epoch 16/20\n",
            "90/90 [==============================] - 9s 101ms/step - loss: 0.1941 - accuracy: 0.9361\n",
            "Epoch 17/20\n",
            "90/90 [==============================] - 10s 102ms/step - loss: 0.1614 - accuracy: 0.9438\n",
            "Epoch 18/20\n",
            "90/90 [==============================] - 8s 86ms/step - loss: 0.2227 - accuracy: 0.9285\n",
            "Epoch 19/20\n",
            "90/90 [==============================] - 10s 105ms/step - loss: 0.1314 - accuracy: 0.9556\n",
            "Epoch 20/20\n",
            "90/90 [==============================] - 10s 103ms/step - loss: 0.0831 - accuracy: 0.9715\n",
            "\n",
            "\n",
            "Evaluating the model\n",
            "\n",
            "\n",
            "10/10 [==============================] - 3s 48ms/step - loss: 0.0545 - accuracy: 0.9750\n",
            "--------------------------------------------------------------------------------------------\n",
            "Fold 7\n",
            "--------------------------------------------------------------------------------------------\n",
            "Epoch 1/20\n",
            "90/90 [==============================] - 12s 109ms/step - loss: 0.6811 - accuracy: 0.6938\n",
            "Epoch 2/20\n",
            "90/90 [==============================] - 9s 95ms/step - loss: 0.4170 - accuracy: 0.8201\n",
            "Epoch 3/20\n",
            "90/90 [==============================] - 9s 98ms/step - loss: 0.3900 - accuracy: 0.8465\n",
            "Epoch 4/20\n",
            "90/90 [==============================] - 10s 105ms/step - loss: 0.3391 - accuracy: 0.8618\n",
            "Epoch 5/20\n",
            "90/90 [==============================] - 10s 102ms/step - loss: 0.3527 - accuracy: 0.8486\n",
            "Epoch 6/20\n",
            "90/90 [==============================] - 8s 90ms/step - loss: 0.3555 - accuracy: 0.8507\n",
            "Epoch 7/20\n",
            "90/90 [==============================] - 10s 107ms/step - loss: 0.3553 - accuracy: 0.8542\n",
            "Epoch 8/20\n",
            "90/90 [==============================] - 10s 108ms/step - loss: 0.3238 - accuracy: 0.8743\n",
            "Epoch 9/20\n",
            "90/90 [==============================] - 8s 90ms/step - loss: 0.3170 - accuracy: 0.8813\n",
            "Epoch 10/20\n",
            "90/90 [==============================] - 10s 105ms/step - loss: 0.2285 - accuracy: 0.9146\n",
            "Epoch 11/20\n",
            "90/90 [==============================] - 10s 106ms/step - loss: 0.3835 - accuracy: 0.8479\n",
            "Epoch 12/20\n",
            "90/90 [==============================] - 9s 95ms/step - loss: 0.2435 - accuracy: 0.9104\n",
            "Epoch 13/20\n",
            "90/90 [==============================] - 9s 90ms/step - loss: 0.1449 - accuracy: 0.9493\n",
            "Epoch 14/20\n",
            "90/90 [==============================] - 10s 105ms/step - loss: 0.2259 - accuracy: 0.9333\n",
            "Epoch 15/20\n",
            "90/90 [==============================] - 10s 107ms/step - loss: 0.2456 - accuracy: 0.9438\n",
            "Epoch 16/20\n",
            "90/90 [==============================] - 9s 96ms/step - loss: 0.1694 - accuracy: 0.9396\n",
            "Epoch 17/20\n",
            "90/90 [==============================] - 8s 90ms/step - loss: 0.1214 - accuracy: 0.9611\n",
            "Epoch 18/20\n",
            "90/90 [==============================] - 10s 104ms/step - loss: 0.1199 - accuracy: 0.9549\n",
            "Epoch 19/20\n",
            "90/90 [==============================] - 10s 106ms/step - loss: 0.0692 - accuracy: 0.9750\n",
            "Epoch 20/20\n",
            "90/90 [==============================] - 9s 97ms/step - loss: 0.0698 - accuracy: 0.9771\n",
            "\n",
            "\n",
            "Evaluating the model\n",
            "\n",
            "\n",
            "10/10 [==============================] - 4s 46ms/step - loss: 0.0519 - accuracy: 0.9688\n",
            "--------------------------------------------------------------------------------------------\n",
            "Fold 8\n",
            "--------------------------------------------------------------------------------------------\n",
            "Epoch 1/20\n",
            "90/90 [==============================] - 12s 113ms/step - loss: 0.6983 - accuracy: 0.6882\n",
            "Epoch 2/20\n",
            "90/90 [==============================] - 9s 102ms/step - loss: 0.4008 - accuracy: 0.8167\n",
            "Epoch 3/20\n",
            "90/90 [==============================] - 9s 96ms/step - loss: 0.4330 - accuracy: 0.8153\n",
            "Epoch 4/20\n",
            "90/90 [==============================] - 10s 111ms/step - loss: 0.4144 - accuracy: 0.8188\n",
            "Epoch 5/20\n",
            "90/90 [==============================] - 10s 111ms/step - loss: 0.3508 - accuracy: 0.8403\n",
            "Epoch 6/20\n",
            "90/90 [==============================] - 10s 102ms/step - loss: 0.3305 - accuracy: 0.8528\n",
            "Epoch 7/20\n",
            "90/90 [==============================] - 10s 111ms/step - loss: 0.3606 - accuracy: 0.8590\n",
            "Epoch 8/20\n",
            "90/90 [==============================] - 10s 111ms/step - loss: 0.3801 - accuracy: 0.8479\n",
            "Epoch 9/20\n",
            "90/90 [==============================] - 9s 95ms/step - loss: 0.2870 - accuracy: 0.8660\n",
            "Epoch 10/20\n",
            "90/90 [==============================] - 10s 101ms/step - loss: 0.3652 - accuracy: 0.8562\n",
            "Epoch 11/20\n",
            "90/90 [==============================] - 10s 110ms/step - loss: 0.3492 - accuracy: 0.8604\n",
            "Epoch 12/20\n",
            "90/90 [==============================] - 10s 111ms/step - loss: 0.2454 - accuracy: 0.8958\n",
            "Epoch 13/20\n",
            "90/90 [==============================] - 10s 102ms/step - loss: 0.2550 - accuracy: 0.9097\n",
            "Epoch 14/20\n",
            "90/90 [==============================] - 10s 112ms/step - loss: 0.2617 - accuracy: 0.9160\n",
            "Epoch 15/20\n",
            "90/90 [==============================] - 9s 101ms/step - loss: 0.1388 - accuracy: 0.9549\n",
            "Epoch 16/20\n",
            "90/90 [==============================] - 10s 104ms/step - loss: 0.2015 - accuracy: 0.9312\n",
            "Epoch 17/20\n",
            "90/90 [==============================] - 10s 112ms/step - loss: 0.1719 - accuracy: 0.9500\n",
            "Epoch 18/20\n",
            "90/90 [==============================] - 10s 110ms/step - loss: 0.0797 - accuracy: 0.9736\n",
            "Epoch 19/20\n",
            "90/90 [==============================] - 9s 97ms/step - loss: 0.0790 - accuracy: 0.9785\n",
            "Epoch 20/20\n",
            "90/90 [==============================] - 10s 110ms/step - loss: 0.0473 - accuracy: 0.9847\n",
            "\n",
            "\n",
            "Evaluating the model\n",
            "\n",
            "\n",
            "10/10 [==============================] - 4s 53ms/step - loss: 0.0279 - accuracy: 0.9937\n",
            "--------------------------------------------------------------------------------------------\n",
            "Fold 9\n",
            "--------------------------------------------------------------------------------------------\n",
            "Epoch 1/20\n",
            "90/90 [==============================] - 12s 108ms/step - loss: 0.6768 - accuracy: 0.6826\n",
            "Epoch 2/20\n",
            "90/90 [==============================] - 10s 106ms/step - loss: 0.4240 - accuracy: 0.8069\n",
            "Epoch 3/20\n",
            "90/90 [==============================] - 11s 115ms/step - loss: 0.3889 - accuracy: 0.8326\n",
            "Epoch 4/20\n",
            "90/90 [==============================] - 10s 111ms/step - loss: 0.3312 - accuracy: 0.8590\n",
            "Epoch 5/20\n",
            "90/90 [==============================] - 11s 116ms/step - loss: 0.3491 - accuracy: 0.8535\n",
            "Epoch 6/20\n",
            "90/90 [==============================] - 11s 116ms/step - loss: 0.3120 - accuracy: 0.8715\n",
            "Epoch 7/20\n",
            "90/90 [==============================] - 11s 115ms/step - loss: 0.3298 - accuracy: 0.8639\n",
            "Epoch 8/20\n",
            "90/90 [==============================] - 11s 112ms/step - loss: 0.3447 - accuracy: 0.8653\n",
            "Epoch 9/20\n",
            "90/90 [==============================] - 11s 116ms/step - loss: 0.2897 - accuracy: 0.8819\n",
            "Epoch 10/20\n",
            "90/90 [==============================] - 11s 115ms/step - loss: 0.2490 - accuracy: 0.9139\n",
            "Epoch 11/20\n",
            "90/90 [==============================] - 9s 100ms/step - loss: 0.2176 - accuracy: 0.9215\n",
            "Epoch 12/20\n",
            "90/90 [==============================] - 10s 110ms/step - loss: 0.1795 - accuracy: 0.9438\n",
            "Epoch 13/20\n",
            "90/90 [==============================] - 11s 115ms/step - loss: 0.2016 - accuracy: 0.9312\n",
            "Epoch 14/20\n",
            "90/90 [==============================] - 9s 99ms/step - loss: 0.1347 - accuracy: 0.9563\n",
            "Epoch 15/20\n",
            "90/90 [==============================] - 11s 115ms/step - loss: 0.1728 - accuracy: 0.9479\n",
            "Epoch 16/20\n",
            "90/90 [==============================] - 10s 113ms/step - loss: 0.1647 - accuracy: 0.9563\n",
            "Epoch 17/20\n",
            "90/90 [==============================] - 10s 113ms/step - loss: 0.1167 - accuracy: 0.9646\n",
            "Epoch 18/20\n",
            "90/90 [==============================] - 9s 98ms/step - loss: 0.0714 - accuracy: 0.9729\n",
            "Epoch 19/20\n",
            "90/90 [==============================] - 11s 116ms/step - loss: 0.0613 - accuracy: 0.9778\n",
            "Epoch 20/20\n",
            "90/90 [==============================] - 11s 116ms/step - loss: 0.0655 - accuracy: 0.9792\n",
            "\n",
            "\n",
            "Evaluating the model\n",
            "\n",
            "\n",
            "10/10 [==============================] - 4s 48ms/step - loss: 0.0222 - accuracy: 0.9937\n",
            "--------------------------------------------------------------------------------------------\n",
            "Fold 10\n",
            "--------------------------------------------------------------------------------------------\n",
            "Epoch 1/20\n",
            "90/90 [==============================] - 9s 72ms/step - loss: 0.5992 - accuracy: 0.7437\n",
            "Epoch 2/20\n",
            "90/90 [==============================] - 6s 57ms/step - loss: 0.3850 - accuracy: 0.8319\n",
            "Epoch 3/20\n",
            "90/90 [==============================] - 5s 56ms/step - loss: 0.4211 - accuracy: 0.8368\n",
            "Epoch 4/20\n",
            "90/90 [==============================] - 6s 61ms/step - loss: 0.3626 - accuracy: 0.8417\n",
            "Epoch 5/20\n",
            "90/90 [==============================] - 5s 57ms/step - loss: 0.3362 - accuracy: 0.8451\n",
            "Epoch 6/20\n",
            "90/90 [==============================] - 6s 58ms/step - loss: 0.3380 - accuracy: 0.8562\n",
            "Epoch 7/20\n",
            "90/90 [==============================] - 5s 56ms/step - loss: 0.3156 - accuracy: 0.8618\n",
            "Epoch 8/20\n",
            "90/90 [==============================] - 6s 64ms/step - loss: 0.2782 - accuracy: 0.8840\n",
            "Epoch 9/20\n",
            "90/90 [==============================] - 6s 57ms/step - loss: 0.2931 - accuracy: 0.8806\n",
            "Epoch 10/20\n",
            "90/90 [==============================] - 5s 57ms/step - loss: 0.2565 - accuracy: 0.8931\n",
            "Epoch 11/20\n",
            "90/90 [==============================] - 6s 58ms/step - loss: 0.2570 - accuracy: 0.9222\n",
            "Epoch 12/20\n",
            "90/90 [==============================] - 6s 63ms/step - loss: 0.1470 - accuracy: 0.9479\n",
            "Epoch 13/20\n",
            "90/90 [==============================] - 5s 57ms/step - loss: 0.1812 - accuracy: 0.9382\n",
            "Epoch 14/20\n",
            "90/90 [==============================] - 7s 73ms/step - loss: 0.0808 - accuracy: 0.9729\n",
            "Epoch 15/20\n",
            "90/90 [==============================] - 5s 57ms/step - loss: 0.1357 - accuracy: 0.9604\n",
            "Epoch 16/20\n",
            "90/90 [==============================] - 7s 72ms/step - loss: 0.1373 - accuracy: 0.9549\n",
            "Epoch 17/20\n",
            "90/90 [==============================] - 6s 57ms/step - loss: 0.0796 - accuracy: 0.9729\n",
            "Epoch 18/20\n",
            "90/90 [==============================] - 7s 72ms/step - loss: 0.0835 - accuracy: 0.9715\n",
            "Epoch 19/20\n",
            "90/90 [==============================] - 5s 56ms/step - loss: 0.0936 - accuracy: 0.9715\n",
            "Epoch 20/20\n",
            "90/90 [==============================] - 5s 56ms/step - loss: 0.0894 - accuracy: 0.9729\n",
            "\n",
            "\n",
            "Evaluating the model\n",
            "\n",
            "\n",
            "10/10 [==============================] - 5s 82ms/step - loss: 0.7703 - accuracy: 0.9125\n",
            "--------------------------------------------------------------------------------------------\n"
          ]
        }
      ],
      "source": [
        "i=0\n",
        "j=10\n",
        "k=90\n",
        "\n",
        "for fold_var in range(0,FOLDS,1):\n",
        "  print(f'Fold {fold_var+1}')\n",
        "  print('--------------------------------------------------------------------------------------------')\n",
        "  training_set1=normalized_train_val_set.take(i)\n",
        "  training_set2=normalized_train_val_set.skip(i+j).take(k)\n",
        "  training_set=training_set1.concatenate(training_set2)\n",
        "  validation_set=normalized_train_val_set.skip(i).take(j)\n",
        "  i=i+10\n",
        "  j=10\n",
        "  k=k-10\n",
        "  \n",
        "  model=Build_Model()\n",
        "  Model_Run = model.fit(\n",
        "    training_set,\n",
        "    epochs=20,\n",
        "    steps_per_epoch=len(training_set),\n",
        "    callbacks=[tensorboard_callback]\n",
        "  )\n",
        "  print('\\n')\n",
        "  print(f'Evaluating the model')\n",
        "  print('\\n')\n",
        "  cur_scores=model.evaluate(validation_set)\n",
        "  cur_scores[0]*=100\n",
        "  cur_scores[1]*=100\n",
        "  cur_scores=[fold_var+1,cur_scores[0],cur_scores[1]]\n",
        "  SCORES_PER_FOLD.append(cur_scores)\n",
        "\n",
        "  model.save(model_dir+'model_'+str(fold_var+1)+'.h5')\n",
        "  print('--------------------------------------------------------------------------------------------')\n",
        "  tf.keras.backend.clear_session()\n"
      ]
    },
    {
      "cell_type": "code",
      "execution_count": null,
      "metadata": {
        "colab": {
          "base_uri": "https://localhost:8080/"
        },
        "id": "IxXiy2USK3hC",
        "outputId": "2039e880-7a2c-4889-f1d9-d608cac1363a"
      },
      "outputs": [
        {
          "output_type": "stream",
          "name": "stdout",
          "text": [
            "+---------------+----------------------+--------------------------+\n",
            "|   Fold Number |   Validation Loss(%) |   Validation Accuracy(%) |\n",
            "+===============+======================+==========================+\n",
            "|             1 |              5.21401 |                   98.125 |\n",
            "+---------------+----------------------+--------------------------+\n",
            "|             2 |              8.14829 |                   96.875 |\n",
            "+---------------+----------------------+--------------------------+\n",
            "|             3 |              9.42384 |                   97.5   |\n",
            "+---------------+----------------------+--------------------------+\n",
            "|             4 |              2.90602 |                   99.375 |\n",
            "+---------------+----------------------+--------------------------+\n",
            "|             5 |             23.011   |                   92.5   |\n",
            "+---------------+----------------------+--------------------------+\n",
            "|             6 |              5.44796 |                   97.5   |\n",
            "+---------------+----------------------+--------------------------+\n",
            "|             7 |              5.19436 |                   96.875 |\n",
            "+---------------+----------------------+--------------------------+\n",
            "|             8 |              2.78653 |                   99.375 |\n",
            "+---------------+----------------------+--------------------------+\n",
            "|             9 |              2.2231  |                   99.375 |\n",
            "+---------------+----------------------+--------------------------+\n",
            "|            10 |             77.0267  |                   91.25  |\n",
            "+---------------+----------------------+--------------------------+\n"
          ]
        }
      ],
      "source": [
        "column_headers=['Fold Number','Validation Loss(%)','Validation Accuracy(%)']\n",
        "print(tabulate(SCORES_PER_FOLD, headers=column_headers, tablefmt=\"grid\"))"
      ]
    },
    {
      "cell_type": "markdown",
      "metadata": {
        "id": "Ou_MBkGIG1sd"
      },
      "source": [
        "### Selecting the model with highest accuracy for training"
      ]
    },
    {
      "cell_type": "code",
      "execution_count": null,
      "metadata": {
        "colab": {
          "base_uri": "https://localhost:8080/"
        },
        "id": "iIj4X_luG1Ce",
        "outputId": "3e435791-cb4b-4e86-a23d-f6a03447830c"
      },
      "outputs": [
        {
          "output_type": "stream",
          "name": "stdout",
          "text": [
            "The maximum validation accuracy is: 99.37499761581421\n",
            "The folds having 99.37499761581421 validation accuracy are:\n",
            "4\n",
            "8\n",
            "9\n",
            "Selecting the model of fold no 9 for fine parameter tuning\n"
          ]
        }
      ],
      "source": [
        "max_acc=SCORES_PER_FOLD[0][2]\n",
        "max_acc_index=[]\n",
        "for i in range(len(SCORES_PER_FOLD)):\n",
        "  if(SCORES_PER_FOLD[i][2]>max_acc):\n",
        "    max_acc=SCORES_PER_FOLD[i][2]\n",
        "print(f'The maximum validation accuracy is: {max_acc}')\n",
        "for i in range(len(SCORES_PER_FOLD)):\n",
        "  if(SCORES_PER_FOLD[i][2]==max_acc):\n",
        "    max_acc_index.append(i)\n",
        "print(f'The folds having {max_acc} validation accuracy are:')\n",
        "for i in range(len(max_acc_index)):\n",
        "  print(max_acc_index[i]+1)\n",
        "\n",
        "result=-1\n",
        "if(len(max_acc_index)>1):\n",
        "    min_loss=SCORES_PER_FOLD[max_acc_index[0]][1]\n",
        "    j=0\n",
        "    result=max_acc_index[0]\n",
        "    while(j<len(max_acc_index)):\n",
        "      index=max_acc_index[j]\n",
        "      if(SCORES_PER_FOLD[index][1]<min_loss):\n",
        "        min_loss=SCORES_PER_FOLD[index][1]\n",
        "        result=index\n",
        "      j+=1\n",
        "else:\n",
        "  result=max_acc_index[0]\n",
        "print(f'Selecting the model of fold no {result+1} for fine parameter tuning')\n",
        "model=load_model(model_dir+'model_'+str(result+1)+'.h5')"
      ]
    },
    {
      "cell_type": "markdown",
      "metadata": {
        "id": "5WyyGpDKsyuK"
      },
      "source": [
        "### Training the model for fine parameter tuning"
      ]
    },
    {
      "cell_type": "code",
      "execution_count": null,
      "metadata": {
        "colab": {
          "base_uri": "https://localhost:8080/"
        },
        "id": "QXQHGC5ys6Up",
        "outputId": "346b6252-19eb-48a9-bb2b-9ff8bf6905ee"
      },
      "outputs": [
        {
          "output_type": "stream",
          "name": "stdout",
          "text": [
            "Epoch 1/30\n",
            "80/80 [==============================] - 12s 125ms/step - loss: 0.0259 - accuracy: 0.9914 - val_loss: 0.0124 - val_accuracy: 0.9969\n",
            "Epoch 2/30\n",
            "80/80 [==============================] - 10s 128ms/step - loss: 0.0362 - accuracy: 0.9906 - val_loss: 0.0279 - val_accuracy: 0.9906\n",
            "Epoch 3/30\n",
            "80/80 [==============================] - 10s 123ms/step - loss: 0.0356 - accuracy: 0.9883 - val_loss: 0.0845 - val_accuracy: 0.9750\n",
            "Epoch 4/30\n",
            "80/80 [==============================] - 9s 110ms/step - loss: 0.0364 - accuracy: 0.9906 - val_loss: 0.0409 - val_accuracy: 0.9875\n",
            "Epoch 5/30\n",
            "80/80 [==============================] - 10s 128ms/step - loss: 0.0192 - accuracy: 0.9937 - val_loss: 0.0095 - val_accuracy: 0.9969\n",
            "Epoch 6/30\n",
            "80/80 [==============================] - 10s 128ms/step - loss: 0.0125 - accuracy: 0.9961 - val_loss: 0.0147 - val_accuracy: 0.9906\n",
            "Epoch 7/30\n",
            "80/80 [==============================] - 9s 109ms/step - loss: 0.0096 - accuracy: 0.9969 - val_loss: 0.0067 - val_accuracy: 0.9969\n",
            "Epoch 8/30\n",
            "80/80 [==============================] - 10s 115ms/step - loss: 0.0140 - accuracy: 0.9937 - val_loss: 0.0222 - val_accuracy: 0.9906\n",
            "Epoch 9/30\n",
            "80/80 [==============================] - 11s 128ms/step - loss: 0.0072 - accuracy: 0.9969 - val_loss: 0.0063 - val_accuracy: 0.9969\n",
            "Epoch 10/30\n",
            "80/80 [==============================] - 10s 122ms/step - loss: 0.0160 - accuracy: 0.9937 - val_loss: 0.0407 - val_accuracy: 0.9844\n",
            "Epoch 11/30\n",
            "80/80 [==============================] - 9s 110ms/step - loss: 0.0677 - accuracy: 0.9844 - val_loss: 0.0468 - val_accuracy: 0.9875\n",
            "Epoch 12/30\n",
            "80/80 [==============================] - 10s 128ms/step - loss: 0.0650 - accuracy: 0.9852 - val_loss: 0.2092 - val_accuracy: 0.9563\n",
            "Epoch 13/30\n",
            "80/80 [==============================] - 11s 128ms/step - loss: 0.0474 - accuracy: 0.9828 - val_loss: 0.0143 - val_accuracy: 0.9906\n",
            "Epoch 14/30\n",
            "80/80 [==============================] - 10s 122ms/step - loss: 0.0180 - accuracy: 0.9961 - val_loss: 0.0192 - val_accuracy: 0.9937\n",
            "Epoch 15/30\n",
            "80/80 [==============================] - 10s 128ms/step - loss: 0.0246 - accuracy: 0.9937 - val_loss: 0.0121 - val_accuracy: 0.9969\n",
            "Epoch 16/30\n",
            "80/80 [==============================] - 15s 186ms/step - loss: 0.0025 - accuracy: 0.9992 - val_loss: 0.0153 - val_accuracy: 0.9937\n",
            "Epoch 17/30\n",
            "80/80 [==============================] - 11s 128ms/step - loss: 8.9334e-04 - accuracy: 1.0000 - val_loss: 0.0112 - val_accuracy: 0.9969\n",
            "Epoch 18/30\n",
            "80/80 [==============================] - 10s 127ms/step - loss: 3.2947e-04 - accuracy: 1.0000 - val_loss: 0.0036 - val_accuracy: 1.0000\n",
            "Epoch 19/30\n",
            "80/80 [==============================] - 10s 116ms/step - loss: 2.2380e-04 - accuracy: 1.0000 - val_loss: 0.0014 - val_accuracy: 1.0000\n",
            "Epoch 20/30\n",
            "80/80 [==============================] - 10s 127ms/step - loss: 2.6642e-04 - accuracy: 1.0000 - val_loss: 0.0127 - val_accuracy: 0.9969\n",
            "Epoch 21/30\n",
            "80/80 [==============================] - 10s 128ms/step - loss: 2.6434e-04 - accuracy: 1.0000 - val_loss: 0.0103 - val_accuracy: 0.9969\n",
            "Epoch 22/30\n",
            "80/80 [==============================] - 9s 114ms/step - loss: 1.3806e-04 - accuracy: 1.0000 - val_loss: 0.0020 - val_accuracy: 1.0000\n",
            "Epoch 23/30\n",
            "80/80 [==============================] - 10s 114ms/step - loss: 9.4531e-05 - accuracy: 1.0000 - val_loss: 0.0015 - val_accuracy: 1.0000\n",
            "Epoch 24/30\n",
            "80/80 [==============================] - 11s 128ms/step - loss: 9.7509e-05 - accuracy: 1.0000 - val_loss: 0.0128 - val_accuracy: 0.9969\n",
            "Epoch 25/30\n",
            "80/80 [==============================] - 10s 122ms/step - loss: 8.8873e-05 - accuracy: 1.0000 - val_loss: 0.0115 - val_accuracy: 0.9969\n",
            "Epoch 26/30\n",
            "80/80 [==============================] - 9s 112ms/step - loss: 7.2512e-05 - accuracy: 1.0000 - val_loss: 0.0137 - val_accuracy: 0.9969\n",
            "Epoch 27/30\n",
            "80/80 [==============================] - 11s 131ms/step - loss: 6.7921e-05 - accuracy: 1.0000 - val_loss: 0.0111 - val_accuracy: 0.9969\n",
            "Epoch 28/30\n",
            "80/80 [==============================] - 11s 129ms/step - loss: 5.4010e-05 - accuracy: 1.0000 - val_loss: 0.0124 - val_accuracy: 0.9969\n",
            "Epoch 29/30\n",
            "80/80 [==============================] - 10s 116ms/step - loss: 1.0412e-04 - accuracy: 1.0000 - val_loss: 0.0124 - val_accuracy: 0.9969\n",
            "Epoch 30/30\n",
            "80/80 [==============================] - 9s 111ms/step - loss: 8.7006e-05 - accuracy: 1.0000 - val_loss: 0.0121 - val_accuracy: 0.9969\n"
          ]
        }
      ],
      "source": [
        "training_set=normalized_train_val_set.take(80)\n",
        "validation_set=normalized_train_val_set.skip(80).take(20)\n",
        "\n",
        "Cur_Model_Run = model.fit(\n",
        "    training_set,\n",
        "    validation_data=validation_set,\n",
        "    epochs=30,\n",
        "    steps_per_epoch=len(training_set),\n",
        "    validation_steps=len(validation_set),\n",
        "    callbacks=[tensorboard_callback]\n",
        "  )"
      ]
    },
    {
      "cell_type": "markdown",
      "metadata": {
        "id": "dAfpCTCWExrN"
      },
      "source": [
        "### Plotting the performance of the model after fine parameter tuning"
      ]
    },
    {
      "cell_type": "code",
      "execution_count": null,
      "metadata": {
        "colab": {
          "base_uri": "https://localhost:8080/",
          "height": 619
        },
        "id": "Ip0NtKLos4sU",
        "outputId": "c5f341ac-0000-4e2f-9881-aaf0659ca228"
      },
      "outputs": [
        {
          "output_type": "display_data",
          "data": {
            "text/plain": [
              "<Figure size 1000x600 with 1 Axes>"
            ],
            "image/png": "[encoded data removed]"
          },
          "metadata": {}
        },
        {
          "output_type": "stream",
          "name": "stderr",
          "text": [
            "WARNING:matplotlib.backends.backend_ps:The PostScript backend does not support transparency; partially transparent artists will be rendered opaque.\n"
          ]
        }
      ],
      "source": [
        "# Plotting the loss\n",
        "\n",
        "\n",
        "fig=plt.figure(figsize=(10,6));\n",
        "plt.plot(Cur_Model_Run.history['loss'], color='blue', label='Training Loss')\n",
        "plt.plot(Cur_Model_Run.history['val_loss'], color='red', label='Validation Loss')\n",
        "plt.xlabel(\"Epochs\")\n",
        "plt.ylabel(\"Loss\")\n",
        "fig.suptitle('Loss',fontsize=15)\n",
        "plt.legend()\n",
        "plt.show()\n",
        "fig.savefig('/content/drive/MyDrive/Project_2/CNN_Model_Related/Loss.eps', format='eps', dpi=600)"
      ]
    },
    {
      "cell_type": "code",
      "execution_count": null,
      "metadata": {
        "colab": {
          "base_uri": "https://localhost:8080/",
          "height": 619
        },
        "id": "Qif0CC2Wx-zq",
        "outputId": "048b5e50-53c8-4444-814c-46c9fa8a820d"
      },
      "outputs": [
        {
          "output_type": "display_data",
          "data": {
            "text/plain": [
              "<Figure size 1000x600 with 1 Axes>"
            ],
            "image/png": "[encoded data removed]"
          },
          "metadata": {}
        },
        {
          "output_type": "stream",
          "name": "stderr",
          "text": [
            "WARNING:matplotlib.backends.backend_ps:The PostScript backend does not support transparency; partially transparent artists will be rendered opaque.\n"
          ]
        }
      ],
      "source": [
        "# Plotting the accuracy\n",
        "\n",
        "\n",
        "fig=plt.figure(figsize=(10,6));\n",
        "plt.plot(Cur_Model_Run.history['accuracy'], color='blue', label='Training Accuracy')\n",
        "plt.plot(Cur_Model_Run.history['val_accuracy'], color='red', label='Validation Accuracy')\n",
        "plt.xlabel(\"Epochs\")\n",
        "plt.ylabel(\"Accuracy\")\n",
        "fig.suptitle('Accuracy',fontsize=15)\n",
        "plt.legend()\n",
        "plt.show()\n",
        "fig.savefig('/content/drive/MyDrive/Project_2/CNN_Model_Related/Accuracy.eps', format='eps', dpi=600)"
      ]
    },
    {
      "cell_type": "markdown",
      "metadata": {
        "id": "ry0YiEGL4H7v"
      },
      "source": [
        "###Calcualting Precision, Recall, Accuracy and F Score of the Model"
      ]
    },
    {
      "cell_type": "code",
      "execution_count": null,
      "metadata": {
        "id": "7A8M6AA-1KH0"
      },
      "outputs": [],
      "source": [
        "pre = Precision()\n",
        "re = Recall()\n",
        "acc = Accuracy()"
      ]
    },
    {
      "cell_type": "code",
      "execution_count": null,
      "metadata": {
        "id": "JOFrZ_XmgIx0",
        "colab": {
          "base_uri": "https://localhost:8080/"
        },
        "outputId": "e20762ad-3022-4852-d9b5-e812acbc8ead"
      },
      "outputs": [
        {
          "output_type": "stream",
          "name": "stdout",
          "text": [
            "1/1 [==============================] - 0s 58ms/step - loss: 9.3497e-05 - accuracy: 1.0000\n",
            "1/1 [==============================] - 0s 122ms/step\n",
            "1/1 [==============================] - 0s 43ms/step - loss: 1.1682e-05 - accuracy: 1.0000\n",
            "1/1 [==============================] - 0s 30ms/step\n",
            "1/1 [==============================] - 0s 56ms/step - loss: 0.0077 - accuracy: 1.0000\n",
            "1/1 [==============================] - 0s 43ms/step\n",
            "1/1 [==============================] - 0s 39ms/step - loss: 5.2154e-08 - accuracy: 1.0000\n",
            "1/1 [==============================] - 0s 25ms/step\n",
            "1/1 [==============================] - 0s 41ms/step - loss: 1.1376e-05 - accuracy: 1.0000\n",
            "1/1 [==============================] - 0s 31ms/step\n",
            "1/1 [==============================] - 0s 47ms/step - loss: 3.0916e-04 - accuracy: 1.0000\n",
            "1/1 [==============================] - 0s 31ms/step\n",
            "1/1 [==============================] - 0s 53ms/step - loss: 2.3331e-04 - accuracy: 1.0000\n",
            "1/1 [==============================] - 0s 38ms/step\n",
            "1/1 [==============================] - 0s 41ms/step - loss: 6.6979e-06 - accuracy: 1.0000\n",
            "1/1 [==============================] - 0s 33ms/step\n",
            "1/1 [==============================] - 0s 38ms/step - loss: 0.0297 - accuracy: 1.0000\n",
            "1/1 [==============================] - 0s 28ms/step\n",
            "1/1 [==============================] - 0s 40ms/step - loss: 3.4928e-05 - accuracy: 1.0000\n",
            "1/1 [==============================] - 0s 32ms/step\n",
            "1/1 [==============================] - 0s 39ms/step - loss: 3.5557e-05 - accuracy: 1.0000\n",
            "1/1 [==============================] - 0s 26ms/step\n",
            "1/1 [==============================] - 0s 61ms/step - loss: 0.0017 - accuracy: 1.0000\n",
            "1/1 [==============================] - 0s 40ms/step\n",
            "1/1 [==============================] - 0s 40ms/step - loss: 2.1499e-04 - accuracy: 1.0000\n",
            "1/1 [==============================] - 0s 28ms/step\n",
            "1/1 [==============================] - 0s 40ms/step - loss: 4.9546e-05 - accuracy: 1.0000\n",
            "1/1 [==============================] - 0s 31ms/step\n",
            "1/1 [==============================] - 0s 40ms/step - loss: 2.2236e-04 - accuracy: 1.0000\n",
            "1/1 [==============================] - 0s 26ms/step\n",
            "1/1 [==============================] - 0s 39ms/step - loss: 0.0889 - accuracy: 0.9375\n",
            "1/1 [==============================] - 0s 24ms/step\n",
            "1/1 [==============================] - 0s 54ms/step - loss: 0.2020 - accuracy: 0.9375\n",
            "1/1 [==============================] - 0s 44ms/step\n",
            "1/1 [==============================] - 0s 41ms/step - loss: 9.6109e-05 - accuracy: 1.0000\n",
            "1/1 [==============================] - 0s 28ms/step\n",
            "1/1 [==============================] - 0s 39ms/step - loss: 0.0190 - accuracy: 1.0000\n",
            "1/1 [==============================] - 0s 26ms/step\n",
            "1/1 [==============================] - 0s 38ms/step - loss: 9.1624e-04 - accuracy: 1.0000\n",
            "1/1 [==============================] - 0s 27ms/step\n",
            "1/1 [==============================] - 0s 41ms/step - loss: 0.0088 - accuracy: 1.0000\n",
            "1/1 [==============================] - 0s 27ms/step\n",
            "1/1 [==============================] - 0s 51ms/step - loss: 1.4244 - accuracy: 0.8750\n",
            "1/1 [==============================] - 0s 36ms/step\n",
            "1/1 [==============================] - 0s 37ms/step - loss: 0.0333 - accuracy: 1.0000\n",
            "1/1 [==============================] - 0s 25ms/step\n",
            "1/1 [==============================] - 0s 39ms/step - loss: 9.9092e-07 - accuracy: 1.0000\n",
            "1/1 [==============================] - 0s 29ms/step\n",
            "1/1 [==============================] - 0s 39ms/step - loss: 1.4305e-05 - accuracy: 1.0000\n",
            "1/1 [==============================] - 0s 27ms/step\n",
            "1/1 [==============================] - 0s 49ms/step - loss: 0.3875 - accuracy: 0.9375\n",
            "1/1 [==============================] - 0s 39ms/step\n",
            "1/1 [==============================] - 0s 39ms/step - loss: 0.0182 - accuracy: 1.0000\n",
            "1/1 [==============================] - 0s 30ms/step\n",
            "1/1 [==============================] - 0s 40ms/step - loss: 5.0856e-05 - accuracy: 1.0000\n",
            "1/1 [==============================] - 0s 24ms/step\n",
            "1/1 [==============================] - 0s 41ms/step - loss: 4.9546e-06 - accuracy: 1.0000\n",
            "1/1 [==============================] - 0s 29ms/step\n",
            "1/1 [==============================] - 0s 41ms/step - loss: 1.8849e-05 - accuracy: 1.0000\n",
            "1/1 [==============================] - 0s 27ms/step\n",
            "1/1 [==============================] - 0s 46ms/step - loss: 2.6822e-04 - accuracy: 1.0000\n",
            "1/1 [==============================] - 0s 42ms/step\n",
            "1/1 [==============================] - 0s 37ms/step - loss: 0.0034 - accuracy: 1.0000\n",
            "1/1 [==============================] - 0s 34ms/step\n",
            "1/1 [==============================] - 0s 39ms/step - loss: 0.2157 - accuracy: 0.9375\n",
            "1/1 [==============================] - 0s 25ms/step\n",
            "1/1 [==============================] - 0s 46ms/step - loss: 6.9729e-04 - accuracy: 1.0000\n",
            "1/1 [==============================] - 0s 27ms/step\n",
            "1/1 [==============================] - 0s 43ms/step - loss: 0.0151 - accuracy: 1.0000\n",
            "1/1 [==============================] - 0s 26ms/step\n",
            "1/1 [==============================] - 0s 43ms/step - loss: 1.4575e-04 - accuracy: 1.0000\n",
            "1/1 [==============================] - 0s 28ms/step\n",
            "1/1 [==============================] - 0s 39ms/step - loss: 3.8856e-04 - accuracy: 1.0000\n",
            "1/1 [==============================] - 0s 25ms/step\n",
            "1/1 [==============================] - 0s 39ms/step - loss: 0.0133 - accuracy: 1.0000\n",
            "1/1 [==============================] - 0s 25ms/step\n",
            "1/1 [==============================] - 0s 39ms/step - loss: 4.9754e-05 - accuracy: 1.0000\n",
            "1/1 [==============================] - 0s 27ms/step\n",
            "1/1 [==============================] - 0s 45ms/step - loss: 2.3661e-05 - accuracy: 1.0000\n",
            "1/1 [==============================] - 0s 25ms/step\n"
          ]
        }
      ],
      "source": [
        "True_label=[]\n",
        "Predicted_label=[]\n",
        "score=[]\n",
        "for images,labels in (normalized_testing_set):              \n",
        "  score.append(model.evaluate(images,labels))\n",
        "  for it in range(len(labels)):\n",
        "    True_label.append(labels[it])\n",
        "  pred=model.predict(images)\n",
        "  y_max=[]\n",
        "  for it in range(len(pred)):\n",
        "      y_max.append(np.argmax(pred[it]))\n",
        "      Predicted_label.append(np.argmax(pred[it]))\n",
        "  pre.update_state(labels,y_max)\n",
        "  re.update_state(labels,y_max)\n",
        "  acc.update_state(labels,y_max)"
      ]
    },
    {
      "cell_type": "code",
      "execution_count": null,
      "metadata": {
        "id": "sXaKqak7HO2B"
      },
      "outputs": [],
      "source": [
        "f_score=(2*pre.result().numpy()*re.result().numpy())/(pre.result().numpy()+re.result().numpy())"
      ]
    },
    {
      "cell_type": "code",
      "execution_count": null,
      "metadata": {
        "id": "vXUmWz_3AzUr",
        "colab": {
          "base_uri": "https://localhost:8080/"
        },
        "outputId": "d215eb5f-f06d-4e71-f6ed-7b8aca998eca"
      },
      "outputs": [
        {
          "output_type": "stream",
          "name": "stdout",
          "text": [
            "Precision: 1.0, Recall: 0.991752564907074, Accuracy: 0.9906250238418579, F Score: 0.9958591771909463\n"
          ]
        }
      ],
      "source": [
        "print(f'Precision: {pre.result().numpy()}, Recall: {re.result().numpy()}, Accuracy: {acc.result().numpy()}, F Score: {f_score}')"
      ]
    },
    {
      "cell_type": "code",
      "execution_count": null,
      "metadata": {
        "id": "8mnJ-hQR8lPL",
        "colab": {
          "base_uri": "https://localhost:8080/",
          "height": 821
        },
        "outputId": "f9676c7e-23f7-497c-bd3c-1daeeec57903"
      },
      "outputs": [
        {
          "output_type": "display_data",
          "data": {
            "text/plain": [
              "<Figure size 1000x1000 with 2 Axes>"
            ],
            "image/png": "[encoded data removed]"
          },
          "metadata": {}
        }
      ],
      "source": [
        "confusion_matrix=metrics.confusion_matrix(True_label,Predicted_label,normalize='true')\n",
        "cm_display = metrics.ConfusionMatrixDisplay(confusion_matrix = confusion_matrix, display_labels = ['1-1', '1-2','1-4','PURE'])\n",
        "fig, ax = plt.subplots(figsize=(10,10))\n",
        "cm_display.plot(ax=ax)\n",
        "plt.show();\n",
        "fig.savefig('/content/drive/MyDrive/Project_2/CNN_Model_Related/Confusion_Matrix.eps', format='eps', dpi=600)"
      ]
    },
    {
      "cell_type": "markdown",
      "metadata": {
        "id": "e6cf_9VqFDeE"
      },
      "source": [
        "### Demonstrating how to use the model"
      ]
    },
    {
      "cell_type": "code",
      "execution_count": null,
      "metadata": {
        "id": "VGVArk3JuqIh"
      },
      "outputs": [],
      "source": [
        "img=image.load_img('/content/drive/MyDrive/Project_2/BLACK_WHITE/1-4/CR_B_DU_1-4_013.jpg',target_size=(256,256))"
      ]
    },
    {
      "cell_type": "code",
      "execution_count": null,
      "metadata": {
        "id": "mlSEanHNv0yv"
      },
      "outputs": [],
      "source": [
        "x=image.img_to_array(img)"
      ]
    },
    {
      "cell_type": "code",
      "execution_count": null,
      "metadata": {
        "id": "Ytjm1xNNwDiw"
      },
      "outputs": [],
      "source": [
        "x=x/255"
      ]
    },
    {
      "cell_type": "code",
      "execution_count": null,
      "metadata": {
        "id": "O2XVAJk9wEOb",
        "colab": {
          "base_uri": "https://localhost:8080/"
        },
        "outputId": "dc6f9ea8-c1c5-4b58-ba30-d16f1c688d30"
      },
      "outputs": [
        {
          "output_type": "execute_result",
          "data": {
            "text/plain": [
              "(1, 256, 256, 3)"
            ]
          },
          "metadata": {},
          "execution_count": 28
        }
      ],
      "source": [
        "x=np.expand_dims(x,axis=0)\n",
        "x.shape"
      ]
    },
    {
      "cell_type": "code",
      "execution_count": null,
      "metadata": {
        "id": "Z0WCmtaYwGAy",
        "colab": {
          "base_uri": "https://localhost:8080/"
        },
        "outputId": "48cda98d-0ba4-4001-f2be-a0763f5bb336"
      },
      "outputs": [
        {
          "output_type": "stream",
          "name": "stdout",
          "text": [
            "1/1 [==============================] - 0s 184ms/step\n"
          ]
        }
      ],
      "source": [
        "pred=model.predict(x)"
      ]
    },
    {
      "cell_type": "code",
      "execution_count": null,
      "metadata": {
        "id": "8Wxdt0m8wH0r",
        "colab": {
          "base_uri": "https://localhost:8080/"
        },
        "outputId": "0e05acf4-a30b-43c7-e5b1-c1df8f89b326"
      },
      "outputs": [
        {
          "output_type": "stream",
          "name": "stdout",
          "text": [
            "[[9.3931970e-07 4.2344809e-01 1.0000000e+00 4.2523354e-14]]\n"
          ]
        }
      ],
      "source": [
        "print(pred)"
      ]
    },
    {
      "cell_type": "code",
      "execution_count": null,
      "metadata": {
        "id": "LLL9i03t1hBo",
        "colab": {
          "base_uri": "https://localhost:8080/"
        },
        "outputId": "fdae6b70-0615-4632-d844-7d906d2fb971"
      },
      "outputs": [
        {
          "output_type": "stream",
          "name": "stdout",
          "text": [
            "1-4\n"
          ]
        }
      ],
      "source": [
        "pred_name = CLASSES[np.argmax(pred)]\n",
        "print(pred_name)"
      ]
    }
  ],
  "metadata": {
    "accelerator": "GPU",
    "colab": {
      "provenance": []
    },
    "gpuClass": "standard",
    "kernelspec": {
      "display_name": "Python 3 (ipykernel)",
      "language": "python",
      "name": "python3"
    },
    "language_info": {
      "codemirror_mode": {
        "name": "ipython",
        "version": 3
      },
      "file_extension": ".py",
      "mimetype": "text/x-python",
      "name": "python",
      "nbconvert_exporter": "python",
      "pygments_lexer": "ipython3",
      "version": "3.9.13"
    },
    "vscode": {
      "interpreter": {
        "hash": "b302cdd1e032ee910f5c889c3360c28564c92ad4f326fc3102e39fbe47faee66"
      }
    }
  },
  "nbformat": 4,
  "nbformat_minor": 0
}