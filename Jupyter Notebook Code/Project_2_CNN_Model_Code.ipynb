{
  "cells": [
    {
      "cell_type": "markdown",
      "source": [
        "### Importing required libraries"
      ],
      "metadata": {
        "id": "uBYwCqCtEjYP"
      }
    },
    {
      "cell_type": "code",
      "execution_count": 2,
      "metadata": {
        "id": "vs9SfnnnlokY"
      },
      "outputs": [],
      "source": [
        "import tensorflow as tf\n",
        "from tensorflow.keras.layers import Input, Lambda, Dense, Flatten\n",
        "from tensorflow.keras.models import Model\n",
        "from tensorflow.keras.preprocessing import image\n",
        "from tensorflow.keras.preprocessing.image import load_img\n",
        "from tensorflow.keras.models import Sequential\n",
        "from tensorflow.keras.layers import Rescaling, Conv2D, MaxPooling2D, Dense, Flatten, Dropout, BatchNormalization\n",
        "from tensorflow.keras.models import load_model\n",
        "from tensorflow.keras.preprocessing import image\n",
        "from tensorflow.keras.metrics import Precision, Recall, Accuracy\n",
        "import numpy as np\n",
        "import matplotlib.pyplot as plt\n",
        "from sklearn import metrics\n",
        "from tabulate import tabulate"
      ]
    },
    {
      "cell_type": "markdown",
      "source": [
        "### Declaring the Variables"
      ],
      "metadata": {
        "id": "iJ6CFKaPEVGd"
      }
    },
    {
      "cell_type": "code",
      "execution_count": 3,
      "metadata": {
        "id": "Za-dL2Aplrlv"
      },
      "outputs": [],
      "source": [
        "IMAGE_SIZE = [256, 256]\n",
        "BATCH_SIZE=16\n",
        "FOLDS=10\n",
        "SCORES_PER_FOLD=[]\n",
        "CLASSES=[\"1-1\",\"1-2\",\"1-4\",\"PURE\"]"
      ]
    },
    {
      "cell_type": "code",
      "execution_count": 4,
      "metadata": {
        "id": "sU-YeLLf4iAA"
      },
      "outputs": [],
      "source": [
        "image_dir='/content/drive/MyDrive/Project_2/BLACK_WHITE'"
      ]
    },
    {
      "cell_type": "code",
      "execution_count": 5,
      "metadata": {
        "id": "OPvQOBPsn5Fo"
      },
      "outputs": [],
      "source": [
        "logdir='/content/drive/MyDrive/Project_2/CNN_Model_Related/Logs'"
      ]
    },
    {
      "cell_type": "code",
      "source": [
        "model_dir='/content/drive/MyDrive/Project_2/CNN_Model_Related/Model/'"
      ],
      "metadata": {
        "id": "Yuwp9t4Sp9-p"
      },
      "execution_count": 6,
      "outputs": []
    },
    {
      "cell_type": "code",
      "source": [
        "tensorboard_callback = tf.keras.callbacks.TensorBoard(log_dir=logdir)"
      ],
      "metadata": {
        "id": "h_ST2edlv3ZY"
      },
      "execution_count": 7,
      "outputs": []
    },
    {
      "cell_type": "markdown",
      "source": [
        "### Fetching and Preprocessing the image files"
      ],
      "metadata": {
        "id": "YPkn5rEDEdAN"
      }
    },
    {
      "cell_type": "code",
      "source": [
        "normalization_layer = tf.keras.layers.Rescaling(1./255)"
      ],
      "metadata": {
        "id": "fh6SpJSSEDSa"
      },
      "execution_count": 8,
      "outputs": []
    },
    {
      "cell_type": "code",
      "source": [
        "image_data_set =tf.keras.utils.image_dataset_from_directory(\n",
        "  image_dir,\n",
        "  label_mode='int',\n",
        "  seed=131,\n",
        "  image_size=IMAGE_SIZE,\n",
        "  batch_size=BATCH_SIZE,\n",
        ")"
      ],
      "metadata": {
        "id": "A-yPCHaZEGZ4",
        "colab": {
          "base_uri": "https://localhost:8080/"
        },
        "outputId": "82a25745-8407-4405-8a68-498a6109a85a"
      },
      "execution_count": 9,
      "outputs": [
        {
          "output_type": "stream",
          "name": "stdout",
          "text": [
            "Found 2240 files belonging to 4 classes.\n"
          ]
        }
      ]
    },
    {
      "cell_type": "code",
      "source": [
        "train_val_set=image_data_set.take(100)\n",
        "test_set=image_data_set.skip(100).take(40)\n",
        "print(f'Using {len(train_val_set)} sets for Training and Validation')\n",
        "print(f'Using {len(test_set)} sets for Testing')"
      ],
      "metadata": {
        "id": "QImbuHT0NFce",
        "colab": {
          "base_uri": "https://localhost:8080/"
        },
        "outputId": "5c894ad5-b9c1-4b90-95c5-d83f5fbbb296"
      },
      "execution_count": 10,
      "outputs": [
        {
          "output_type": "stream",
          "name": "stdout",
          "text": [
            "Using 100 sets for Training and Validation\n",
            "Using 40 sets for Testing\n"
          ]
        }
      ]
    },
    {
      "cell_type": "code",
      "source": [
        "normalized_train_val_set=train_val_set.map(lambda x,y: (normalization_layer(x), y))\n",
        "normalized_testing_set=test_set.map(lambda x,y: (normalization_layer(x), y))\n",
        "\n",
        "# image_batch, labels_batch = next(iter(normalized_training_set))      #<-----the data is fethched in this form: image batch, label batch"
      ],
      "metadata": {
        "id": "sVLUfWNtEYSM"
      },
      "execution_count": 11,
      "outputs": []
    },
    {
      "cell_type": "markdown",
      "source": [
        "### Building the CNN Model"
      ],
      "metadata": {
        "id": "yRpUjvO_EpUm"
      }
    },
    {
      "cell_type": "code",
      "source": [
        "def Build_Model():\n",
        "  model=Sequential()\n",
        "  \n",
        "  model.add(Conv2D(32, (3,3), 1, activation='relu', input_shape=(256,256,3)))\n",
        "  model.add(MaxPooling2D(pool_size=(2,2)))\n",
        "\n",
        "  model.add(Conv2D(64, (3,3), 1, activation='relu'))\n",
        "  model.add(MaxPooling2D())\n",
        "\n",
        "  model.add(Conv2D(64, (3,3), 1, activation='relu'))\n",
        "  model.add(MaxPooling2D())\n",
        "\n",
        "  model.add(Conv2D(128, (3,3), 1, activation='relu'))\n",
        "  model.add(MaxPooling2D(pool_size=(2,2)))\n",
        "\n",
        "  model.add(Flatten())\n",
        "\n",
        "  model.add(Dense(256, activation='relu'))\n",
        "  model.add(Dense(4, activation='sigmoid'))\n",
        "\n",
        "  model.compile(optimizer='adam', loss='sparse_categorical_crossentropy', metrics=['accuracy'])\n",
        "  \n",
        "  return model"
      ],
      "metadata": {
        "id": "tJm9QzZgH-DI"
      },
      "execution_count": 12,
      "outputs": []
    },
    {
      "cell_type": "code",
      "execution_count": 13,
      "metadata": {
        "id": "YDnLFulroTl1",
        "colab": {
          "base_uri": "https://localhost:8080/"
        },
        "outputId": "04352447-cc45-4a7d-f08c-3f8455358514"
      },
      "outputs": [
        {
          "output_type": "stream",
          "name": "stdout",
          "text": [
            "Model: \"sequential\"\n",
            "_________________________________________________________________\n",
            " Layer (type)                Output Shape              Param #   \n",
            "=================================================================\n",
            " conv2d (Conv2D)             (None, 254, 254, 32)      896       \n",
            "                                                                 \n",
            " max_pooling2d (MaxPooling2D  (None, 127, 127, 32)     0         \n",
            " )                                                               \n",
            "                                                                 \n",
            " conv2d_1 (Conv2D)           (None, 125, 125, 64)      18496     \n",
            "                                                                 \n",
            " max_pooling2d_1 (MaxPooling  (None, 62, 62, 64)       0         \n",
            " 2D)                                                             \n",
            "                                                                 \n",
            " conv2d_2 (Conv2D)           (None, 60, 60, 64)        36928     \n",
            "                                                                 \n",
            " max_pooling2d_2 (MaxPooling  (None, 30, 30, 64)       0         \n",
            " 2D)                                                             \n",
            "                                                                 \n",
            " conv2d_3 (Conv2D)           (None, 28, 28, 128)       73856     \n",
            "                                                                 \n",
            " max_pooling2d_3 (MaxPooling  (None, 14, 14, 128)      0         \n",
            " 2D)                                                             \n",
            "                                                                 \n",
            " flatten (Flatten)           (None, 25088)             0         \n",
            "                                                                 \n",
            " dense (Dense)               (None, 256)               6422784   \n",
            "                                                                 \n",
            " dense_1 (Dense)             (None, 4)                 1028      \n",
            "                                                                 \n",
            "=================================================================\n",
            "Total params: 6,553,988\n",
            "Trainable params: 6,553,988\n",
            "Non-trainable params: 0\n",
            "_________________________________________________________________\n"
          ]
        }
      ],
      "source": [
        "# Summary of the model\n",
        "model=Build_Model()\n",
        "model.summary()"
      ]
    },
    {
      "cell_type": "markdown",
      "source": [
        "### Peforming the 10 Fold Cross Validation"
      ],
      "metadata": {
        "id": "21T4ffIQEuPG"
      }
    },
    {
      "cell_type": "code",
      "source": [
        "i=0\n",
        "j=10\n",
        "k=90\n",
        "\n",
        "for fold_var in range(0,FOLDS,1):\n",
        "  print(f'Fold {fold_var+1}')\n",
        "  print('--------------------------------------------------------------------------------------------')\n",
        "  training_set1=normalized_train_val_set.take(i)\n",
        "  training_set2=normalized_train_val_set.skip(i+j).take(k)\n",
        "  training_set=training_set1.concatenate(training_set2)\n",
        "  validation_set=normalized_train_val_set.skip(i).take(j)\n",
        "  i=i+10\n",
        "  j=10\n",
        "  k=k-10\n",
        "  \n",
        "  model=Build_Model()\n",
        "  Model_Run = model.fit(\n",
        "    training_set,\n",
        "    epochs=25,\n",
        "    steps_per_epoch=len(training_set),\n",
        "    callbacks=[tensorboard_callback]\n",
        "  )\n",
        "  print('\\n')\n",
        "  print(f'Evaluating the model')\n",
        "  print('\\n')\n",
        "  cur_scores=model.evaluate(validation_set)\n",
        "  cur_scores[0]*=100\n",
        "  cur_scores[1]*=100\n",
        "  cur_scores=[fold_var+1,cur_scores[0],cur_scores[1]]\n",
        "  SCORES_PER_FOLD.append(cur_scores)\n",
        "\n",
        "  model.save(model_dir+'model_'+str(fold_var+1)+'.h5')\n",
        "  print('--------------------------------------------------------------------------------------------')\n",
        "  tf.keras.backend.clear_session()\n"
      ],
      "metadata": {
        "id": "otK1Dp9aebg5",
        "colab": {
          "base_uri": "https://localhost:8080/"
        },
        "outputId": "575cbffc-4d39-46a4-9820-06c5f2b2c306"
      },
      "execution_count": 14,
      "outputs": [
        {
          "output_type": "stream",
          "name": "stdout",
          "text": [
            "Fold 1\n",
            "--------------------------------------------------------------------------------------------\n",
            "Epoch 1/25\n",
            "90/90 [==============================] - 166s 1s/step - loss: 0.8134 - accuracy: 0.6486\n",
            "Epoch 2/25\n",
            "90/90 [==============================] - 6s 56ms/step - loss: 0.4606 - accuracy: 0.8035\n",
            "Epoch 3/25\n",
            "90/90 [==============================] - 6s 55ms/step - loss: 0.3477 - accuracy: 0.8507\n",
            "Epoch 4/25\n",
            "90/90 [==============================] - 6s 55ms/step - loss: 0.4129 - accuracy: 0.8139\n",
            "Epoch 5/25\n",
            "90/90 [==============================] - 7s 66ms/step - loss: 0.3205 - accuracy: 0.8556\n",
            "Epoch 6/25\n",
            "90/90 [==============================] - 6s 54ms/step - loss: 0.4093 - accuracy: 0.8160\n",
            "Epoch 7/25\n",
            "90/90 [==============================] - 7s 71ms/step - loss: 0.3608 - accuracy: 0.8424\n",
            "Epoch 8/25\n",
            "90/90 [==============================] - 6s 55ms/step - loss: 0.3586 - accuracy: 0.8424\n",
            "Epoch 9/25\n",
            "90/90 [==============================] - 7s 70ms/step - loss: 0.3089 - accuracy: 0.8653\n",
            "Epoch 10/25\n",
            "90/90 [==============================] - 6s 56ms/step - loss: 0.2816 - accuracy: 0.8708\n",
            "Epoch 11/25\n",
            "90/90 [==============================] - 6s 54ms/step - loss: 0.2718 - accuracy: 0.8840\n",
            "Epoch 12/25\n",
            "90/90 [==============================] - 7s 70ms/step - loss: 0.2183 - accuracy: 0.9160\n",
            "Epoch 13/25\n",
            "90/90 [==============================] - 6s 56ms/step - loss: 0.3123 - accuracy: 0.8826\n",
            "Epoch 14/25\n",
            "90/90 [==============================] - 7s 70ms/step - loss: 0.2294 - accuracy: 0.9194\n",
            "Epoch 15/25\n",
            "90/90 [==============================] - 6s 55ms/step - loss: 0.1969 - accuracy: 0.9375\n",
            "Epoch 16/25\n",
            "90/90 [==============================] - 6s 55ms/step - loss: 0.2671 - accuracy: 0.8944\n",
            "Epoch 17/25\n",
            "90/90 [==============================] - 7s 70ms/step - loss: 0.1917 - accuracy: 0.9417\n",
            "Epoch 18/25\n",
            "90/90 [==============================] - 6s 55ms/step - loss: 0.1389 - accuracy: 0.9556\n",
            "Epoch 19/25\n",
            "90/90 [==============================] - 7s 61ms/step - loss: 0.1300 - accuracy: 0.9569\n",
            "Epoch 20/25\n",
            "90/90 [==============================] - 6s 54ms/step - loss: 0.0826 - accuracy: 0.9729\n",
            "Epoch 21/25\n",
            "90/90 [==============================] - 6s 55ms/step - loss: 0.0923 - accuracy: 0.9674\n",
            "Epoch 22/25\n",
            "90/90 [==============================] - 7s 71ms/step - loss: 0.0978 - accuracy: 0.9708\n",
            "Epoch 23/25\n",
            "90/90 [==============================] - 6s 55ms/step - loss: 0.0857 - accuracy: 0.9708\n",
            "Epoch 24/25\n",
            "90/90 [==============================] - 7s 68ms/step - loss: 0.0660 - accuracy: 0.9764\n",
            "Epoch 25/25\n",
            "90/90 [==============================] - 7s 66ms/step - loss: 0.0393 - accuracy: 0.9854\n",
            "\n",
            "\n",
            "Evaluating the model\n",
            "\n",
            "\n",
            "10/10 [==============================] - 1s 48ms/step - loss: 0.0537 - accuracy: 0.9812\n",
            "--------------------------------------------------------------------------------------------\n",
            "Fold 2\n",
            "--------------------------------------------------------------------------------------------\n",
            "Epoch 1/25\n",
            "90/90 [==============================] - 10s 83ms/step - loss: 0.5915 - accuracy: 0.7347\n",
            "Epoch 2/25\n",
            "90/90 [==============================] - 6s 68ms/step - loss: 0.5059 - accuracy: 0.7847\n",
            "Epoch 3/25\n",
            "90/90 [==============================] - 6s 68ms/step - loss: 0.3753 - accuracy: 0.8368\n",
            "Epoch 4/25\n",
            "90/90 [==============================] - 8s 83ms/step - loss: 0.3869 - accuracy: 0.8375\n",
            "Epoch 5/25\n",
            "90/90 [==============================] - 6s 67ms/step - loss: 0.3310 - accuracy: 0.8653\n",
            "Epoch 6/25\n",
            "90/90 [==============================] - 7s 75ms/step - loss: 0.3157 - accuracy: 0.8632\n",
            "Epoch 7/25\n",
            "90/90 [==============================] - 7s 78ms/step - loss: 0.3315 - accuracy: 0.8597\n",
            "Epoch 8/25\n",
            "90/90 [==============================] - 6s 68ms/step - loss: 0.3238 - accuracy: 0.8611\n",
            "Epoch 9/25\n",
            "90/90 [==============================] - 6s 68ms/step - loss: 0.2667 - accuracy: 0.8972\n",
            "Epoch 10/25\n",
            "90/90 [==============================] - 8s 78ms/step - loss: 0.2972 - accuracy: 0.8924\n",
            "Epoch 11/25\n",
            "90/90 [==============================] - 7s 76ms/step - loss: 0.2407 - accuracy: 0.9174\n",
            "Epoch 12/25\n",
            "90/90 [==============================] - 6s 68ms/step - loss: 0.3420 - accuracy: 0.8840\n",
            "Epoch 13/25\n",
            "90/90 [==============================] - 8s 83ms/step - loss: 0.3505 - accuracy: 0.8944\n",
            "Epoch 14/25\n",
            "90/90 [==============================] - 6s 69ms/step - loss: 0.2297 - accuracy: 0.9153\n",
            "Epoch 15/25\n",
            "90/90 [==============================] - 8s 84ms/step - loss: 0.1451 - accuracy: 0.9549\n",
            "Epoch 16/25\n",
            "90/90 [==============================] - 7s 77ms/step - loss: 0.1286 - accuracy: 0.9542\n",
            "Epoch 17/25\n",
            "90/90 [==============================] - 6s 67ms/step - loss: 0.0860 - accuracy: 0.9708\n",
            "Epoch 18/25\n",
            "90/90 [==============================] - 6s 68ms/step - loss: 0.0983 - accuracy: 0.9660\n",
            "Epoch 19/25\n",
            "90/90 [==============================] - 8s 83ms/step - loss: 0.0931 - accuracy: 0.9653\n",
            "Epoch 20/25\n",
            "90/90 [==============================] - 6s 68ms/step - loss: 0.0623 - accuracy: 0.9792\n",
            "Epoch 21/25\n",
            "90/90 [==============================] - 7s 72ms/step - loss: 0.0545 - accuracy: 0.9812\n",
            "Epoch 22/25\n",
            "90/90 [==============================] - 8s 85ms/step - loss: 0.0909 - accuracy: 0.9681\n",
            "Epoch 23/25\n",
            "90/90 [==============================] - 7s 77ms/step - loss: 0.0482 - accuracy: 0.9868\n",
            "Epoch 24/25\n",
            "90/90 [==============================] - 6s 67ms/step - loss: 0.0558 - accuracy: 0.9826\n",
            "Epoch 25/25\n",
            "90/90 [==============================] - 8s 84ms/step - loss: 0.0451 - accuracy: 0.9833\n",
            "\n",
            "\n",
            "Evaluating the model\n",
            "\n",
            "\n",
            "10/10 [==============================] - 1s 47ms/step - loss: 0.0207 - accuracy: 0.9937\n",
            "--------------------------------------------------------------------------------------------\n",
            "Fold 3\n",
            "--------------------------------------------------------------------------------------------\n",
            "Epoch 1/25\n",
            "90/90 [==============================] - 10s 89ms/step - loss: 0.6065 - accuracy: 0.7285\n",
            "Epoch 2/25\n",
            "90/90 [==============================] - 7s 72ms/step - loss: 0.4234 - accuracy: 0.8222\n",
            "Epoch 3/25\n",
            "90/90 [==============================] - 8s 88ms/step - loss: 0.3887 - accuracy: 0.8389\n",
            "Epoch 4/25\n",
            "90/90 [==============================] - 8s 86ms/step - loss: 0.3134 - accuracy: 0.8653\n",
            "Epoch 5/25\n",
            "90/90 [==============================] - 7s 72ms/step - loss: 0.3156 - accuracy: 0.8736\n",
            "Epoch 6/25\n",
            "90/90 [==============================] - 8s 88ms/step - loss: 0.3319 - accuracy: 0.8674\n",
            "Epoch 7/25\n",
            "90/90 [==============================] - 8s 87ms/step - loss: 0.3337 - accuracy: 0.8611\n",
            "Epoch 8/25\n",
            "90/90 [==============================] - 7s 71ms/step - loss: 0.3070 - accuracy: 0.8833\n",
            "Epoch 9/25\n",
            "90/90 [==============================] - 7s 72ms/step - loss: 0.2558 - accuracy: 0.8965\n",
            "Epoch 10/25\n",
            "90/90 [==============================] - 8s 89ms/step - loss: 0.2544 - accuracy: 0.9035\n",
            "Epoch 11/25\n",
            "90/90 [==============================] - 7s 71ms/step - loss: 0.2117 - accuracy: 0.9285\n",
            "Epoch 12/25\n",
            "90/90 [==============================] - 7s 75ms/step - loss: 0.1460 - accuracy: 0.9493\n",
            "Epoch 13/25\n",
            "90/90 [==============================] - 8s 87ms/step - loss: 0.1263 - accuracy: 0.9611\n",
            "Epoch 14/25\n",
            "90/90 [==============================] - 7s 76ms/step - loss: 0.1767 - accuracy: 0.9507\n",
            "Epoch 15/25\n",
            "90/90 [==============================] - 7s 72ms/step - loss: 0.1691 - accuracy: 0.9403\n",
            "Epoch 16/25\n",
            "90/90 [==============================] - 7s 74ms/step - loss: 0.1447 - accuracy: 0.9556\n",
            "Epoch 17/25\n",
            "90/90 [==============================] - 8s 88ms/step - loss: 0.1314 - accuracy: 0.9556\n",
            "Epoch 18/25\n",
            "90/90 [==============================] - 7s 72ms/step - loss: 0.0900 - accuracy: 0.9701\n",
            "Epoch 19/25\n",
            "90/90 [==============================] - 8s 89ms/step - loss: 0.0461 - accuracy: 0.9833\n",
            "Epoch 20/25\n",
            "90/90 [==============================] - 7s 72ms/step - loss: 0.0394 - accuracy: 0.9889\n",
            "Epoch 21/25\n",
            "90/90 [==============================] - 8s 88ms/step - loss: 0.0561 - accuracy: 0.9868\n",
            "Epoch 22/25\n",
            "90/90 [==============================] - 8s 87ms/step - loss: 0.0571 - accuracy: 0.9771\n",
            "Epoch 23/25\n",
            "90/90 [==============================] - 7s 73ms/step - loss: 0.0538 - accuracy: 0.9847\n",
            "Epoch 24/25\n",
            "90/90 [==============================] - 8s 86ms/step - loss: 0.0315 - accuracy: 0.9868\n",
            "Epoch 25/25\n",
            "90/90 [==============================] - 8s 89ms/step - loss: 0.0510 - accuracy: 0.9840\n",
            "\n",
            "\n",
            "Evaluating the model\n",
            "\n",
            "\n",
            "10/10 [==============================] - 2s 45ms/step - loss: 0.1013 - accuracy: 0.9750\n",
            "--------------------------------------------------------------------------------------------\n",
            "Fold 4\n",
            "--------------------------------------------------------------------------------------------\n",
            "Epoch 1/25\n",
            "90/90 [==============================] - 11s 95ms/step - loss: 0.7161 - accuracy: 0.6986\n",
            "Epoch 2/25\n",
            "90/90 [==============================] - 7s 77ms/step - loss: 0.4347 - accuracy: 0.8132\n",
            "Epoch 3/25\n",
            "90/90 [==============================] - 7s 77ms/step - loss: 0.4130 - accuracy: 0.8188\n",
            "Epoch 4/25\n",
            "90/90 [==============================] - 9s 93ms/step - loss: 0.3791 - accuracy: 0.8375\n",
            "Epoch 5/25\n",
            "90/90 [==============================] - 7s 77ms/step - loss: 0.3982 - accuracy: 0.8292\n",
            "Epoch 6/25\n",
            "90/90 [==============================] - 7s 76ms/step - loss: 0.3304 - accuracy: 0.8639\n",
            "Epoch 7/25\n",
            "90/90 [==============================] - 9s 93ms/step - loss: 0.3588 - accuracy: 0.8549\n",
            "Epoch 8/25\n",
            "90/90 [==============================] - 8s 87ms/step - loss: 0.2644 - accuracy: 0.8847\n",
            "Epoch 9/25\n",
            "90/90 [==============================] - 8s 79ms/step - loss: 0.3119 - accuracy: 0.8583\n",
            "Epoch 10/25\n",
            "90/90 [==============================] - 9s 92ms/step - loss: 0.2807 - accuracy: 0.8861\n",
            "Epoch 11/25\n",
            "90/90 [==============================] - 7s 77ms/step - loss: 0.3216 - accuracy: 0.8750\n",
            "Epoch 12/25\n",
            "90/90 [==============================] - 8s 81ms/step - loss: 0.2545 - accuracy: 0.9007\n",
            "Epoch 13/25\n",
            "90/90 [==============================] - 9s 91ms/step - loss: 0.1922 - accuracy: 0.9257\n",
            "Epoch 14/25\n",
            "90/90 [==============================] - 8s 81ms/step - loss: 0.2374 - accuracy: 0.9104\n",
            "Epoch 15/25\n",
            "90/90 [==============================] - 7s 77ms/step - loss: 0.1832 - accuracy: 0.9292\n",
            "Epoch 16/25\n",
            "90/90 [==============================] - 9s 92ms/step - loss: 0.2426 - accuracy: 0.9069\n",
            "Epoch 17/25\n",
            "90/90 [==============================] - 7s 80ms/step - loss: 0.2395 - accuracy: 0.9340\n",
            "Epoch 18/25\n",
            "90/90 [==============================] - 7s 75ms/step - loss: 0.3792 - accuracy: 0.8625\n",
            "Epoch 19/25\n",
            "90/90 [==============================] - 9s 91ms/step - loss: 0.2018 - accuracy: 0.9271\n",
            "Epoch 20/25\n",
            "90/90 [==============================] - 7s 79ms/step - loss: 0.1510 - accuracy: 0.9493\n",
            "Epoch 21/25\n",
            "90/90 [==============================] - 7s 76ms/step - loss: 0.1859 - accuracy: 0.9396\n",
            "Epoch 22/25\n",
            "90/90 [==============================] - 9s 92ms/step - loss: 0.1710 - accuracy: 0.9431\n",
            "Epoch 23/25\n",
            "90/90 [==============================] - 7s 77ms/step - loss: 0.3167 - accuracy: 0.9167\n",
            "Epoch 24/25\n",
            "90/90 [==============================] - 9s 89ms/step - loss: 0.1323 - accuracy: 0.9563\n",
            "Epoch 25/25\n",
            "90/90 [==============================] - 8s 91ms/step - loss: 0.0950 - accuracy: 0.9660\n",
            "\n",
            "\n",
            "Evaluating the model\n",
            "\n",
            "\n",
            "10/10 [==============================] - 2s 46ms/step - loss: 0.0727 - accuracy: 0.9625\n",
            "--------------------------------------------------------------------------------------------\n",
            "Fold 5\n",
            "--------------------------------------------------------------------------------------------\n",
            "Epoch 1/25\n",
            "90/90 [==============================] - 11s 96ms/step - loss: 0.6933 - accuracy: 0.7042\n",
            "Epoch 2/25\n",
            "90/90 [==============================] - 8s 86ms/step - loss: 0.5006 - accuracy: 0.7778\n",
            "Epoch 3/25\n",
            "90/90 [==============================] - 9s 88ms/step - loss: 0.3513 - accuracy: 0.8486\n",
            "Epoch 4/25\n",
            "90/90 [==============================] - 9s 97ms/step - loss: 0.4092 - accuracy: 0.8194\n",
            "Epoch 5/25\n",
            "90/90 [==============================] - 8s 80ms/step - loss: 0.3288 - accuracy: 0.8611\n",
            "Epoch 6/25\n",
            "90/90 [==============================] - 8s 84ms/step - loss: 0.3687 - accuracy: 0.8542\n",
            "Epoch 7/25\n",
            "90/90 [==============================] - 9s 95ms/step - loss: 0.3298 - accuracy: 0.8632\n",
            "Epoch 8/25\n",
            "90/90 [==============================] - 8s 90ms/step - loss: 0.3462 - accuracy: 0.8549\n",
            "Epoch 9/25\n",
            "90/90 [==============================] - 8s 86ms/step - loss: 0.3824 - accuracy: 0.8639\n",
            "Epoch 10/25\n",
            "90/90 [==============================] - 9s 97ms/step - loss: 0.2552 - accuracy: 0.8965\n",
            "Epoch 11/25\n",
            "90/90 [==============================] - 9s 99ms/step - loss: 0.2316 - accuracy: 0.9139\n",
            "Epoch 12/25\n",
            "90/90 [==============================] - 8s 82ms/step - loss: 0.2096 - accuracy: 0.9257\n",
            "Epoch 13/25\n",
            "90/90 [==============================] - 8s 83ms/step - loss: 0.3102 - accuracy: 0.8806\n",
            "Epoch 14/25\n",
            "90/90 [==============================] - 9s 97ms/step - loss: 0.2480 - accuracy: 0.9042\n",
            "Epoch 15/25\n",
            "90/90 [==============================] - 8s 85ms/step - loss: 0.1575 - accuracy: 0.9486\n",
            "Epoch 16/25\n",
            "90/90 [==============================] - 8s 82ms/step - loss: 0.1256 - accuracy: 0.9576\n",
            "Epoch 17/25\n",
            "90/90 [==============================] - 8s 88ms/step - loss: 0.1473 - accuracy: 0.9486\n",
            "Epoch 18/25\n",
            "90/90 [==============================] - 9s 97ms/step - loss: 0.1507 - accuracy: 0.9486\n",
            "Epoch 19/25\n",
            "90/90 [==============================] - 8s 82ms/step - loss: 0.1250 - accuracy: 0.9646\n",
            "Epoch 20/25\n",
            "90/90 [==============================] - 9s 98ms/step - loss: 0.0792 - accuracy: 0.9750\n",
            "Epoch 21/25\n",
            "90/90 [==============================] - 9s 91ms/step - loss: 0.0975 - accuracy: 0.9708\n",
            "Epoch 22/25\n",
            "90/90 [==============================] - 8s 85ms/step - loss: 0.1795 - accuracy: 0.9528\n",
            "Epoch 23/25\n",
            "90/90 [==============================] - 9s 97ms/step - loss: 0.1366 - accuracy: 0.9556\n",
            "Epoch 24/25\n",
            "90/90 [==============================] - 9s 97ms/step - loss: 0.0560 - accuracy: 0.9833\n",
            "Epoch 25/25\n",
            "90/90 [==============================] - 8s 81ms/step - loss: 0.0432 - accuracy: 0.9861\n",
            "\n",
            "\n",
            "Evaluating the model\n",
            "\n",
            "\n",
            "10/10 [==============================] - 4s 75ms/step - loss: 0.0291 - accuracy: 0.9875\n",
            "--------------------------------------------------------------------------------------------\n",
            "Fold 6\n",
            "--------------------------------------------------------------------------------------------\n",
            "Epoch 1/25\n",
            "90/90 [==============================] - 11s 92ms/step - loss: 0.6719 - accuracy: 0.7174\n",
            "Epoch 2/25\n",
            "90/90 [==============================] - 8s 88ms/step - loss: 0.4388 - accuracy: 0.8160\n",
            "Epoch 3/25\n",
            "90/90 [==============================] - 9s 101ms/step - loss: 0.3780 - accuracy: 0.8507\n",
            "Epoch 4/25\n",
            "90/90 [==============================] - 9s 102ms/step - loss: 0.3605 - accuracy: 0.8507\n",
            "Epoch 5/25\n",
            "90/90 [==============================] - 8s 84ms/step - loss: 0.3103 - accuracy: 0.8729\n",
            "Epoch 6/25\n",
            "90/90 [==============================] - 8s 85ms/step - loss: 0.3117 - accuracy: 0.8618\n",
            "Epoch 7/25\n",
            "90/90 [==============================] - 9s 98ms/step - loss: 0.2843 - accuracy: 0.8792\n",
            "Epoch 8/25\n",
            "90/90 [==============================] - 9s 100ms/step - loss: 0.2881 - accuracy: 0.8889\n",
            "Epoch 9/25\n",
            "90/90 [==============================] - 9s 91ms/step - loss: 0.2332 - accuracy: 0.9160\n",
            "Epoch 10/25\n",
            "90/90 [==============================] - 9s 91ms/step - loss: 0.2729 - accuracy: 0.9069\n",
            "Epoch 11/25\n",
            "90/90 [==============================] - 9s 102ms/step - loss: 0.2950 - accuracy: 0.9049\n",
            "Epoch 12/25\n",
            "90/90 [==============================] - 9s 93ms/step - loss: 0.2652 - accuracy: 0.9104\n",
            "Epoch 13/25\n",
            "90/90 [==============================] - 9s 90ms/step - loss: 0.1515 - accuracy: 0.9472\n",
            "Epoch 14/25\n",
            "90/90 [==============================] - 9s 101ms/step - loss: 0.1329 - accuracy: 0.9542\n",
            "Epoch 15/25\n",
            "90/90 [==============================] - 9s 98ms/step - loss: 0.0964 - accuracy: 0.9729\n",
            "Epoch 16/25\n",
            "90/90 [==============================] - 8s 86ms/step - loss: 0.2743 - accuracy: 0.9285\n",
            "Epoch 17/25\n",
            "90/90 [==============================] - 9s 90ms/step - loss: 0.1196 - accuracy: 0.9590\n",
            "Epoch 18/25\n",
            "90/90 [==============================] - 10s 103ms/step - loss: 0.1052 - accuracy: 0.9701\n",
            "Epoch 19/25\n",
            "90/90 [==============================] - 8s 88ms/step - loss: 0.0506 - accuracy: 0.9854\n",
            "Epoch 20/25\n",
            "90/90 [==============================] - 9s 95ms/step - loss: 0.0662 - accuracy: 0.9806\n",
            "Epoch 21/25\n",
            "90/90 [==============================] - 9s 101ms/step - loss: 0.0383 - accuracy: 0.9854\n",
            "Epoch 22/25\n",
            "90/90 [==============================] - 9s 96ms/step - loss: 0.3379 - accuracy: 0.9090\n",
            "Epoch 23/25\n",
            "90/90 [==============================] - 8s 84ms/step - loss: 0.5128 - accuracy: 0.8215\n",
            "Epoch 24/25\n",
            "90/90 [==============================] - 9s 91ms/step - loss: 0.1798 - accuracy: 0.9458\n",
            "Epoch 25/25\n",
            "90/90 [==============================] - 9s 100ms/step - loss: 0.0966 - accuracy: 0.9674\n",
            "\n",
            "\n",
            "Evaluating the model\n",
            "\n",
            "\n",
            "10/10 [==============================] - 3s 50ms/step - loss: 0.2534 - accuracy: 0.8750\n",
            "--------------------------------------------------------------------------------------------\n",
            "Fold 7\n",
            "--------------------------------------------------------------------------------------------\n",
            "Epoch 1/25\n",
            "90/90 [==============================] - 12s 107ms/step - loss: 0.7246 - accuracy: 0.6764\n",
            "Epoch 2/25\n",
            "90/90 [==============================] - 10s 107ms/step - loss: 0.3882 - accuracy: 0.8403\n",
            "Epoch 3/25\n",
            "90/90 [==============================] - 8s 89ms/step - loss: 0.4210 - accuracy: 0.8292\n",
            "Epoch 4/25\n",
            "90/90 [==============================] - 10s 106ms/step - loss: 0.3586 - accuracy: 0.8479\n",
            "Epoch 5/25\n",
            "90/90 [==============================] - 10s 107ms/step - loss: 0.3567 - accuracy: 0.8354\n",
            "Epoch 6/25\n",
            "90/90 [==============================] - 8s 90ms/step - loss: 0.3356 - accuracy: 0.8639\n",
            "Epoch 7/25\n",
            "90/90 [==============================] - 10s 101ms/step - loss: 0.3047 - accuracy: 0.8743\n",
            "Epoch 8/25\n",
            "90/90 [==============================] - 10s 104ms/step - loss: 0.3186 - accuracy: 0.8653\n",
            "Epoch 9/25\n",
            "90/90 [==============================] - 9s 91ms/step - loss: 0.3397 - accuracy: 0.8639\n",
            "Epoch 10/25\n",
            "90/90 [==============================] - 10s 100ms/step - loss: 0.2973 - accuracy: 0.8687\n",
            "Epoch 11/25\n",
            "90/90 [==============================] - 10s 104ms/step - loss: 0.2784 - accuracy: 0.8806\n",
            "Epoch 12/25\n",
            "90/90 [==============================] - 9s 102ms/step - loss: 0.2791 - accuracy: 0.8917\n",
            "Epoch 13/25\n",
            "90/90 [==============================] - 9s 90ms/step - loss: 0.3262 - accuracy: 0.8826\n",
            "Epoch 14/25\n",
            "90/90 [==============================] - 10s 104ms/step - loss: 0.2259 - accuracy: 0.9139\n",
            "Epoch 15/25\n",
            "90/90 [==============================] - 10s 105ms/step - loss: 0.2066 - accuracy: 0.9181\n",
            "Epoch 16/25\n",
            "90/90 [==============================] - 8s 88ms/step - loss: 0.2211 - accuracy: 0.9201\n",
            "Epoch 17/25\n",
            "90/90 [==============================] - 9s 94ms/step - loss: 0.1340 - accuracy: 0.9458\n",
            "Epoch 18/25\n",
            "90/90 [==============================] - 10s 105ms/step - loss: 0.1472 - accuracy: 0.9493\n",
            "Epoch 19/25\n",
            "90/90 [==============================] - 10s 105ms/step - loss: 0.1486 - accuracy: 0.9486\n",
            "Epoch 20/25\n",
            "90/90 [==============================] - 8s 89ms/step - loss: 0.1900 - accuracy: 0.9542\n",
            "Epoch 21/25\n",
            "90/90 [==============================] - 9s 93ms/step - loss: 0.2768 - accuracy: 0.9174\n",
            "Epoch 22/25\n",
            "90/90 [==============================] - 10s 104ms/step - loss: 0.1195 - accuracy: 0.9639\n",
            "Epoch 23/25\n",
            "90/90 [==============================] - 10s 106ms/step - loss: 0.1423 - accuracy: 0.9493\n",
            "Epoch 24/25\n",
            "90/90 [==============================] - 8s 90ms/step - loss: 0.1041 - accuracy: 0.9681\n",
            "Epoch 25/25\n",
            "90/90 [==============================] - 9s 95ms/step - loss: 0.0795 - accuracy: 0.9694\n",
            "\n",
            "\n",
            "Evaluating the model\n",
            "\n",
            "\n",
            "10/10 [==============================] - 3s 66ms/step - loss: 0.1958 - accuracy: 0.9563\n",
            "--------------------------------------------------------------------------------------------\n",
            "Fold 8\n",
            "--------------------------------------------------------------------------------------------\n",
            "Epoch 1/25\n",
            "90/90 [==============================] - 12s 97ms/step - loss: 0.7173 - accuracy: 0.6785\n",
            "Epoch 2/25\n",
            "90/90 [==============================] - 10s 109ms/step - loss: 0.4328 - accuracy: 0.8090\n",
            "Epoch 3/25\n",
            "90/90 [==============================] - 10s 106ms/step - loss: 0.4056 - accuracy: 0.8264\n",
            "Epoch 4/25\n",
            "90/90 [==============================] - 9s 95ms/step - loss: 0.4011 - accuracy: 0.8243\n",
            "Epoch 5/25\n",
            "90/90 [==============================] - 10s 108ms/step - loss: 0.3253 - accuracy: 0.8611\n",
            "Epoch 6/25\n",
            "90/90 [==============================] - 10s 111ms/step - loss: 0.3309 - accuracy: 0.8521\n",
            "Epoch 7/25\n",
            "90/90 [==============================] - 10s 104ms/step - loss: 0.3076 - accuracy: 0.8694\n",
            "Epoch 8/25\n",
            "90/90 [==============================] - 9s 96ms/step - loss: 0.3012 - accuracy: 0.8813\n",
            "Epoch 9/25\n",
            "90/90 [==============================] - 10s 111ms/step - loss: 0.3178 - accuracy: 0.8562\n",
            "Epoch 10/25\n",
            "90/90 [==============================] - 10s 111ms/step - loss: 0.2588 - accuracy: 0.9062\n",
            "Epoch 11/25\n",
            "90/90 [==============================] - 10s 108ms/step - loss: 0.2373 - accuracy: 0.9083\n",
            "Epoch 12/25\n",
            "90/90 [==============================] - 10s 110ms/step - loss: 0.2472 - accuracy: 0.9111\n",
            "Epoch 13/25\n",
            "90/90 [==============================] - 10s 107ms/step - loss: 0.2193 - accuracy: 0.9340\n",
            "Epoch 14/25\n",
            "90/90 [==============================] - 9s 95ms/step - loss: 0.4165 - accuracy: 0.8500\n",
            "Epoch 15/25\n",
            "90/90 [==============================] - 10s 106ms/step - loss: 0.2138 - accuracy: 0.9250\n",
            "Epoch 16/25\n",
            "90/90 [==============================] - 10s 110ms/step - loss: 0.1621 - accuracy: 0.9500\n",
            "Epoch 17/25\n",
            "90/90 [==============================] - 10s 105ms/step - loss: 0.1960 - accuracy: 0.9257\n",
            "Epoch 18/25\n",
            "90/90 [==============================] - 9s 96ms/step - loss: 0.1226 - accuracy: 0.9597\n",
            "Epoch 19/25\n",
            "90/90 [==============================] - 10s 109ms/step - loss: 0.0881 - accuracy: 0.9708\n",
            "Epoch 20/25\n",
            "90/90 [==============================] - 10s 113ms/step - loss: 0.0751 - accuracy: 0.9701\n",
            "Epoch 21/25\n",
            "90/90 [==============================] - 9s 95ms/step - loss: 0.0545 - accuracy: 0.9799\n",
            "Epoch 22/25\n",
            "90/90 [==============================] - 10s 107ms/step - loss: 0.0469 - accuracy: 0.9840\n",
            "Epoch 23/25\n",
            "90/90 [==============================] - 10s 109ms/step - loss: 0.1694 - accuracy: 0.9875\n",
            "Epoch 24/25\n",
            "90/90 [==============================] - 10s 104ms/step - loss: 0.1379 - accuracy: 0.9535\n",
            "Epoch 25/25\n",
            "90/90 [==============================] - 9s 95ms/step - loss: 0.1038 - accuracy: 0.9625\n",
            "\n",
            "\n",
            "Evaluating the model\n",
            "\n",
            "\n",
            "10/10 [==============================] - 5s 47ms/step - loss: 0.0284 - accuracy: 0.9875\n",
            "--------------------------------------------------------------------------------------------\n",
            "Fold 9\n",
            "--------------------------------------------------------------------------------------------\n",
            "Epoch 1/25\n",
            "90/90 [==============================] - 13s 114ms/step - loss: 0.6182 - accuracy: 0.7257\n",
            "Epoch 2/25\n",
            "90/90 [==============================] - 9s 99ms/step - loss: 0.4254 - accuracy: 0.8167\n",
            "Epoch 3/25\n",
            "90/90 [==============================] - 10s 108ms/step - loss: 0.3483 - accuracy: 0.8507\n",
            "Epoch 4/25\n",
            "90/90 [==============================] - 11s 118ms/step - loss: 0.3562 - accuracy: 0.8556\n",
            "Epoch 5/25\n",
            "90/90 [==============================] - 11s 116ms/step - loss: 0.3512 - accuracy: 0.8583\n",
            "Epoch 6/25\n",
            "90/90 [==============================] - 11s 112ms/step - loss: 0.3732 - accuracy: 0.8479\n",
            "Epoch 7/25\n",
            "90/90 [==============================] - 10s 113ms/step - loss: 0.3173 - accuracy: 0.8736\n",
            "Epoch 8/25\n",
            "90/90 [==============================] - 10s 107ms/step - loss: 0.2318 - accuracy: 0.9090\n",
            "Epoch 9/25\n",
            "90/90 [==============================] - 10s 100ms/step - loss: 0.2258 - accuracy: 0.9194\n",
            "Epoch 10/25\n",
            "90/90 [==============================] - 10s 113ms/step - loss: 0.2983 - accuracy: 0.8972\n",
            "Epoch 11/25\n",
            "90/90 [==============================] - 11s 114ms/step - loss: 0.2028 - accuracy: 0.9215\n",
            "Epoch 12/25\n",
            "90/90 [==============================] - 10s 107ms/step - loss: 0.1643 - accuracy: 0.9410\n",
            "Epoch 13/25\n",
            "90/90 [==============================] - 10s 113ms/step - loss: 0.1193 - accuracy: 0.9576\n",
            "Epoch 14/25\n",
            "90/90 [==============================] - 9s 101ms/step - loss: 0.1681 - accuracy: 0.9542\n",
            "Epoch 15/25\n",
            "90/90 [==============================] - 10s 102ms/step - loss: 0.0969 - accuracy: 0.9708\n",
            "Epoch 16/25\n",
            "90/90 [==============================] - 10s 114ms/step - loss: 0.0592 - accuracy: 0.9792\n",
            "Epoch 17/25\n",
            "90/90 [==============================] - 10s 113ms/step - loss: 0.1038 - accuracy: 0.9653\n",
            "Epoch 18/25\n",
            "90/90 [==============================] - 10s 104ms/step - loss: 0.0595 - accuracy: 0.9799\n",
            "Epoch 19/25\n",
            "90/90 [==============================] - 10s 101ms/step - loss: 0.1087 - accuracy: 0.9660\n",
            "Epoch 20/25\n",
            "90/90 [==============================] - 11s 114ms/step - loss: 0.0540 - accuracy: 0.9778\n",
            "Epoch 21/25\n",
            "90/90 [==============================] - 11s 115ms/step - loss: 0.0740 - accuracy: 0.9785\n",
            "Epoch 22/25\n",
            "90/90 [==============================] - 10s 108ms/step - loss: 0.1077 - accuracy: 0.9792\n",
            "Epoch 23/25\n",
            "90/90 [==============================] - 10s 101ms/step - loss: 0.0452 - accuracy: 0.9826\n",
            "Epoch 24/25\n",
            "90/90 [==============================] - 10s 112ms/step - loss: 0.0300 - accuracy: 0.9937\n",
            "Epoch 25/25\n",
            "90/90 [==============================] - 11s 114ms/step - loss: 0.0133 - accuracy: 0.9951\n",
            "\n",
            "\n",
            "Evaluating the model\n",
            "\n",
            "\n",
            "10/10 [==============================] - 4s 47ms/step - loss: 0.0050 - accuracy: 1.0000\n",
            "--------------------------------------------------------------------------------------------\n",
            "Fold 10\n",
            "--------------------------------------------------------------------------------------------\n",
            "Epoch 1/25\n",
            "90/90 [==============================] - 9s 72ms/step - loss: 0.6476 - accuracy: 0.7069\n",
            "Epoch 2/25\n",
            "90/90 [==============================] - 5s 57ms/step - loss: 0.3989 - accuracy: 0.8264\n",
            "Epoch 3/25\n",
            "90/90 [==============================] - 6s 66ms/step - loss: 0.3606 - accuracy: 0.8479\n",
            "Epoch 4/25\n",
            "90/90 [==============================] - 5s 56ms/step - loss: 0.4569 - accuracy: 0.8049\n",
            "Epoch 5/25\n",
            "90/90 [==============================] - 7s 71ms/step - loss: 0.3647 - accuracy: 0.8451\n",
            "Epoch 6/25\n",
            "90/90 [==============================] - 5s 55ms/step - loss: 0.3524 - accuracy: 0.8479\n",
            "Epoch 7/25\n",
            "90/90 [==============================] - 7s 71ms/step - loss: 0.3755 - accuracy: 0.8354\n",
            "Epoch 8/25\n",
            "90/90 [==============================] - 5s 57ms/step - loss: 0.2643 - accuracy: 0.8868\n",
            "Epoch 9/25\n",
            "90/90 [==============================] - 6s 60ms/step - loss: 0.3020 - accuracy: 0.8729\n",
            "Epoch 10/25\n",
            "90/90 [==============================] - 6s 65ms/step - loss: 0.3851 - accuracy: 0.8472\n",
            "Epoch 11/25\n",
            "90/90 [==============================] - 5s 56ms/step - loss: 0.2896 - accuracy: 0.8896\n",
            "Epoch 12/25\n",
            "90/90 [==============================] - 7s 70ms/step - loss: 0.2918 - accuracy: 0.8993\n",
            "Epoch 13/25\n",
            "90/90 [==============================] - 5s 56ms/step - loss: 0.1728 - accuracy: 0.9403\n",
            "Epoch 14/25\n",
            "90/90 [==============================] - 7s 72ms/step - loss: 0.2032 - accuracy: 0.9319\n",
            "Epoch 15/25\n",
            "90/90 [==============================] - 5s 56ms/step - loss: 0.1152 - accuracy: 0.9576\n",
            "Epoch 16/25\n",
            "90/90 [==============================] - 5s 57ms/step - loss: 0.1526 - accuracy: 0.9444\n",
            "Epoch 17/25\n",
            "90/90 [==============================] - 7s 70ms/step - loss: 0.1312 - accuracy: 0.9583\n",
            "Epoch 18/25\n",
            "90/90 [==============================] - 5s 56ms/step - loss: 0.3334 - accuracy: 0.9153\n",
            "Epoch 19/25\n",
            "90/90 [==============================] - 7s 68ms/step - loss: 0.1503 - accuracy: 0.9493\n",
            "Epoch 20/25\n",
            "90/90 [==============================] - 5s 56ms/step - loss: 0.0718 - accuracy: 0.9757\n",
            "Epoch 21/25\n",
            "90/90 [==============================] - 5s 56ms/step - loss: 0.0596 - accuracy: 0.9799\n",
            "Epoch 22/25\n",
            "90/90 [==============================] - 6s 58ms/step - loss: 0.2365 - accuracy: 0.9472\n",
            "Epoch 23/25\n",
            "90/90 [==============================] - 7s 72ms/step - loss: 0.1112 - accuracy: 0.9625\n",
            "Epoch 24/25\n",
            "90/90 [==============================] - 6s 63ms/step - loss: 0.0943 - accuracy: 0.9660\n",
            "Epoch 25/25\n",
            "90/90 [==============================] - 6s 64ms/step - loss: 0.1227 - accuracy: 0.9674\n",
            "\n",
            "\n",
            "Evaluating the model\n",
            "\n",
            "\n",
            "10/10 [==============================] - 4s 47ms/step - loss: 0.0503 - accuracy: 0.9812\n",
            "--------------------------------------------------------------------------------------------\n"
          ]
        }
      ]
    },
    {
      "cell_type": "code",
      "source": [
        "column_headers=['Fold Number','Validation Loss(%)','Validation Accuracy(%)']\n",
        "print(tabulate(SCORES_PER_FOLD, headers=column_headers, tablefmt=\"grid\"))"
      ],
      "metadata": {
        "id": "IxXiy2USK3hC",
        "colab": {
          "base_uri": "https://localhost:8080/"
        },
        "outputId": "371723a8-885a-42db-8096-96e2bbe19d10"
      },
      "execution_count": 15,
      "outputs": [
        {
          "output_type": "stream",
          "name": "stdout",
          "text": [
            "+---------------+----------------------+--------------------------+\n",
            "|   Fold Number |   Validation Loss(%) |   Validation Accuracy(%) |\n",
            "+===============+======================+==========================+\n",
            "|             1 |             5.37363  |                   98.125 |\n",
            "+---------------+----------------------+--------------------------+\n",
            "|             2 |             2.06862  |                   99.375 |\n",
            "+---------------+----------------------+--------------------------+\n",
            "|             3 |            10.1313   |                   97.5   |\n",
            "+---------------+----------------------+--------------------------+\n",
            "|             4 |             7.27316  |                   96.25  |\n",
            "+---------------+----------------------+--------------------------+\n",
            "|             5 |             2.90648  |                   98.75  |\n",
            "+---------------+----------------------+--------------------------+\n",
            "|             6 |            25.3439   |                   87.5   |\n",
            "+---------------+----------------------+--------------------------+\n",
            "|             7 |            19.5761   |                   95.625 |\n",
            "+---------------+----------------------+--------------------------+\n",
            "|             8 |             2.84385  |                   98.75  |\n",
            "+---------------+----------------------+--------------------------+\n",
            "|             9 |             0.504297 |                  100     |\n",
            "+---------------+----------------------+--------------------------+\n",
            "|            10 |             5.02756  |                   98.125 |\n",
            "+---------------+----------------------+--------------------------+\n"
          ]
        }
      ]
    },
    {
      "cell_type": "markdown",
      "source": [
        "### Getting the model with highest accuracy for training"
      ],
      "metadata": {
        "id": "Ou_MBkGIG1sd"
      }
    },
    {
      "cell_type": "code",
      "source": [
        "max_acc=SCORES_PER_FOLD[0][2]\n",
        "max_acc_index=[]\n",
        "for i in range(len(SCORES_PER_FOLD)):\n",
        "  if(SCORES_PER_FOLD[i][2]>max_acc):\n",
        "    max_acc=SCORES_PER_FOLD[i][2]\n",
        "print(max_acc)\n",
        "for i in range(len(SCORES_PER_FOLD)):\n",
        "  if(SCORES_PER_FOLD[i][2]==max_acc):\n",
        "    max_acc_index.append(i)\n",
        "print(max_acc_index)\n",
        "result=-1\n",
        "if(len(max_acc_index)>1):\n",
        "  min_loss=SCORES_PER_FOLD[max_acc_index[0]][1]\n",
        "  j=0\n",
        "  result=-1\n",
        "  while(index<len(SCORES_PER_FOLD)):\n",
        "    index=max_acc_index[j]\n",
        "    if(SCORES_PER_FOLD[index][1]<min_loss):\n",
        "      min_loss=SCORES_PER_FOLD[index][1]\n",
        "      result=index\n",
        "    j+=1\n",
        "else:\n",
        "  result=max_acc_index[0]\n",
        "\n",
        "model=load_model(model_dir+'model_'+str(result+1)+'.h5')"
      ],
      "metadata": {
        "colab": {
          "base_uri": "https://localhost:8080/"
        },
        "id": "iIj4X_luG1Ce",
        "outputId": "6b44f600-b5b8-4630-c356-355bbd2b39cf"
      },
      "execution_count": 16,
      "outputs": [
        {
          "output_type": "stream",
          "name": "stdout",
          "text": [
            "100.0\n",
            "[8]\n"
          ]
        }
      ]
    },
    {
      "cell_type": "markdown",
      "source": [
        "### Training the model for fine parameter tuning"
      ],
      "metadata": {
        "id": "5WyyGpDKsyuK"
      }
    },
    {
      "cell_type": "code",
      "source": [
        "training_set=normalized_train_val_set.take(80)\n",
        "validation_set=normalized_train_val_set.skip(80).take(20)\n",
        "\n",
        "Cur_Model_Run = model.fit(\n",
        "    training_set,\n",
        "    validation_data=validation_set,\n",
        "    epochs=25,\n",
        "    steps_per_epoch=len(training_set),\n",
        "    validation_steps=len(validation_set),\n",
        "    callbacks=[tensorboard_callback]\n",
        "  )"
      ],
      "metadata": {
        "colab": {
          "base_uri": "https://localhost:8080/"
        },
        "id": "QXQHGC5ys6Up",
        "outputId": "b16f9313-03d3-479e-b9f9-947cd0443b65"
      },
      "execution_count": 17,
      "outputs": [
        {
          "output_type": "stream",
          "name": "stdout",
          "text": [
            "Epoch 1/25\n",
            "80/80 [==============================] - 12s 113ms/step - loss: 0.0233 - accuracy: 0.9922 - val_loss: 0.0279 - val_accuracy: 0.9937\n",
            "Epoch 2/25\n",
            "80/80 [==============================] - 10s 126ms/step - loss: 0.0079 - accuracy: 0.9984 - val_loss: 0.0124 - val_accuracy: 0.9937\n",
            "Epoch 3/25\n",
            "80/80 [==============================] - 10s 119ms/step - loss: 0.0089 - accuracy: 0.9992 - val_loss: 0.0088 - val_accuracy: 0.9969\n",
            "Epoch 4/25\n",
            "80/80 [==============================] - 9s 112ms/step - loss: 0.0024 - accuracy: 0.9992 - val_loss: 0.0055 - val_accuracy: 0.9969\n",
            "Epoch 5/25\n",
            "80/80 [==============================] - 10s 124ms/step - loss: 7.6824e-04 - accuracy: 1.0000 - val_loss: 0.0022 - val_accuracy: 1.0000\n",
            "Epoch 6/25\n",
            "80/80 [==============================] - 10s 125ms/step - loss: 4.9897e-04 - accuracy: 1.0000 - val_loss: 0.0070 - val_accuracy: 0.9937\n",
            "Epoch 7/25\n",
            "80/80 [==============================] - 9s 114ms/step - loss: 3.8545e-04 - accuracy: 1.0000 - val_loss: 0.0056 - val_accuracy: 0.9969\n",
            "Epoch 8/25\n",
            "80/80 [==============================] - 9s 109ms/step - loss: 2.6112e-04 - accuracy: 1.0000 - val_loss: 0.0050 - val_accuracy: 0.9969\n",
            "Epoch 9/25\n",
            "80/80 [==============================] - 10s 126ms/step - loss: 1.5888e-04 - accuracy: 1.0000 - val_loss: 0.0037 - val_accuracy: 0.9969\n",
            "Epoch 10/25\n",
            "80/80 [==============================] - 10s 126ms/step - loss: 1.1142e-04 - accuracy: 1.0000 - val_loss: 0.0027 - val_accuracy: 1.0000\n",
            "Epoch 11/25\n",
            "80/80 [==============================] - 10s 120ms/step - loss: 9.0292e-05 - accuracy: 1.0000 - val_loss: 0.0025 - val_accuracy: 1.0000\n",
            "Epoch 12/25\n",
            "80/80 [==============================] - 10s 113ms/step - loss: 7.9507e-05 - accuracy: 1.0000 - val_loss: 0.0050 - val_accuracy: 1.0000\n",
            "Epoch 13/25\n",
            "80/80 [==============================] - 10s 125ms/step - loss: 6.6462e-05 - accuracy: 1.0000 - val_loss: 0.0046 - val_accuracy: 1.0000\n",
            "Epoch 14/25\n",
            "80/80 [==============================] - 10s 119ms/step - loss: 6.5378e-05 - accuracy: 1.0000 - val_loss: 0.0027 - val_accuracy: 1.0000\n",
            "Epoch 15/25\n",
            "80/80 [==============================] - 9s 109ms/step - loss: 5.8577e-05 - accuracy: 1.0000 - val_loss: 0.0022 - val_accuracy: 1.0000\n",
            "Epoch 16/25\n",
            "80/80 [==============================] - 10s 125ms/step - loss: 5.1650e-05 - accuracy: 1.0000 - val_loss: 0.0041 - val_accuracy: 1.0000\n",
            "Epoch 17/25\n",
            "80/80 [==============================] - 10s 126ms/step - loss: 4.4161e-05 - accuracy: 1.0000 - val_loss: 0.0013 - val_accuracy: 1.0000\n",
            "Epoch 18/25\n",
            "80/80 [==============================] - 10s 119ms/step - loss: 4.3624e-05 - accuracy: 1.0000 - val_loss: 0.0022 - val_accuracy: 1.0000\n",
            "Epoch 19/25\n",
            "80/80 [==============================] - 10s 116ms/step - loss: 4.2129e-05 - accuracy: 1.0000 - val_loss: 0.0042 - val_accuracy: 1.0000\n",
            "Epoch 20/25\n",
            "80/80 [==============================] - 10s 125ms/step - loss: 3.4122e-05 - accuracy: 1.0000 - val_loss: 0.0031 - val_accuracy: 1.0000\n",
            "Epoch 21/25\n",
            "80/80 [==============================] - 10s 119ms/step - loss: 3.3537e-05 - accuracy: 1.0000 - val_loss: 0.0011 - val_accuracy: 1.0000\n",
            "Epoch 22/25\n",
            "80/80 [==============================] - 9s 110ms/step - loss: 3.0264e-05 - accuracy: 1.0000 - val_loss: 0.0012 - val_accuracy: 1.0000\n",
            "Epoch 23/25\n",
            "80/80 [==============================] - 10s 124ms/step - loss: 2.6610e-05 - accuracy: 1.0000 - val_loss: 0.0024 - val_accuracy: 1.0000\n",
            "Epoch 24/25\n",
            "80/80 [==============================] - 10s 128ms/step - loss: 2.6165e-05 - accuracy: 1.0000 - val_loss: 0.0034 - val_accuracy: 1.0000\n",
            "Epoch 25/25\n",
            "80/80 [==============================] - 10s 117ms/step - loss: 2.3320e-05 - accuracy: 1.0000 - val_loss: 0.0049 - val_accuracy: 1.0000\n"
          ]
        }
      ]
    },
    {
      "cell_type": "markdown",
      "source": [
        "### Plotting the performance of the model after fine parameter tuning"
      ],
      "metadata": {
        "id": "dAfpCTCWExrN"
      }
    },
    {
      "cell_type": "code",
      "execution_count": 19,
      "metadata": {
        "id": "Ip0NtKLos4sU",
        "colab": {
          "base_uri": "https://localhost:8080/",
          "height": 602
        },
        "outputId": "34ac69a6-69bc-4703-e246-94b480a66967"
      },
      "outputs": [
        {
          "output_type": "display_data",
          "data": {
            "text/plain": [
              "<Figure size 1000x600 with 1 Axes>"
            ],
            "image/png": "[encoded data removed]"
          },
          "metadata": {}
        }
      ],
      "source": [
        "# Plotting the loss\n",
        "\n",
        "\n",
        "fig=plt.figure(figsize=(10,6));\n",
        "plt.plot(Cur_Model_Run.history['loss'], color='teal', label='training loss')\n",
        "plt.plot(Cur_Model_Run.history['val_loss'], color='orange', label='validation loss')\n",
        "plt.xlabel(\"Epochs\")\n",
        "plt.ylabel(\"Loss\")\n",
        "fig.suptitle('Loss',fontsize=15)\n",
        "plt.legend()\n",
        "plt.show()"
      ]
    },
    {
      "cell_type": "code",
      "source": [
        "# Plotting the accuracy\n",
        "\n",
        "\n",
        "fig=plt.figure(figsize=(10,6));\n",
        "plt.plot(Cur_Model_Run.history['accuracy'], color='teal', label='training acc')\n",
        "plt.plot(Cur_Model_Run.history['val_accuracy'], color='orange', label='validation acc')\n",
        "plt.xlabel(\"Epochs\")\n",
        "plt.ylabel(\"Accuracy\")\n",
        "fig.suptitle('Accuracy',fontsize=15)\n",
        "plt.legend()\n",
        "plt.show()"
      ],
      "metadata": {
        "id": "Qif0CC2Wx-zq",
        "colab": {
          "base_uri": "https://localhost:8080/",
          "height": 602
        },
        "outputId": "8eeaaaa1-8898-4f0c-80c0-7cc15a958b06"
      },
      "execution_count": 20,
      "outputs": [
        {
          "output_type": "display_data",
          "data": {
            "text/plain": [
              "<Figure size 1000x600 with 1 Axes>"
            ],
            "image/png": "[encoded data removed]"
          },
          "metadata": {}
        }
      ]
    },
    {
      "cell_type": "markdown",
      "source": [
        "###Calcualting Precision, Recall, Accuracy and F Score of the Model"
      ],
      "metadata": {
        "id": "ry0YiEGL4H7v"
      }
    },
    {
      "cell_type": "code",
      "source": [
        "pre = Precision()\n",
        "re = Recall()\n",
        "acc = Accuracy()"
      ],
      "metadata": {
        "id": "7A8M6AA-1KH0"
      },
      "execution_count": 37,
      "outputs": []
    },
    {
      "cell_type": "code",
      "source": [
        "True_label=[]\n",
        "Predicted_label=[]\n",
        "score=[]\n",
        "for images,labels in (normalized_testing_set):              \n",
        "  score.append(model.evaluate(images,labels))\n",
        "  for it in range(len(labels)):\n",
        "    True_label.append(labels[it])\n",
        "  pred=model.predict(images)\n",
        "  y_max=[]\n",
        "  for it in range(len(pred)):\n",
        "      y_max.append(np.argmax(pred[it]))\n",
        "      Predicted_label.append(np.argmax(pred[it]))\n",
        "  pre.update_state(labels,y_max)\n",
        "  re.update_state(labels,y_max)\n",
        "  acc.update_state(labels,y_max)"
      ],
      "metadata": {
        "id": "JOFrZ_XmgIx0",
        "colab": {
          "base_uri": "https://localhost:8080/"
        },
        "outputId": "2be668fb-c006-4cbe-c9c8-7537e1f8e44d"
      },
      "execution_count": 38,
      "outputs": [
        {
          "output_type": "stream",
          "name": "stdout",
          "text": [
            "1/1 [==============================] - 0s 89ms/step - loss: 6.7055e-08 - accuracy: 1.0000\n",
            "1/1 [==============================] - 0s 69ms/step\n",
            "1/1 [==============================] - 0s 61ms/step - loss: 4.0531e-06 - accuracy: 1.0000\n",
            "1/1 [==============================] - 0s 42ms/step\n",
            "1/1 [==============================] - 0s 69ms/step - loss: 3.2633e-06 - accuracy: 1.0000\n",
            "1/1 [==============================] - 0s 70ms/step\n",
            "1/1 [==============================] - 0s 53ms/step - loss: 0.0207 - accuracy: 1.0000\n",
            "1/1 [==============================] - 0s 88ms/step\n",
            "1/1 [==============================] - 0s 61ms/step - loss: 3.3974e-06 - accuracy: 1.0000\n",
            "1/1 [==============================] - 0s 30ms/step\n",
            "1/1 [==============================] - 0s 41ms/step - loss: 1.7136e-07 - accuracy: 1.0000\n",
            "1/1 [==============================] - 0s 23ms/step\n",
            "1/1 [==============================] - 0s 46ms/step - loss: 2.7973e-05 - accuracy: 1.0000\n",
            "1/1 [==============================] - 0s 24ms/step\n",
            "1/1 [==============================] - 0s 46ms/step - loss: 0.1827 - accuracy: 0.9375\n",
            "1/1 [==============================] - 0s 25ms/step\n",
            "1/1 [==============================] - 0s 39ms/step - loss: 0.0067 - accuracy: 1.0000\n",
            "1/1 [==============================] - 0s 25ms/step\n",
            "1/1 [==============================] - 0s 39ms/step - loss: 5.0137e-05 - accuracy: 1.0000\n",
            "1/1 [==============================] - 0s 29ms/step\n",
            "1/1 [==============================] - 0s 51ms/step - loss: 0.3014 - accuracy: 0.9375\n",
            "1/1 [==============================] - 0s 39ms/step\n",
            "1/1 [==============================] - 0s 50ms/step - loss: 0.0068 - accuracy: 1.0000\n",
            "1/1 [==============================] - 0s 35ms/step\n",
            "1/1 [==============================] - 0s 66ms/step - loss: 0.0257 - accuracy: 1.0000\n",
            "1/1 [==============================] - 0s 35ms/step\n",
            "1/1 [==============================] - 0s 52ms/step - loss: 0.4997 - accuracy: 0.8750\n",
            "1/1 [==============================] - 0s 38ms/step\n",
            "1/1 [==============================] - 0s 107ms/step - loss: 8.6187e-05 - accuracy: 1.0000\n",
            "1/1 [==============================] - 0s 36ms/step\n",
            "1/1 [==============================] - 0s 46ms/step - loss: 1.4498 - accuracy: 0.9375\n",
            "1/1 [==============================] - 0s 33ms/step\n",
            "1/1 [==============================] - 0s 66ms/step - loss: 0.0183 - accuracy: 1.0000\n",
            "1/1 [==============================] - 0s 36ms/step\n",
            "1/1 [==============================] - 0s 65ms/step - loss: 5.4079e-05 - accuracy: 1.0000\n",
            "1/1 [==============================] - 0s 36ms/step\n",
            "1/1 [==============================] - 0s 79ms/step - loss: 4.4496e-04 - accuracy: 1.0000\n",
            "1/1 [==============================] - 0s 38ms/step\n",
            "1/1 [==============================] - 0s 72ms/step - loss: 1.4380e-06 - accuracy: 1.0000\n",
            "1/1 [==============================] - 0s 39ms/step\n",
            "1/1 [==============================] - 0s 61ms/step - loss: 0.4985 - accuracy: 0.8750\n",
            "1/1 [==============================] - 0s 43ms/step\n",
            "1/1 [==============================] - 0s 55ms/step - loss: 8.8662e-07 - accuracy: 1.0000\n",
            "1/1 [==============================] - 0s 46ms/step\n",
            "1/1 [==============================] - 0s 49ms/step - loss: 0.0067 - accuracy: 1.0000\n",
            "1/1 [==============================] - 0s 23ms/step\n",
            "1/1 [==============================] - 0s 38ms/step - loss: 0.1161 - accuracy: 0.9375\n",
            "1/1 [==============================] - 0s 29ms/step\n",
            "1/1 [==============================] - 0s 37ms/step - loss: 1.6540e-06 - accuracy: 1.0000\n",
            "1/1 [==============================] - 0s 26ms/step\n",
            "1/1 [==============================] - 0s 49ms/step - loss: 0.0015 - accuracy: 1.0000\n",
            "1/1 [==============================] - 0s 23ms/step\n",
            "1/1 [==============================] - 0s 43ms/step - loss: 0.0170 - accuracy: 1.0000\n",
            "1/1 [==============================] - 0s 25ms/step\n",
            "1/1 [==============================] - 0s 45ms/step - loss: 3.1970e-05 - accuracy: 1.0000\n",
            "1/1 [==============================] - 0s 25ms/step\n",
            "1/1 [==============================] - 0s 47ms/step - loss: 1.0850 - accuracy: 0.8750\n",
            "1/1 [==============================] - 0s 24ms/step\n",
            "1/1 [==============================] - 0s 39ms/step - loss: 1.2389e-05 - accuracy: 1.0000\n",
            "1/1 [==============================] - 0s 24ms/step\n",
            "1/1 [==============================] - 0s 40ms/step - loss: 1.6466e-06 - accuracy: 1.0000\n",
            "1/1 [==============================] - 0s 24ms/step\n",
            "1/1 [==============================] - 0s 38ms/step - loss: 3.3910e-04 - accuracy: 1.0000\n",
            "1/1 [==============================] - 0s 27ms/step\n",
            "1/1 [==============================] - 0s 40ms/step - loss: 0.7995 - accuracy: 0.9375\n",
            "1/1 [==============================] - 0s 25ms/step\n",
            "1/1 [==============================] - 0s 44ms/step - loss: 0.0016 - accuracy: 1.0000\n",
            "1/1 [==============================] - 0s 24ms/step\n",
            "1/1 [==============================] - 0s 38ms/step - loss: 4.9471e-06 - accuracy: 1.0000\n",
            "1/1 [==============================] - 0s 26ms/step\n",
            "1/1 [==============================] - 0s 36ms/step - loss: 0.0016 - accuracy: 1.0000\n",
            "1/1 [==============================] - 0s 23ms/step\n",
            "1/1 [==============================] - 0s 39ms/step - loss: 3.3304e-06 - accuracy: 1.0000\n",
            "1/1 [==============================] - 0s 26ms/step\n",
            "1/1 [==============================] - 0s 39ms/step - loss: 3.4570e-06 - accuracy: 1.0000\n",
            "1/1 [==============================] - 0s 27ms/step\n",
            "1/1 [==============================] - 0s 36ms/step - loss: 1.8518e-04 - accuracy: 1.0000\n",
            "1/1 [==============================] - 0s 26ms/step\n",
            "1/1 [==============================] - 0s 38ms/step - loss: 1.6617e-04 - accuracy: 1.0000\n",
            "1/1 [==============================] - 0s 24ms/step\n"
          ]
        }
      ]
    },
    {
      "cell_type": "code",
      "source": [
        "f_score=(2*pre.result().numpy()*re.result().numpy())/(pre.result().numpy()+re.result().numpy())"
      ],
      "metadata": {
        "id": "sXaKqak7HO2B"
      },
      "execution_count": 39,
      "outputs": []
    },
    {
      "cell_type": "code",
      "source": [
        "print(f'Precision: {pre.result().numpy()}, Recall: {re.result().numpy()}, Accuracy: {acc.result().numpy()}, F Score: {f_score}')"
      ],
      "metadata": {
        "id": "vXUmWz_3AzUr",
        "colab": {
          "base_uri": "https://localhost:8080/"
        },
        "outputId": "5a28c65a-bbe5-42d9-a02c-33d1227c80b3"
      },
      "execution_count": 40,
      "outputs": [
        {
          "output_type": "stream",
          "name": "stdout",
          "text": [
            "Precision: 0.9959183931350708, Recall: 0.9918699264526367, Accuracy: 0.9828125238418579, F Score: 0.9938900371007287\n"
          ]
        }
      ]
    },
    {
      "cell_type": "code",
      "source": [
        "confusion_matrix=metrics.confusion_matrix(True_label,Predicted_label,normalize='true')\n",
        "cm_display = metrics.ConfusionMatrixDisplay(confusion_matrix = confusion_matrix, display_labels = ['1-1', '1-2','1-4','PURE'])\n",
        "fig, ax = plt.subplots(figsize=(10,10))\n",
        "cm_display.plot(ax=ax)\n",
        "plt.show();"
      ],
      "metadata": {
        "id": "8mnJ-hQR8lPL",
        "colab": {
          "base_uri": "https://localhost:8080/",
          "height": 821
        },
        "outputId": "7d785c21-8788-4522-d1e5-d2e50d221d6b"
      },
      "execution_count": 41,
      "outputs": [
        {
          "output_type": "display_data",
          "data": {
            "text/plain": [
              "<Figure size 1000x1000 with 2 Axes>"
            ],
            "image/png": "[encoded data removed]"
          },
          "metadata": {}
        }
      ]
    },
    {
      "cell_type": "markdown",
      "source": [
        "### Demonstrating how to use the model"
      ],
      "metadata": {
        "id": "e6cf_9VqFDeE"
      }
    },
    {
      "cell_type": "code",
      "execution_count": 42,
      "metadata": {
        "id": "VGVArk3JuqIh"
      },
      "outputs": [],
      "source": [
        "img=image.load_img('/content/drive/MyDrive/Project_2/BLACK_WHITE/1-4/CR_B_DU_1-4_013.jpg',target_size=(256,256))"
      ]
    },
    {
      "cell_type": "code",
      "execution_count": 43,
      "metadata": {
        "id": "mlSEanHNv0yv"
      },
      "outputs": [],
      "source": [
        "x=image.img_to_array(img)"
      ]
    },
    {
      "cell_type": "code",
      "execution_count": 44,
      "metadata": {
        "id": "Ytjm1xNNwDiw"
      },
      "outputs": [],
      "source": [
        "x=x/255"
      ]
    },
    {
      "cell_type": "code",
      "execution_count": 45,
      "metadata": {
        "id": "O2XVAJk9wEOb",
        "colab": {
          "base_uri": "https://localhost:8080/"
        },
        "outputId": "b8a988c8-4c46-4cf6-db83-abf98d43c5c7"
      },
      "outputs": [
        {
          "output_type": "execute_result",
          "data": {
            "text/plain": [
              "(1, 256, 256, 3)"
            ]
          },
          "metadata": {},
          "execution_count": 45
        }
      ],
      "source": [
        "x=np.expand_dims(x,axis=0)\n",
        "x.shape"
      ]
    },
    {
      "cell_type": "code",
      "execution_count": 46,
      "metadata": {
        "id": "Z0WCmtaYwGAy",
        "colab": {
          "base_uri": "https://localhost:8080/"
        },
        "outputId": "108fe86b-1a64-41f4-aee3-90c7f50f33d2"
      },
      "outputs": [
        {
          "output_type": "stream",
          "name": "stdout",
          "text": [
            "1/1 [==============================] - 0s 20ms/step\n"
          ]
        }
      ],
      "source": [
        "pred=model.predict(x)"
      ]
    },
    {
      "cell_type": "code",
      "execution_count": 47,
      "metadata": {
        "id": "8Wxdt0m8wH0r",
        "colab": {
          "base_uri": "https://localhost:8080/"
        },
        "outputId": "f9e8cd3a-a205-471a-e342-8af27fd4a163"
      },
      "outputs": [
        {
          "output_type": "stream",
          "name": "stdout",
          "text": [
            "[[7.4532692e-04 2.9918236e-01 1.0000000e+00 4.4544080e-08]]\n"
          ]
        }
      ],
      "source": [
        "print(pred)"
      ]
    },
    {
      "cell_type": "code",
      "execution_count": 48,
      "metadata": {
        "id": "LLL9i03t1hBo",
        "colab": {
          "base_uri": "https://localhost:8080/"
        },
        "outputId": "a7cd2143-0257-4a25-a1bc-974d6d9ce672"
      },
      "outputs": [
        {
          "output_type": "stream",
          "name": "stdout",
          "text": [
            "1-4\n"
          ]
        }
      ],
      "source": [
        "pred_name = CLASSES[np.argmax(pred)]\n",
        "print(pred_name)"
      ]
    }
  ],
  "metadata": {
    "accelerator": "GPU",
    "colab": {
      "provenance": []
    },
    "gpuClass": "standard",
    "kernelspec": {
      "display_name": "Python 3 (ipykernel)",
      "language": "python",
      "name": "python3"
    },
    "language_info": {
      "codemirror_mode": {
        "name": "ipython",
        "version": 3
      },
      "file_extension": ".py",
      "mimetype": "text/x-python",
      "name": "python",
      "nbconvert_exporter": "python",
      "pygments_lexer": "ipython3",
      "version": "3.9.13"
    },
    "vscode": {
      "interpreter": {
        "hash": "b302cdd1e032ee910f5c889c3360c28564c92ad4f326fc3102e39fbe47faee66"
      }
    }
  },
  "nbformat": 4,
  "nbformat_minor": 0
}