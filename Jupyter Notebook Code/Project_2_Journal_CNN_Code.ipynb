{
  "cells": [
    {
      "cell_type": "markdown",
      "metadata": {
        "id": "uBYwCqCtEjYP"
      },
      "source": [
        "### Importing required libraries"
      ]
    },
    {
      "cell_type": "code",
      "execution_count": 2,
      "metadata": {
        "id": "vs9SfnnnlokY"
      },
      "outputs": [],
      "source": [
        "import tensorflow as tf\n",
        "from tensorflow.keras.layers import Input, Lambda, Dense, Flatten\n",
        "from tensorflow.keras.models import Model\n",
        "from tensorflow.keras.preprocessing import image\n",
        "from tensorflow.keras.preprocessing.image import load_img\n",
        "from tensorflow.keras.models import Sequential\n",
        "from tensorflow.keras.layers import Rescaling, Conv2D, MaxPooling2D, Dense, Flatten, Dropout, BatchNormalization\n",
        "from tensorflow.keras.models import load_model\n",
        "from tensorflow.keras.preprocessing import image\n",
        "from tensorflow.keras.metrics import Precision, Recall, Accuracy\n",
        "import numpy as np\n",
        "import matplotlib.pyplot as plt\n",
        "from sklearn import metrics\n",
        "from sklearn.metrics import cohen_kappa_score,log_loss\n",
        "from tabulate import tabulate\n",
        "from scipy import interp\n",
        "from itertools import cycle\n",
        "from sklearn.metrics import roc_curve, auc\n",
        "from sklearn.preprocessing import label_binarize"
      ]
    },
    {
      "cell_type": "markdown",
      "metadata": {
        "id": "iJ6CFKaPEVGd"
      },
      "source": [
        "### Declaring the Variables"
      ]
    },
    {
      "cell_type": "code",
      "execution_count": 3,
      "metadata": {
        "id": "Za-dL2Aplrlv"
      },
      "outputs": [],
      "source": [
        "IMAGE_SIZE = [256, 256]\n",
        "BATCH_SIZE=16\n",
        "FOLDS=10\n",
        "SCORES_PER_FOLD=[]\n",
        "CLASSES=[\"1-1\",\"1-2\",\"1-4\",\"PURE\"]"
      ]
    },
    {
      "cell_type": "code",
      "execution_count": 4,
      "metadata": {
        "id": "sU-YeLLf4iAA"
      },
      "outputs": [],
      "source": [
        "image_dir='/content/drive/MyDrive/Project_2_Conference_Journal_Work/BLACK_WHITE'"
      ]
    },
    {
      "cell_type": "code",
      "execution_count": 5,
      "metadata": {
        "id": "OPvQOBPsn5Fo"
      },
      "outputs": [],
      "source": [
        "logdir='/content/drive/MyDrive/Project_2_Conference_Journal_Work/Journal_Related/Logs'"
      ]
    },
    {
      "cell_type": "code",
      "execution_count": 6,
      "metadata": {
        "id": "Yuwp9t4Sp9-p"
      },
      "outputs": [],
      "source": [
        "model_dir='/content/drive/MyDrive/Project_2_Conference_Journal_Work/Journal_Related/Model/'"
      ]
    },
    {
      "cell_type": "code",
      "execution_count": 7,
      "metadata": {
        "id": "h_ST2edlv3ZY"
      },
      "outputs": [],
      "source": [
        "tensorboard_callback = tf.keras.callbacks.TensorBoard(log_dir=logdir)"
      ]
    },
    {
      "cell_type": "markdown",
      "metadata": {
        "id": "YPkn5rEDEdAN"
      },
      "source": [
        "### Fetching and Preprocessing the image files"
      ]
    },
    {
      "cell_type": "code",
      "execution_count": 8,
      "metadata": {
        "id": "fh6SpJSSEDSa"
      },
      "outputs": [],
      "source": [
        "normalization_layer = tf.keras.layers.Rescaling(1./255)"
      ]
    },
    {
      "cell_type": "code",
      "execution_count": 9,
      "metadata": {
        "colab": {
          "base_uri": "https://localhost:8080/"
        },
        "id": "A-yPCHaZEGZ4",
        "outputId": "0cf2fa1b-4b5b-4d97-a88e-d5d74fd38e9f"
      },
      "outputs": [
        {
          "output_type": "stream",
          "name": "stdout",
          "text": [
            "Found 2240 files belonging to 4 classes.\n"
          ]
        }
      ],
      "source": [
        "image_data_set =tf.keras.utils.image_dataset_from_directory(\n",
        "  image_dir,\n",
        "  label_mode='int',\n",
        "  seed=131,\n",
        "  image_size=IMAGE_SIZE,\n",
        "  batch_size=BATCH_SIZE,\n",
        ")"
      ]
    },
    {
      "cell_type": "code",
      "execution_count": 10,
      "metadata": {
        "colab": {
          "base_uri": "https://localhost:8080/"
        },
        "id": "QImbuHT0NFce",
        "outputId": "cc325e5b-3b8e-489a-9c1e-f2430a1902e2"
      },
      "outputs": [
        {
          "output_type": "stream",
          "name": "stdout",
          "text": [
            "Using 100 sets for Training and Validation\n",
            "Using 40 sets for Testing\n"
          ]
        }
      ],
      "source": [
        "train_val_set=image_data_set.take(100)\n",
        "test_set=image_data_set.skip(100).take(40)\n",
        "print(f'Using {len(train_val_set)} sets for Training and Validation')\n",
        "print(f'Using {len(test_set)} sets for Testing')"
      ]
    },
    {
      "cell_type": "code",
      "execution_count": 11,
      "metadata": {
        "id": "sVLUfWNtEYSM"
      },
      "outputs": [],
      "source": [
        "normalized_train_val_set=train_val_set.map(lambda x,y: (normalization_layer(x), y))\n",
        "normalized_testing_set=test_set.map(lambda x,y: (normalization_layer(x), y))\n",
        "\n",
        "# image_batch, labels_batch = next(iter(normalized_training_set))      #<-----the data is fethched in this form: image batch, label batch"
      ]
    },
    {
      "cell_type": "markdown",
      "metadata": {
        "id": "yRpUjvO_EpUm"
      },
      "source": [
        "### Building the CNN Model"
      ]
    },
    {
      "cell_type": "code",
      "execution_count": 12,
      "metadata": {
        "id": "tJm9QzZgH-DI"
      },
      "outputs": [],
      "source": [
        "def Build_Model():\n",
        "  model=Sequential()\n",
        "  \n",
        "  model.add(Conv2D(32, (3,3), 1, activation='relu', input_shape=(256,256,3)))\n",
        "  model.add(MaxPooling2D(pool_size=(2,2)))\n",
        "\n",
        "  model.add(Conv2D(64, (3,3), 1, activation='relu'))\n",
        "  model.add(MaxPooling2D())\n",
        "\n",
        "  model.add(Conv2D(64, (3,3), 1, activation='relu'))\n",
        "  model.add(MaxPooling2D())\n",
        "\n",
        "  model.add(Conv2D(128, (3,3), 1, activation='relu'))\n",
        "  model.add(MaxPooling2D(pool_size=(2,2)))\n",
        "\n",
        "  model.add(Flatten())\n",
        "\n",
        "  model.add(Dense(256, activation='relu'))\n",
        "  model.add(Dense(4, activation='softmax'))\n",
        "\n",
        "  model.compile(optimizer='adam', loss='sparse_categorical_crossentropy', metrics=['accuracy'])\n",
        "  \n",
        "  return model"
      ]
    },
    {
      "cell_type": "code",
      "execution_count": 13,
      "metadata": {
        "id": "YDnLFulroTl1",
        "colab": {
          "base_uri": "https://localhost:8080/"
        },
        "outputId": "c3c76ade-a0f8-48aa-819c-f20c2aae159f"
      },
      "outputs": [
        {
          "output_type": "stream",
          "name": "stdout",
          "text": [
            "Model: \"sequential\"\n",
            "_________________________________________________________________\n",
            " Layer (type)                Output Shape              Param #   \n",
            "=================================================================\n",
            " conv2d (Conv2D)             (None, 254, 254, 32)      896       \n",
            "                                                                 \n",
            " max_pooling2d (MaxPooling2D  (None, 127, 127, 32)     0         \n",
            " )                                                               \n",
            "                                                                 \n",
            " conv2d_1 (Conv2D)           (None, 125, 125, 64)      18496     \n",
            "                                                                 \n",
            " max_pooling2d_1 (MaxPooling  (None, 62, 62, 64)       0         \n",
            " 2D)                                                             \n",
            "                                                                 \n",
            " conv2d_2 (Conv2D)           (None, 60, 60, 64)        36928     \n",
            "                                                                 \n",
            " max_pooling2d_2 (MaxPooling  (None, 30, 30, 64)       0         \n",
            " 2D)                                                             \n",
            "                                                                 \n",
            " conv2d_3 (Conv2D)           (None, 28, 28, 128)       73856     \n",
            "                                                                 \n",
            " max_pooling2d_3 (MaxPooling  (None, 14, 14, 128)      0         \n",
            " 2D)                                                             \n",
            "                                                                 \n",
            " flatten (Flatten)           (None, 25088)             0         \n",
            "                                                                 \n",
            " dense (Dense)               (None, 256)               6422784   \n",
            "                                                                 \n",
            " dense_1 (Dense)             (None, 4)                 1028      \n",
            "                                                                 \n",
            "=================================================================\n",
            "Total params: 6,553,988\n",
            "Trainable params: 6,553,988\n",
            "Non-trainable params: 0\n",
            "_________________________________________________________________\n"
          ]
        }
      ],
      "source": [
        "# Summary of the model\n",
        "model=Build_Model()\n",
        "model.summary()"
      ]
    },
    {
      "cell_type": "markdown",
      "metadata": {
        "id": "21T4ffIQEuPG"
      },
      "source": [
        "### Peforming the 10 Fold Cross Validation"
      ]
    },
    {
      "cell_type": "code",
      "execution_count": 14,
      "metadata": {
        "id": "otK1Dp9aebg5",
        "colab": {
          "base_uri": "https://localhost:8080/"
        },
        "outputId": "f792d095-436b-45f0-bce1-3bed2f2cdd47"
      },
      "outputs": [
        {
          "output_type": "stream",
          "name": "stdout",
          "text": [
            "Fold 1\n",
            "--------------------------------------------------------------------------------------------\n",
            "Epoch 1/20\n",
            "90/90 [==============================] - 348s 3s/step - loss: 0.7302 - accuracy: 0.6924\n",
            "Epoch 2/20\n",
            "90/90 [==============================] - 6s 62ms/step - loss: 0.4138 - accuracy: 0.8125\n",
            "Epoch 3/20\n",
            "90/90 [==============================] - 7s 64ms/step - loss: 0.3585 - accuracy: 0.8479\n",
            "Epoch 4/20\n",
            "90/90 [==============================] - 8s 81ms/step - loss: 0.3467 - accuracy: 0.8562\n",
            "Epoch 5/20\n",
            "90/90 [==============================] - 7s 63ms/step - loss: 0.3468 - accuracy: 0.8451\n",
            "Epoch 6/20\n",
            "90/90 [==============================] - 8s 82ms/step - loss: 0.4014 - accuracy: 0.8472\n",
            "Epoch 7/20\n",
            "90/90 [==============================] - 6s 62ms/step - loss: 0.3704 - accuracy: 0.8326\n",
            "Epoch 8/20\n",
            "90/90 [==============================] - 8s 77ms/step - loss: 0.2818 - accuracy: 0.8847\n",
            "Epoch 9/20\n",
            "90/90 [==============================] - 6s 62ms/step - loss: 0.2700 - accuracy: 0.9042\n",
            "Epoch 10/20\n",
            "90/90 [==============================] - 6s 62ms/step - loss: 0.2051 - accuracy: 0.9229\n",
            "Epoch 11/20\n",
            "90/90 [==============================] - 7s 65ms/step - loss: 0.1803 - accuracy: 0.9389\n",
            "Epoch 12/20\n",
            "90/90 [==============================] - 7s 72ms/step - loss: 0.1585 - accuracy: 0.9458\n",
            "Epoch 13/20\n",
            "90/90 [==============================] - 6s 62ms/step - loss: 0.1472 - accuracy: 0.9569\n",
            "Epoch 14/20\n",
            "90/90 [==============================] - 8s 82ms/step - loss: 0.1079 - accuracy: 0.9653\n",
            "Epoch 15/20\n",
            "90/90 [==============================] - 7s 64ms/step - loss: 0.1513 - accuracy: 0.9472\n",
            "Epoch 16/20\n",
            "90/90 [==============================] - 8s 74ms/step - loss: 0.1561 - accuracy: 0.9472\n",
            "Epoch 17/20\n",
            "90/90 [==============================] - 9s 92ms/step - loss: 0.1175 - accuracy: 0.9625\n",
            "Epoch 18/20\n",
            "90/90 [==============================] - 7s 65ms/step - loss: 0.1090 - accuracy: 0.9625\n",
            "Epoch 19/20\n",
            "90/90 [==============================] - 7s 75ms/step - loss: 0.1006 - accuracy: 0.9618\n",
            "Epoch 20/20\n",
            "90/90 [==============================] - 6s 62ms/step - loss: 0.0440 - accuracy: 0.9896\n",
            "\n",
            "\n",
            "Evaluating the model\n",
            "\n",
            "\n",
            "10/10 [==============================] - 1s 54ms/step - loss: 0.0220 - accuracy: 0.9937\n",
            "--------------------------------------------------------------------------------------------\n",
            "Fold 2\n",
            "--------------------------------------------------------------------------------------------\n",
            "Epoch 1/20\n",
            "90/90 [==============================] - 11s 80ms/step - loss: 0.5451 - accuracy: 0.7590\n",
            "Epoch 2/20\n",
            "90/90 [==============================] - 9s 97ms/step - loss: 0.4069 - accuracy: 0.8306\n",
            "Epoch 3/20\n",
            "90/90 [==============================] - 7s 79ms/step - loss: 0.4472 - accuracy: 0.7951\n",
            "Epoch 4/20\n",
            "90/90 [==============================] - 7s 77ms/step - loss: 0.4242 - accuracy: 0.8368\n",
            "Epoch 5/20\n",
            "90/90 [==============================] - 9s 96ms/step - loss: 0.3540 - accuracy: 0.8542\n",
            "Epoch 6/20\n",
            "90/90 [==============================] - 8s 84ms/step - loss: 0.3476 - accuracy: 0.8493\n",
            "Epoch 7/20\n",
            "90/90 [==============================] - 7s 77ms/step - loss: 0.3076 - accuracy: 0.8750\n",
            "Epoch 8/20\n",
            "90/90 [==============================] - 9s 98ms/step - loss: 0.2716 - accuracy: 0.8924\n",
            "Epoch 9/20\n",
            "90/90 [==============================] - 7s 75ms/step - loss: 0.2991 - accuracy: 0.8986\n",
            "Epoch 10/20\n",
            "90/90 [==============================] - 7s 76ms/step - loss: 0.2734 - accuracy: 0.9194\n",
            "Epoch 11/20\n",
            "90/90 [==============================] - 9s 98ms/step - loss: 0.3631 - accuracy: 0.8875\n",
            "Epoch 12/20\n",
            "90/90 [==============================] - 7s 76ms/step - loss: 0.1621 - accuracy: 0.9431\n",
            "Epoch 13/20\n",
            "90/90 [==============================] - 7s 75ms/step - loss: 0.1582 - accuracy: 0.9389\n",
            "Epoch 14/20\n",
            "90/90 [==============================] - 9s 97ms/step - loss: 0.0991 - accuracy: 0.9625\n",
            "Epoch 15/20\n",
            "90/90 [==============================] - 7s 77ms/step - loss: 0.0816 - accuracy: 0.9701\n",
            "Epoch 16/20\n",
            "90/90 [==============================] - 9s 96ms/step - loss: 0.2002 - accuracy: 0.9618\n",
            "Epoch 17/20\n",
            "90/90 [==============================] - 8s 80ms/step - loss: 0.1724 - accuracy: 0.9493\n",
            "Epoch 18/20\n",
            "90/90 [==============================] - 10s 108ms/step - loss: 0.0725 - accuracy: 0.9764\n",
            "Epoch 19/20\n",
            "90/90 [==============================] - 9s 93ms/step - loss: 0.0636 - accuracy: 0.9757\n",
            "Epoch 20/20\n",
            "90/90 [==============================] - 8s 78ms/step - loss: 0.0596 - accuracy: 0.9778\n",
            "\n",
            "\n",
            "Evaluating the model\n",
            "\n",
            "\n",
            "10/10 [==============================] - 1s 55ms/step - loss: 0.0752 - accuracy: 0.9875\n",
            "--------------------------------------------------------------------------------------------\n",
            "Fold 3\n",
            "--------------------------------------------------------------------------------------------\n",
            "Epoch 1/20\n",
            "90/90 [==============================] - 12s 91ms/step - loss: 0.6259 - accuracy: 0.7118\n",
            "Epoch 2/20\n",
            "90/90 [==============================] - 8s 88ms/step - loss: 0.4014 - accuracy: 0.8201\n",
            "Epoch 3/20\n",
            "90/90 [==============================] - 8s 81ms/step - loss: 0.4228 - accuracy: 0.8125\n",
            "Epoch 4/20\n",
            "90/90 [==============================] - 9s 100ms/step - loss: 0.4001 - accuracy: 0.8438\n",
            "Epoch 5/20\n",
            "90/90 [==============================] - 8s 85ms/step - loss: 0.3439 - accuracy: 0.8549\n",
            "Epoch 6/20\n",
            "90/90 [==============================] - 8s 81ms/step - loss: 0.3161 - accuracy: 0.8660\n",
            "Epoch 7/20\n",
            "90/90 [==============================] - 9s 100ms/step - loss: 0.2814 - accuracy: 0.8806\n",
            "Epoch 8/20\n",
            "90/90 [==============================] - 8s 88ms/step - loss: 0.3400 - accuracy: 0.8687\n",
            "Epoch 9/20\n",
            "90/90 [==============================] - 9s 91ms/step - loss: 0.3399 - accuracy: 0.8618\n",
            "Epoch 10/20\n",
            "90/90 [==============================] - 9s 101ms/step - loss: 0.3242 - accuracy: 0.8819\n",
            "Epoch 11/20\n",
            "90/90 [==============================] - 8s 83ms/step - loss: 0.2647 - accuracy: 0.9014\n",
            "Epoch 12/20\n",
            "90/90 [==============================] - 9s 96ms/step - loss: 0.2932 - accuracy: 0.8965\n",
            "Epoch 13/20\n",
            "90/90 [==============================] - 10s 103ms/step - loss: 0.3380 - accuracy: 0.8826\n",
            "Epoch 14/20\n",
            "90/90 [==============================] - 8s 81ms/step - loss: 0.1777 - accuracy: 0.9444\n",
            "Epoch 15/20\n",
            "90/90 [==============================] - 9s 100ms/step - loss: 0.2095 - accuracy: 0.9361\n",
            "Epoch 16/20\n",
            "90/90 [==============================] - 11s 117ms/step - loss: 0.1823 - accuracy: 0.9389\n",
            "Epoch 17/20\n",
            "90/90 [==============================] - 9s 101ms/step - loss: 0.1425 - accuracy: 0.9563\n",
            "Epoch 18/20\n",
            "90/90 [==============================] - 10s 103ms/step - loss: 0.1000 - accuracy: 0.9639\n",
            "Epoch 19/20\n",
            "90/90 [==============================] - 8s 83ms/step - loss: 0.1120 - accuracy: 0.9611\n",
            "Epoch 20/20\n",
            "90/90 [==============================] - 9s 101ms/step - loss: 0.0567 - accuracy: 0.9792\n",
            "\n",
            "\n",
            "Evaluating the model\n",
            "\n",
            "\n",
            "10/10 [==============================] - 2s 54ms/step - loss: 0.1259 - accuracy: 0.9563\n",
            "--------------------------------------------------------------------------------------------\n",
            "Fold 4\n",
            "--------------------------------------------------------------------------------------------\n",
            "Epoch 1/20\n",
            "90/90 [==============================] - 13s 108ms/step - loss: 0.6557 - accuracy: 0.6868\n",
            "Epoch 2/20\n",
            "90/90 [==============================] - 8s 87ms/step - loss: 0.4041 - accuracy: 0.8333\n",
            "Epoch 3/20\n",
            "90/90 [==============================] - 9s 90ms/step - loss: 0.3919 - accuracy: 0.8271\n",
            "Epoch 4/20\n",
            "90/90 [==============================] - 10s 105ms/step - loss: 0.3426 - accuracy: 0.8597\n",
            "Epoch 5/20\n",
            "90/90 [==============================] - 10s 107ms/step - loss: 0.3389 - accuracy: 0.8410\n",
            "Epoch 6/20\n",
            "90/90 [==============================] - 8s 87ms/step - loss: 0.3511 - accuracy: 0.8556\n",
            "Epoch 7/20\n",
            "90/90 [==============================] - 10s 104ms/step - loss: 0.3060 - accuracy: 0.8799\n",
            "Epoch 8/20\n",
            "90/90 [==============================] - 10s 103ms/step - loss: 0.3317 - accuracy: 0.8590\n",
            "Epoch 9/20\n",
            "90/90 [==============================] - 8s 87ms/step - loss: 0.3481 - accuracy: 0.8604\n",
            "Epoch 10/20\n",
            "90/90 [==============================] - 10s 105ms/step - loss: 0.3152 - accuracy: 0.8903\n",
            "Epoch 11/20\n",
            "90/90 [==============================] - 9s 99ms/step - loss: 0.2374 - accuracy: 0.9056\n",
            "Epoch 12/20\n",
            "90/90 [==============================] - 9s 89ms/step - loss: 0.2648 - accuracy: 0.8979\n",
            "Epoch 13/20\n",
            "90/90 [==============================] - 12s 129ms/step - loss: 0.2717 - accuracy: 0.9132\n",
            "Epoch 14/20\n",
            "90/90 [==============================] - 9s 91ms/step - loss: 0.2282 - accuracy: 0.9167\n",
            "Epoch 15/20\n",
            "90/90 [==============================] - 10s 104ms/step - loss: 0.1660 - accuracy: 0.9396\n",
            "Epoch 16/20\n",
            "90/90 [==============================] - 10s 103ms/step - loss: 0.2329 - accuracy: 0.9264\n",
            "Epoch 17/20\n",
            "90/90 [==============================] - 8s 84ms/step - loss: 0.1924 - accuracy: 0.9285\n",
            "Epoch 18/20\n",
            "90/90 [==============================] - 10s 106ms/step - loss: 0.1675 - accuracy: 0.9472\n",
            "Epoch 19/20\n",
            "90/90 [==============================] - 10s 109ms/step - loss: 0.1520 - accuracy: 0.9438\n",
            "Epoch 20/20\n",
            "90/90 [==============================] - 8s 87ms/step - loss: 0.1962 - accuracy: 0.9403\n",
            "\n",
            "\n",
            "Evaluating the model\n",
            "\n",
            "\n",
            "10/10 [==============================] - 3s 56ms/step - loss: 0.0483 - accuracy: 0.9875\n",
            "--------------------------------------------------------------------------------------------\n",
            "Fold 5\n",
            "--------------------------------------------------------------------------------------------\n",
            "Epoch 1/20\n",
            "90/90 [==============================] - 13s 112ms/step - loss: 0.6474 - accuracy: 0.7458\n",
            "Epoch 2/20\n",
            "90/90 [==============================] - 10s 104ms/step - loss: 0.4046 - accuracy: 0.8097\n",
            "Epoch 3/20\n",
            "90/90 [==============================] - 10s 111ms/step - loss: 0.4003 - accuracy: 0.8229\n",
            "Epoch 4/20\n",
            "90/90 [==============================] - 9s 91ms/step - loss: 0.3300 - accuracy: 0.8465\n",
            "Epoch 5/20\n",
            "90/90 [==============================] - 10s 111ms/step - loss: 0.3096 - accuracy: 0.8556\n",
            "Epoch 6/20\n",
            "90/90 [==============================] - 9s 95ms/step - loss: 0.2898 - accuracy: 0.8729\n",
            "Epoch 7/20\n",
            "90/90 [==============================] - 12s 125ms/step - loss: 0.2894 - accuracy: 0.8667\n",
            "Epoch 8/20\n",
            "90/90 [==============================] - 10s 108ms/step - loss: 0.2631 - accuracy: 0.8993\n",
            "Epoch 9/20\n",
            "90/90 [==============================] - 9s 100ms/step - loss: 0.2929 - accuracy: 0.8889\n",
            "Epoch 10/20\n",
            "90/90 [==============================] - 9s 96ms/step - loss: 0.2892 - accuracy: 0.8944\n",
            "Epoch 11/20\n",
            "90/90 [==============================] - 10s 109ms/step - loss: 0.2317 - accuracy: 0.9118\n",
            "Epoch 12/20\n",
            "90/90 [==============================] - 10s 104ms/step - loss: 0.2814 - accuracy: 0.9160\n",
            "Epoch 13/20\n",
            "90/90 [==============================] - 9s 95ms/step - loss: 0.2492 - accuracy: 0.9222\n",
            "Epoch 14/20\n",
            "90/90 [==============================] - 10s 111ms/step - loss: 0.1814 - accuracy: 0.9479\n",
            "Epoch 15/20\n",
            "90/90 [==============================] - 9s 98ms/step - loss: 0.1445 - accuracy: 0.9486\n",
            "Epoch 16/20\n",
            "90/90 [==============================] - 10s 102ms/step - loss: 0.1415 - accuracy: 0.9438\n",
            "Epoch 17/20\n",
            "90/90 [==============================] - 10s 109ms/step - loss: 0.0932 - accuracy: 0.9701\n",
            "Epoch 18/20\n",
            "90/90 [==============================] - 10s 104ms/step - loss: 0.0949 - accuracy: 0.9694\n",
            "Epoch 19/20\n",
            "90/90 [==============================] - 9s 92ms/step - loss: 0.0629 - accuracy: 0.9785\n",
            "Epoch 20/20\n",
            "90/90 [==============================] - 10s 110ms/step - loss: 0.0588 - accuracy: 0.9806\n",
            "\n",
            "\n",
            "Evaluating the model\n",
            "\n",
            "\n",
            "10/10 [==============================] - 3s 55ms/step - loss: 0.1448 - accuracy: 0.9500\n",
            "--------------------------------------------------------------------------------------------\n",
            "Fold 6\n",
            "--------------------------------------------------------------------------------------------\n",
            "Epoch 1/20\n",
            "90/90 [==============================] - 13s 104ms/step - loss: 0.6523 - accuracy: 0.7174\n",
            "Epoch 2/20\n",
            "90/90 [==============================] - 12s 130ms/step - loss: 0.4669 - accuracy: 0.7924\n",
            "Epoch 3/20\n",
            "90/90 [==============================] - 9s 99ms/step - loss: 0.3840 - accuracy: 0.8389\n",
            "Epoch 4/20\n",
            "90/90 [==============================] - 11s 111ms/step - loss: 0.3972 - accuracy: 0.8250\n",
            "Epoch 5/20\n",
            "90/90 [==============================] - 11s 115ms/step - loss: 0.3109 - accuracy: 0.8694\n",
            "Epoch 6/20\n",
            "90/90 [==============================] - 11s 112ms/step - loss: 0.3091 - accuracy: 0.8667\n",
            "Epoch 7/20\n",
            "90/90 [==============================] - 11s 114ms/step - loss: 0.3373 - accuracy: 0.8611\n",
            "Epoch 8/20\n",
            "90/90 [==============================] - 11s 116ms/step - loss: 0.2819 - accuracy: 0.8757\n",
            "Epoch 9/20\n",
            "90/90 [==============================] - 10s 111ms/step - loss: 0.3433 - accuracy: 0.8708\n",
            "Epoch 10/20\n",
            "90/90 [==============================] - 11s 117ms/step - loss: 0.2623 - accuracy: 0.8917\n",
            "Epoch 11/20\n",
            "90/90 [==============================] - 11s 117ms/step - loss: 0.3507 - accuracy: 0.8743\n",
            "Epoch 12/20\n",
            "90/90 [==============================] - 10s 107ms/step - loss: 0.3136 - accuracy: 0.8556\n",
            "Epoch 13/20\n",
            "90/90 [==============================] - 11s 121ms/step - loss: 0.3060 - accuracy: 0.8854\n",
            "Epoch 14/20\n",
            "90/90 [==============================] - 11s 113ms/step - loss: 0.2562 - accuracy: 0.8951\n",
            "Epoch 15/20\n",
            "90/90 [==============================] - 11s 113ms/step - loss: 0.1675 - accuracy: 0.9444\n",
            "Epoch 16/20\n",
            "90/90 [==============================] - 11s 115ms/step - loss: 0.2451 - accuracy: 0.9167\n",
            "Epoch 17/20\n",
            "90/90 [==============================] - 10s 110ms/step - loss: 0.1717 - accuracy: 0.9472\n",
            "Epoch 18/20\n",
            "90/90 [==============================] - 11s 116ms/step - loss: 0.2077 - accuracy: 0.9382\n",
            "Epoch 19/20\n",
            "90/90 [==============================] - 10s 109ms/step - loss: 0.1521 - accuracy: 0.9535\n",
            "Epoch 20/20\n",
            "90/90 [==============================] - 10s 101ms/step - loss: 0.1619 - accuracy: 0.9431\n",
            "\n",
            "\n",
            "Evaluating the model\n",
            "\n",
            "\n",
            "10/10 [==============================] - 4s 97ms/step - loss: 0.2300 - accuracy: 0.9438\n",
            "--------------------------------------------------------------------------------------------\n",
            "Fold 7\n",
            "--------------------------------------------------------------------------------------------\n",
            "Epoch 1/20\n",
            "90/90 [==============================] - 13s 120ms/step - loss: 0.7597 - accuracy: 0.6833\n",
            "Epoch 2/20\n",
            "90/90 [==============================] - 10s 102ms/step - loss: 0.4105 - accuracy: 0.8118\n",
            "Epoch 3/20\n",
            "90/90 [==============================] - 11s 120ms/step - loss: 0.4095 - accuracy: 0.8354\n",
            "Epoch 4/20\n",
            "90/90 [==============================] - 11s 117ms/step - loss: 0.3315 - accuracy: 0.8681\n",
            "Epoch 5/20\n",
            "90/90 [==============================] - 9s 100ms/step - loss: 0.3846 - accuracy: 0.8326\n",
            "Epoch 6/20\n",
            "90/90 [==============================] - 11s 117ms/step - loss: 0.3412 - accuracy: 0.8417\n",
            "Epoch 7/20\n",
            "90/90 [==============================] - 11s 122ms/step - loss: 0.3077 - accuracy: 0.8743\n",
            "Epoch 8/20\n",
            "90/90 [==============================] - 10s 104ms/step - loss: 0.2718 - accuracy: 0.8778\n",
            "Epoch 9/20\n",
            "90/90 [==============================] - 11s 115ms/step - loss: 0.4311 - accuracy: 0.8326\n",
            "Epoch 10/20\n",
            "90/90 [==============================] - 11s 119ms/step - loss: 0.2587 - accuracy: 0.8972\n",
            "Epoch 11/20\n",
            "90/90 [==============================] - 11s 120ms/step - loss: 0.2382 - accuracy: 0.9062\n",
            "Epoch 12/20\n",
            "90/90 [==============================] - 11s 115ms/step - loss: 0.2486 - accuracy: 0.9306\n",
            "Epoch 13/20\n",
            "90/90 [==============================] - 11s 122ms/step - loss: 0.1852 - accuracy: 0.9389\n",
            "Epoch 14/20\n",
            "90/90 [==============================] - 11s 117ms/step - loss: 0.1565 - accuracy: 0.9465\n",
            "Epoch 15/20\n",
            "90/90 [==============================] - 11s 120ms/step - loss: 0.1887 - accuracy: 0.9361\n",
            "Epoch 16/20\n",
            "90/90 [==============================] - 10s 106ms/step - loss: 0.1513 - accuracy: 0.9556\n",
            "Epoch 17/20\n",
            "90/90 [==============================] - 13s 134ms/step - loss: 0.1259 - accuracy: 0.9583\n",
            "Epoch 18/20\n",
            "90/90 [==============================] - 11s 118ms/step - loss: 0.1502 - accuracy: 0.9549\n",
            "Epoch 19/20\n",
            "90/90 [==============================] - 10s 105ms/step - loss: 0.0557 - accuracy: 0.9785\n",
            "Epoch 20/20\n",
            "90/90 [==============================] - 11s 122ms/step - loss: 0.0459 - accuracy: 0.9833\n",
            "\n",
            "\n",
            "Evaluating the model\n",
            "\n",
            "\n",
            "10/10 [==============================] - 4s 56ms/step - loss: 0.0421 - accuracy: 0.9875\n",
            "--------------------------------------------------------------------------------------------\n",
            "Fold 8\n",
            "--------------------------------------------------------------------------------------------\n",
            "Epoch 1/20\n",
            "90/90 [==============================] - 14s 112ms/step - loss: 0.5802 - accuracy: 0.7479\n",
            "Epoch 2/20\n",
            "90/90 [==============================] - 12s 127ms/step - loss: 0.3971 - accuracy: 0.8389\n",
            "Epoch 3/20\n",
            "90/90 [==============================] - 11s 121ms/step - loss: 0.3945 - accuracy: 0.8313\n",
            "Epoch 4/20\n",
            "90/90 [==============================] - 12s 126ms/step - loss: 0.3727 - accuracy: 0.8368\n",
            "Epoch 5/20\n",
            "90/90 [==============================] - 11s 123ms/step - loss: 0.3263 - accuracy: 0.8618\n",
            "Epoch 6/20\n",
            "90/90 [==============================] - 11s 124ms/step - loss: 0.3570 - accuracy: 0.8556\n",
            "Epoch 7/20\n",
            "90/90 [==============================] - 12s 126ms/step - loss: 0.3265 - accuracy: 0.8604\n",
            "Epoch 8/20\n",
            "90/90 [==============================] - 13s 146ms/step - loss: 0.2767 - accuracy: 0.8868\n",
            "Epoch 9/20\n",
            "90/90 [==============================] - 11s 120ms/step - loss: 0.2840 - accuracy: 0.8868\n",
            "Epoch 10/20\n",
            "90/90 [==============================] - 12s 126ms/step - loss: 0.2652 - accuracy: 0.8944\n",
            "Epoch 11/20\n",
            "90/90 [==============================] - 11s 121ms/step - loss: 0.2731 - accuracy: 0.9035\n",
            "Epoch 12/20\n",
            "90/90 [==============================] - 12s 126ms/step - loss: 0.2336 - accuracy: 0.9139\n",
            "Epoch 13/20\n",
            "90/90 [==============================] - 11s 120ms/step - loss: 0.2407 - accuracy: 0.9153\n",
            "Epoch 14/20\n",
            "90/90 [==============================] - 12s 128ms/step - loss: 0.2503 - accuracy: 0.9028\n",
            "Epoch 15/20\n",
            "90/90 [==============================] - 12s 125ms/step - loss: 0.2199 - accuracy: 0.9299\n",
            "Epoch 16/20\n",
            "90/90 [==============================] - 12s 126ms/step - loss: 0.1904 - accuracy: 0.9333\n",
            "Epoch 17/20\n",
            "90/90 [==============================] - 10s 109ms/step - loss: 0.1585 - accuracy: 0.9486\n",
            "Epoch 18/20\n",
            "90/90 [==============================] - 11s 119ms/step - loss: 0.1778 - accuracy: 0.9479\n",
            "Epoch 19/20\n",
            "90/90 [==============================] - 12s 128ms/step - loss: 0.1693 - accuracy: 0.9424\n",
            "Epoch 20/20\n",
            "90/90 [==============================] - 13s 141ms/step - loss: 0.0692 - accuracy: 0.9729\n",
            "\n",
            "\n",
            "Evaluating the model\n",
            "\n",
            "\n",
            "10/10 [==============================] - 5s 54ms/step - loss: 0.0485 - accuracy: 0.9875\n",
            "--------------------------------------------------------------------------------------------\n",
            "Fold 9\n",
            "--------------------------------------------------------------------------------------------\n",
            "Epoch 1/20\n",
            "90/90 [==============================] - 15s 134ms/step - loss: 0.7623 - accuracy: 0.6660\n",
            "Epoch 2/20\n",
            "90/90 [==============================] - 12s 126ms/step - loss: 0.4199 - accuracy: 0.8299\n",
            "Epoch 3/20\n",
            "90/90 [==============================] - 12s 129ms/step - loss: 0.4379 - accuracy: 0.8236\n",
            "Epoch 4/20\n",
            "90/90 [==============================] - 12s 126ms/step - loss: 0.3418 - accuracy: 0.8604\n",
            "Epoch 5/20\n",
            "90/90 [==============================] - 11s 112ms/step - loss: 0.3988 - accuracy: 0.8299\n",
            "Epoch 6/20\n",
            "90/90 [==============================] - 12s 132ms/step - loss: 0.3772 - accuracy: 0.8424\n",
            "Epoch 7/20\n",
            "90/90 [==============================] - 11s 120ms/step - loss: 0.3635 - accuracy: 0.8444\n",
            "Epoch 8/20\n",
            "90/90 [==============================] - 12s 132ms/step - loss: 0.3444 - accuracy: 0.8521\n",
            "Epoch 9/20\n",
            "90/90 [==============================] - 12s 130ms/step - loss: 0.3175 - accuracy: 0.8667\n",
            "Epoch 10/20\n",
            "90/90 [==============================] - 14s 151ms/step - loss: 0.3170 - accuracy: 0.8868\n",
            "Epoch 11/20\n",
            "90/90 [==============================] - 12s 132ms/step - loss: 0.2862 - accuracy: 0.8785\n",
            "Epoch 12/20\n",
            "90/90 [==============================] - 12s 133ms/step - loss: 0.2648 - accuracy: 0.8965\n",
            "Epoch 13/20\n",
            "90/90 [==============================] - 12s 131ms/step - loss: 0.2459 - accuracy: 0.9000\n",
            "Epoch 14/20\n",
            "90/90 [==============================] - 11s 122ms/step - loss: 0.2503 - accuracy: 0.9035\n",
            "Epoch 15/20\n",
            "90/90 [==============================] - 11s 118ms/step - loss: 0.3074 - accuracy: 0.8910\n",
            "Epoch 16/20\n",
            "90/90 [==============================] - 12s 133ms/step - loss: 0.2427 - accuracy: 0.9097\n",
            "Epoch 17/20\n",
            "90/90 [==============================] - 12s 130ms/step - loss: 0.3877 - accuracy: 0.8861\n",
            "Epoch 18/20\n",
            "90/90 [==============================] - 10s 111ms/step - loss: 0.2122 - accuracy: 0.9181\n",
            "Epoch 19/20\n",
            "90/90 [==============================] - 12s 132ms/step - loss: 0.1809 - accuracy: 0.9319\n",
            "Epoch 20/20\n",
            "90/90 [==============================] - 12s 126ms/step - loss: 0.1760 - accuracy: 0.9424\n",
            "\n",
            "\n",
            "Evaluating the model\n",
            "\n",
            "\n",
            "10/10 [==============================] - 7s 106ms/step - loss: 0.0994 - accuracy: 0.9438\n",
            "--------------------------------------------------------------------------------------------\n",
            "Fold 10\n",
            "--------------------------------------------------------------------------------------------\n",
            "Epoch 1/20\n",
            "90/90 [==============================] - 10s 64ms/step - loss: 0.6706 - accuracy: 0.6979\n",
            "Epoch 2/20\n",
            "90/90 [==============================] - 8s 78ms/step - loss: 0.4624 - accuracy: 0.8007\n",
            "Epoch 3/20\n",
            "90/90 [==============================] - 6s 64ms/step - loss: 0.4071 - accuracy: 0.8326\n",
            "Epoch 4/20\n",
            "90/90 [==============================] - 7s 66ms/step - loss: 0.3836 - accuracy: 0.8354\n",
            "Epoch 5/20\n",
            "90/90 [==============================] - 8s 84ms/step - loss: 0.3790 - accuracy: 0.8389\n",
            "Epoch 6/20\n",
            "90/90 [==============================] - 6s 64ms/step - loss: 0.3227 - accuracy: 0.8653\n",
            "Epoch 7/20\n",
            "90/90 [==============================] - 6s 64ms/step - loss: 0.3526 - accuracy: 0.8542\n",
            "Epoch 8/20\n",
            "90/90 [==============================] - 8s 77ms/step - loss: 0.3387 - accuracy: 0.8660\n",
            "Epoch 9/20\n",
            "90/90 [==============================] - 6s 65ms/step - loss: 0.2758 - accuracy: 0.8778\n",
            "Epoch 10/20\n",
            "90/90 [==============================] - 6s 64ms/step - loss: 0.2479 - accuracy: 0.8917\n",
            "Epoch 11/20\n",
            "90/90 [==============================] - 7s 67ms/step - loss: 0.2249 - accuracy: 0.9118\n",
            "Epoch 12/20\n",
            "90/90 [==============================] - 7s 78ms/step - loss: 0.2869 - accuracy: 0.9069\n",
            "Epoch 13/20\n",
            "90/90 [==============================] - 7s 67ms/step - loss: 0.2710 - accuracy: 0.9160\n",
            "Epoch 14/20\n",
            "90/90 [==============================] - 8s 83ms/step - loss: 0.1470 - accuracy: 0.9535\n",
            "Epoch 15/20\n",
            "90/90 [==============================] - 6s 67ms/step - loss: 0.1253 - accuracy: 0.9556\n",
            "Epoch 16/20\n",
            "90/90 [==============================] - 8s 78ms/step - loss: 0.1158 - accuracy: 0.9639\n",
            "Epoch 17/20\n",
            "90/90 [==============================] - 8s 82ms/step - loss: 0.0860 - accuracy: 0.9736\n",
            "Epoch 18/20\n",
            "90/90 [==============================] - 7s 65ms/step - loss: 0.0849 - accuracy: 0.9701\n",
            "Epoch 19/20\n",
            "90/90 [==============================] - 8s 85ms/step - loss: 0.0788 - accuracy: 0.9701\n",
            "Epoch 20/20\n",
            "90/90 [==============================] - 6s 64ms/step - loss: 0.0563 - accuracy: 0.9806\n",
            "\n",
            "\n",
            "Evaluating the model\n",
            "\n",
            "\n",
            "10/10 [==============================] - 6s 53ms/step - loss: 0.0241 - accuracy: 0.9937\n",
            "--------------------------------------------------------------------------------------------\n"
          ]
        }
      ],
      "source": [
        "i=0\n",
        "j=10\n",
        "k=90\n",
        "\n",
        "for fold_var in range(0,FOLDS,1):\n",
        "  print(f'Fold {fold_var+1}')\n",
        "  print('--------------------------------------------------------------------------------------------')\n",
        "  training_set1=normalized_train_val_set.take(i)\n",
        "  training_set2=normalized_train_val_set.skip(i+j).take(k)\n",
        "  training_set=training_set1.concatenate(training_set2)\n",
        "  validation_set=normalized_train_val_set.skip(i).take(j)\n",
        "  i=i+10\n",
        "  j=10\n",
        "  k=k-10\n",
        "  \n",
        "  model=Build_Model()\n",
        "  Model_Run = model.fit(\n",
        "    training_set,\n",
        "    epochs=20,\n",
        "    steps_per_epoch=len(training_set),\n",
        "    callbacks=[tensorboard_callback]\n",
        "  )\n",
        "  print('\\n')\n",
        "  print(f'Evaluating the model')\n",
        "  print('\\n')\n",
        "  cur_scores=model.evaluate(validation_set)\n",
        "  cur_scores[0]*=100\n",
        "  cur_scores[1]*=100\n",
        "  cur_scores=[fold_var+1,cur_scores[0],cur_scores[1]]\n",
        "  SCORES_PER_FOLD.append(cur_scores)\n",
        "\n",
        "  model.save(model_dir+'model_'+str(fold_var+1)+'.h5')\n",
        "  print('--------------------------------------------------------------------------------------------')\n",
        "  tf.keras.backend.clear_session()\n"
      ]
    },
    {
      "cell_type": "code",
      "execution_count": 15,
      "metadata": {
        "id": "IxXiy2USK3hC",
        "colab": {
          "base_uri": "https://localhost:8080/"
        },
        "outputId": "5c528991-a3a3-4275-d3b3-92d4900b6fb0"
      },
      "outputs": [
        {
          "output_type": "stream",
          "name": "stdout",
          "text": [
            "+---------------+----------------------+--------------------------+\n",
            "|   Fold Number |   Validation Loss(%) |   Validation Accuracy(%) |\n",
            "+===============+======================+==========================+\n",
            "|             1 |              2.20251 |                   99.375 |\n",
            "+---------------+----------------------+--------------------------+\n",
            "|             2 |              7.52324 |                   98.75  |\n",
            "+---------------+----------------------+--------------------------+\n",
            "|             3 |             12.5908  |                   95.625 |\n",
            "+---------------+----------------------+--------------------------+\n",
            "|             4 |              4.83278 |                   98.75  |\n",
            "+---------------+----------------------+--------------------------+\n",
            "|             5 |             14.4795  |                   95     |\n",
            "+---------------+----------------------+--------------------------+\n",
            "|             6 |             22.9983  |                   94.375 |\n",
            "+---------------+----------------------+--------------------------+\n",
            "|             7 |              4.21086 |                   98.75  |\n",
            "+---------------+----------------------+--------------------------+\n",
            "|             8 |              4.8503  |                   98.75  |\n",
            "+---------------+----------------------+--------------------------+\n",
            "|             9 |              9.94335 |                   94.375 |\n",
            "+---------------+----------------------+--------------------------+\n",
            "|            10 |              2.41131 |                   99.375 |\n",
            "+---------------+----------------------+--------------------------+\n"
          ]
        }
      ],
      "source": [
        "column_headers=['Fold Number','Validation Loss(%)','Validation Accuracy(%)']\n",
        "print('10 Fold Cross Validation Result')\n",
        "print(tabulate(SCORES_PER_FOLD, headers=column_headers, tablefmt=\"grid\"))"
      ]
    },
    {
      "cell_type": "markdown",
      "metadata": {
        "id": "Ou_MBkGIG1sd"
      },
      "source": [
        "### Selecting the model with highest accuracy for training"
      ]
    },
    {
      "cell_type": "code",
      "execution_count": 16,
      "metadata": {
        "id": "iIj4X_luG1Ce",
        "colab": {
          "base_uri": "https://localhost:8080/"
        },
        "outputId": "4ec0cb92-4251-47b8-8de7-06aa9eaebe44"
      },
      "outputs": [
        {
          "output_type": "stream",
          "name": "stdout",
          "text": [
            "The maximum validation accuracy is: 99.37499761581421\n",
            "The folds having 99.37499761581421 validation accuracy are:\n",
            "1\n",
            "10\n",
            "Selecting the model of fold no 1 for fine parameter tuning\n"
          ]
        }
      ],
      "source": [
        "max_acc=SCORES_PER_FOLD[0][2]\n",
        "max_acc_index=[]\n",
        "for i in range(len(SCORES_PER_FOLD)):\n",
        "  if(SCORES_PER_FOLD[i][2]>max_acc):\n",
        "    max_acc=SCORES_PER_FOLD[i][2]\n",
        "print(f'The maximum validation accuracy is: {max_acc}')\n",
        "for i in range(len(SCORES_PER_FOLD)):\n",
        "  if(SCORES_PER_FOLD[i][2]==max_acc):\n",
        "    max_acc_index.append(i)\n",
        "print(f'The folds having {max_acc} validation accuracy are:')\n",
        "for i in range(len(max_acc_index)):\n",
        "  print(max_acc_index[i]+1)\n",
        "\n",
        "result=-1\n",
        "if(len(max_acc_index)>1):\n",
        "    min_loss=SCORES_PER_FOLD[max_acc_index[0]][1]\n",
        "    j=0\n",
        "    result=max_acc_index[0]\n",
        "    while(j<len(max_acc_index)):\n",
        "      index=max_acc_index[j]\n",
        "      if(SCORES_PER_FOLD[index][1]<min_loss):\n",
        "        min_loss=SCORES_PER_FOLD[index][1]\n",
        "        result=index\n",
        "      j+=1\n",
        "else:\n",
        "  result=max_acc_index[0]\n",
        "print(f'Selecting the model of fold no {result+1} for fine parameter tuning')\n",
        "model=load_model(model_dir+'model_'+str(result+1)+'.h5')"
      ]
    },
    {
      "cell_type": "markdown",
      "metadata": {
        "id": "5WyyGpDKsyuK"
      },
      "source": [
        "### Training the model for fine parameter tuning"
      ]
    },
    {
      "cell_type": "code",
      "execution_count": null,
      "metadata": {
        "id": "QXQHGC5ys6Up"
      },
      "outputs": [],
      "source": [
        "training_set=normalized_train_val_set.take(80)\n",
        "validation_set=normalized_train_val_set.skip(80).take(20)\n",
        "\n",
        "Cur_Model_Run = model.fit(\n",
        "    training_set,\n",
        "    validation_data=validation_set,\n",
        "    epochs=30,\n",
        "    steps_per_epoch=len(training_set),\n",
        "    validation_steps=len(validation_set),\n",
        "    callbacks=[tensorboard_callback]\n",
        "  )"
      ]
    },
    {
      "cell_type": "markdown",
      "source": [
        "### Saving the fine tuned model"
      ],
      "metadata": {
        "id": "2Bs6G7k2biNO"
      }
    },
    {
      "cell_type": "code",
      "source": [
        "model.save('/content/drive/MyDrive/Project_2_Conference_Journal_Work/Journal_Related/model_fine_tuned.h5')"
      ],
      "metadata": {
        "id": "xVajQWKsbhq5"
      },
      "execution_count": null,
      "outputs": []
    },
    {
      "cell_type": "markdown",
      "metadata": {
        "id": "dAfpCTCWExrN"
      },
      "source": [
        "### Plotting the performance of the model after fine parameter tuning"
      ]
    },
    {
      "cell_type": "code",
      "execution_count": null,
      "metadata": {
        "id": "Ip0NtKLos4sU"
      },
      "outputs": [],
      "source": [
        "# Plotting the loss\n",
        "\n",
        "\n",
        "fig=plt.figure(figsize=(10,6));\n",
        "plt.plot(Cur_Model_Run.history['loss'], color='blue', label='Training Loss')\n",
        "plt.plot(Cur_Model_Run.history['val_loss'], color='red', label='Validation Loss')\n",
        "plt.xlabel(\"Epochs\")\n",
        "plt.ylabel(\"Loss\")\n",
        "fig.suptitle('Loss',fontsize=15)\n",
        "plt.legend()\n",
        "plt.show()\n",
        "fig.savefig('/content/drive/MyDrive/Project_2_Conference_Journal_Work/Journal_Related/Loss.eps', format='eps', dpi=600)"
      ]
    },
    {
      "cell_type": "code",
      "execution_count": null,
      "metadata": {
        "id": "Qif0CC2Wx-zq"
      },
      "outputs": [],
      "source": [
        "# Plotting the accuracy\n",
        "\n",
        "\n",
        "fig=plt.figure(figsize=(10,6));\n",
        "plt.plot(Cur_Model_Run.history['accuracy'], color='blue', label='Training Accuracy')\n",
        "plt.plot(Cur_Model_Run.history['val_accuracy'], color='red', label='Validation Accuracy')\n",
        "plt.xlabel(\"Epochs\")\n",
        "plt.ylabel(\"Accuracy\")\n",
        "fig.suptitle('Accuracy',fontsize=15)\n",
        "plt.legend()\n",
        "plt.show()\n",
        "fig.savefig('/content/drive/MyDrive/Project_2_Conference_Journal_Work/Journal_Related/Accuracy.eps', format='eps', dpi=600)"
      ]
    },
    {
      "cell_type": "markdown",
      "metadata": {
        "id": "ry0YiEGL4H7v"
      },
      "source": [
        "###Calcualting Precision, Recall, Accuracy, F Score, Cohen-Kappa Score,ROC AUC and Log-Loss Score of the Model"
      ]
    },
    {
      "cell_type": "code",
      "execution_count": null,
      "metadata": {
        "id": "7A8M6AA-1KH0"
      },
      "outputs": [],
      "source": [
        "pre = Precision()\n",
        "re = Recall()\n",
        "acc = Accuracy()"
      ]
    },
    {
      "cell_type": "code",
      "execution_count": null,
      "metadata": {
        "id": "JOFrZ_XmgIx0"
      },
      "outputs": [],
      "source": [
        "True_label=[]\n",
        "Predicted_label=[]\n",
        "Predicted_probabilities=[]\n",
        "score=[]\n",
        "for images,labels in (normalized_testing_set):              \n",
        "  score.append(model.evaluate(images,labels))\n",
        "  for it in range(len(labels)):\n",
        "    True_label.append(labels[it])\n",
        "  pred=model.predict(images)\n",
        "  y_max=[]\n",
        "  for it in range(len(pred)):\n",
        "      Predicted_probabilities.append(pred[it])\n",
        "      y_max.append(np.argmax(pred[it]))\n",
        "      Predicted_label.append(np.argmax(pred[it]))\n",
        "  pre.update_state(labels,y_max)\n",
        "  re.update_state(labels,y_max)\n",
        "  acc.update_state(labels,y_max)"
      ]
    },
    {
      "cell_type": "code",
      "execution_count": null,
      "metadata": {
        "id": "sXaKqak7HO2B"
      },
      "outputs": [],
      "source": [
        "f_score=(2*pre.result().numpy()*re.result().numpy())/(pre.result().numpy()+re.result().numpy())"
      ]
    },
    {
      "cell_type": "code",
      "source": [
        "kappa=cohen_kappa_score(True_label,Predicted_label)"
      ],
      "metadata": {
        "id": "XMzexDbXotg7"
      },
      "execution_count": null,
      "outputs": []
    },
    {
      "cell_type": "code",
      "source": [
        "True_label=np.array(True_label)\n",
        "Predicted_label=np.array(Predicted_label)\n",
        "Predicted_probabilities=np.array(Predicted_probabilities)"
      ],
      "metadata": {
        "id": "Wcl0IrxGaLDQ"
      },
      "execution_count": null,
      "outputs": []
    },
    {
      "cell_type": "code",
      "source": [
        "Binarized_True_label=label_binarize(True_label,classes=[0, 1, 2, 3])"
      ],
      "metadata": {
        "id": "7qG_wsr3VrXg"
      },
      "execution_count": null,
      "outputs": []
    },
    {
      "cell_type": "code",
      "source": [
        "#Calcualting the fpr, tpr and auc\n",
        "\n",
        "\n",
        "fpr = [0] * 4\n",
        "tpr = [0] * 4\n",
        "roc_auc= [0] * 4\n",
        "avg_roc_auc=0\n",
        "for i in range(4):\n",
        "    fpr[i], tpr[i], _ = roc_curve(Binarized_True_label[:, i], Predicted_probabilities[:, i])\n",
        "    roc_auc[i] = auc(fpr[i], tpr[i])"
      ],
      "metadata": {
        "id": "EbK4lo_7nRS3"
      },
      "execution_count": null,
      "outputs": []
    },
    {
      "cell_type": "code",
      "source": [
        "roc_auc_details=[]\n",
        "for i in range(4):\n",
        "  temp=[CLASSES[i],roc_auc[i]]\n",
        "  roc_auc_details.append(temp)"
      ],
      "metadata": {
        "id": "rYWaDxzvmOj2"
      },
      "execution_count": null,
      "outputs": []
    },
    {
      "cell_type": "code",
      "source": [
        "column_headers=['CLASS','ROC-AUC']\n",
        "print('ROC-AUC Results')\n",
        "print(tabulate(roc_auc_details, headers=column_headers, tablefmt=\"grid\"))"
      ],
      "metadata": {
        "id": "wheI9TP_krZz"
      },
      "execution_count": null,
      "outputs": []
    },
    {
      "cell_type": "code",
      "source": [
        "avg_roc_auc=sum(roc_auc)/4"
      ],
      "metadata": {
        "id": "qiyUOxmhjm44"
      },
      "execution_count": null,
      "outputs": []
    },
    {
      "cell_type": "code",
      "source": [
        "print(f'The average ROC-AUC value is: {avg_roc_auc}')"
      ],
      "metadata": {
        "id": "0fKCrfPekteJ"
      },
      "execution_count": null,
      "outputs": []
    },
    {
      "cell_type": "code",
      "source": [
        "#Plotting the ROC Curve\n",
        "\n",
        "\n",
        "fig=plt.figure(figsize=(10,10));\n",
        "color=['red','blue','brown','orange']\n",
        "for i in range(4):\n",
        "  plt.plot(fpr[i],tpr[i],color[i],label='Class {} (AUC= {:.6F})'.format(CLASSES[i],roc_auc[i]))\n",
        "plt.plot([0, 1], [0, 1], 'k--')\n",
        "plt.xlim([0.0, 1.0])\n",
        "plt.ylim([0.0, 1.0])\n",
        "plt.xlabel('False Positive Rate')\n",
        "plt.ylabel('True Positive Rate')\n",
        "plt.title('One-vs-Rest ROC Curve',fontsize=15)\n",
        "plt.legend(loc='lower right')\n",
        "plt.show()\n",
        "fig.savefig('/content/drive/MyDrive/Project_2_Conference_Journal_Work/Journal_Related/ROC_AUC.eps', format='eps', dpi=600)"
      ],
      "metadata": {
        "id": "1TPRFUudgmbZ"
      },
      "execution_count": null,
      "outputs": []
    },
    {
      "cell_type": "code",
      "source": [
        "#Plotting the ROC Curve (Zoomed in at the top left corner)\n",
        "\n",
        "\n",
        "fig=plt.figure(figsize=(10,10));\n",
        "color=['red','blue','brown','orange']\n",
        "for i in range(4):\n",
        "  plt.plot(fpr[i],tpr[i],color[i],label='Class {} (AUC= {:.6F})'.format(CLASSES[i],roc_auc[i]))\n",
        "plt.plot([0, 1], [0, 1], 'k--')\n",
        "plt.xlim([0.0, 0.40])\n",
        "plt.ylim([0.0, 1.0])\n",
        "plt.xlabel('False Positive Rate')\n",
        "plt.ylabel('True Positive Rate')\n",
        "plt.title('One-vs-Rest ROC Curve (Zoomed top-left)',fontsize=15)\n",
        "plt.legend(loc='lower right')\n",
        "plt.show()\n",
        "fig.savefig('/content/drive/MyDrive/Project_2_Conference_Journal_Work/Journal_Related/ROC_AUC_Zoomed.eps', format='eps', dpi=600)"
      ],
      "metadata": {
        "id": "AwVBigCunRH8"
      },
      "execution_count": null,
      "outputs": []
    },
    {
      "cell_type": "code",
      "source": [
        "#Calculating the Log-loss Score (One-vs-Rest)\n",
        "\n",
        "\n",
        "temp=[0]*4\n",
        "loss=[0]*4\n",
        "epsilon = 1e-15  # Small constant to avoid division by zero\n",
        "N = Binarized_True_label.shape[0]\n",
        "    \n",
        "for i in range(4):\n",
        "  # Clip predicted probabilities to avoid log(0) cases\n",
        "  temp[i]= np.clip(Predicted_probabilities[:,i], epsilon, 1 - epsilon)\n",
        "  # Calculate cross-entropy loss\n",
        "  loss[i] = -np.sum(Binarized_True_label[:,i] * np.log(temp[i])) / N"
      ],
      "metadata": {
        "id": "QT3fQGgZ91nB"
      },
      "execution_count": null,
      "outputs": []
    },
    {
      "cell_type": "code",
      "source": [
        "log_loss_result=[]\n",
        "for i in range(4):\n",
        "  log_loss_result.append([CLASSES[i],loss[i]])"
      ],
      "metadata": {
        "id": "s3w8vzJQ0ByQ"
      },
      "execution_count": null,
      "outputs": []
    },
    {
      "cell_type": "code",
      "source": [
        "column_headers=['CLASS','LOG LOSS VALUE']\n",
        "print('Log-Loss Results')\n",
        "print(tabulate(log_loss_result, headers=column_headers, tablefmt=\"grid\"))"
      ],
      "metadata": {
        "id": "MHkko6VE0Bvm"
      },
      "execution_count": null,
      "outputs": []
    },
    {
      "cell_type": "code",
      "execution_count": null,
      "metadata": {
        "id": "vXUmWz_3AzUr"
      },
      "outputs": [],
      "source": [
        "print(f'Precision: {pre.result().numpy()}, Recall: {re.result().numpy()}, Accuracy: {acc.result().numpy()}, F Score: {f_score}, Cohen Kappa Score: {kappa}')"
      ]
    },
    {
      "cell_type": "code",
      "execution_count": null,
      "metadata": {
        "id": "8mnJ-hQR8lPL"
      },
      "outputs": [],
      "source": [
        "#Plotting the Confusion Matrix\n",
        "\n",
        "\n",
        "confusion_matrix=metrics.confusion_matrix(True_label,Predicted_label,normalize='true')\n",
        "cm_display = metrics.ConfusionMatrixDisplay(confusion_matrix = confusion_matrix, display_labels = ['1-1', '1-2','1-4','PURE'])\n",
        "fig, ax = plt.subplots(figsize=(10,10))\n",
        "cm_display.plot(ax=ax)\n",
        "plt.show();\n",
        "fig.savefig('/content/drive/MyDrive/Project_2_Conference_Journal_Work/Journal_Related/Confusion_Matrix.eps', format='eps', dpi=600)"
      ]
    },
    {
      "cell_type": "markdown",
      "metadata": {
        "id": "e6cf_9VqFDeE"
      },
      "source": [
        "### Demonstrating how to use the model"
      ]
    },
    {
      "cell_type": "code",
      "execution_count": null,
      "metadata": {
        "id": "VGVArk3JuqIh"
      },
      "outputs": [],
      "source": [
        "img=image.load_img('/content/drive/MyDrive/Project_2_Conference_Journal_Work/BLACK_WHITE/1-4/CR_B_DU_1-4_012.jpg',target_size=(256,256))"
      ]
    },
    {
      "cell_type": "code",
      "execution_count": null,
      "metadata": {
        "id": "mlSEanHNv0yv"
      },
      "outputs": [],
      "source": [
        "x=image.img_to_array(img)"
      ]
    },
    {
      "cell_type": "code",
      "execution_count": null,
      "metadata": {
        "id": "Ytjm1xNNwDiw"
      },
      "outputs": [],
      "source": [
        "x=x/255"
      ]
    },
    {
      "cell_type": "code",
      "execution_count": null,
      "metadata": {
        "id": "O2XVAJk9wEOb"
      },
      "outputs": [],
      "source": [
        "x=np.expand_dims(x,axis=0)\n",
        "x.shape"
      ]
    },
    {
      "cell_type": "code",
      "execution_count": null,
      "metadata": {
        "id": "Z0WCmtaYwGAy"
      },
      "outputs": [],
      "source": [
        "pred=model.predict(x)"
      ]
    },
    {
      "cell_type": "code",
      "execution_count": null,
      "metadata": {
        "id": "8Wxdt0m8wH0r"
      },
      "outputs": [],
      "source": [
        "print(pred)"
      ]
    },
    {
      "cell_type": "code",
      "execution_count": null,
      "metadata": {
        "id": "LLL9i03t1hBo"
      },
      "outputs": [],
      "source": [
        "pred_name = CLASSES[np.argmax(pred)]\n",
        "print(pred_name)"
      ]
    }
  ],
  "metadata": {
    "accelerator": "GPU",
    "colab": {
      "provenance": []
    },
    "gpuClass": "standard",
    "kernelspec": {
      "display_name": "Python 3 (ipykernel)",
      "language": "python",
      "name": "python3"
    },
    "language_info": {
      "codemirror_mode": {
        "name": "ipython",
        "version": 3
      },
      "file_extension": ".py",
      "mimetype": "text/x-python",
      "name": "python",
      "nbconvert_exporter": "python",
      "pygments_lexer": "ipython3",
      "version": "3.9.13"
    },
    "vscode": {
      "interpreter": {
        "hash": "b302cdd1e032ee910f5c889c3360c28564c92ad4f326fc3102e39fbe47faee66"
      }
    }
  },
  "nbformat": 4,
  "nbformat_minor": 0
}