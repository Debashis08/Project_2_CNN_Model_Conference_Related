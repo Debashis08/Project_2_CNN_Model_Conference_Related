{
  "cells": [
    {
      "cell_type": "markdown",
      "metadata": {
        "id": "uBYwCqCtEjYP"
      },
      "source": [
        "### Importing required libraries"
      ]
    },
    {
      "cell_type": "code",
      "execution_count": 2,
      "metadata": {
        "id": "vs9SfnnnlokY"
      },
      "outputs": [],
      "source": [
        "import tensorflow as tf\n",
        "from tensorflow.keras.layers import Input, Lambda, Dense, Flatten\n",
        "from tensorflow.keras.models import Model\n",
        "from tensorflow.keras.preprocessing import image\n",
        "from tensorflow.keras.preprocessing.image import load_img\n",
        "from tensorflow.keras.models import Sequential\n",
        "from tensorflow.keras.layers import Rescaling, Conv2D, MaxPooling2D, Dense, Flatten, Dropout, BatchNormalization\n",
        "from tensorflow.keras.models import load_model\n",
        "from tensorflow.keras.preprocessing import image\n",
        "from tensorflow.keras.metrics import Precision, Recall, Accuracy\n",
        "import numpy as np\n",
        "import matplotlib.pyplot as plt\n",
        "from sklearn import metrics\n",
        "from sklearn.metrics import cohen_kappa_score,log_loss\n",
        "from tabulate import tabulate"
      ]
    },
    {
      "cell_type": "markdown",
      "metadata": {
        "id": "iJ6CFKaPEVGd"
      },
      "source": [
        "### Declaring the Variables"
      ]
    },
    {
      "cell_type": "code",
      "execution_count": 3,
      "metadata": {
        "id": "Za-dL2Aplrlv"
      },
      "outputs": [],
      "source": [
        "IMAGE_SIZE = [256, 256]\n",
        "BATCH_SIZE=16\n",
        "FOLDS=10\n",
        "SCORES_PER_FOLD=[]\n",
        "CLASSES=[\"1-1\",\"1-2\",\"1-4\",\"PURE\"]"
      ]
    },
    {
      "cell_type": "code",
      "execution_count": 128,
      "metadata": {
        "id": "sU-YeLLf4iAA"
      },
      "outputs": [],
      "source": [
        "image_dir='/content/drive/MyDrive/Project_2_Conference_Journal_Work/BLACK_WHITE'"
      ]
    },
    {
      "cell_type": "code",
      "execution_count": 5,
      "metadata": {
        "id": "OPvQOBPsn5Fo"
      },
      "outputs": [],
      "source": [
        "logdir='/content/drive/MyDrive/Project_2_Conference_Journal_Work/Journal_Related/Logs'"
      ]
    },
    {
      "cell_type": "code",
      "execution_count": 6,
      "metadata": {
        "id": "Yuwp9t4Sp9-p"
      },
      "outputs": [],
      "source": [
        "model_dir='/content/drive/MyDrive/Project_2_Conference_Journal_Work/Journal_Related/Model/'"
      ]
    },
    {
      "cell_type": "code",
      "execution_count": 7,
      "metadata": {
        "id": "h_ST2edlv3ZY"
      },
      "outputs": [],
      "source": [
        "tensorboard_callback = tf.keras.callbacks.TensorBoard(log_dir=logdir)"
      ]
    },
    {
      "cell_type": "markdown",
      "metadata": {
        "id": "YPkn5rEDEdAN"
      },
      "source": [
        "### Fetching and Preprocessing the image files"
      ]
    },
    {
      "cell_type": "code",
      "execution_count": 8,
      "metadata": {
        "id": "fh6SpJSSEDSa"
      },
      "outputs": [],
      "source": [
        "normalization_layer = tf.keras.layers.Rescaling(1./255)"
      ]
    },
    {
      "cell_type": "code",
      "execution_count": 9,
      "metadata": {
        "colab": {
          "base_uri": "https://localhost:8080/"
        },
        "id": "A-yPCHaZEGZ4",
        "outputId": "3f84fa0a-f180-4a76-90f6-64ba4e1c4abc"
      },
      "outputs": [
        {
          "output_type": "stream",
          "name": "stdout",
          "text": [
            "Found 2240 files belonging to 4 classes.\n"
          ]
        }
      ],
      "source": [
        "image_data_set =tf.keras.utils.image_dataset_from_directory(\n",
        "  image_dir,\n",
        "  label_mode='int',\n",
        "  seed=131,\n",
        "  image_size=IMAGE_SIZE,\n",
        "  batch_size=BATCH_SIZE,\n",
        ")"
      ]
    },
    {
      "cell_type": "code",
      "execution_count": 129,
      "metadata": {
        "colab": {
          "base_uri": "https://localhost:8080/"
        },
        "id": "QImbuHT0NFce",
        "outputId": "d0a4f098-df97-4fcc-fbb6-fa8e0597a8de"
      },
      "outputs": [
        {
          "output_type": "stream",
          "name": "stdout",
          "text": [
            "Using 100 sets for Training and Validation\n",
            "Using 40 sets for Testing\n"
          ]
        }
      ],
      "source": [
        "train_val_set=image_data_set.take(100)\n",
        "test_set=image_data_set.skip(100).take(40)\n",
        "print(f'Using {len(train_val_set)} sets for Training and Validation')\n",
        "print(f'Using {len(test_set)} sets for Testing')"
      ]
    },
    {
      "cell_type": "code",
      "execution_count": 11,
      "metadata": {
        "id": "sVLUfWNtEYSM"
      },
      "outputs": [],
      "source": [
        "normalized_train_val_set=train_val_set.map(lambda x,y: (normalization_layer(x), y))\n",
        "normalized_testing_set=test_set.map(lambda x,y: (normalization_layer(x), y))\n",
        "\n",
        "# image_batch, labels_batch = next(iter(normalized_training_set))      #<-----the data is fethched in this form: image batch, label batch"
      ]
    },
    {
      "cell_type": "markdown",
      "metadata": {
        "id": "yRpUjvO_EpUm"
      },
      "source": [
        "### Building the CNN Model"
      ]
    },
    {
      "cell_type": "code",
      "execution_count": null,
      "metadata": {
        "id": "tJm9QzZgH-DI"
      },
      "outputs": [],
      "source": [
        "def Build_Model():\n",
        "  model=Sequential()\n",
        "  \n",
        "  model.add(Conv2D(32, (3,3), 1, activation='relu', input_shape=(256,256,3)))\n",
        "  model.add(MaxPooling2D(pool_size=(2,2)))\n",
        "\n",
        "  model.add(Conv2D(64, (3,3), 1, activation='relu'))\n",
        "  model.add(MaxPooling2D())\n",
        "\n",
        "  model.add(Conv2D(64, (3,3), 1, activation='relu'))\n",
        "  model.add(MaxPooling2D())\n",
        "\n",
        "  model.add(Conv2D(128, (3,3), 1, activation='relu'))\n",
        "  model.add(MaxPooling2D(pool_size=(2,2)))\n",
        "\n",
        "  model.add(Flatten())\n",
        "\n",
        "  model.add(Dense(256, activation='relu'))\n",
        "  model.add(Dense(4, activation='sigmoid'))  ##<------------------------sigmoid is used for binary classification, softmax need to be used here, try with softmax\n",
        "\n",
        "  model.compile(optimizer='adam', loss='sparse_categorical_crossentropy', metrics=['accuracy'])\n",
        "  \n",
        "  return model"
      ]
    },
    {
      "cell_type": "code",
      "execution_count": null,
      "metadata": {
        "id": "YDnLFulroTl1",
        "colab": {
          "base_uri": "https://localhost:8080/"
        },
        "outputId": "9bd44398-2c1a-4599-8fa2-a5bf5cf48d17"
      },
      "outputs": [
        {
          "output_type": "stream",
          "name": "stdout",
          "text": [
            "Model: \"sequential\"\n",
            "_________________________________________________________________\n",
            " Layer (type)                Output Shape              Param #   \n",
            "=================================================================\n",
            " conv2d (Conv2D)             (None, 254, 254, 32)      896       \n",
            "                                                                 \n",
            " max_pooling2d (MaxPooling2D  (None, 127, 127, 32)     0         \n",
            " )                                                               \n",
            "                                                                 \n",
            " conv2d_1 (Conv2D)           (None, 125, 125, 64)      18496     \n",
            "                                                                 \n",
            " max_pooling2d_1 (MaxPooling  (None, 62, 62, 64)       0         \n",
            " 2D)                                                             \n",
            "                                                                 \n",
            " conv2d_2 (Conv2D)           (None, 60, 60, 64)        36928     \n",
            "                                                                 \n",
            " max_pooling2d_2 (MaxPooling  (None, 30, 30, 64)       0         \n",
            " 2D)                                                             \n",
            "                                                                 \n",
            " conv2d_3 (Conv2D)           (None, 28, 28, 128)       73856     \n",
            "                                                                 \n",
            " max_pooling2d_3 (MaxPooling  (None, 14, 14, 128)      0         \n",
            " 2D)                                                             \n",
            "                                                                 \n",
            " flatten (Flatten)           (None, 25088)             0         \n",
            "                                                                 \n",
            " dense (Dense)               (None, 256)               6422784   \n",
            "                                                                 \n",
            " dense_1 (Dense)             (None, 4)                 1028      \n",
            "                                                                 \n",
            "=================================================================\n",
            "Total params: 6,553,988\n",
            "Trainable params: 6,553,988\n",
            "Non-trainable params: 0\n",
            "_________________________________________________________________\n"
          ]
        }
      ],
      "source": [
        "# Summary of the model\n",
        "model=Build_Model()\n",
        "model.summary()"
      ]
    },
    {
      "cell_type": "markdown",
      "metadata": {
        "id": "21T4ffIQEuPG"
      },
      "source": [
        "### Peforming the 10 Fold Cross Validation"
      ]
    },
    {
      "cell_type": "code",
      "execution_count": null,
      "metadata": {
        "id": "otK1Dp9aebg5",
        "colab": {
          "base_uri": "https://localhost:8080/"
        },
        "outputId": "db9ba78c-97ce-45de-b73f-941995f854fd"
      },
      "outputs": [
        {
          "output_type": "stream",
          "name": "stdout",
          "text": [
            "Fold 1\n",
            "--------------------------------------------------------------------------------------------\n",
            "Epoch 1/20\n",
            "90/90 [==============================] - 534s 5s/step - loss: 0.6384 - accuracy: 0.7069\n",
            "Epoch 2/20\n",
            "90/90 [==============================] - 6s 55ms/step - loss: 0.4175 - accuracy: 0.8271\n",
            "Epoch 3/20\n",
            "90/90 [==============================] - 7s 65ms/step - loss: 0.3893 - accuracy: 0.8375\n",
            "Epoch 4/20\n",
            "90/90 [==============================] - 6s 55ms/step - loss: 0.3912 - accuracy: 0.8465\n",
            "Epoch 5/20\n",
            "90/90 [==============================] - 7s 70ms/step - loss: 0.3657 - accuracy: 0.8375\n",
            "Epoch 6/20\n",
            "90/90 [==============================] - 6s 55ms/step - loss: 0.3289 - accuracy: 0.8743\n",
            "Epoch 7/20\n",
            "90/90 [==============================] - 7s 69ms/step - loss: 0.3135 - accuracy: 0.8604\n",
            "Epoch 8/20\n",
            "90/90 [==============================] - 6s 55ms/step - loss: 0.2876 - accuracy: 0.8819\n",
            "Epoch 9/20\n",
            "90/90 [==============================] - 7s 68ms/step - loss: 0.3333 - accuracy: 0.8757\n",
            "Epoch 10/20\n",
            "90/90 [==============================] - 7s 61ms/step - loss: 0.2418 - accuracy: 0.9049\n",
            "Epoch 11/20\n",
            "90/90 [==============================] - 7s 69ms/step - loss: 0.2444 - accuracy: 0.9153\n",
            "Epoch 12/20\n",
            "90/90 [==============================] - 6s 58ms/step - loss: 0.2064 - accuracy: 0.9326\n",
            "Epoch 13/20\n",
            "90/90 [==============================] - 7s 71ms/step - loss: 0.3364 - accuracy: 0.8736\n",
            "Epoch 14/20\n",
            "90/90 [==============================] - 6s 55ms/step - loss: 0.1993 - accuracy: 0.9333\n",
            "Epoch 15/20\n",
            "90/90 [==============================] - 6s 54ms/step - loss: 0.3047 - accuracy: 0.8944\n",
            "Epoch 16/20\n",
            "90/90 [==============================] - 7s 70ms/step - loss: 0.2738 - accuracy: 0.9139\n",
            "Epoch 17/20\n",
            "90/90 [==============================] - 6s 54ms/step - loss: 0.1384 - accuracy: 0.9604\n",
            "Epoch 18/20\n",
            "90/90 [==============================] - 7s 70ms/step - loss: 0.1179 - accuracy: 0.9604\n",
            "Epoch 19/20\n",
            "90/90 [==============================] - 6s 54ms/step - loss: 0.1305 - accuracy: 0.9667\n",
            "Epoch 20/20\n",
            "90/90 [==============================] - 6s 54ms/step - loss: 0.1863 - accuracy: 0.9521\n",
            "\n",
            "\n",
            "Evaluating the model\n",
            "\n",
            "\n",
            "10/10 [==============================] - 1s 46ms/step - loss: 0.2288 - accuracy: 0.9125\n",
            "--------------------------------------------------------------------------------------------\n",
            "Fold 2\n",
            "--------------------------------------------------------------------------------------------\n",
            "Epoch 1/20\n",
            "90/90 [==============================] - 10s 83ms/step - loss: 0.7753 - accuracy: 0.6771\n",
            "Epoch 2/20\n",
            "90/90 [==============================] - 6s 69ms/step - loss: 0.3914 - accuracy: 0.8347\n",
            "Epoch 3/20\n",
            "90/90 [==============================] - 8s 78ms/step - loss: 0.4851 - accuracy: 0.7750\n",
            "Epoch 4/20\n",
            "90/90 [==============================] - 7s 73ms/step - loss: 0.4144 - accuracy: 0.8271\n",
            "Epoch 5/20\n",
            "90/90 [==============================] - 7s 69ms/step - loss: 0.3804 - accuracy: 0.8389\n",
            "Epoch 6/20\n",
            "90/90 [==============================] - 8s 84ms/step - loss: 0.3762 - accuracy: 0.8590\n",
            "Epoch 7/20\n",
            "90/90 [==============================] - 6s 68ms/step - loss: 0.3776 - accuracy: 0.8389\n",
            "Epoch 8/20\n",
            "90/90 [==============================] - 8s 84ms/step - loss: 0.3480 - accuracy: 0.8458\n",
            "Epoch 9/20\n",
            "90/90 [==============================] - 6s 68ms/step - loss: 0.2862 - accuracy: 0.8743\n",
            "Epoch 10/20\n",
            "90/90 [==============================] - 8s 83ms/step - loss: 0.2978 - accuracy: 0.8806\n",
            "Epoch 11/20\n",
            "90/90 [==============================] - 6s 67ms/step - loss: 0.3455 - accuracy: 0.8694\n",
            "Epoch 12/20\n",
            "90/90 [==============================] - 6s 67ms/step - loss: 0.2532 - accuracy: 0.9069\n",
            "Epoch 13/20\n",
            "90/90 [==============================] - 8s 82ms/step - loss: 0.2175 - accuracy: 0.9250\n",
            "Epoch 14/20\n",
            "90/90 [==============================] - 7s 77ms/step - loss: 0.2370 - accuracy: 0.9132\n",
            "Epoch 15/20\n",
            "90/90 [==============================] - 9s 89ms/step - loss: 0.2718 - accuracy: 0.8944\n",
            "Epoch 16/20\n",
            "90/90 [==============================] - 8s 83ms/step - loss: 0.1257 - accuracy: 0.9521\n",
            "Epoch 17/20\n",
            "90/90 [==============================] - 7s 76ms/step - loss: 0.2062 - accuracy: 0.9285\n",
            "Epoch 18/20\n",
            "90/90 [==============================] - 7s 70ms/step - loss: 0.1572 - accuracy: 0.9438\n",
            "Epoch 19/20\n",
            "90/90 [==============================] - 6s 68ms/step - loss: 0.1545 - accuracy: 0.9576\n",
            "Epoch 20/20\n",
            "90/90 [==============================] - 8s 83ms/step - loss: 0.1843 - accuracy: 0.9479\n",
            "\n",
            "\n",
            "Evaluating the model\n",
            "\n",
            "\n",
            "10/10 [==============================] - 1s 50ms/step - loss: 0.1956 - accuracy: 0.9375\n",
            "--------------------------------------------------------------------------------------------\n",
            "Fold 3\n",
            "--------------------------------------------------------------------------------------------\n",
            "Epoch 1/20\n",
            "90/90 [==============================] - 10s 89ms/step - loss: 0.6246 - accuracy: 0.7326\n",
            "Epoch 2/20\n",
            "90/90 [==============================] - 7s 73ms/step - loss: 0.3574 - accuracy: 0.8465\n",
            "Epoch 3/20\n",
            "90/90 [==============================] - 8s 88ms/step - loss: 0.5343 - accuracy: 0.7694\n",
            "Epoch 4/20\n",
            "90/90 [==============================] - 7s 75ms/step - loss: 0.3498 - accuracy: 0.8521\n",
            "Epoch 5/20\n",
            "90/90 [==============================] - 7s 71ms/step - loss: 0.3093 - accuracy: 0.8653\n",
            "Epoch 6/20\n",
            "90/90 [==============================] - 8s 88ms/step - loss: 0.3500 - accuracy: 0.8556\n",
            "Epoch 7/20\n",
            "90/90 [==============================] - 7s 70ms/step - loss: 0.3284 - accuracy: 0.8556\n",
            "Epoch 8/20\n",
            "90/90 [==============================] - 8s 88ms/step - loss: 0.3255 - accuracy: 0.8576\n",
            "Epoch 9/20\n",
            "90/90 [==============================] - 7s 73ms/step - loss: 0.2561 - accuracy: 0.8938\n",
            "Epoch 10/20\n",
            "90/90 [==============================] - 7s 71ms/step - loss: 0.3972 - accuracy: 0.8604\n",
            "Epoch 11/20\n",
            "90/90 [==============================] - 8s 88ms/step - loss: 0.3804 - accuracy: 0.8674\n",
            "Epoch 12/20\n",
            "90/90 [==============================] - 7s 73ms/step - loss: 0.2284 - accuracy: 0.9083\n",
            "Epoch 13/20\n",
            "90/90 [==============================] - 8s 87ms/step - loss: 0.3335 - accuracy: 0.8715\n",
            "Epoch 14/20\n",
            "90/90 [==============================] - 8s 87ms/step - loss: 0.1697 - accuracy: 0.9417\n",
            "Epoch 15/20\n",
            "90/90 [==============================] - 7s 74ms/step - loss: 0.1580 - accuracy: 0.9542\n",
            "Epoch 16/20\n",
            "90/90 [==============================] - 8s 86ms/step - loss: 0.1512 - accuracy: 0.9486\n",
            "Epoch 17/20\n",
            "90/90 [==============================] - 7s 78ms/step - loss: 0.2956 - accuracy: 0.8924\n",
            "Epoch 18/20\n",
            "90/90 [==============================] - 8s 78ms/step - loss: 0.1391 - accuracy: 0.9563\n",
            "Epoch 19/20\n",
            "90/90 [==============================] - 9s 99ms/step - loss: 0.1684 - accuracy: 0.9424\n",
            "Epoch 20/20\n",
            "90/90 [==============================] - 7s 73ms/step - loss: 0.1126 - accuracy: 0.9618\n",
            "\n",
            "\n",
            "Evaluating the model\n",
            "\n",
            "\n",
            "10/10 [==============================] - 2s 46ms/step - loss: 0.3831 - accuracy: 0.9250\n",
            "--------------------------------------------------------------------------------------------\n",
            "Fold 4\n",
            "--------------------------------------------------------------------------------------------\n",
            "Epoch 1/20\n",
            "90/90 [==============================] - 11s 93ms/step - loss: 0.6627 - accuracy: 0.7285\n",
            "Epoch 2/20\n",
            "90/90 [==============================] - 7s 76ms/step - loss: 0.3874 - accuracy: 0.8417\n",
            "Epoch 3/20\n",
            "90/90 [==============================] - 8s 81ms/step - loss: 0.3907 - accuracy: 0.8188\n",
            "Epoch 4/20\n",
            "90/90 [==============================] - 9s 91ms/step - loss: 0.3263 - accuracy: 0.8764\n",
            "Epoch 5/20\n",
            "90/90 [==============================] - 7s 77ms/step - loss: 0.4067 - accuracy: 0.8285\n",
            "Epoch 6/20\n",
            "90/90 [==============================] - 9s 92ms/step - loss: 0.3238 - accuracy: 0.8653\n",
            "Epoch 7/20\n",
            "90/90 [==============================] - 7s 76ms/step - loss: 0.3047 - accuracy: 0.8785\n",
            "Epoch 8/20\n",
            "90/90 [==============================] - 8s 87ms/step - loss: 0.3730 - accuracy: 0.8535\n",
            "Epoch 9/20\n",
            "90/90 [==============================] - 9s 91ms/step - loss: 0.3398 - accuracy: 0.8521\n",
            "Epoch 10/20\n",
            "90/90 [==============================] - 7s 79ms/step - loss: 0.3497 - accuracy: 0.8813\n",
            "Epoch 11/20\n",
            "90/90 [==============================] - 8s 86ms/step - loss: 0.2184 - accuracy: 0.9236\n",
            "Epoch 12/20\n",
            "90/90 [==============================] - 9s 92ms/step - loss: 0.2496 - accuracy: 0.9222\n",
            "Epoch 13/20\n",
            "90/90 [==============================] - 7s 76ms/step - loss: 0.2317 - accuracy: 0.9236\n",
            "Epoch 14/20\n",
            "90/90 [==============================] - 9s 93ms/step - loss: 0.1409 - accuracy: 0.9542\n",
            "Epoch 15/20\n",
            "90/90 [==============================] - 8s 80ms/step - loss: 0.1007 - accuracy: 0.9653\n",
            "Epoch 16/20\n",
            "90/90 [==============================] - 8s 84ms/step - loss: 0.0996 - accuracy: 0.9708\n",
            "Epoch 17/20\n",
            "90/90 [==============================] - 9s 92ms/step - loss: 0.0689 - accuracy: 0.9757\n",
            "Epoch 18/20\n",
            "90/90 [==============================] - 7s 76ms/step - loss: 0.0846 - accuracy: 0.9722\n",
            "Epoch 19/20\n",
            "90/90 [==============================] - 9s 92ms/step - loss: 0.0786 - accuracy: 0.9722\n",
            "Epoch 20/20\n",
            "90/90 [==============================] - 8s 84ms/step - loss: 0.1163 - accuracy: 0.9660\n",
            "\n",
            "\n",
            "Evaluating the model\n",
            "\n",
            "\n",
            "10/10 [==============================] - 2s 47ms/step - loss: 0.0810 - accuracy: 0.9812\n",
            "--------------------------------------------------------------------------------------------\n",
            "Fold 5\n",
            "--------------------------------------------------------------------------------------------\n",
            "Epoch 1/20\n",
            "90/90 [==============================] - 13s 115ms/step - loss: 0.7407 - accuracy: 0.6868\n",
            "Epoch 2/20\n",
            "90/90 [==============================] - 9s 97ms/step - loss: 0.4516 - accuracy: 0.7806\n",
            "Epoch 3/20\n",
            "90/90 [==============================] - 8s 86ms/step - loss: 0.4187 - accuracy: 0.8167\n",
            "Epoch 4/20\n",
            "90/90 [==============================] - 8s 87ms/step - loss: 0.4279 - accuracy: 0.8292\n",
            "Epoch 5/20\n",
            "90/90 [==============================] - 9s 97ms/step - loss: 0.3627 - accuracy: 0.8403\n",
            "Epoch 6/20\n",
            "90/90 [==============================] - 9s 95ms/step - loss: 0.3183 - accuracy: 0.8681\n",
            "Epoch 7/20\n",
            "90/90 [==============================] - 8s 81ms/step - loss: 0.3130 - accuracy: 0.8597\n",
            "Epoch 8/20\n",
            "90/90 [==============================] - 8s 83ms/step - loss: 0.2903 - accuracy: 0.8792\n",
            "Epoch 9/20\n",
            "90/90 [==============================] - 9s 95ms/step - loss: 0.3695 - accuracy: 0.8514\n",
            "Epoch 10/20\n",
            "90/90 [==============================] - 8s 89ms/step - loss: 0.3029 - accuracy: 0.8653\n",
            "Epoch 11/20\n",
            "90/90 [==============================] - 8s 81ms/step - loss: 0.3110 - accuracy: 0.8736\n",
            "Epoch 12/20\n",
            "90/90 [==============================] - 9s 95ms/step - loss: 0.3315 - accuracy: 0.8653\n",
            "Epoch 13/20\n",
            "90/90 [==============================] - 9s 95ms/step - loss: 0.3574 - accuracy: 0.8736\n",
            "Epoch 14/20\n",
            "90/90 [==============================] - 8s 80ms/step - loss: 0.2501 - accuracy: 0.9028\n",
            "Epoch 15/20\n",
            "90/90 [==============================] - 9s 96ms/step - loss: 0.2308 - accuracy: 0.9167\n",
            "Epoch 16/20\n",
            "90/90 [==============================] - 9s 93ms/step - loss: 0.2864 - accuracy: 0.8958\n",
            "Epoch 17/20\n",
            "90/90 [==============================] - 8s 81ms/step - loss: 0.2305 - accuracy: 0.9056\n",
            "Epoch 18/20\n",
            "90/90 [==============================] - 9s 96ms/step - loss: 0.2475 - accuracy: 0.9201\n",
            "Epoch 19/20\n",
            "90/90 [==============================] - 8s 90ms/step - loss: 0.1860 - accuracy: 0.9347\n",
            "Epoch 20/20\n",
            "90/90 [==============================] - 8s 82ms/step - loss: 0.2210 - accuracy: 0.9201\n",
            "\n",
            "\n",
            "Evaluating the model\n",
            "\n",
            "\n",
            "10/10 [==============================] - 2s 48ms/step - loss: 0.5850 - accuracy: 0.8000\n",
            "--------------------------------------------------------------------------------------------\n",
            "Fold 6\n",
            "--------------------------------------------------------------------------------------------\n",
            "Epoch 1/20\n",
            "90/90 [==============================] - 12s 94ms/step - loss: 0.5460 - accuracy: 0.7576\n",
            "Epoch 2/20\n",
            "90/90 [==============================] - 9s 102ms/step - loss: 0.4153 - accuracy: 0.8354\n",
            "Epoch 3/20\n",
            "90/90 [==============================] - 8s 85ms/step - loss: 0.4573 - accuracy: 0.7917\n",
            "Epoch 4/20\n",
            "90/90 [==============================] - 9s 100ms/step - loss: 0.3561 - accuracy: 0.8500\n",
            "Epoch 5/20\n",
            "90/90 [==============================] - 9s 100ms/step - loss: 0.2931 - accuracy: 0.8743\n",
            "Epoch 6/20\n",
            "90/90 [==============================] - 8s 84ms/step - loss: 0.4074 - accuracy: 0.8354\n",
            "Epoch 7/20\n",
            "90/90 [==============================] - 9s 97ms/step - loss: 0.3273 - accuracy: 0.8729\n",
            "Epoch 8/20\n",
            "90/90 [==============================] - 9s 101ms/step - loss: 0.2697 - accuracy: 0.8944\n",
            "Epoch 9/20\n",
            "90/90 [==============================] - 9s 93ms/step - loss: 0.2834 - accuracy: 0.8833\n",
            "Epoch 10/20\n",
            "90/90 [==============================] - 8s 85ms/step - loss: 0.3554 - accuracy: 0.8764\n",
            "Epoch 11/20\n",
            "90/90 [==============================] - 9s 101ms/step - loss: 0.2762 - accuracy: 0.8924\n",
            "Epoch 12/20\n",
            "90/90 [==============================] - 9s 101ms/step - loss: 0.2460 - accuracy: 0.9090\n",
            "Epoch 13/20\n",
            "90/90 [==============================] - 8s 86ms/step - loss: 0.3829 - accuracy: 0.8854\n",
            "Epoch 14/20\n",
            "90/90 [==============================] - 9s 91ms/step - loss: 0.1769 - accuracy: 0.9438\n",
            "Epoch 15/20\n",
            "90/90 [==============================] - 9s 101ms/step - loss: 0.1396 - accuracy: 0.9611\n",
            "Epoch 16/20\n",
            "90/90 [==============================] - 9s 100ms/step - loss: 0.3304 - accuracy: 0.8979\n",
            "Epoch 17/20\n",
            "90/90 [==============================] - 8s 85ms/step - loss: 0.1395 - accuracy: 0.9500\n",
            "Epoch 18/20\n",
            "90/90 [==============================] - 9s 94ms/step - loss: 0.1711 - accuracy: 0.9403\n",
            "Epoch 19/20\n",
            "90/90 [==============================] - 9s 101ms/step - loss: 0.1152 - accuracy: 0.9604\n",
            "Epoch 20/20\n",
            "90/90 [==============================] - 9s 94ms/step - loss: 0.0778 - accuracy: 0.9701\n",
            "\n",
            "\n",
            "Evaluating the model\n",
            "\n",
            "\n",
            "10/10 [==============================] - 3s 49ms/step - loss: 0.0778 - accuracy: 0.9750\n",
            "--------------------------------------------------------------------------------------------\n",
            "Fold 7\n",
            "--------------------------------------------------------------------------------------------\n",
            "Epoch 1/20\n",
            "90/90 [==============================] - 14s 125ms/step - loss: 0.6979 - accuracy: 0.7125\n",
            "Epoch 2/20\n",
            "90/90 [==============================] - 10s 104ms/step - loss: 0.4810 - accuracy: 0.7937\n",
            "Epoch 3/20\n",
            "90/90 [==============================] - 10s 106ms/step - loss: 0.3514 - accuracy: 0.8500\n",
            "Epoch 4/20\n",
            "90/90 [==============================] - 9s 96ms/step - loss: 0.3547 - accuracy: 0.8583\n",
            "Epoch 5/20\n",
            "90/90 [==============================] - 8s 90ms/step - loss: 0.3285 - accuracy: 0.8507\n",
            "Epoch 6/20\n",
            "90/90 [==============================] - 10s 105ms/step - loss: 0.3254 - accuracy: 0.8535\n",
            "Epoch 7/20\n",
            "90/90 [==============================] - 10s 105ms/step - loss: 0.3169 - accuracy: 0.8583\n",
            "Epoch 8/20\n",
            "90/90 [==============================] - 8s 89ms/step - loss: 0.3064 - accuracy: 0.8736\n",
            "Epoch 9/20\n",
            "90/90 [==============================] - 9s 96ms/step - loss: 0.3116 - accuracy: 0.8736\n",
            "Epoch 10/20\n",
            "90/90 [==============================] - 10s 105ms/step - loss: 0.2572 - accuracy: 0.8979\n",
            "Epoch 11/20\n",
            "90/90 [==============================] - 10s 104ms/step - loss: 0.2680 - accuracy: 0.8931\n",
            "Epoch 12/20\n",
            "90/90 [==============================] - 8s 89ms/step - loss: 0.2786 - accuracy: 0.9000\n",
            "Epoch 13/20\n",
            "90/90 [==============================] - 9s 98ms/step - loss: 0.2630 - accuracy: 0.8931\n",
            "Epoch 14/20\n",
            "90/90 [==============================] - 10s 106ms/step - loss: 0.2218 - accuracy: 0.9271\n",
            "Epoch 15/20\n",
            "90/90 [==============================] - 10s 107ms/step - loss: 0.2734 - accuracy: 0.9097\n",
            "Epoch 16/20\n",
            "90/90 [==============================] - 8s 89ms/step - loss: 0.2402 - accuracy: 0.9243\n",
            "Epoch 17/20\n",
            "90/90 [==============================] - 9s 99ms/step - loss: 0.2492 - accuracy: 0.9174\n",
            "Epoch 18/20\n",
            "90/90 [==============================] - 10s 104ms/step - loss: 0.2658 - accuracy: 0.9076\n",
            "Epoch 19/20\n",
            "90/90 [==============================] - 9s 95ms/step - loss: 0.1832 - accuracy: 0.9451\n",
            "Epoch 20/20\n",
            "90/90 [==============================] - 8s 90ms/step - loss: 0.1581 - accuracy: 0.9507\n",
            "\n",
            "\n",
            "Evaluating the model\n",
            "\n",
            "\n",
            "10/10 [==============================] - 6s 67ms/step - loss: 0.1663 - accuracy: 0.9250\n",
            "--------------------------------------------------------------------------------------------\n",
            "Fold 8\n",
            "--------------------------------------------------------------------------------------------\n",
            "Epoch 1/20\n",
            "90/90 [==============================] - 12s 112ms/step - loss: 0.5786 - accuracy: 0.7465\n",
            "Epoch 2/20\n",
            "90/90 [==============================] - 9s 95ms/step - loss: 0.3921 - accuracy: 0.8354\n",
            "Epoch 3/20\n",
            "90/90 [==============================] - 10s 111ms/step - loss: 0.3487 - accuracy: 0.8521\n",
            "Epoch 4/20\n",
            "90/90 [==============================] - 10s 108ms/step - loss: 0.3788 - accuracy: 0.8347\n",
            "Epoch 5/20\n",
            "90/90 [==============================] - 9s 97ms/step - loss: 0.3708 - accuracy: 0.8451\n",
            "Epoch 6/20\n",
            "90/90 [==============================] - 9s 95ms/step - loss: 0.3621 - accuracy: 0.8569\n",
            "Epoch 7/20\n",
            "90/90 [==============================] - 10s 109ms/step - loss: 0.3520 - accuracy: 0.8500\n",
            "Epoch 8/20\n",
            "90/90 [==============================] - 10s 110ms/step - loss: 0.3069 - accuracy: 0.8840\n",
            "Epoch 9/20\n",
            "90/90 [==============================] - 9s 96ms/step - loss: 0.2396 - accuracy: 0.9000\n",
            "Epoch 10/20\n",
            "90/90 [==============================] - 9s 97ms/step - loss: 0.2128 - accuracy: 0.9243\n",
            "Epoch 11/20\n",
            "90/90 [==============================] - 10s 109ms/step - loss: 0.4112 - accuracy: 0.8972\n",
            "Epoch 12/20\n",
            "90/90 [==============================] - 10s 110ms/step - loss: 0.2454 - accuracy: 0.9090\n",
            "Epoch 13/20\n",
            "90/90 [==============================] - 9s 97ms/step - loss: 0.1429 - accuracy: 0.9486\n",
            "Epoch 14/20\n",
            "90/90 [==============================] - 9s 96ms/step - loss: 0.1272 - accuracy: 0.9549\n",
            "Epoch 15/20\n",
            "90/90 [==============================] - 10s 110ms/step - loss: 0.1185 - accuracy: 0.9618\n",
            "Epoch 16/20\n",
            "90/90 [==============================] - 10s 109ms/step - loss: 0.1075 - accuracy: 0.9674\n",
            "Epoch 17/20\n",
            "90/90 [==============================] - 9s 93ms/step - loss: 0.0736 - accuracy: 0.9743\n",
            "Epoch 18/20\n",
            "90/90 [==============================] - 10s 106ms/step - loss: 0.1288 - accuracy: 0.9667\n",
            "Epoch 19/20\n",
            "90/90 [==============================] - 10s 112ms/step - loss: 0.0616 - accuracy: 0.9764\n",
            "Epoch 20/20\n",
            "90/90 [==============================] - 12s 126ms/step - loss: 0.0683 - accuracy: 0.9806\n",
            "\n",
            "\n",
            "Evaluating the model\n",
            "\n",
            "\n",
            "10/10 [==============================] - 4s 50ms/step - loss: 0.0132 - accuracy: 0.9937\n",
            "--------------------------------------------------------------------------------------------\n",
            "Fold 9\n",
            "--------------------------------------------------------------------------------------------\n",
            "Epoch 1/20\n",
            "90/90 [==============================] - 13s 117ms/step - loss: 0.6144 - accuracy: 0.7472\n",
            "Epoch 2/20\n",
            "90/90 [==============================] - 11s 117ms/step - loss: 0.4354 - accuracy: 0.8132\n",
            "Epoch 3/20\n",
            "90/90 [==============================] - 10s 105ms/step - loss: 0.3982 - accuracy: 0.8424\n",
            "Epoch 4/20\n",
            "90/90 [==============================] - 11s 114ms/step - loss: 0.3543 - accuracy: 0.8514\n",
            "Epoch 5/20\n",
            "90/90 [==============================] - 11s 117ms/step - loss: 0.4119 - accuracy: 0.8125\n",
            "Epoch 6/20\n",
            "90/90 [==============================] - 9s 99ms/step - loss: 0.3487 - accuracy: 0.8535\n",
            "Epoch 7/20\n",
            "90/90 [==============================] - 11s 113ms/step - loss: 0.3247 - accuracy: 0.8632\n",
            "Epoch 8/20\n",
            "90/90 [==============================] - 11s 116ms/step - loss: 0.3786 - accuracy: 0.8604\n",
            "Epoch 9/20\n",
            "90/90 [==============================] - 9s 101ms/step - loss: 0.3034 - accuracy: 0.8771\n",
            "Epoch 10/20\n",
            "90/90 [==============================] - 10s 103ms/step - loss: 0.3006 - accuracy: 0.8750\n",
            "Epoch 11/20\n",
            "90/90 [==============================] - 11s 114ms/step - loss: 0.2382 - accuracy: 0.9139\n",
            "Epoch 12/20\n",
            "90/90 [==============================] - 11s 114ms/step - loss: 0.1640 - accuracy: 0.9417\n",
            "Epoch 13/20\n",
            "90/90 [==============================] - 10s 107ms/step - loss: 0.2038 - accuracy: 0.9306\n",
            "Epoch 14/20\n",
            "90/90 [==============================] - 10s 102ms/step - loss: 0.2012 - accuracy: 0.9368\n",
            "Epoch 15/20\n",
            "90/90 [==============================] - 11s 115ms/step - loss: 0.1548 - accuracy: 0.9472\n",
            "Epoch 16/20\n",
            "90/90 [==============================] - 10s 114ms/step - loss: 0.1068 - accuracy: 0.9597\n",
            "Epoch 17/20\n",
            "90/90 [==============================] - 9s 98ms/step - loss: 0.0826 - accuracy: 0.9701\n",
            "Epoch 18/20\n",
            "90/90 [==============================] - 11s 114ms/step - loss: 0.0928 - accuracy: 0.9667\n",
            "Epoch 19/20\n",
            "90/90 [==============================] - 11s 115ms/step - loss: 0.0754 - accuracy: 0.9701\n",
            "Epoch 20/20\n",
            "90/90 [==============================] - 9s 98ms/step - loss: 0.0968 - accuracy: 0.9694\n",
            "\n",
            "\n",
            "Evaluating the model\n",
            "\n",
            "\n",
            "10/10 [==============================] - 5s 49ms/step - loss: 0.0833 - accuracy: 0.9750\n",
            "--------------------------------------------------------------------------------------------\n",
            "Fold 10\n",
            "--------------------------------------------------------------------------------------------\n",
            "Epoch 1/20\n",
            "90/90 [==============================] - 7s 56ms/step - loss: 0.7040 - accuracy: 0.6819\n",
            "Epoch 2/20\n",
            "90/90 [==============================] - 5s 56ms/step - loss: 0.4702 - accuracy: 0.7854\n",
            "Epoch 3/20\n",
            "90/90 [==============================] - 6s 65ms/step - loss: 0.4781 - accuracy: 0.8104\n",
            "Epoch 4/20\n",
            "90/90 [==============================] - 5s 57ms/step - loss: 0.4011 - accuracy: 0.8250\n",
            "Epoch 5/20\n",
            "90/90 [==============================] - 5s 56ms/step - loss: 0.3290 - accuracy: 0.8521\n",
            "Epoch 6/20\n",
            "90/90 [==============================] - 7s 70ms/step - loss: 0.3199 - accuracy: 0.8632\n",
            "Epoch 7/20\n",
            "90/90 [==============================] - 5s 55ms/step - loss: 0.3626 - accuracy: 0.8472\n",
            "Epoch 8/20\n",
            "90/90 [==============================] - 6s 59ms/step - loss: 0.3106 - accuracy: 0.8771\n",
            "Epoch 9/20\n",
            "90/90 [==============================] - 6s 66ms/step - loss: 0.2803 - accuracy: 0.8722\n",
            "Epoch 10/20\n",
            "90/90 [==============================] - 6s 58ms/step - loss: 0.2729 - accuracy: 0.8896\n",
            "Epoch 11/20\n",
            "90/90 [==============================] - 7s 71ms/step - loss: 0.2543 - accuracy: 0.8938\n",
            "Epoch 12/20\n",
            "90/90 [==============================] - 6s 59ms/step - loss: 0.3026 - accuracy: 0.8806\n",
            "Epoch 13/20\n",
            "90/90 [==============================] - 7s 67ms/step - loss: 0.2520 - accuracy: 0.9014\n",
            "Epoch 14/20\n",
            "90/90 [==============================] - 7s 72ms/step - loss: 0.2132 - accuracy: 0.9187\n",
            "Epoch 15/20\n",
            "90/90 [==============================] - 5s 57ms/step - loss: 0.1790 - accuracy: 0.9396\n",
            "Epoch 16/20\n",
            "90/90 [==============================] - 5s 57ms/step - loss: 0.2250 - accuracy: 0.9146\n",
            "Epoch 17/20\n",
            "90/90 [==============================] - 8s 89ms/step - loss: 0.2831 - accuracy: 0.9194\n",
            "Epoch 18/20\n",
            "90/90 [==============================] - 6s 57ms/step - loss: 0.1831 - accuracy: 0.9319\n",
            "Epoch 19/20\n",
            "90/90 [==============================] - 5s 57ms/step - loss: 0.1956 - accuracy: 0.9410\n",
            "Epoch 20/20\n",
            "90/90 [==============================] - 6s 66ms/step - loss: 0.1195 - accuracy: 0.9611\n",
            "\n",
            "\n",
            "Evaluating the model\n",
            "\n",
            "\n",
            "10/10 [==============================] - 5s 80ms/step - loss: 0.0815 - accuracy: 0.9750\n",
            "--------------------------------------------------------------------------------------------\n"
          ]
        }
      ],
      "source": [
        "i=0\n",
        "j=10\n",
        "k=90\n",
        "\n",
        "for fold_var in range(0,FOLDS,1):\n",
        "  print(f'Fold {fold_var+1}')\n",
        "  print('--------------------------------------------------------------------------------------------')\n",
        "  training_set1=normalized_train_val_set.take(i)\n",
        "  training_set2=normalized_train_val_set.skip(i+j).take(k)\n",
        "  training_set=training_set1.concatenate(training_set2)\n",
        "  validation_set=normalized_train_val_set.skip(i).take(j)\n",
        "  i=i+10\n",
        "  j=10\n",
        "  k=k-10\n",
        "  \n",
        "  model=Build_Model()\n",
        "  Model_Run = model.fit(\n",
        "    training_set,\n",
        "    epochs=20,\n",
        "    steps_per_epoch=len(training_set),\n",
        "    callbacks=[tensorboard_callback]\n",
        "  )\n",
        "  print('\\n')\n",
        "  print(f'Evaluating the model')\n",
        "  print('\\n')\n",
        "  cur_scores=model.evaluate(validation_set)\n",
        "  cur_scores[0]*=100\n",
        "  cur_scores[1]*=100\n",
        "  cur_scores=[fold_var+1,cur_scores[0],cur_scores[1]]\n",
        "  SCORES_PER_FOLD.append(cur_scores)\n",
        "\n",
        "  model.save(model_dir+'model_'+str(fold_var+1)+'.h5')\n",
        "  print('--------------------------------------------------------------------------------------------')\n",
        "  tf.keras.backend.clear_session()\n"
      ]
    },
    {
      "cell_type": "code",
      "execution_count": null,
      "metadata": {
        "id": "IxXiy2USK3hC",
        "colab": {
          "base_uri": "https://localhost:8080/"
        },
        "outputId": "2c6ddf01-e98e-4cb8-a893-9095d12a280d"
      },
      "outputs": [
        {
          "output_type": "stream",
          "name": "stdout",
          "text": [
            "+---------------+----------------------+--------------------------+\n",
            "|   Fold Number |   Validation Loss(%) |   Validation Accuracy(%) |\n",
            "+===============+======================+==========================+\n",
            "|             1 |             22.8809  |                   91.25  |\n",
            "+---------------+----------------------+--------------------------+\n",
            "|             2 |             19.5626  |                   93.75  |\n",
            "+---------------+----------------------+--------------------------+\n",
            "|             3 |             38.3135  |                   92.5   |\n",
            "+---------------+----------------------+--------------------------+\n",
            "|             4 |              8.09805 |                   98.125 |\n",
            "+---------------+----------------------+--------------------------+\n",
            "|             5 |             58.498   |                   80     |\n",
            "+---------------+----------------------+--------------------------+\n",
            "|             6 |              7.77648 |                   97.5   |\n",
            "+---------------+----------------------+--------------------------+\n",
            "|             7 |             16.6339  |                   92.5   |\n",
            "+---------------+----------------------+--------------------------+\n",
            "|             8 |              1.31578 |                   99.375 |\n",
            "+---------------+----------------------+--------------------------+\n",
            "|             9 |              8.333   |                   97.5   |\n",
            "+---------------+----------------------+--------------------------+\n",
            "|            10 |              8.15467 |                   97.5   |\n",
            "+---------------+----------------------+--------------------------+\n"
          ]
        }
      ],
      "source": [
        "column_headers=['Fold Number','Validation Loss(%)','Validation Accuracy(%)']\n",
        "print(tabulate(SCORES_PER_FOLD, headers=column_headers, tablefmt=\"grid\"))"
      ]
    },
    {
      "cell_type": "markdown",
      "metadata": {
        "id": "Ou_MBkGIG1sd"
      },
      "source": [
        "### Selecting the model with highest accuracy for training"
      ]
    },
    {
      "cell_type": "code",
      "execution_count": null,
      "metadata": {
        "id": "iIj4X_luG1Ce",
        "colab": {
          "base_uri": "https://localhost:8080/"
        },
        "outputId": "c036020f-6912-4828-8a2f-a5932562df83"
      },
      "outputs": [
        {
          "output_type": "stream",
          "name": "stdout",
          "text": [
            "The maximum validation accuracy is: 99.37499761581421\n",
            "The folds having 99.37499761581421 validation accuracy are:\n",
            "8\n",
            "Selecting the model of fold no 8 for fine parameter tuning\n"
          ]
        }
      ],
      "source": [
        "max_acc=SCORES_PER_FOLD[0][2]\n",
        "max_acc_index=[]\n",
        "for i in range(len(SCORES_PER_FOLD)):\n",
        "  if(SCORES_PER_FOLD[i][2]>max_acc):\n",
        "    max_acc=SCORES_PER_FOLD[i][2]\n",
        "print(f'The maximum validation accuracy is: {max_acc}')\n",
        "for i in range(len(SCORES_PER_FOLD)):\n",
        "  if(SCORES_PER_FOLD[i][2]==max_acc):\n",
        "    max_acc_index.append(i)\n",
        "print(f'The folds having {max_acc} validation accuracy are:')\n",
        "for i in range(len(max_acc_index)):\n",
        "  print(max_acc_index[i]+1)\n",
        "\n",
        "result=-1\n",
        "if(len(max_acc_index)>1):\n",
        "    min_loss=SCORES_PER_FOLD[max_acc_index[0]][1]\n",
        "    j=0\n",
        "    result=max_acc_index[0]\n",
        "    while(j<len(max_acc_index)):\n",
        "      index=max_acc_index[j]\n",
        "      if(SCORES_PER_FOLD[index][1]<min_loss):\n",
        "        min_loss=SCORES_PER_FOLD[index][1]\n",
        "        result=index\n",
        "      j+=1\n",
        "else:\n",
        "  result=max_acc_index[0]\n",
        "print(f'Selecting the model of fold no {result+1} for fine parameter tuning')\n",
        "model=load_model(model_dir+'model_'+str(result+1)+'.h5')"
      ]
    },
    {
      "cell_type": "markdown",
      "metadata": {
        "id": "5WyyGpDKsyuK"
      },
      "source": [
        "### Training the model for fine parameter tuning"
      ]
    },
    {
      "cell_type": "code",
      "execution_count": null,
      "metadata": {
        "id": "QXQHGC5ys6Up",
        "colab": {
          "base_uri": "https://localhost:8080/"
        },
        "outputId": "9acd5b8c-c3d7-427f-bf54-04ebff5c3709"
      },
      "outputs": [
        {
          "output_type": "stream",
          "name": "stdout",
          "text": [
            "Epoch 1/30\n",
            "80/80 [==============================] - 12s 130ms/step - loss: 0.0384 - accuracy: 0.9867 - val_loss: 0.0361 - val_accuracy: 0.9875\n",
            "Epoch 2/30\n",
            "80/80 [==============================] - 10s 120ms/step - loss: 0.0286 - accuracy: 0.9922 - val_loss: 0.0684 - val_accuracy: 0.9656\n",
            "Epoch 3/30\n",
            "80/80 [==============================] - 10s 116ms/step - loss: 0.0208 - accuracy: 0.9914 - val_loss: 0.0104 - val_accuracy: 1.0000\n",
            "Epoch 4/30\n",
            "80/80 [==============================] - 10s 127ms/step - loss: 0.1547 - accuracy: 0.9531 - val_loss: 0.1348 - val_accuracy: 0.9531\n",
            "Epoch 5/30\n",
            "80/80 [==============================] - 15s 184ms/step - loss: 0.1528 - accuracy: 0.9531 - val_loss: 0.0654 - val_accuracy: 0.9719\n",
            "Epoch 6/30\n",
            "80/80 [==============================] - 10s 126ms/step - loss: 0.0791 - accuracy: 0.9766 - val_loss: 0.0487 - val_accuracy: 0.9937\n",
            "Epoch 7/30\n",
            "80/80 [==============================] - 10s 121ms/step - loss: 0.0240 - accuracy: 0.9914 - val_loss: 0.0113 - val_accuracy: 0.9937\n",
            "Epoch 8/30\n",
            "80/80 [==============================] - 10s 113ms/step - loss: 0.0076 - accuracy: 0.9984 - val_loss: 0.0173 - val_accuracy: 0.9969\n",
            "Epoch 9/30\n",
            "80/80 [==============================] - 10s 128ms/step - loss: 0.0031 - accuracy: 0.9992 - val_loss: 0.0026 - val_accuracy: 1.0000\n",
            "Epoch 10/30\n",
            "80/80 [==============================] - 15s 184ms/step - loss: 0.0056 - accuracy: 0.9984 - val_loss: 0.0134 - val_accuracy: 0.9969\n",
            "Epoch 11/30\n",
            "80/80 [==============================] - 11s 133ms/step - loss: 0.0019 - accuracy: 0.9992 - val_loss: 0.0021 - val_accuracy: 1.0000\n",
            "Epoch 12/30\n",
            "80/80 [==============================] - 15s 185ms/step - loss: 5.7905e-04 - accuracy: 1.0000 - val_loss: 0.0098 - val_accuracy: 0.9969\n",
            "Epoch 13/30\n",
            "80/80 [==============================] - 11s 129ms/step - loss: 5.7797e-04 - accuracy: 1.0000 - val_loss: 0.0053 - val_accuracy: 0.9969\n",
            "Epoch 14/30\n",
            "80/80 [==============================] - 10s 121ms/step - loss: 2.7464e-04 - accuracy: 1.0000 - val_loss: 0.0031 - val_accuracy: 1.0000\n",
            "Epoch 15/30\n",
            "80/80 [==============================] - 10s 115ms/step - loss: 1.9019e-04 - accuracy: 1.0000 - val_loss: 0.0023 - val_accuracy: 1.0000\n",
            "Epoch 16/30\n",
            "80/80 [==============================] - 11s 130ms/step - loss: 1.6232e-04 - accuracy: 1.0000 - val_loss: 0.0023 - val_accuracy: 1.0000\n",
            "Epoch 17/30\n",
            "80/80 [==============================] - 10s 127ms/step - loss: 1.4249e-04 - accuracy: 1.0000 - val_loss: 0.0029 - val_accuracy: 1.0000\n",
            "Epoch 18/30\n",
            "80/80 [==============================] - 11s 127ms/step - loss: 1.2647e-04 - accuracy: 1.0000 - val_loss: 0.0030 - val_accuracy: 1.0000\n",
            "Epoch 19/30\n",
            "80/80 [==============================] - 15s 186ms/step - loss: 1.0300e-04 - accuracy: 1.0000 - val_loss: 0.0015 - val_accuracy: 1.0000\n",
            "Epoch 20/30\n",
            "80/80 [==============================] - 10s 126ms/step - loss: 8.5322e-05 - accuracy: 1.0000 - val_loss: 0.0012 - val_accuracy: 1.0000\n",
            "Epoch 21/30\n",
            "80/80 [==============================] - 15s 185ms/step - loss: 7.9163e-05 - accuracy: 1.0000 - val_loss: 0.0023 - val_accuracy: 1.0000\n",
            "Epoch 22/30\n",
            "80/80 [==============================] - 11s 136ms/step - loss: 6.7900e-05 - accuracy: 1.0000 - val_loss: 0.0017 - val_accuracy: 1.0000\n",
            "Epoch 23/30\n",
            "80/80 [==============================] - 11s 129ms/step - loss: 5.1451e-05 - accuracy: 1.0000 - val_loss: 0.0014 - val_accuracy: 1.0000\n",
            "Epoch 24/30\n",
            "80/80 [==============================] - 12s 151ms/step - loss: 5.4470e-05 - accuracy: 1.0000 - val_loss: 0.0022 - val_accuracy: 1.0000\n",
            "Epoch 25/30\n",
            "80/80 [==============================] - 15s 186ms/step - loss: 4.8381e-05 - accuracy: 1.0000 - val_loss: 0.0016 - val_accuracy: 1.0000\n",
            "Epoch 26/30\n",
            "80/80 [==============================] - 11s 137ms/step - loss: 4.0141e-05 - accuracy: 1.0000 - val_loss: 0.0015 - val_accuracy: 1.0000\n",
            "Epoch 27/30\n",
            "80/80 [==============================] - 11s 129ms/step - loss: 4.1001e-05 - accuracy: 1.0000 - val_loss: 0.0014 - val_accuracy: 1.0000\n",
            "Epoch 28/30\n",
            "80/80 [==============================] - 10s 125ms/step - loss: 3.4755e-05 - accuracy: 1.0000 - val_loss: 0.0014 - val_accuracy: 1.0000\n",
            "Epoch 29/30\n",
            "80/80 [==============================] - 11s 128ms/step - loss: 3.2729e-05 - accuracy: 1.0000 - val_loss: 0.0043 - val_accuracy: 1.0000\n",
            "Epoch 30/30\n",
            "80/80 [==============================] - 9s 115ms/step - loss: 2.9762e-05 - accuracy: 1.0000 - val_loss: 0.0015 - val_accuracy: 1.0000\n"
          ]
        }
      ],
      "source": [
        "training_set=normalized_train_val_set.take(80)\n",
        "validation_set=normalized_train_val_set.skip(80).take(20)\n",
        "\n",
        "Cur_Model_Run = model.fit(\n",
        "    training_set,\n",
        "    validation_data=validation_set,\n",
        "    epochs=30,\n",
        "    steps_per_epoch=len(training_set),\n",
        "    validation_steps=len(validation_set),\n",
        "    callbacks=[tensorboard_callback]\n",
        "  )"
      ]
    },
    {
      "cell_type": "markdown",
      "source": [
        "### Saving the fine tuned model"
      ],
      "metadata": {
        "id": "2Bs6G7k2biNO"
      }
    },
    {
      "cell_type": "code",
      "source": [
        "model.save('/content/drive/MyDrive/Project_2_Conference_Journal_Work/Journal_Related/model_fine_tuned.h5')"
      ],
      "metadata": {
        "id": "xVajQWKsbhq5"
      },
      "execution_count": null,
      "outputs": []
    },
    {
      "cell_type": "code",
      "source": [
        "model=load_model('/content/drive/MyDrive/Project_2_Conference_Journal_Work/Journal_Related/model_fine_tuned.h5')"
      ],
      "metadata": {
        "id": "odMQG-E7WX1Y"
      },
      "execution_count": 12,
      "outputs": []
    },
    {
      "cell_type": "markdown",
      "metadata": {
        "id": "dAfpCTCWExrN"
      },
      "source": [
        "### Plotting the performance of the model after fine parameter tuning"
      ]
    },
    {
      "cell_type": "code",
      "execution_count": null,
      "metadata": {
        "id": "Ip0NtKLos4sU",
        "colab": {
          "base_uri": "https://localhost:8080/",
          "height": 619
        },
        "outputId": "1f413e33-200e-40f0-cbde-87c5b27b641d"
      },
      "outputs": [
        {
          "output_type": "display_data",
          "data": {
            "text/plain": [
              "<Figure size 1000x600 with 1 Axes>"
            ],
            "image/png": "[encoded data removed]"
          },
          "metadata": {}
        },
        {
          "output_type": "stream",
          "name": "stderr",
          "text": [
            "WARNING:matplotlib.backends.backend_ps:The PostScript backend does not support transparency; partially transparent artists will be rendered opaque.\n"
          ]
        }
      ],
      "source": [
        "# Plotting the loss\n",
        "\n",
        "\n",
        "fig=plt.figure(figsize=(10,6));\n",
        "plt.plot(Cur_Model_Run.history['loss'], color='blue', label='Training Loss')\n",
        "plt.plot(Cur_Model_Run.history['val_loss'], color='red', label='Validation Loss')\n",
        "plt.xlabel(\"Epochs\")\n",
        "plt.ylabel(\"Loss\")\n",
        "fig.suptitle('Loss',fontsize=15)\n",
        "plt.legend()\n",
        "plt.show()\n",
        "fig.savefig('/content/drive/MyDrive/Project_2_Conference_Journal_Work/Journal_Related/Loss.eps', format='eps', dpi=600)"
      ]
    },
    {
      "cell_type": "code",
      "execution_count": null,
      "metadata": {
        "id": "Qif0CC2Wx-zq",
        "colab": {
          "base_uri": "https://localhost:8080/",
          "height": 619
        },
        "outputId": "2d27f186-1181-4dc6-8149-238693b7d183"
      },
      "outputs": [
        {
          "output_type": "display_data",
          "data": {
            "text/plain": [
              "<Figure size 1000x600 with 1 Axes>"
            ],
            "image/png": "[encoded data removed]"
          },
          "metadata": {}
        },
        {
          "output_type": "stream",
          "name": "stderr",
          "text": [
            "WARNING:matplotlib.backends.backend_ps:The PostScript backend does not support transparency; partially transparent artists will be rendered opaque.\n"
          ]
        }
      ],
      "source": [
        "# Plotting the accuracy\n",
        "\n",
        "\n",
        "fig=plt.figure(figsize=(10,6));\n",
        "plt.plot(Cur_Model_Run.history['accuracy'], color='blue', label='Training Accuracy')\n",
        "plt.plot(Cur_Model_Run.history['val_accuracy'], color='red', label='Validation Accuracy')\n",
        "plt.xlabel(\"Epochs\")\n",
        "plt.ylabel(\"Accuracy\")\n",
        "fig.suptitle('Accuracy',fontsize=15)\n",
        "plt.legend()\n",
        "plt.show()\n",
        "fig.savefig('/content/drive/MyDrive/Project_2_Conference_Journal_Work/Journal_Related/Accuracy.eps', format='eps', dpi=600)"
      ]
    },
    {
      "cell_type": "markdown",
      "metadata": {
        "id": "ry0YiEGL4H7v"
      },
      "source": [
        "###Calcualting Precision, Recall, Accuracy and F Score of the Model"
      ]
    },
    {
      "cell_type": "code",
      "execution_count": 13,
      "metadata": {
        "id": "7A8M6AA-1KH0"
      },
      "outputs": [],
      "source": [
        "pre = Precision()\n",
        "re = Recall()\n",
        "acc = Accuracy()"
      ]
    },
    {
      "cell_type": "code",
      "execution_count": 36,
      "metadata": {
        "id": "JOFrZ_XmgIx0",
        "colab": {
          "base_uri": "https://localhost:8080/"
        },
        "outputId": "9b8a81de-9dec-4f05-bb3b-c56f0fb83975"
      },
      "outputs": [
        {
          "output_type": "stream",
          "name": "stdout",
          "text": [
            "1/1 [==============================] - 0s 71ms/step - loss: 0.0101 - accuracy: 1.0000\n",
            "1/1 [==============================] - 0s 27ms/step\n",
            "1/1 [==============================] - 0s 55ms/step - loss: 8.3960e-05 - accuracy: 1.0000\n",
            "1/1 [==============================] - 0s 27ms/step\n",
            "1/1 [==============================] - 0s 57ms/step - loss: 0.0030 - accuracy: 1.0000\n",
            "1/1 [==============================] - 0s 27ms/step\n",
            "1/1 [==============================] - 0s 41ms/step - loss: 9.6864e-05 - accuracy: 1.0000\n",
            "1/1 [==============================] - 0s 26ms/step\n",
            "1/1 [==============================] - 0s 39ms/step - loss: 4.7593e-05 - accuracy: 1.0000\n",
            "1/1 [==============================] - 0s 31ms/step\n",
            "1/1 [==============================] - 0s 45ms/step - loss: 0.6780 - accuracy: 0.9375\n",
            "1/1 [==============================] - 0s 26ms/step\n",
            "1/1 [==============================] - 0s 49ms/step - loss: 6.2582e-06 - accuracy: 1.0000\n",
            "1/1 [==============================] - 0s 26ms/step\n",
            "1/1 [==============================] - 0s 48ms/step - loss: 0.0067 - accuracy: 1.0000\n",
            "1/1 [==============================] - 0s 25ms/step\n",
            "1/1 [==============================] - 0s 38ms/step - loss: 1.1644e-05 - accuracy: 1.0000\n",
            "1/1 [==============================] - 0s 25ms/step\n",
            "1/1 [==============================] - 0s 43ms/step - loss: 1.5125e-06 - accuracy: 1.0000\n",
            "1/1 [==============================] - 0s 28ms/step\n",
            "1/1 [==============================] - 0s 40ms/step - loss: 0.4541 - accuracy: 0.8750\n",
            "1/1 [==============================] - 0s 26ms/step\n",
            "1/1 [==============================] - 0s 39ms/step - loss: 4.7310e-06 - accuracy: 1.0000\n",
            "1/1 [==============================] - 0s 25ms/step\n",
            "1/1 [==============================] - 0s 43ms/step - loss: 0.0126 - accuracy: 1.0000\n",
            "1/1 [==============================] - 0s 30ms/step\n",
            "1/1 [==============================] - 0s 46ms/step - loss: 0.5882 - accuracy: 0.9375\n",
            "1/1 [==============================] - 0s 39ms/step\n",
            "1/1 [==============================] - 0s 55ms/step - loss: 1.3285e-04 - accuracy: 1.0000\n",
            "1/1 [==============================] - 0s 43ms/step\n",
            "1/1 [==============================] - 0s 57ms/step - loss: 3.2782e-06 - accuracy: 1.0000\n",
            "1/1 [==============================] - 0s 41ms/step\n",
            "1/1 [==============================] - 0s 78ms/step - loss: 4.4506e-05 - accuracy: 1.0000\n",
            "1/1 [==============================] - 0s 34ms/step\n",
            "1/1 [==============================] - 0s 80ms/step - loss: 0.0046 - accuracy: 1.0000\n",
            "1/1 [==============================] - 0s 36ms/step\n",
            "1/1 [==============================] - 0s 52ms/step - loss: 0.7761 - accuracy: 0.9375\n",
            "1/1 [==============================] - 0s 34ms/step\n",
            "1/1 [==============================] - 0s 46ms/step - loss: 0.0056 - accuracy: 1.0000\n",
            "1/1 [==============================] - 0s 32ms/step\n",
            "1/1 [==============================] - 0s 46ms/step - loss: 0.2653 - accuracy: 0.9375\n",
            "1/1 [==============================] - 0s 33ms/step\n",
            "1/1 [==============================] - 0s 44ms/step - loss: 4.9396e-06 - accuracy: 1.0000\n",
            "1/1 [==============================] - 0s 44ms/step\n",
            "1/1 [==============================] - 0s 49ms/step - loss: 0.2169 - accuracy: 0.9375\n",
            "1/1 [==============================] - 0s 34ms/step\n",
            "1/1 [==============================] - 0s 96ms/step - loss: 2.2277e-06 - accuracy: 1.0000\n",
            "1/1 [==============================] - 0s 39ms/step\n",
            "1/1 [==============================] - 0s 48ms/step - loss: 0.4074 - accuracy: 0.9375\n",
            "1/1 [==============================] - 0s 35ms/step\n",
            "1/1 [==============================] - 0s 104ms/step - loss: 0.0023 - accuracy: 1.0000\n",
            "1/1 [==============================] - 0s 34ms/step\n",
            "1/1 [==============================] - 0s 80ms/step - loss: 7.3514e-04 - accuracy: 1.0000\n",
            "1/1 [==============================] - 0s 37ms/step\n",
            "1/1 [==============================] - 0s 44ms/step - loss: 0.0404 - accuracy: 1.0000\n",
            "1/1 [==============================] - 0s 25ms/step\n",
            "1/1 [==============================] - 0s 46ms/step - loss: 3.0920e-06 - accuracy: 1.0000\n",
            "1/1 [==============================] - 0s 29ms/step\n",
            "1/1 [==============================] - 0s 38ms/step - loss: 3.1399e-05 - accuracy: 1.0000\n",
            "1/1 [==============================] - 0s 26ms/step\n",
            "1/1 [==============================] - 0s 40ms/step - loss: 0.0011 - accuracy: 1.0000\n",
            "1/1 [==============================] - 0s 27ms/step\n",
            "1/1 [==============================] - 0s 40ms/step - loss: 0.0704 - accuracy: 0.9375\n",
            "1/1 [==============================] - 0s 34ms/step\n",
            "1/1 [==============================] - 0s 38ms/step - loss: 2.9508e-05 - accuracy: 1.0000\n",
            "1/1 [==============================] - 0s 34ms/step\n",
            "1/1 [==============================] - 0s 39ms/step - loss: 4.6580e-04 - accuracy: 1.0000\n",
            "1/1 [==============================] - 0s 27ms/step\n",
            "1/1 [==============================] - 0s 39ms/step - loss: 6.6954e-04 - accuracy: 1.0000\n",
            "1/1 [==============================] - 0s 24ms/step\n",
            "1/1 [==============================] - 0s 38ms/step - loss: 0.0106 - accuracy: 1.0000\n",
            "1/1 [==============================] - 0s 23ms/step\n",
            "1/1 [==============================] - 0s 38ms/step - loss: 0.0374 - accuracy: 1.0000\n",
            "1/1 [==============================] - 0s 25ms/step\n",
            "1/1 [==============================] - 0s 40ms/step - loss: 7.2527e-04 - accuracy: 1.0000\n",
            "1/1 [==============================] - 0s 23ms/step\n",
            "1/1 [==============================] - 0s 39ms/step - loss: 6.7752e-04 - accuracy: 1.0000\n",
            "1/1 [==============================] - 0s 29ms/step\n",
            "1/1 [==============================] - 0s 38ms/step - loss: 3.7088e-04 - accuracy: 1.0000\n",
            "1/1 [==============================] - 0s 25ms/step\n"
          ]
        }
      ],
      "source": [
        "True_label=[]\n",
        "Predicted_label=[]\n",
        "Predicted_probabilities=[]\n",
        "score=[]\n",
        "for images,labels in (normalized_testing_set):              \n",
        "  score.append(model.evaluate(images,labels))\n",
        "  for it in range(len(labels)):\n",
        "    True_label.append(labels[it])\n",
        "  pred=model.predict(images)\n",
        "  y_max=[]\n",
        "  for it in range(len(pred)):\n",
        "      Predicted_probabilities.append(pred[it])\n",
        "      y_max.append(np.argmax(pred[it]))\n",
        "      Predicted_label.append(np.argmax(pred[it]))\n",
        "  pre.update_state(labels,y_max)\n",
        "  re.update_state(labels,y_max)\n",
        "  acc.update_state(labels,y_max)"
      ]
    },
    {
      "cell_type": "code",
      "execution_count": 38,
      "metadata": {
        "id": "sXaKqak7HO2B"
      },
      "outputs": [],
      "source": [
        "f_score=(2*pre.result().numpy()*re.result().numpy())/(pre.result().numpy()+re.result().numpy())"
      ]
    },
    {
      "cell_type": "code",
      "source": [
        "kappa=cohen_kappa_score(True_label,Predicted_label)"
      ],
      "metadata": {
        "id": "XMzexDbXotg7"
      },
      "execution_count": 39,
      "outputs": []
    },
    {
      "cell_type": "code",
      "source": [
        "import numpy as np\n",
        "from scipy import interp\n",
        "import matplotlib.pyplot as plt\n",
        "from itertools import cycle\n",
        "from sklearn.metrics import roc_curve, auc\n",
        "from sklearn.preprocessing import label_binarize"
      ],
      "metadata": {
        "id": "i0ML5S8mmncL"
      },
      "execution_count": 40,
      "outputs": []
    },
    {
      "cell_type": "code",
      "source": [
        "True_label=np.array(True_label)\n",
        "Predicted_label=np.array(Predicted_label)"
      ],
      "metadata": {
        "id": "Wcl0IrxGaLDQ"
      },
      "execution_count": 124,
      "outputs": []
    },
    {
      "cell_type": "code",
      "source": [
        "Binarized_True_label=label_binarize(True_label,classes=[0, 1, 2, 3])"
      ],
      "metadata": {
        "id": "7qG_wsr3VrXg"
      },
      "execution_count": 59,
      "outputs": []
    },
    {
      "cell_type": "code",
      "source": [
        "Binarized_True_label"
      ],
      "metadata": {
        "colab": {
          "base_uri": "https://localhost:8080/"
        },
        "id": "K16TAeP7V3hB",
        "outputId": "90061799-663e-40fe-82dc-e62e57023d0e"
      },
      "execution_count": 60,
      "outputs": [
        {
          "output_type": "execute_result",
          "data": {
            "text/plain": [
              "array([[0, 1, 0, 0],\n",
              "       [0, 1, 0, 0],\n",
              "       [0, 1, 0, 0],\n",
              "       ...,\n",
              "       [1, 0, 0, 0],\n",
              "       [0, 1, 0, 0],\n",
              "       [0, 1, 0, 0]])"
            ]
          },
          "metadata": {},
          "execution_count": 60
        }
      ]
    },
    {
      "cell_type": "code",
      "source": [
        "Predicted_probabilities=np.array(Predicted_probabilities)"
      ],
      "metadata": {
        "id": "fszjo81FZm-R"
      },
      "execution_count": 100,
      "outputs": []
    },
    {
      "cell_type": "code",
      "source": [
        "print(Predicted_probabilities.shape)\n",
        "print(Predicted_probabilities[0])"
      ],
      "metadata": {
        "colab": {
          "base_uri": "https://localhost:8080/"
        },
        "id": "dLFGIRdUZ4NY",
        "outputId": "0a5114d8-3b34-43db-eb22-deb6fb220ab0"
      },
      "execution_count": 101,
      "outputs": [
        {
          "output_type": "stream",
          "name": "stdout",
          "text": [
            "(640, 4)\n",
            "[3.6448970e-01 1.0000000e+00 1.4718442e-04 1.4561195e-10]\n"
          ]
        }
      ]
    },
    {
      "cell_type": "code",
      "source": [
        "fpr = [0] * 4\n",
        "tpr = [0] * 4\n",
        "roc_auc= [0] * 4\n",
        "avg_roc_auc=0\n",
        "for i in range(4):\n",
        "    fpr[i], tpr[i], _ = roc_curve(Binarized_True_label[:, i], Predicted_probabilities[:, i])\n",
        "    roc_auc[i] = auc(fpr[i], tpr[i])"
      ],
      "metadata": {
        "id": "EbK4lo_7nRS3"
      },
      "execution_count": 102,
      "outputs": []
    },
    {
      "cell_type": "code",
      "source": [
        "roc_auc_details=[]\n",
        "column_headers=['CLASS','ROC-AUC']\n",
        "for i in range(4):\n",
        "  temp=[CLASSES[i],roc_auc[i]]\n",
        "  roc_auc_details.append(temp)\n",
        "print(tabulate(roc_auc_details, headers=column_headers, tablefmt=\"grid\"))"
      ],
      "metadata": {
        "colab": {
          "base_uri": "https://localhost:8080/"
        },
        "id": "rYWaDxzvmOj2",
        "outputId": "a7ea1b9c-d650-42de-d13d-074e37c40f6e"
      },
      "execution_count": 108,
      "outputs": [
        {
          "output_type": "stream",
          "name": "stdout",
          "text": [
            "+---------+-----------+\n",
            "| CLASS   |   ROC-AUC |\n",
            "+=========+===========+\n",
            "| 1-1     |  0.996411 |\n",
            "+---------+-----------+\n",
            "| 1-2     |  0.963278 |\n",
            "+---------+-----------+\n",
            "| 1-4     |  0.999497 |\n",
            "+---------+-----------+\n",
            "| PURE    |  1        |\n",
            "+---------+-----------+\n"
          ]
        }
      ]
    },
    {
      "cell_type": "code",
      "source": [
        "avg_roc_auc=sum(roc_auc)/4"
      ],
      "metadata": {
        "id": "qiyUOxmhjm44"
      },
      "execution_count": 105,
      "outputs": []
    },
    {
      "cell_type": "code",
      "source": [
        "print(avg_roc_auc)"
      ],
      "metadata": {
        "colab": {
          "base_uri": "https://localhost:8080/"
        },
        "id": "0fKCrfPekteJ",
        "outputId": "23a61608-b467-42f5-c858-d6bcd75c70e7"
      },
      "execution_count": 106,
      "outputs": [
        {
          "output_type": "stream",
          "name": "stdout",
          "text": [
            "0.9897963091553927\n"
          ]
        }
      ]
    },
    {
      "cell_type": "code",
      "source": [
        "fig=plt.figure(figsize=(10,10));\n",
        "\n",
        "color=['red','blue','brown','orange']\n",
        "for i in range(4):\n",
        "  plt.plot(fpr[i],tpr[i],label='Class {} (AUC= {:.6F})'.format(CLASSES[i],roc_auc[i]))\n",
        "plt.plot([0, 1], [0, 1], 'k--')\n",
        "plt.xlim([0.0, 1.0])\n",
        "plt.ylim([0.0, 1.0])\n",
        "plt.xlabel('False Positive Rate')\n",
        "plt.ylabel('True Positive Rate')\n",
        "plt.title('One-vs-Rest ROC Curve')\n",
        "plt.legend(loc='lower right')\n",
        "plt.show()"
      ],
      "metadata": {
        "colab": {
          "base_uri": "https://localhost:8080/",
          "height": 872
        },
        "id": "1TPRFUudgmbZ",
        "outputId": "ebdd7011-c979-40ba-abb9-3caa6dcdec50"
      },
      "execution_count": 110,
      "outputs": [
        {
          "output_type": "display_data",
          "data": {
            "text/plain": [
              "<Figure size 1000x1000 with 1 Axes>"
            ],
            "image/png": "[encoded data removed]"
          },
          "metadata": {}
        }
      ]
    },
    {
      "cell_type": "code",
      "source": [
        "fig=plt.figure(figsize=(10,10));\n",
        "\n",
        "color=['red','blue','brown','orange']\n",
        "for i in range(4):\n",
        "  plt.plot(fpr[i],tpr[i],label='Class {} (AUC= {:.6F})'.format(CLASSES[i],roc_auc[i]))\n",
        "plt.plot([0, 1], [0, 1], 'k--')\n",
        "plt.xlim([0.0, 0.40])\n",
        "plt.ylim([0.0, 1.0])\n",
        "plt.xlabel('False Positive Rate')\n",
        "plt.ylabel('True Positive Rate')\n",
        "plt.title('One-vs-Rest ROC Curve')\n",
        "plt.legend(loc='lower right')\n",
        "plt.show()"
      ],
      "metadata": {
        "id": "AwVBigCunRH8",
        "colab": {
          "base_uri": "https://localhost:8080/",
          "height": 872
        },
        "outputId": "5b575edb-8ba5-4f38-e5ca-a26da51ea134"
      },
      "execution_count": 116,
      "outputs": [
        {
          "output_type": "display_data",
          "data": {
            "text/plain": [
              "<Figure size 1000x1000 with 1 Axes>"
            ],
            "image/png": "[encoded data removed]"
          },
          "metadata": {}
        }
      ]
    },
    {
      "cell_type": "code",
      "source": [],
      "metadata": {
        "id": "eIWp7UWbuHmG"
      },
      "execution_count": null,
      "outputs": []
    },
    {
      "cell_type": "code",
      "source": [],
      "metadata": {
        "id": "0EQWnx2dvEcy"
      },
      "execution_count": null,
      "outputs": []
    },
    {
      "cell_type": "code",
      "source": [
        "# fpr = [0] * 4\n",
        "# tpr = [0] * 4\n",
        "# roc_auc= [0] * 4\n",
        "# avg_roc_auc=0\n",
        "# for i in range(4):\n",
        "#     fpr[i], tpr[i], _ = roc_curve(Binarized_True_label[:, i], Predicted_probabilities[:, i])\n",
        "#     roc_auc[i] = auc(fpr[i], tpr[i])"
      ],
      "metadata": {
        "id": "9gf8sFJt3j_l"
      },
      "execution_count": null,
      "outputs": []
    },
    {
      "cell_type": "code",
      "source": [
        "type(True_label)"
      ],
      "metadata": {
        "colab": {
          "base_uri": "https://localhost:8080/"
        },
        "id": "3qhIs7fB4ohm",
        "outputId": "60b63997-e06e-4461-da76-fca125d0b4ca"
      },
      "execution_count": 146,
      "outputs": [
        {
          "output_type": "execute_result",
          "data": {
            "text/plain": [
              "numpy.ndarray"
            ]
          },
          "metadata": {},
          "execution_count": 146
        }
      ]
    },
    {
      "cell_type": "code",
      "source": [
        "def categorical_cross_entropy_loss(y_true, y_pred):\n",
        "    epsilon = 1e-15  # Small constant to avoid division by zero\n",
        "    N = y_true.shape[0]\n",
        "    \n",
        "    # Clip predicted probabilities to avoid log(0) cases\n",
        "    y_pred = np.clip(y_pred, epsilon, 1 - epsilon)\n",
        "    \n",
        "    # Calculate cross-entropy loss\n",
        "    loss = -np.sum(y_true * np.log(y_pred)) / N\n",
        "    \n",
        "    return loss"
      ],
      "metadata": {
        "id": "6g7WbPnOvRJL"
      },
      "execution_count": 154,
      "outputs": []
    },
    {
      "cell_type": "code",
      "source": [
        "Binarized_True_label.shape[0]"
      ],
      "metadata": {
        "colab": {
          "base_uri": "https://localhost:8080/"
        },
        "id": "QT3fQGgZ91nB",
        "outputId": "de1df9c0-dfeb-4e69-a5d4-0437aaf8d2eb"
      },
      "execution_count": 157,
      "outputs": [
        {
          "output_type": "execute_result",
          "data": {
            "text/plain": [
              "640"
            ]
          },
          "metadata": {},
          "execution_count": 157
        }
      ]
    },
    {
      "cell_type": "code",
      "source": [
        "loss = categorical_cross_entropy_loss(Binarized_True_label, Predicted_probabilities)\n",
        "print(\"Cross-entropy loss:\", loss)"
      ],
      "metadata": {
        "colab": {
          "base_uri": "https://localhost:8080/"
        },
        "id": "RZFrpTXevBRW",
        "outputId": "d3976790-704d-45fa-a04b-8b50cdbdd6f7"
      },
      "execution_count": 155,
      "outputs": [
        {
          "output_type": "stream",
          "name": "stdout",
          "text": [
            "Cross-entropy loss: 0.0007023984594489718\n"
          ]
        }
      ]
    },
    {
      "cell_type": "code",
      "source": [],
      "metadata": {
        "id": "3Ub-19tsvBPB"
      },
      "execution_count": null,
      "outputs": []
    },
    {
      "cell_type": "code",
      "execution_count": 93,
      "metadata": {
        "id": "vXUmWz_3AzUr",
        "colab": {
          "base_uri": "https://localhost:8080/"
        },
        "outputId": "44eef095-f94d-4ee5-ccd8-cc93ba0d1c76"
      },
      "outputs": [
        {
          "output_type": "stream",
          "name": "stdout",
          "text": [
            "Precision: 0.9979231357574463, Recall: 0.9876670241355896, Accuracy: 0.9859374761581421, F Score: 0.9927685623461183\n"
          ]
        }
      ],
      "source": [
        "print(f'Precision: {pre.result().numpy()}, Recall: {re.result().numpy()}, Accuracy: {acc.result().numpy()}, F Score: {f_score}')"
      ]
    },
    {
      "cell_type": "code",
      "source": [
        "print(f'Cohen Kappa Score: {kappa}')"
      ],
      "metadata": {
        "id": "HZYRFkwIo7jV",
        "colab": {
          "base_uri": "https://localhost:8080/"
        },
        "outputId": "cab1a529-9235-4795-f012-0b6b87511ed0"
      },
      "execution_count": 94,
      "outputs": [
        {
          "output_type": "stream",
          "name": "stdout",
          "text": [
            "Cohen Kappa Score: 0.9812430394091557\n"
          ]
        }
      ]
    },
    {
      "cell_type": "code",
      "execution_count": null,
      "metadata": {
        "id": "8mnJ-hQR8lPL",
        "colab": {
          "base_uri": "https://localhost:8080/",
          "height": 821
        },
        "outputId": "8135510c-abef-4498-fc3a-c1aeaa3891ff"
      },
      "outputs": [
        {
          "output_type": "display_data",
          "data": {
            "text/plain": [
              "<Figure size 1000x1000 with 2 Axes>"
            ],
            "image/png": "[encoded data removed]"
          },
          "metadata": {}
        }
      ],
      "source": [
        "confusion_matrix=metrics.confusion_matrix(True_label,Predicted_label,normalize='true')\n",
        "cm_display = metrics.ConfusionMatrixDisplay(confusion_matrix = confusion_matrix, display_labels = ['1-1', '1-2','1-4','PURE'])\n",
        "fig, ax = plt.subplots(figsize=(10,10))\n",
        "cm_display.plot(ax=ax)\n",
        "plt.show();\n",
        "fig.savefig('/content/drive/MyDrive/Project_2_Conference_Journal_Work/Journal_Related/Confusion_Matrix.eps', format='eps', dpi=600)"
      ]
    },
    {
      "cell_type": "markdown",
      "metadata": {
        "id": "e6cf_9VqFDeE"
      },
      "source": [
        "### Demonstrating how to use the model"
      ]
    },
    {
      "cell_type": "code",
      "execution_count": null,
      "metadata": {
        "id": "VGVArk3JuqIh"
      },
      "outputs": [],
      "source": [
        "img=image.load_img('/content/drive/MyDrive/Project_2_Conference_Journal_Work/BLACK_WHITE/1-4/CR_B_DU_1-4_012.jpg',target_size=(256,256))"
      ]
    },
    {
      "cell_type": "code",
      "execution_count": null,
      "metadata": {
        "id": "mlSEanHNv0yv"
      },
      "outputs": [],
      "source": [
        "x=image.img_to_array(img)"
      ]
    },
    {
      "cell_type": "code",
      "execution_count": null,
      "metadata": {
        "id": "Ytjm1xNNwDiw"
      },
      "outputs": [],
      "source": [
        "x=x/255"
      ]
    },
    {
      "cell_type": "code",
      "execution_count": null,
      "metadata": {
        "id": "O2XVAJk9wEOb",
        "colab": {
          "base_uri": "https://localhost:8080/"
        },
        "outputId": "85da7fac-a4fd-477a-ddd3-f792af6e55e2"
      },
      "outputs": [
        {
          "output_type": "execute_result",
          "data": {
            "text/plain": [
              "(1, 256, 256, 3)"
            ]
          },
          "metadata": {},
          "execution_count": 31
        }
      ],
      "source": [
        "x=np.expand_dims(x,axis=0)\n",
        "x.shape"
      ]
    },
    {
      "cell_type": "code",
      "execution_count": null,
      "metadata": {
        "id": "Z0WCmtaYwGAy",
        "colab": {
          "base_uri": "https://localhost:8080/"
        },
        "outputId": "7f975dbf-9a3f-43ab-96df-5adc188f0c5d"
      },
      "outputs": [
        {
          "output_type": "stream",
          "name": "stdout",
          "text": [
            "1/1 [==============================] - 0s 202ms/step\n"
          ]
        }
      ],
      "source": [
        "pred=model.predict(x)"
      ]
    },
    {
      "cell_type": "code",
      "execution_count": null,
      "metadata": {
        "id": "8Wxdt0m8wH0r",
        "colab": {
          "base_uri": "https://localhost:8080/"
        },
        "outputId": "0abba1d1-33e7-4b2e-a7ae-7143a668c918"
      },
      "outputs": [
        {
          "output_type": "stream",
          "name": "stdout",
          "text": [
            "[[2.3035313e-05 9.9997413e-01 1.0000000e+00 2.8868823e-22]]\n"
          ]
        }
      ],
      "source": [
        "print(pred)"
      ]
    },
    {
      "cell_type": "code",
      "execution_count": null,
      "metadata": {
        "id": "LLL9i03t1hBo",
        "colab": {
          "base_uri": "https://localhost:8080/"
        },
        "outputId": "b4352018-de35-42d9-86dc-fe6b4cf53376"
      },
      "outputs": [
        {
          "output_type": "stream",
          "name": "stdout",
          "text": [
            "1-4\n"
          ]
        }
      ],
      "source": [
        "pred_name = CLASSES[np.argmax(pred)]\n",
        "print(pred_name)"
      ]
    }
  ],
  "metadata": {
    "accelerator": "GPU",
    "colab": {
      "provenance": []
    },
    "gpuClass": "standard",
    "kernelspec": {
      "display_name": "Python 3 (ipykernel)",
      "language": "python",
      "name": "python3"
    },
    "language_info": {
      "codemirror_mode": {
        "name": "ipython",
        "version": 3
      },
      "file_extension": ".py",
      "mimetype": "text/x-python",
      "name": "python",
      "nbconvert_exporter": "python",
      "pygments_lexer": "ipython3",
      "version": "3.9.13"
    },
    "vscode": {
      "interpreter": {
        "hash": "b302cdd1e032ee910f5c889c3360c28564c92ad4f326fc3102e39fbe47faee66"
      }
    }
  },
  "nbformat": 4,
  "nbformat_minor": 0
}