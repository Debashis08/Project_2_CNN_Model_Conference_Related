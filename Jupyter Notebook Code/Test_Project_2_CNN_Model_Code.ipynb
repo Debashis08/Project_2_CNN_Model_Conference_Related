{
  "cells": [
    {
      "cell_type": "markdown",
      "source": [
        "### Importing required libraries"
      ],
      "metadata": {
        "id": "uBYwCqCtEjYP"
      }
    },
    {
      "cell_type": "code",
      "execution_count": 146,
      "metadata": {
        "id": "vs9SfnnnlokY"
      },
      "outputs": [],
      "source": [
        "import tensorflow as tf\n",
        "from tensorflow.compat.v1 import ConfigProto\n",
        "from tensorflow.compat.v1 import InteractiveSession\n",
        "from tensorflow.keras.layers import Input, Lambda, Dense, Flatten\n",
        "from tensorflow.keras.models import Model\n",
        "from tensorflow.keras.preprocessing import image\n",
        "from tensorflow.keras.preprocessing.image import ImageDataGenerator,load_img\n",
        "from tensorflow.keras.models import Sequential\n",
        "from tensorflow.keras.layers import Rescaling, Conv2D, MaxPooling2D, Dense, Flatten, Dropout, BatchNormalization\n",
        "from tensorflow.keras.preprocessing.image import ImageDataGenerator\n",
        "from tensorflow.keras.models import load_model\n",
        "from tensorflow.keras.preprocessing import image\n",
        "from tensorflow.keras.metrics import Precision, Recall, Accuracy\n",
        "import numpy as np\n",
        "import matplotlib.pyplot as plt\n",
        "from sklearn import metrics\n",
        "\n",
        "# config = ConfigProto()\n",
        "# config.gpu_options.per_process_gpu_memory_fraction = 0.5\n",
        "# config.gpu_options.allow_growth = True\n",
        "# session = InteractiveSession(config=config)"
      ]
    },
    {
      "cell_type": "markdown",
      "source": [
        "### Declaring the Image size and Batch size"
      ],
      "metadata": {
        "id": "iJ6CFKaPEVGd"
      }
    },
    {
      "cell_type": "code",
      "execution_count": 147,
      "metadata": {
        "id": "Za-dL2Aplrlv"
      },
      "outputs": [],
      "source": [
        "IMAGE_SIZE = [256, 256]\n",
        "BATCH_SIZE=16\n",
        "image_dir='/content/drive/MyDrive/Project_2/BLACK_WHITE'"
      ]
    },
    {
      "cell_type": "code",
      "execution_count": 148,
      "metadata": {
        "id": "sU-YeLLf4iAA"
      },
      "outputs": [],
      "source": [
        "classes=[\"1-1\",\"1-2\",\"1-4\",\"PURE\"]"
      ]
    },
    {
      "cell_type": "code",
      "execution_count": 149,
      "metadata": {
        "id": "OPvQOBPsn5Fo"
      },
      "outputs": [],
      "source": [
        "logdir='/content/drive/MyDrive/Project_2/CNN_Model_Related/Logs'"
      ]
    },
    {
      "cell_type": "code",
      "source": [
        "tensorboard_callback = tf.keras.callbacks.TensorBoard(log_dir=logdir)"
      ],
      "metadata": {
        "id": "h_ST2edlv3ZY"
      },
      "execution_count": 150,
      "outputs": []
    },
    {
      "cell_type": "markdown",
      "source": [
        "### Fetching and Preprocessing the image files"
      ],
      "metadata": {
        "id": "YPkn5rEDEdAN"
      }
    },
    {
      "cell_type": "code",
      "source": [
        "normalization_layer = tf.keras.layers.Rescaling(1./255)"
      ],
      "metadata": {
        "id": "fh6SpJSSEDSa"
      },
      "execution_count": 151,
      "outputs": []
    },
    {
      "cell_type": "code",
      "source": [
        "# Make sure you provide the same target size as initialied for the image size\n",
        "\n",
        "training_set =tf.keras.utils.image_dataset_from_directory(\n",
        "  image_dir,\n",
        "  label_mode='int',\n",
        "  validation_split=0.3,\n",
        "  subset='training',\n",
        "  seed=131,\n",
        "  image_size=IMAGE_SIZE,\n",
        "  batch_size=BATCH_SIZE,\n",
        ")"
      ],
      "metadata": {
        "colab": {
          "base_uri": "https://localhost:8080/"
        },
        "id": "A-yPCHaZEGZ4",
        "outputId": "a8b77204-dd94-4702-ec0e-7b1b977a4761"
      },
      "execution_count": 152,
      "outputs": [
        {
          "output_type": "stream",
          "name": "stdout",
          "text": [
            "Found 2240 files belonging to 4 classes.\n",
            "Using 1568 files for training.\n"
          ]
        }
      ]
    },
    {
      "cell_type": "code",
      "source": [
        "# Make sure you provide the same target size as initialied for the image size\n",
        "\n",
        "temp_set = tf.keras.utils.image_dataset_from_directory(\n",
        "  image_dir,\n",
        "  label_mode='int',\n",
        "  validation_split=0.3,\n",
        "  subset='validation',\n",
        "  seed=131,\n",
        "  image_size=IMAGE_SIZE,\n",
        "  batch_size=BATCH_SIZE)"
      ],
      "metadata": {
        "colab": {
          "base_uri": "https://localhost:8080/"
        },
        "id": "j5xc-iDwEKoD",
        "outputId": "f314845f-6a9c-444f-e178-e562701bb13a"
      },
      "execution_count": 153,
      "outputs": [
        {
          "output_type": "stream",
          "name": "stdout",
          "text": [
            "Found 2240 files belonging to 4 classes.\n",
            "Using 672 files for validation.\n"
          ]
        }
      ]
    },
    {
      "cell_type": "code",
      "source": [
        "temp_batches=tf.data.experimental.cardinality(temp_set)\n",
        "testing_set=temp_set.take((1*temp_batches) // 3)\n",
        "validation_set=temp_set.skip((1*temp_batches) // 3)"
      ],
      "metadata": {
        "id": "B8Rdl0E8kOsE"
      },
      "execution_count": 154,
      "outputs": []
    },
    {
      "cell_type": "code",
      "source": [
        "normalized_training_set = training_set.map(lambda x, y: (normalization_layer(x), y))\n",
        "normalized_validation_set=validation_set.map(lambda x,y: (normalization_layer(x), y))\n",
        "normalized_testing_set=testing_set.map(lambda x,y: (normalization_layer(x) ,y))\n",
        "\n",
        "# image_batch, labels_batch = next(iter(normalized_training_set))      #<-----the data is fethched in this form: image batch, label batch"
      ],
      "metadata": {
        "id": "sVLUfWNtEYSM"
      },
      "execution_count": 155,
      "outputs": []
    },
    {
      "cell_type": "markdown",
      "source": [
        "### Building the CNN Model"
      ],
      "metadata": {
        "id": "yRpUjvO_EpUm"
      }
    },
    {
      "cell_type": "code",
      "execution_count": 198,
      "metadata": {
        "id": "gQjwuivTlHfl"
      },
      "outputs": [],
      "source": [
        "model=Sequential()"
      ]
    },
    {
      "cell_type": "code",
      "execution_count": 199,
      "metadata": {
        "id": "utBDjOGplWIg"
      },
      "outputs": [],
      "source": [
        "model.add(Conv2D(32, (3,3), 1, activation='relu', input_shape=(256,256,3)))\n",
        "model.add(MaxPooling2D(pool_size=(2,2)))\n",
        "\n",
        "\n",
        "model.add(Conv2D(64, (3,3), 1, activation='relu'))\n",
        "model.add(MaxPooling2D())\n",
        "\n",
        "model.add(Conv2D(64, (3,3), 1, activation='relu'))\n",
        "model.add(MaxPooling2D())\n",
        "\n",
        "\n",
        "model.add(Conv2D(128, (3,3), 1, activation='relu'))\n",
        "model.add(MaxPooling2D(pool_size=(2,2)))\n",
        "\n",
        "# model.add(Dropout(0.2))\n",
        "model.add(Flatten())\n",
        "# model.add(Dropout(0.1))\n",
        "\n",
        "model.add(Dense(256, activation='relu'))\n",
        "model.add(Dense(4, activation='sigmoid'))"
      ]
    },
    {
      "cell_type": "code",
      "execution_count": 200,
      "metadata": {
        "colab": {
          "base_uri": "https://localhost:8080/"
        },
        "id": "YDnLFulroTl1",
        "outputId": "9e977229-9738-4a6c-859f-c2e64dd3cc84"
      },
      "outputs": [
        {
          "output_type": "stream",
          "name": "stdout",
          "text": [
            "Model: \"sequential_6\"\n",
            "_________________________________________________________________\n",
            " Layer (type)                Output Shape              Param #   \n",
            "=================================================================\n",
            " conv2d_24 (Conv2D)          (None, 254, 254, 32)      896       \n",
            "                                                                 \n",
            " max_pooling2d_24 (MaxPoolin  (None, 127, 127, 32)     0         \n",
            " g2D)                                                            \n",
            "                                                                 \n",
            " conv2d_25 (Conv2D)          (None, 125, 125, 64)      18496     \n",
            "                                                                 \n",
            " max_pooling2d_25 (MaxPoolin  (None, 62, 62, 64)       0         \n",
            " g2D)                                                            \n",
            "                                                                 \n",
            " conv2d_26 (Conv2D)          (None, 60, 60, 64)        36928     \n",
            "                                                                 \n",
            " max_pooling2d_26 (MaxPoolin  (None, 30, 30, 64)       0         \n",
            " g2D)                                                            \n",
            "                                                                 \n",
            " conv2d_27 (Conv2D)          (None, 28, 28, 128)       73856     \n",
            "                                                                 \n",
            " max_pooling2d_27 (MaxPoolin  (None, 14, 14, 128)      0         \n",
            " g2D)                                                            \n",
            "                                                                 \n",
            " flatten_6 (Flatten)         (None, 25088)             0         \n",
            "                                                                 \n",
            " dense_12 (Dense)            (None, 256)               6422784   \n",
            "                                                                 \n",
            " dense_13 (Dense)            (None, 4)                 1028      \n",
            "                                                                 \n",
            "=================================================================\n",
            "Total params: 6,553,988\n",
            "Trainable params: 6,553,988\n",
            "Non-trainable params: 0\n",
            "_________________________________________________________________\n"
          ]
        }
      ],
      "source": [
        "# Summary of the model\n",
        "\n",
        "model.summary()"
      ]
    },
    {
      "cell_type": "code",
      "execution_count": 201,
      "metadata": {
        "id": "NMRS22KfoWFH"
      },
      "outputs": [],
      "source": [
        "# States the cost and optimization methods to use\n",
        "\n",
        "model.compile(\n",
        "    optimizer='adam',\n",
        "    loss='sparse_categorical_crossentropy',\n",
        "    metrics=['accuracy']\n",
        ")"
      ]
    },
    {
      "cell_type": "markdown",
      "source": [
        "### Training the model"
      ],
      "metadata": {
        "id": "21T4ffIQEuPG"
      }
    },
    {
      "cell_type": "code",
      "execution_count": 202,
      "metadata": {
        "colab": {
          "base_uri": "https://localhost:8080/"
        },
        "id": "YqGIJm5IpAzl",
        "outputId": "fe406415-357c-4e69-e9a3-010114d2d94c"
      },
      "outputs": [
        {
          "output_type": "stream",
          "name": "stdout",
          "text": [
            "Epoch 1/25\n",
            "98/98 [==============================] - 11s 81ms/step - loss: 0.6761 - accuracy: 0.7117 - val_loss: 0.4382 - val_accuracy: 0.8170\n",
            "Epoch 2/25\n",
            "98/98 [==============================] - 9s 88ms/step - loss: 0.3853 - accuracy: 0.8253 - val_loss: 0.4446 - val_accuracy: 0.8259\n",
            "Epoch 3/25\n",
            "98/98 [==============================] - 9s 94ms/step - loss: 0.3297 - accuracy: 0.8501 - val_loss: 0.2720 - val_accuracy: 0.8750\n",
            "Epoch 4/25\n",
            "98/98 [==============================] - 8s 79ms/step - loss: 0.4161 - accuracy: 0.8202 - val_loss: 0.3027 - val_accuracy: 0.8683\n",
            "Epoch 5/25\n",
            "98/98 [==============================] - 8s 80ms/step - loss: 0.3581 - accuracy: 0.8482 - val_loss: 0.2984 - val_accuracy: 0.8616\n",
            "Epoch 6/25\n",
            "98/98 [==============================] - 9s 85ms/step - loss: 0.3446 - accuracy: 0.8578 - val_loss: 0.3576 - val_accuracy: 0.8504\n",
            "Epoch 7/25\n",
            "98/98 [==============================] - 8s 80ms/step - loss: 0.3273 - accuracy: 0.8629 - val_loss: 0.4322 - val_accuracy: 0.8304\n",
            "Epoch 8/25\n",
            "98/98 [==============================] - 9s 87ms/step - loss: 0.2870 - accuracy: 0.8922 - val_loss: 0.2276 - val_accuracy: 0.8951\n",
            "Epoch 9/25\n",
            "98/98 [==============================] - 8s 83ms/step - loss: 0.1956 - accuracy: 0.9349 - val_loss: 0.1491 - val_accuracy: 0.9397\n",
            "Epoch 10/25\n",
            "98/98 [==============================] - 8s 73ms/step - loss: 0.2274 - accuracy: 0.9235 - val_loss: 0.1777 - val_accuracy: 0.9509\n",
            "Epoch 11/25\n",
            "98/98 [==============================] - 10s 94ms/step - loss: 0.2145 - accuracy: 0.9177 - val_loss: 0.1824 - val_accuracy: 0.9554\n",
            "Epoch 12/25\n",
            "98/98 [==============================] - 9s 88ms/step - loss: 0.1343 - accuracy: 0.9503 - val_loss: 0.0957 - val_accuracy: 0.9732\n",
            "Epoch 13/25\n",
            "98/98 [==============================] - 8s 73ms/step - loss: 0.1175 - accuracy: 0.9534 - val_loss: 0.1918 - val_accuracy: 0.9397\n",
            "Epoch 14/25\n",
            "98/98 [==============================] - 8s 81ms/step - loss: 0.1062 - accuracy: 0.9649 - val_loss: 0.0940 - val_accuracy: 0.9621\n",
            "Epoch 15/25\n",
            "98/98 [==============================] - 10s 92ms/step - loss: 0.1114 - accuracy: 0.9662 - val_loss: 0.2053 - val_accuracy: 0.9174\n",
            "Epoch 16/25\n",
            "98/98 [==============================] - 9s 87ms/step - loss: 0.0758 - accuracy: 0.9739 - val_loss: 0.0660 - val_accuracy: 0.9710\n",
            "Epoch 17/25\n",
            "98/98 [==============================] - 8s 82ms/step - loss: 0.0635 - accuracy: 0.9802 - val_loss: 0.3514 - val_accuracy: 0.8951\n",
            "Epoch 18/25\n",
            "98/98 [==============================] - 7s 73ms/step - loss: 0.1868 - accuracy: 0.9286 - val_loss: 0.1181 - val_accuracy: 0.9688\n",
            "Epoch 19/25\n",
            "98/98 [==============================] - 10s 94ms/step - loss: 0.0697 - accuracy: 0.9783 - val_loss: 0.1390 - val_accuracy: 0.9487\n",
            "Epoch 20/25\n",
            "98/98 [==============================] - 8s 81ms/step - loss: 0.0595 - accuracy: 0.9783 - val_loss: 0.0956 - val_accuracy: 0.9710\n",
            "Epoch 21/25\n",
            "98/98 [==============================] - 9s 83ms/step - loss: 0.0620 - accuracy: 0.9777 - val_loss: 0.0789 - val_accuracy: 0.9754\n",
            "Epoch 22/25\n",
            "98/98 [==============================] - 9s 87ms/step - loss: 0.0361 - accuracy: 0.9879 - val_loss: 0.0649 - val_accuracy: 0.9710\n",
            "Epoch 23/25\n",
            "98/98 [==============================] - 8s 80ms/step - loss: 0.0238 - accuracy: 0.9930 - val_loss: 0.0473 - val_accuracy: 0.9866\n",
            "Epoch 24/25\n",
            "98/98 [==============================] - 7s 72ms/step - loss: 0.0233 - accuracy: 0.9885 - val_loss: 0.1132 - val_accuracy: 0.9665\n",
            "Epoch 25/25\n",
            "98/98 [==============================] - 10s 95ms/step - loss: 0.0214 - accuracy: 0.9930 - val_loss: 0.0757 - val_accuracy: 0.9799\n"
          ]
        }
      ],
      "source": [
        "r = model.fit(\n",
        "    normalized_training_set,\n",
        "    validation_data=normalized_validation_set,\n",
        "    epochs=25,\n",
        "    steps_per_epoch=len(normalized_training_set),\n",
        "    validation_steps=len(normalized_validation_set),\n",
        "    callbacks=[tensorboard_callback]\n",
        ")"
      ]
    },
    {
      "cell_type": "markdown",
      "source": [
        "### Plotting the performance of the model"
      ],
      "metadata": {
        "id": "dAfpCTCWExrN"
      }
    },
    {
      "cell_type": "code",
      "execution_count": 203,
      "metadata": {
        "id": "Ip0NtKLos4sU",
        "colab": {
          "base_uri": "https://localhost:8080/",
          "height": 602
        },
        "outputId": "c71a93ac-8c96-43c0-d3f5-ce263d232475"
      },
      "outputs": [
        {
          "output_type": "display_data",
          "data": {
            "text/plain": [
              "<Figure size 1000x600 with 1 Axes>"
            ],
            "image/png": "[encoded data removed]"
          },
          "metadata": {}
        }
      ],
      "source": [
        "# Plotting the loss\n",
        "\n",
        "\n",
        "fig=plt.figure(figsize=(10,6));\n",
        "plt.plot(r.history['loss'], color='teal', label='train loss')\n",
        "plt.plot(r.history['val_loss'], color='orange', label='val loss')\n",
        "plt.xlabel(\"Epochs\")\n",
        "plt.ylabel(\"Loss\")\n",
        "fig.suptitle('Loss',fontsize=15)\n",
        "plt.legend()\n",
        "plt.show()"
      ]
    },
    {
      "cell_type": "code",
      "source": [
        "# Plotting the accuracy\n",
        "\n",
        "\n",
        "fig=plt.figure(figsize=(10,6));\n",
        "plt.plot(r.history['accuracy'], color='teal', label='train acc')\n",
        "plt.plot(r.history['val_accuracy'], color='orange', label='val acc')\n",
        "plt.xlabel(\"Epochs\")\n",
        "plt.ylabel(\"Accuracy\")\n",
        "fig.suptitle('Accuracy',fontsize=15)\n",
        "plt.legend()\n",
        "plt.show()"
      ],
      "metadata": {
        "id": "Qif0CC2Wx-zq",
        "colab": {
          "base_uri": "https://localhost:8080/",
          "height": 602
        },
        "outputId": "0ac6e1fd-cbc3-4cc4-eea2-fcaafcb55996"
      },
      "execution_count": 204,
      "outputs": [
        {
          "output_type": "display_data",
          "data": {
            "text/plain": [
              "<Figure size 1000x600 with 1 Axes>"
            ],
            "image/png": "[encoded data removed]"
          },
          "metadata": {}
        }
      ]
    },
    {
      "cell_type": "code",
      "source": [
        "pre = Precision()\n",
        "re = Recall()\n",
        "acc = Accuracy()"
      ],
      "metadata": {
        "id": "7A8M6AA-1KH0"
      },
      "execution_count": 205,
      "outputs": []
    },
    {
      "cell_type": "code",
      "source": [
        "y_true=[]\n",
        "y_pred=[]\n",
        "score=[]\n",
        "for images,labels in (normalized_testing_set):\n",
        "  score.append(model.evaluate(images,labels))\n",
        "  for it in range(len(labels)):\n",
        "    y_true.append(labels[it])\n",
        "  pred=model.predict(images)\n",
        "  y_max=[]\n",
        "  for it in range(len(pred)):\n",
        "      y_max.append(np.argmax(pred[it]))\n",
        "      y_pred.append(np.argmax(pred[it]))\n",
        "  pre.update_state(labels,y_max)\n",
        "  re.update_state(labels,y_max)\n",
        "  acc.update_state(labels,y_max)"
      ],
      "metadata": {
        "id": "JOFrZ_XmgIx0",
        "colab": {
          "base_uri": "https://localhost:8080/"
        },
        "outputId": "90cf4fb4-71e0-4231-9045-e675b94ec42d"
      },
      "execution_count": 206,
      "outputs": [
        {
          "output_type": "stream",
          "name": "stdout",
          "text": [
            "1/1 [==============================] - 0s 67ms/step - loss: 0.0393 - accuracy: 1.0000\n",
            "1/1 [==============================] - 0s 98ms/step\n",
            "1/1 [==============================] - 0s 45ms/step - loss: 0.0019 - accuracy: 1.0000\n",
            "1/1 [==============================] - 0s 31ms/step\n",
            "1/1 [==============================] - 0s 61ms/step - loss: 0.0138 - accuracy: 1.0000\n",
            "1/1 [==============================] - 0s 27ms/step\n",
            "1/1 [==============================] - 0s 48ms/step - loss: 5.2174e-04 - accuracy: 1.0000\n",
            "1/1 [==============================] - 0s 38ms/step\n",
            "1/1 [==============================] - 0s 42ms/step - loss: 0.0015 - accuracy: 1.0000\n",
            "1/1 [==============================] - 0s 30ms/step\n",
            "1/1 [==============================] - 0s 44ms/step - loss: 0.0115 - accuracy: 1.0000\n",
            "1/1 [==============================] - 0s 28ms/step\n",
            "1/1 [==============================] - 0s 46ms/step - loss: 0.0666 - accuracy: 0.9375\n",
            "1/1 [==============================] - 0s 27ms/step\n",
            "1/1 [==============================] - 0s 51ms/step - loss: 8.1418e-05 - accuracy: 1.0000\n",
            "1/1 [==============================] - 0s 26ms/step\n",
            "1/1 [==============================] - 0s 43ms/step - loss: 0.1413 - accuracy: 0.9375\n",
            "1/1 [==============================] - 0s 29ms/step\n",
            "1/1 [==============================] - 0s 41ms/step - loss: 0.0666 - accuracy: 0.9375\n",
            "1/1 [==============================] - 0s 28ms/step\n",
            "1/1 [==============================] - 0s 42ms/step - loss: 0.1135 - accuracy: 0.9375\n",
            "1/1 [==============================] - 0s 27ms/step\n",
            "1/1 [==============================] - 0s 45ms/step - loss: 0.0033 - accuracy: 1.0000\n",
            "1/1 [==============================] - 0s 26ms/step\n",
            "1/1 [==============================] - 0s 41ms/step - loss: 1.0968 - accuracy: 0.9375\n",
            "1/1 [==============================] - 0s 29ms/step\n",
            "1/1 [==============================] - 0s 42ms/step - loss: 0.3077 - accuracy: 0.8750\n",
            "1/1 [==============================] - 0s 26ms/step\n"
          ]
        }
      ]
    },
    {
      "cell_type": "code",
      "source": [
        "from tabulate import tabulate\n",
        "column_headers=['Loss','Accuracy']\n",
        "print(tabulate(score, headers=column_headers, tablefmt=\"grid\"))"
      ],
      "metadata": {
        "colab": {
          "base_uri": "https://localhost:8080/"
        },
        "id": "Pw96kCtIdQ7U",
        "outputId": "0686a900-59ae-4906-8e24-4ab2b0815aa5"
      },
      "execution_count": 207,
      "outputs": [
        {
          "output_type": "stream",
          "name": "stdout",
          "text": [
            "+------------+------------+\n",
            "|       Loss |   Accuracy |\n",
            "+============+============+\n",
            "| 0.0392589  |     1      |\n",
            "+------------+------------+\n",
            "| 0.00191118 |     1      |\n",
            "+------------+------------+\n",
            "| 0.0138022  |     1      |\n",
            "+------------+------------+\n",
            "| 0.00052174 |     1      |\n",
            "+------------+------------+\n",
            "| 0.00148873 |     1      |\n",
            "+------------+------------+\n",
            "| 0.0114546  |     1      |\n",
            "+------------+------------+\n",
            "| 0.0665574  |     0.9375 |\n",
            "+------------+------------+\n",
            "| 8.1418e-05 |     1      |\n",
            "+------------+------------+\n",
            "| 0.141271   |     0.9375 |\n",
            "+------------+------------+\n",
            "| 0.0666394  |     0.9375 |\n",
            "+------------+------------+\n",
            "| 0.113503   |     0.9375 |\n",
            "+------------+------------+\n",
            "| 0.00328066 |     1      |\n",
            "+------------+------------+\n",
            "| 1.0968     |     0.9375 |\n",
            "+------------+------------+\n",
            "| 0.307748   |     0.875  |\n",
            "+------------+------------+\n"
          ]
        }
      ]
    },
    {
      "cell_type": "code",
      "source": [
        "confusion_matrix=metrics.confusion_matrix(y_true,y_pred,normalize='true')\n",
        "cm_display = metrics.ConfusionMatrixDisplay(confusion_matrix = confusion_matrix, display_labels = ['1-1', '1-2','1-4','PURE'])\n",
        "fig, ax = plt.subplots(figsize=(10,10))\n",
        "cm_display.plot(ax=ax)\n",
        "plt.show();"
      ],
      "metadata": {
        "colab": {
          "base_uri": "https://localhost:8080/",
          "height": 821
        },
        "id": "8mnJ-hQR8lPL",
        "outputId": "430414b9-1f3e-433c-fe56-596d1bf2cbb0"
      },
      "execution_count": 208,
      "outputs": [
        {
          "output_type": "display_data",
          "data": {
            "text/plain": [
              "<Figure size 1000x1000 with 2 Axes>"
            ],
            "image/png": "[encoded data removed]"
          },
          "metadata": {}
        }
      ]
    },
    {
      "cell_type": "code",
      "source": [
        "print(f'Precision: {pre.result().numpy()}, Recall: {re.result().numpy()}, Accuracy: {acc.result().numpy()}')"
      ],
      "metadata": {
        "id": "PpLwFhg_wzMw",
        "colab": {
          "base_uri": "https://localhost:8080/"
        },
        "outputId": "18e37a2c-e637-46a2-ea28-d06bbbc043d1"
      },
      "execution_count": 209,
      "outputs": [
        {
          "output_type": "stream",
          "name": "stdout",
          "text": [
            "Precision: 1.0, Recall: 0.9942857027053833, Accuracy: 0.96875\n"
          ]
        }
      ]
    },
    {
      "cell_type": "markdown",
      "source": [
        "### Saving the model"
      ],
      "metadata": {
        "id": "_KmtxsGlFAUc"
      }
    },
    {
      "cell_type": "code",
      "source": [
        "# Saving it as a h5 file\n",
        "\n",
        "model.save('/content/drive/MyDrive/Project_2/CNN_Model_Related/Model/My_CNN_Model.h5')"
      ],
      "metadata": {
        "id": "gP6ezUodE7Wt"
      },
      "execution_count": 210,
      "outputs": []
    },
    {
      "cell_type": "markdown",
      "source": [
        "### Loading the model and testing"
      ],
      "metadata": {
        "id": "e6cf_9VqFDeE"
      }
    },
    {
      "cell_type": "code",
      "execution_count": 211,
      "metadata": {
        "id": "1YyHgu9vtf1R"
      },
      "outputs": [],
      "source": [
        "model=load_model('/content/drive/MyDrive/Project_2/CNN_Model_Related/Model/My_CNN_Model.h5')"
      ]
    },
    {
      "cell_type": "code",
      "execution_count": 212,
      "metadata": {
        "id": "VGVArk3JuqIh"
      },
      "outputs": [],
      "source": [
        "img=image.load_img('/content/drive/MyDrive/Project_2/BLACK_WHITE/1-4/CR_B_DU_1-4_013.jpg',target_size=(256,256))"
      ]
    },
    {
      "cell_type": "code",
      "execution_count": 213,
      "metadata": {
        "id": "mlSEanHNv0yv"
      },
      "outputs": [],
      "source": [
        "x=image.img_to_array(img)"
      ]
    },
    {
      "cell_type": "code",
      "execution_count": 214,
      "metadata": {
        "id": "Ytjm1xNNwDiw"
      },
      "outputs": [],
      "source": [
        "x=x/255\n",
        "# x.shape"
      ]
    },
    {
      "cell_type": "code",
      "execution_count": 215,
      "metadata": {
        "id": "O2XVAJk9wEOb",
        "colab": {
          "base_uri": "https://localhost:8080/"
        },
        "outputId": "573bf417-9b19-45fe-eede-c681d216f71f"
      },
      "outputs": [
        {
          "output_type": "execute_result",
          "data": {
            "text/plain": [
              "(1, 256, 256, 3)"
            ]
          },
          "metadata": {},
          "execution_count": 215
        }
      ],
      "source": [
        "x=np.expand_dims(x,axis=0)\n",
        "x.shape"
      ]
    },
    {
      "cell_type": "code",
      "execution_count": 216,
      "metadata": {
        "id": "Z0WCmtaYwGAy",
        "colab": {
          "base_uri": "https://localhost:8080/"
        },
        "outputId": "29d00531-24b2-42a3-c1be-1d90778254d2"
      },
      "outputs": [
        {
          "output_type": "stream",
          "name": "stdout",
          "text": [
            "1/1 [==============================] - 0s 93ms/step\n"
          ]
        }
      ],
      "source": [
        "pred=model.predict(x)"
      ]
    },
    {
      "cell_type": "code",
      "execution_count": 217,
      "metadata": {
        "id": "8Wxdt0m8wH0r",
        "colab": {
          "base_uri": "https://localhost:8080/"
        },
        "outputId": "2b16bdde-7fd5-4b0e-fb64-05e59c0af7df"
      },
      "outputs": [
        {
          "output_type": "stream",
          "name": "stdout",
          "text": [
            "[[1.1640664e-17 6.4693624e-01 9.9999988e-01 6.8395284e-21]]\n"
          ]
        }
      ],
      "source": [
        "print(pred)"
      ]
    },
    {
      "cell_type": "code",
      "execution_count": 218,
      "metadata": {
        "id": "LLL9i03t1hBo",
        "colab": {
          "base_uri": "https://localhost:8080/"
        },
        "outputId": "1fefa3e3-65b9-46c3-89d9-a7c95fcd2ae8"
      },
      "outputs": [
        {
          "output_type": "stream",
          "name": "stdout",
          "text": [
            "1-4\n"
          ]
        }
      ],
      "source": [
        "pred_name = classes[np.argmax(pred)]\n",
        "print(pred_name)"
      ]
    }
  ],
  "metadata": {
    "accelerator": "GPU",
    "colab": {
      "provenance": []
    },
    "gpuClass": "standard",
    "kernelspec": {
      "display_name": "Python 3 (ipykernel)",
      "language": "python",
      "name": "python3"
    },
    "language_info": {
      "codemirror_mode": {
        "name": "ipython",
        "version": 3
      },
      "file_extension": ".py",
      "mimetype": "text/x-python",
      "name": "python",
      "nbconvert_exporter": "python",
      "pygments_lexer": "ipython3",
      "version": "3.9.13"
    },
    "vscode": {
      "interpreter": {
        "hash": "b302cdd1e032ee910f5c889c3360c28564c92ad4f326fc3102e39fbe47faee66"
      }
    }
  },
  "nbformat": 4,
  "nbformat_minor": 0
}