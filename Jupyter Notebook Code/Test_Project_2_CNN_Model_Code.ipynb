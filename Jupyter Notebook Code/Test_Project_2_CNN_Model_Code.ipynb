{
  "cells": [
    {
      "cell_type": "markdown",
      "source": [
        "### Importing required libraries"
      ],
      "metadata": {
        "id": "uBYwCqCtEjYP"
      }
    },
    {
      "cell_type": "code",
      "execution_count": 110,
      "metadata": {
        "id": "vs9SfnnnlokY"
      },
      "outputs": [],
      "source": [
        "import tensorflow as tf\n",
        "from tensorflow.compat.v1 import ConfigProto\n",
        "from tensorflow.compat.v1 import InteractiveSession\n",
        "from tensorflow.keras.layers import Input, Lambda, Dense, Flatten\n",
        "from tensorflow.keras.models import Model\n",
        "from tensorflow.keras.preprocessing import image\n",
        "from tensorflow.keras.preprocessing.image import ImageDataGenerator,load_img\n",
        "from tensorflow.keras.models import Sequential\n",
        "from tensorflow.keras.layers import Rescaling, Conv2D, MaxPooling2D, Dense, Flatten, Dropout, BatchNormalization\n",
        "from tensorflow.keras.preprocessing.image import ImageDataGenerator\n",
        "from tensorflow.keras.models import load_model\n",
        "from tensorflow.keras.preprocessing import image\n",
        "from tensorflow.keras.metrics import Precision, Recall, Accuracy\n",
        "import numpy as np\n",
        "import matplotlib.pyplot as plt\n",
        "from sklearn import metrics\n",
        "\n",
        "# config = ConfigProto()\n",
        "# config.gpu_options.per_process_gpu_memory_fraction = 0.5\n",
        "# config.gpu_options.allow_growth = True\n",
        "# session = InteractiveSession(config=config)"
      ]
    },
    {
      "cell_type": "markdown",
      "source": [
        "### Declaring the Image size and Batch size"
      ],
      "metadata": {
        "id": "iJ6CFKaPEVGd"
      }
    },
    {
      "cell_type": "code",
      "execution_count": 111,
      "metadata": {
        "id": "Za-dL2Aplrlv"
      },
      "outputs": [],
      "source": [
        "IMAGE_SIZE = [256, 256]\n",
        "BATCH_SIZE=16\n",
        "image_dir='/content/drive/MyDrive/Project_2/BLACK_WHITE'"
      ]
    },
    {
      "cell_type": "code",
      "execution_count": 112,
      "metadata": {
        "id": "sU-YeLLf4iAA"
      },
      "outputs": [],
      "source": [
        "classes=[\"1-1\",\"1-2\",\"1-4\",\"PURE\"]"
      ]
    },
    {
      "cell_type": "code",
      "execution_count": 113,
      "metadata": {
        "id": "OPvQOBPsn5Fo"
      },
      "outputs": [],
      "source": [
        "logdir='/content/drive/MyDrive/Project_2/CNN_Model_Related/Logs'"
      ]
    },
    {
      "cell_type": "code",
      "source": [
        "tensorboard_callback = tf.keras.callbacks.TensorBoard(log_dir=logdir)"
      ],
      "metadata": {
        "id": "h_ST2edlv3ZY"
      },
      "execution_count": 114,
      "outputs": []
    },
    {
      "cell_type": "markdown",
      "source": [
        "### Fetching and Preprocessing the image files"
      ],
      "metadata": {
        "id": "YPkn5rEDEdAN"
      }
    },
    {
      "cell_type": "code",
      "source": [
        "normalization_layer = tf.keras.layers.Rescaling(1./255)"
      ],
      "metadata": {
        "id": "fh6SpJSSEDSa"
      },
      "execution_count": 115,
      "outputs": []
    },
    {
      "cell_type": "code",
      "source": [
        "# Make sure you provide the same target size as initialied for the image size\n",
        "\n",
        "training_set =tf.keras.utils.image_dataset_from_directory(\n",
        "  image_dir,\n",
        "  label_mode='int',\n",
        "  validation_split=0.3,\n",
        "  subset='training',\n",
        "  seed=131,\n",
        "  image_size=IMAGE_SIZE,\n",
        "  batch_size=BATCH_SIZE,\n",
        ")"
      ],
      "metadata": {
        "colab": {
          "base_uri": "https://localhost:8080/"
        },
        "id": "A-yPCHaZEGZ4",
        "outputId": "feff23b1-a7fb-4b2a-c54a-0d98d28aee7f"
      },
      "execution_count": 116,
      "outputs": [
        {
          "output_type": "stream",
          "name": "stdout",
          "text": [
            "Found 2240 files belonging to 4 classes.\n",
            "Using 1568 files for training.\n"
          ]
        }
      ]
    },
    {
      "cell_type": "code",
      "source": [
        "# Make sure you provide the same target size as initialied for the image size\n",
        "\n",
        "temp_set = tf.keras.utils.image_dataset_from_directory(\n",
        "  image_dir,\n",
        "  label_mode='int',\n",
        "  validation_split=0.3,\n",
        "  subset='validation',\n",
        "  seed=131,\n",
        "  image_size=IMAGE_SIZE,\n",
        "  batch_size=BATCH_SIZE)"
      ],
      "metadata": {
        "colab": {
          "base_uri": "https://localhost:8080/"
        },
        "id": "j5xc-iDwEKoD",
        "outputId": "ceeec44c-4c8c-47db-f3dd-188b2151aed1"
      },
      "execution_count": 117,
      "outputs": [
        {
          "output_type": "stream",
          "name": "stdout",
          "text": [
            "Found 2240 files belonging to 4 classes.\n",
            "Using 672 files for validation.\n"
          ]
        }
      ]
    },
    {
      "cell_type": "code",
      "source": [
        "temp_batches=tf.data.experimental.cardinality(temp_set)\n",
        "testing_set=temp_set.take((1*temp_batches) // 3)\n",
        "validation_set=temp_set.skip((1*temp_batches) // 3)"
      ],
      "metadata": {
        "id": "B8Rdl0E8kOsE"
      },
      "execution_count": 118,
      "outputs": []
    },
    {
      "cell_type": "code",
      "source": [
        "normalized_training_set = training_set.map(lambda x, y: (normalization_layer(x), y))\n",
        "normalized_validation_set=validation_set.map(lambda x,y: (normalization_layer(x), y))\n",
        "normalized_testing_set=training_set.map(lambda x,y: (normalization_layer(x) ,y))\n",
        "\n",
        "# image_batch, labels_batch = next(iter(normalized_training_set))      #<-----the data is fethched in this form: image batch, label batch"
      ],
      "metadata": {
        "id": "sVLUfWNtEYSM"
      },
      "execution_count": 119,
      "outputs": []
    },
    {
      "cell_type": "markdown",
      "source": [
        "### Building the CNN Model"
      ],
      "metadata": {
        "id": "yRpUjvO_EpUm"
      }
    },
    {
      "cell_type": "code",
      "execution_count": 125,
      "metadata": {
        "id": "gQjwuivTlHfl"
      },
      "outputs": [],
      "source": [
        "model=Sequential()"
      ]
    },
    {
      "cell_type": "code",
      "execution_count": 126,
      "metadata": {
        "id": "utBDjOGplWIg"
      },
      "outputs": [],
      "source": [
        "model.add(Conv2D(32, (3,3), 1, activation='relu', input_shape=(256,256,3)))\n",
        "model.add(MaxPooling2D(pool_size=(2,2)))\n",
        "\n",
        "\n",
        "model.add(Conv2D(64, (3,3), 1, activation='relu'))\n",
        "model.add(MaxPooling2D())\n",
        "\n",
        "model.add(Conv2D(64, (3,3), 1, activation='relu'))\n",
        "model.add(MaxPooling2D())\n",
        "\n",
        "\n",
        "model.add(Conv2D(128, (3,3), 1, activation='relu'))\n",
        "model.add(MaxPooling2D(pool_size=(2,2)))\n",
        "\n",
        "# model.add(Dropout(0.2))\n",
        "model.add(Flatten())\n",
        "# model.add(Dropout(0.1))\n",
        "\n",
        "model.add(Dense(256, activation='relu'))\n",
        "model.add(Dense(4, activation='sigmoid'))"
      ]
    },
    {
      "cell_type": "code",
      "execution_count": 127,
      "metadata": {
        "colab": {
          "base_uri": "https://localhost:8080/"
        },
        "id": "YDnLFulroTl1",
        "outputId": "e0a6a38f-ae14-4582-fa78-f7395eb8d027"
      },
      "outputs": [
        {
          "output_type": "stream",
          "name": "stdout",
          "text": [
            "Model: \"sequential_3\"\n",
            "_________________________________________________________________\n",
            " Layer (type)                Output Shape              Param #   \n",
            "=================================================================\n",
            " conv2d_12 (Conv2D)          (None, 254, 254, 32)      896       \n",
            "                                                                 \n",
            " max_pooling2d_12 (MaxPoolin  (None, 127, 127, 32)     0         \n",
            " g2D)                                                            \n",
            "                                                                 \n",
            " conv2d_13 (Conv2D)          (None, 125, 125, 64)      18496     \n",
            "                                                                 \n",
            " max_pooling2d_13 (MaxPoolin  (None, 62, 62, 64)       0         \n",
            " g2D)                                                            \n",
            "                                                                 \n",
            " conv2d_14 (Conv2D)          (None, 60, 60, 64)        36928     \n",
            "                                                                 \n",
            " max_pooling2d_14 (MaxPoolin  (None, 30, 30, 64)       0         \n",
            " g2D)                                                            \n",
            "                                                                 \n",
            " conv2d_15 (Conv2D)          (None, 28, 28, 128)       73856     \n",
            "                                                                 \n",
            " max_pooling2d_15 (MaxPoolin  (None, 14, 14, 128)      0         \n",
            " g2D)                                                            \n",
            "                                                                 \n",
            " flatten_3 (Flatten)         (None, 25088)             0         \n",
            "                                                                 \n",
            " dense_6 (Dense)             (None, 256)               6422784   \n",
            "                                                                 \n",
            " dense_7 (Dense)             (None, 4)                 1028      \n",
            "                                                                 \n",
            "=================================================================\n",
            "Total params: 6,553,988\n",
            "Trainable params: 6,553,988\n",
            "Non-trainable params: 0\n",
            "_________________________________________________________________\n"
          ]
        }
      ],
      "source": [
        "# Summary of the model\n",
        "\n",
        "model.summary()"
      ]
    },
    {
      "cell_type": "code",
      "execution_count": 128,
      "metadata": {
        "id": "NMRS22KfoWFH"
      },
      "outputs": [],
      "source": [
        "# States the cost and optimization methods to use\n",
        "\n",
        "model.compile(\n",
        "    optimizer='adam',\n",
        "    loss='sparse_categorical_crossentropy',\n",
        "    metrics=['accuracy']\n",
        ")"
      ]
    },
    {
      "cell_type": "markdown",
      "source": [
        "### Training the model"
      ],
      "metadata": {
        "id": "21T4ffIQEuPG"
      }
    },
    {
      "cell_type": "code",
      "execution_count": 129,
      "metadata": {
        "colab": {
          "base_uri": "https://localhost:8080/"
        },
        "id": "YqGIJm5IpAzl",
        "outputId": "798b4265-2e58-4ac1-94d6-00c3c31c4488"
      },
      "outputs": [
        {
          "output_type": "stream",
          "name": "stdout",
          "text": [
            "Epoch 1/25\n",
            "98/98 [==============================] - 12s 88ms/step - loss: 0.5624 - accuracy: 0.7474 - val_loss: 0.4776 - val_accuracy: 0.8304\n",
            "Epoch 2/25\n",
            "98/98 [==============================] - 9s 90ms/step - loss: 0.3906 - accuracy: 0.8259 - val_loss: 0.4910 - val_accuracy: 0.8058\n",
            "Epoch 3/25\n",
            "98/98 [==============================] - 9s 85ms/step - loss: 0.3546 - accuracy: 0.8386 - val_loss: 0.3327 - val_accuracy: 0.8616\n",
            "Epoch 4/25\n",
            "98/98 [==============================] - 10s 92ms/step - loss: 0.3889 - accuracy: 0.8253 - val_loss: 0.3574 - val_accuracy: 0.8594\n",
            "Epoch 5/25\n",
            "98/98 [==============================] - 9s 85ms/step - loss: 0.3295 - accuracy: 0.8731 - val_loss: 0.4201 - val_accuracy: 0.8036\n",
            "Epoch 6/25\n",
            "98/98 [==============================] - 8s 81ms/step - loss: 0.2960 - accuracy: 0.8827 - val_loss: 0.3403 - val_accuracy: 0.8862\n",
            "Epoch 7/25\n",
            "98/98 [==============================] - 9s 86ms/step - loss: 0.2207 - accuracy: 0.9171 - val_loss: 0.1860 - val_accuracy: 0.9196\n",
            "Epoch 8/25\n",
            "98/98 [==============================] - 9s 85ms/step - loss: 0.2177 - accuracy: 0.9273 - val_loss: 0.1968 - val_accuracy: 0.9353\n",
            "Epoch 9/25\n",
            "98/98 [==============================] - 8s 80ms/step - loss: 0.1778 - accuracy: 0.9420 - val_loss: 0.1223 - val_accuracy: 0.9598\n",
            "Epoch 10/25\n",
            "98/98 [==============================] - 7s 73ms/step - loss: 0.1555 - accuracy: 0.9439 - val_loss: 0.1322 - val_accuracy: 0.9598\n",
            "Epoch 11/25\n",
            "98/98 [==============================] - 9s 85ms/step - loss: 0.1342 - accuracy: 0.9624 - val_loss: 0.2456 - val_accuracy: 0.9531\n",
            "Epoch 12/25\n",
            "98/98 [==============================] - 9s 92ms/step - loss: 0.1431 - accuracy: 0.9464 - val_loss: 0.2336 - val_accuracy: 0.9085\n",
            "Epoch 13/25\n",
            "98/98 [==============================] - 8s 77ms/step - loss: 0.1021 - accuracy: 0.9726 - val_loss: 0.0935 - val_accuracy: 0.9665\n",
            "Epoch 14/25\n",
            "98/98 [==============================] - 9s 86ms/step - loss: 0.0955 - accuracy: 0.9732 - val_loss: 0.0898 - val_accuracy: 0.9754\n",
            "Epoch 15/25\n",
            "98/98 [==============================] - 10s 95ms/step - loss: 0.0881 - accuracy: 0.9694 - val_loss: 0.0740 - val_accuracy: 0.9777\n",
            "Epoch 16/25\n",
            "98/98 [==============================] - 8s 80ms/step - loss: 0.0496 - accuracy: 0.9821 - val_loss: 0.0646 - val_accuracy: 0.9799\n",
            "Epoch 17/25\n",
            "98/98 [==============================] - 8s 80ms/step - loss: 0.0764 - accuracy: 0.9764 - val_loss: 0.0877 - val_accuracy: 0.9732\n",
            "Epoch 18/25\n",
            "98/98 [==============================] - 9s 86ms/step - loss: 0.0625 - accuracy: 0.9764 - val_loss: 0.1229 - val_accuracy: 0.9598\n",
            "Epoch 19/25\n",
            "98/98 [==============================] - 11s 107ms/step - loss: 0.0432 - accuracy: 0.9815 - val_loss: 0.0715 - val_accuracy: 0.9799\n",
            "Epoch 20/25\n",
            "98/98 [==============================] - 9s 86ms/step - loss: 0.0318 - accuracy: 0.9879 - val_loss: 0.2422 - val_accuracy: 0.9152\n",
            "Epoch 21/25\n",
            "98/98 [==============================] - 9s 86ms/step - loss: 0.0863 - accuracy: 0.9758 - val_loss: 0.1154 - val_accuracy: 0.9710\n",
            "Epoch 22/25\n",
            "98/98 [==============================] - 11s 107ms/step - loss: 0.0248 - accuracy: 0.9936 - val_loss: 0.0711 - val_accuracy: 0.9844\n",
            "Epoch 23/25\n",
            "98/98 [==============================] - 8s 80ms/step - loss: 0.0159 - accuracy: 0.9955 - val_loss: 0.0974 - val_accuracy: 0.9688\n",
            "Epoch 24/25\n",
            "98/98 [==============================] - 9s 87ms/step - loss: 0.0652 - accuracy: 0.9841 - val_loss: 0.0729 - val_accuracy: 0.9799\n",
            "Epoch 25/25\n",
            "98/98 [==============================] - 9s 84ms/step - loss: 0.0186 - accuracy: 0.9923 - val_loss: 0.1029 - val_accuracy: 0.9777\n"
          ]
        }
      ],
      "source": [
        "r = model.fit(\n",
        "    normalized_training_set,\n",
        "    validation_data=normalized_validation_set,\n",
        "    epochs=25,\n",
        "    steps_per_epoch=len(normalized_training_set),\n",
        "    validation_steps=len(normalized_validation_set),\n",
        "    callbacks=[tensorboard_callback]\n",
        ")"
      ]
    },
    {
      "cell_type": "markdown",
      "source": [
        "### Plotting the performance of the model"
      ],
      "metadata": {
        "id": "dAfpCTCWExrN"
      }
    },
    {
      "cell_type": "code",
      "execution_count": 130,
      "metadata": {
        "id": "Ip0NtKLos4sU",
        "colab": {
          "base_uri": "https://localhost:8080/",
          "height": 602
        },
        "outputId": "864417ab-0a5e-4dba-d90a-e416adf30b36"
      },
      "outputs": [
        {
          "output_type": "display_data",
          "data": {
            "text/plain": [
              "<Figure size 1000x600 with 1 Axes>"
            ],
            "image/png": "[encoded data removed]"
          },
          "metadata": {}
        }
      ],
      "source": [
        "# Plotting the loss\n",
        "\n",
        "\n",
        "fig=plt.figure(figsize=(10,6));\n",
        "plt.plot(r.history['loss'], color='teal', label='train loss')\n",
        "plt.plot(r.history['val_loss'], color='orange', label='val loss')\n",
        "plt.xlabel(\"Epochs\")\n",
        "plt.ylabel(\"Loss\")\n",
        "fig.suptitle('Loss',fontsize=15)\n",
        "plt.legend()\n",
        "plt.show()"
      ]
    },
    {
      "cell_type": "code",
      "source": [
        "# Plotting the accuracy\n",
        "\n",
        "\n",
        "fig=plt.figure(figsize=(10,6));\n",
        "plt.plot(r.history['accuracy'], color='teal', label='train acc')\n",
        "plt.plot(r.history['val_accuracy'], color='orange', label='val acc')\n",
        "plt.xlabel(\"Epochs\")\n",
        "plt.ylabel(\"Accuracy\")\n",
        "fig.suptitle('Accuracy',fontsize=15)\n",
        "plt.legend()\n",
        "plt.show()"
      ],
      "metadata": {
        "id": "Qif0CC2Wx-zq",
        "colab": {
          "base_uri": "https://localhost:8080/",
          "height": 602
        },
        "outputId": "433fd4b9-d760-4397-87d3-82d26f1f9d78"
      },
      "execution_count": 131,
      "outputs": [
        {
          "output_type": "display_data",
          "data": {
            "text/plain": [
              "<Figure size 1000x600 with 1 Axes>"
            ],
            "image/png": "[encoded data removed]"
          },
          "metadata": {}
        }
      ]
    },
    {
      "cell_type": "code",
      "source": [
        "pre = Precision()\n",
        "re = Recall()\n",
        "acc = Accuracy()"
      ],
      "metadata": {
        "id": "7A8M6AA-1KH0"
      },
      "execution_count": 132,
      "outputs": []
    },
    {
      "cell_type": "code",
      "source": [
        "y_true=[]\n",
        "y_pred=[]\n",
        "score=[]\n",
        "for images,labels in (normalized_testing_set):\n",
        "  score.append(model.evaluate(images,labels))\n",
        "  for it in range(len(labels)):\n",
        "    y_true.append(labels[it])\n",
        "  pred=model.predict(images)\n",
        "  y_max=[]\n",
        "  for it in range(len(pred)):\n",
        "      y_max.append(np.argmax(pred[it]))\n",
        "      y_pred.append(np.argmax(pred[it]))\n",
        "  pre.update_state(labels,y_max)\n",
        "  re.update_state(labels,y_max)\n",
        "  acc.update_state(labels,y_max)"
      ],
      "metadata": {
        "id": "JOFrZ_XmgIx0",
        "colab": {
          "base_uri": "https://localhost:8080/"
        },
        "outputId": "4deb965b-327e-4f5f-ae86-1096937c57fa"
      },
      "execution_count": 133,
      "outputs": [
        {
          "output_type": "stream",
          "name": "stdout",
          "text": [
            "1/1 [==============================] - 0s 51ms/step - loss: 4.3081e-05 - accuracy: 1.0000\n",
            "1/1 [==============================] - 0s 92ms/step\n",
            "1/1 [==============================] - 0s 40ms/step - loss: 0.0890 - accuracy: 0.9375\n",
            "1/1 [==============================] - 0s 27ms/step\n",
            "1/1 [==============================] - 0s 51ms/step - loss: 5.9912e-04 - accuracy: 1.0000\n",
            "1/1 [==============================] - 0s 24ms/step\n",
            "1/1 [==============================] - 0s 42ms/step - loss: 5.7864e-04 - accuracy: 1.0000\n",
            "1/1 [==============================] - 0s 27ms/step\n",
            "1/1 [==============================] - 0s 46ms/step - loss: 0.0140 - accuracy: 1.0000\n",
            "1/1 [==============================] - 0s 30ms/step\n",
            "1/1 [==============================] - 0s 44ms/step - loss: 0.0012 - accuracy: 1.0000\n",
            "1/1 [==============================] - 0s 33ms/step\n",
            "1/1 [==============================] - 0s 49ms/step - loss: 0.0015 - accuracy: 1.0000\n",
            "1/1 [==============================] - 0s 28ms/step\n",
            "1/1 [==============================] - 0s 42ms/step - loss: 4.4824e-04 - accuracy: 1.0000\n",
            "1/1 [==============================] - 0s 31ms/step\n",
            "1/1 [==============================] - 0s 44ms/step - loss: 0.0037 - accuracy: 1.0000\n",
            "1/1 [==============================] - 0s 34ms/step\n",
            "1/1 [==============================] - 0s 45ms/step - loss: 3.3520e-04 - accuracy: 1.0000\n",
            "1/1 [==============================] - 0s 28ms/step\n",
            "1/1 [==============================] - 0s 50ms/step - loss: 6.4928e-04 - accuracy: 1.0000\n",
            "1/1 [==============================] - 0s 33ms/step\n",
            "1/1 [==============================] - 0s 46ms/step - loss: 3.7012e-04 - accuracy: 1.0000\n",
            "1/1 [==============================] - 0s 28ms/step\n",
            "1/1 [==============================] - 0s 45ms/step - loss: 1.1734e-04 - accuracy: 1.0000\n",
            "1/1 [==============================] - 0s 29ms/step\n",
            "1/1 [==============================] - 0s 55ms/step - loss: 2.4354e-04 - accuracy: 1.0000\n",
            "1/1 [==============================] - 0s 29ms/step\n",
            "1/1 [==============================] - 0s 40ms/step - loss: 0.0106 - accuracy: 1.0000\n",
            "1/1 [==============================] - 0s 29ms/step\n",
            "1/1 [==============================] - 0s 41ms/step - loss: 2.8762e-04 - accuracy: 1.0000\n",
            "1/1 [==============================] - 0s 32ms/step\n",
            "1/1 [==============================] - 0s 43ms/step - loss: 1.9293e-04 - accuracy: 1.0000\n",
            "1/1 [==============================] - 0s 27ms/step\n",
            "1/1 [==============================] - 0s 45ms/step - loss: 1.9956e-04 - accuracy: 1.0000\n",
            "1/1 [==============================] - 0s 26ms/step\n",
            "1/1 [==============================] - 0s 53ms/step - loss: 0.0013 - accuracy: 1.0000\n",
            "1/1 [==============================] - 0s 26ms/step\n",
            "1/1 [==============================] - 0s 42ms/step - loss: 8.8898e-05 - accuracy: 1.0000\n",
            "1/1 [==============================] - 0s 25ms/step\n",
            "1/1 [==============================] - 0s 43ms/step - loss: 0.0051 - accuracy: 1.0000\n",
            "1/1 [==============================] - 0s 32ms/step\n",
            "1/1 [==============================] - 0s 41ms/step - loss: 0.0062 - accuracy: 1.0000\n",
            "1/1 [==============================] - 0s 27ms/step\n",
            "1/1 [==============================] - 0s 46ms/step - loss: 0.0023 - accuracy: 1.0000\n",
            "1/1 [==============================] - 0s 25ms/step\n",
            "1/1 [==============================] - 0s 42ms/step - loss: 1.1510e-04 - accuracy: 1.0000\n",
            "1/1 [==============================] - 0s 25ms/step\n",
            "1/1 [==============================] - 0s 41ms/step - loss: 3.8083e-04 - accuracy: 1.0000\n",
            "1/1 [==============================] - 0s 25ms/step\n",
            "1/1 [==============================] - 0s 40ms/step - loss: 4.8859e-04 - accuracy: 1.0000\n",
            "1/1 [==============================] - 0s 25ms/step\n",
            "1/1 [==============================] - 0s 49ms/step - loss: 4.2723e-04 - accuracy: 1.0000\n",
            "1/1 [==============================] - 0s 27ms/step\n",
            "1/1 [==============================] - 0s 45ms/step - loss: 7.4030e-04 - accuracy: 1.0000\n",
            "1/1 [==============================] - 0s 28ms/step\n",
            "1/1 [==============================] - 0s 43ms/step - loss: 0.0953 - accuracy: 0.9375\n",
            "1/1 [==============================] - 0s 25ms/step\n",
            "1/1 [==============================] - 0s 41ms/step - loss: 0.0015 - accuracy: 1.0000\n",
            "1/1 [==============================] - 0s 26ms/step\n",
            "1/1 [==============================] - 0s 50ms/step - loss: 0.0031 - accuracy: 1.0000\n",
            "1/1 [==============================] - 0s 27ms/step\n",
            "1/1 [==============================] - 0s 39ms/step - loss: 0.0022 - accuracy: 1.0000\n",
            "1/1 [==============================] - 0s 28ms/step\n",
            "1/1 [==============================] - 0s 40ms/step - loss: 0.0038 - accuracy: 1.0000\n",
            "1/1 [==============================] - 0s 24ms/step\n",
            "1/1 [==============================] - 0s 37ms/step - loss: 5.3198e-05 - accuracy: 1.0000\n",
            "1/1 [==============================] - 0s 32ms/step\n",
            "1/1 [==============================] - 0s 40ms/step - loss: 0.0038 - accuracy: 1.0000\n",
            "1/1 [==============================] - 0s 26ms/step\n",
            "1/1 [==============================] - 0s 42ms/step - loss: 7.8712e-04 - accuracy: 1.0000\n",
            "1/1 [==============================] - 0s 28ms/step\n",
            "1/1 [==============================] - 0s 41ms/step - loss: 0.0016 - accuracy: 1.0000\n",
            "1/1 [==============================] - 0s 26ms/step\n",
            "1/1 [==============================] - 0s 41ms/step - loss: 0.0028 - accuracy: 1.0000\n",
            "1/1 [==============================] - 0s 25ms/step\n",
            "1/1 [==============================] - 0s 40ms/step - loss: 7.2364e-04 - accuracy: 1.0000\n",
            "1/1 [==============================] - 0s 32ms/step\n",
            "1/1 [==============================] - 0s 40ms/step - loss: 0.0018 - accuracy: 1.0000\n",
            "1/1 [==============================] - 0s 27ms/step\n",
            "1/1 [==============================] - 0s 43ms/step - loss: 0.0012 - accuracy: 1.0000\n",
            "1/1 [==============================] - 0s 24ms/step\n",
            "1/1 [==============================] - 0s 40ms/step - loss: 4.5674e-04 - accuracy: 1.0000\n",
            "1/1 [==============================] - 0s 35ms/step\n",
            "1/1 [==============================] - 0s 38ms/step - loss: 5.0092e-04 - accuracy: 1.0000\n",
            "1/1 [==============================] - 0s 24ms/step\n",
            "1/1 [==============================] - 0s 41ms/step - loss: 0.0096 - accuracy: 1.0000\n",
            "1/1 [==============================] - 0s 25ms/step\n",
            "1/1 [==============================] - 0s 72ms/step - loss: 1.6308e-05 - accuracy: 1.0000\n",
            "1/1 [==============================] - 0s 37ms/step\n",
            "1/1 [==============================] - 0s 57ms/step - loss: 5.0706e-04 - accuracy: 1.0000\n",
            "1/1 [==============================] - 0s 45ms/step\n",
            "1/1 [==============================] - 0s 78ms/step - loss: 0.0025 - accuracy: 1.0000\n",
            "1/1 [==============================] - 0s 34ms/step\n",
            "1/1 [==============================] - 0s 48ms/step - loss: 3.1307e-04 - accuracy: 1.0000\n",
            "1/1 [==============================] - 0s 41ms/step\n",
            "1/1 [==============================] - 0s 50ms/step - loss: 0.0011 - accuracy: 1.0000\n",
            "1/1 [==============================] - 0s 32ms/step\n",
            "1/1 [==============================] - 0s 47ms/step - loss: 0.0039 - accuracy: 1.0000\n",
            "1/1 [==============================] - 0s 32ms/step\n",
            "1/1 [==============================] - 0s 51ms/step - loss: 0.0018 - accuracy: 1.0000\n",
            "1/1 [==============================] - 0s 37ms/step\n",
            "1/1 [==============================] - 0s 54ms/step - loss: 4.7182e-04 - accuracy: 1.0000\n",
            "1/1 [==============================] - 0s 34ms/step\n",
            "1/1 [==============================] - 0s 49ms/step - loss: 3.7813e-04 - accuracy: 1.0000\n",
            "1/1 [==============================] - 0s 32ms/step\n",
            "1/1 [==============================] - 0s 75ms/step - loss: 1.8857e-04 - accuracy: 1.0000\n",
            "1/1 [==============================] - 0s 35ms/step\n",
            "1/1 [==============================] - 0s 74ms/step - loss: 0.0161 - accuracy: 1.0000\n",
            "1/1 [==============================] - 0s 40ms/step\n",
            "1/1 [==============================] - 0s 56ms/step - loss: 0.0272 - accuracy: 1.0000\n",
            "1/1 [==============================] - 0s 24ms/step\n",
            "1/1 [==============================] - 0s 49ms/step - loss: 1.1889e-04 - accuracy: 1.0000\n",
            "1/1 [==============================] - 0s 24ms/step\n",
            "1/1 [==============================] - 0s 46ms/step - loss: 2.5444e-04 - accuracy: 1.0000\n",
            "1/1 [==============================] - 0s 24ms/step\n",
            "1/1 [==============================] - 0s 43ms/step - loss: 7.5845e-06 - accuracy: 1.0000\n",
            "1/1 [==============================] - 0s 23ms/step\n",
            "1/1 [==============================] - 0s 41ms/step - loss: 8.0460e-05 - accuracy: 1.0000\n",
            "1/1 [==============================] - 0s 24ms/step\n",
            "1/1 [==============================] - 0s 41ms/step - loss: 0.0040 - accuracy: 1.0000\n",
            "1/1 [==============================] - 0s 24ms/step\n",
            "1/1 [==============================] - 0s 42ms/step - loss: 0.0103 - accuracy: 1.0000\n",
            "1/1 [==============================] - 0s 26ms/step\n",
            "1/1 [==============================] - 0s 40ms/step - loss: 0.0094 - accuracy: 1.0000\n",
            "1/1 [==============================] - 0s 26ms/step\n",
            "1/1 [==============================] - 0s 43ms/step - loss: 0.0016 - accuracy: 1.0000\n",
            "1/1 [==============================] - 0s 24ms/step\n",
            "1/1 [==============================] - 0s 39ms/step - loss: 7.0369e-04 - accuracy: 1.0000\n",
            "1/1 [==============================] - 0s 24ms/step\n",
            "1/1 [==============================] - 0s 42ms/step - loss: 5.5558e-04 - accuracy: 1.0000\n",
            "1/1 [==============================] - 0s 24ms/step\n",
            "1/1 [==============================] - 0s 43ms/step - loss: 5.7962e-05 - accuracy: 1.0000\n",
            "1/1 [==============================] - 0s 28ms/step\n",
            "1/1 [==============================] - 0s 41ms/step - loss: 0.0034 - accuracy: 1.0000\n",
            "1/1 [==============================] - 0s 27ms/step\n",
            "1/1 [==============================] - 0s 39ms/step - loss: 1.5011e-04 - accuracy: 1.0000\n",
            "1/1 [==============================] - 0s 26ms/step\n",
            "1/1 [==============================] - 0s 41ms/step - loss: 4.0016e-04 - accuracy: 1.0000\n",
            "1/1 [==============================] - 0s 27ms/step\n",
            "1/1 [==============================] - 0s 40ms/step - loss: 0.0029 - accuracy: 1.0000\n",
            "1/1 [==============================] - 0s 24ms/step\n",
            "1/1 [==============================] - 0s 47ms/step - loss: 0.0017 - accuracy: 1.0000\n",
            "1/1 [==============================] - 0s 26ms/step\n",
            "1/1 [==============================] - 0s 38ms/step - loss: 2.8773e-04 - accuracy: 1.0000\n",
            "1/1 [==============================] - 0s 24ms/step\n",
            "1/1 [==============================] - 0s 40ms/step - loss: 3.6917e-04 - accuracy: 1.0000\n",
            "1/1 [==============================] - 0s 30ms/step\n",
            "1/1 [==============================] - 0s 43ms/step - loss: 3.6401e-04 - accuracy: 1.0000\n",
            "1/1 [==============================] - 0s 27ms/step\n",
            "1/1 [==============================] - 0s 46ms/step - loss: 9.7217e-05 - accuracy: 1.0000\n",
            "1/1 [==============================] - 0s 25ms/step\n",
            "1/1 [==============================] - 0s 41ms/step - loss: 6.4763e-04 - accuracy: 1.0000\n",
            "1/1 [==============================] - 0s 27ms/step\n",
            "1/1 [==============================] - 0s 40ms/step - loss: 4.4214e-05 - accuracy: 1.0000\n",
            "1/1 [==============================] - 0s 24ms/step\n",
            "1/1 [==============================] - 0s 40ms/step - loss: 0.0070 - accuracy: 1.0000\n",
            "1/1 [==============================] - 0s 23ms/step\n",
            "1/1 [==============================] - 0s 58ms/step - loss: 6.7023e-04 - accuracy: 1.0000\n",
            "1/1 [==============================] - 0s 24ms/step\n",
            "1/1 [==============================] - 0s 51ms/step - loss: 2.1355e-04 - accuracy: 1.0000\n",
            "1/1 [==============================] - 0s 25ms/step\n",
            "1/1 [==============================] - 0s 45ms/step - loss: 0.0013 - accuracy: 1.0000\n",
            "1/1 [==============================] - 0s 28ms/step\n",
            "1/1 [==============================] - 0s 47ms/step - loss: 0.0021 - accuracy: 1.0000\n",
            "1/1 [==============================] - 0s 30ms/step\n",
            "1/1 [==============================] - 0s 51ms/step - loss: 0.0027 - accuracy: 1.0000\n",
            "1/1 [==============================] - 0s 23ms/step\n",
            "1/1 [==============================] - 0s 46ms/step - loss: 2.2052e-05 - accuracy: 1.0000\n",
            "1/1 [==============================] - 0s 24ms/step\n",
            "1/1 [==============================] - 0s 40ms/step - loss: 0.0010 - accuracy: 1.0000\n",
            "1/1 [==============================] - 0s 30ms/step\n",
            "1/1 [==============================] - 0s 40ms/step - loss: 8.9355e-04 - accuracy: 1.0000\n",
            "1/1 [==============================] - 0s 23ms/step\n",
            "1/1 [==============================] - 0s 41ms/step - loss: 3.3031e-04 - accuracy: 1.0000\n",
            "1/1 [==============================] - 0s 24ms/step\n",
            "1/1 [==============================] - 0s 42ms/step - loss: 0.0012 - accuracy: 1.0000\n",
            "1/1 [==============================] - 0s 28ms/step\n",
            "1/1 [==============================] - 0s 40ms/step - loss: 6.8378e-05 - accuracy: 1.0000\n",
            "1/1 [==============================] - 0s 26ms/step\n",
            "1/1 [==============================] - 0s 39ms/step - loss: 0.0081 - accuracy: 1.0000\n",
            "1/1 [==============================] - 0s 25ms/step\n",
            "1/1 [==============================] - 0s 40ms/step - loss: 0.0021 - accuracy: 1.0000\n",
            "1/1 [==============================] - 0s 25ms/step\n",
            "1/1 [==============================] - 0s 41ms/step - loss: 5.4346e-04 - accuracy: 1.0000\n",
            "1/1 [==============================] - 0s 24ms/step\n",
            "1/1 [==============================] - 0s 42ms/step - loss: 6.8923e-04 - accuracy: 1.0000\n",
            "1/1 [==============================] - 0s 24ms/step\n",
            "1/1 [==============================] - 0s 39ms/step - loss: 0.0014 - accuracy: 1.0000\n",
            "1/1 [==============================] - 0s 33ms/step\n",
            "1/1 [==============================] - 0s 45ms/step - loss: 0.0056 - accuracy: 1.0000\n",
            "1/1 [==============================] - 0s 24ms/step\n",
            "1/1 [==============================] - 0s 42ms/step - loss: 3.4164e-04 - accuracy: 1.0000\n",
            "1/1 [==============================] - 0s 28ms/step\n",
            "1/1 [==============================] - 0s 40ms/step - loss: 5.7073e-04 - accuracy: 1.0000\n",
            "1/1 [==============================] - 0s 28ms/step\n"
          ]
        }
      ]
    },
    {
      "cell_type": "code",
      "source": [
        "from tabulate import tabulate\n",
        "column_headers=['Loss','Accuracy']\n",
        "print(tabulate(score, headers=column_headers, tablefmt=\"grid\"))"
      ],
      "metadata": {
        "colab": {
          "base_uri": "https://localhost:8080/"
        },
        "id": "Pw96kCtIdQ7U",
        "outputId": "f12dbb53-fbe7-4d49-b889-97410732ad0f"
      },
      "execution_count": 134,
      "outputs": [
        {
          "output_type": "stream",
          "name": "stdout",
          "text": [
            "+-------------+------------+\n",
            "|        Loss |   Accuracy |\n",
            "+=============+============+\n",
            "| 4.30812e-05 |     1      |\n",
            "+-------------+------------+\n",
            "| 0.0889537   |     0.9375 |\n",
            "+-------------+------------+\n",
            "| 0.000599124 |     1      |\n",
            "+-------------+------------+\n",
            "| 0.000578639 |     1      |\n",
            "+-------------+------------+\n",
            "| 0.0140435   |     1      |\n",
            "+-------------+------------+\n",
            "| 0.00120172  |     1      |\n",
            "+-------------+------------+\n",
            "| 0.001546    |     1      |\n",
            "+-------------+------------+\n",
            "| 0.000448237 |     1      |\n",
            "+-------------+------------+\n",
            "| 0.00365976  |     1      |\n",
            "+-------------+------------+\n",
            "| 0.000335199 |     1      |\n",
            "+-------------+------------+\n",
            "| 0.000649283 |     1      |\n",
            "+-------------+------------+\n",
            "| 0.000370118 |     1      |\n",
            "+-------------+------------+\n",
            "| 0.00011734  |     1      |\n",
            "+-------------+------------+\n",
            "| 0.000243538 |     1      |\n",
            "+-------------+------------+\n",
            "| 0.0106498   |     1      |\n",
            "+-------------+------------+\n",
            "| 0.000287618 |     1      |\n",
            "+-------------+------------+\n",
            "| 0.000192926 |     1      |\n",
            "+-------------+------------+\n",
            "| 0.000199555 |     1      |\n",
            "+-------------+------------+\n",
            "| 0.00127045  |     1      |\n",
            "+-------------+------------+\n",
            "| 8.88981e-05 |     1      |\n",
            "+-------------+------------+\n",
            "| 0.00510617  |     1      |\n",
            "+-------------+------------+\n",
            "| 0.00618716  |     1      |\n",
            "+-------------+------------+\n",
            "| 0.00228364  |     1      |\n",
            "+-------------+------------+\n",
            "| 0.000115104 |     1      |\n",
            "+-------------+------------+\n",
            "| 0.000380829 |     1      |\n",
            "+-------------+------------+\n",
            "| 0.000488595 |     1      |\n",
            "+-------------+------------+\n",
            "| 0.000427229 |     1      |\n",
            "+-------------+------------+\n",
            "| 0.000740302 |     1      |\n",
            "+-------------+------------+\n",
            "| 0.0953278   |     0.9375 |\n",
            "+-------------+------------+\n",
            "| 0.00147874  |     1      |\n",
            "+-------------+------------+\n",
            "| 0.00310684  |     1      |\n",
            "+-------------+------------+\n",
            "| 0.00215315  |     1      |\n",
            "+-------------+------------+\n",
            "| 0.00383589  |     1      |\n",
            "+-------------+------------+\n",
            "| 5.31983e-05 |     1      |\n",
            "+-------------+------------+\n",
            "| 0.00383169  |     1      |\n",
            "+-------------+------------+\n",
            "| 0.000787119 |     1      |\n",
            "+-------------+------------+\n",
            "| 0.00162774  |     1      |\n",
            "+-------------+------------+\n",
            "| 0.00276207  |     1      |\n",
            "+-------------+------------+\n",
            "| 0.000723642 |     1      |\n",
            "+-------------+------------+\n",
            "| 0.00180316  |     1      |\n",
            "+-------------+------------+\n",
            "| 0.00115479  |     1      |\n",
            "+-------------+------------+\n",
            "| 0.000456739 |     1      |\n",
            "+-------------+------------+\n",
            "| 0.000500917 |     1      |\n",
            "+-------------+------------+\n",
            "| 0.00957615  |     1      |\n",
            "+-------------+------------+\n",
            "| 1.63081e-05 |     1      |\n",
            "+-------------+------------+\n",
            "| 0.000507058 |     1      |\n",
            "+-------------+------------+\n",
            "| 0.00254546  |     1      |\n",
            "+-------------+------------+\n",
            "| 0.000313071 |     1      |\n",
            "+-------------+------------+\n",
            "| 0.00112821  |     1      |\n",
            "+-------------+------------+\n",
            "| 0.00387166  |     1      |\n",
            "+-------------+------------+\n",
            "| 0.00177455  |     1      |\n",
            "+-------------+------------+\n",
            "| 0.000471821 |     1      |\n",
            "+-------------+------------+\n",
            "| 0.000378127 |     1      |\n",
            "+-------------+------------+\n",
            "| 0.000188566 |     1      |\n",
            "+-------------+------------+\n",
            "| 0.0161119   |     1      |\n",
            "+-------------+------------+\n",
            "| 0.0271676   |     1      |\n",
            "+-------------+------------+\n",
            "| 0.000118887 |     1      |\n",
            "+-------------+------------+\n",
            "| 0.000254438 |     1      |\n",
            "+-------------+------------+\n",
            "| 7.58455e-06 |     1      |\n",
            "+-------------+------------+\n",
            "| 8.04597e-05 |     1      |\n",
            "+-------------+------------+\n",
            "| 0.00396344  |     1      |\n",
            "+-------------+------------+\n",
            "| 0.0103253   |     1      |\n",
            "+-------------+------------+\n",
            "| 0.00943674  |     1      |\n",
            "+-------------+------------+\n",
            "| 0.00157967  |     1      |\n",
            "+-------------+------------+\n",
            "| 0.00070369  |     1      |\n",
            "+-------------+------------+\n",
            "| 0.000555584 |     1      |\n",
            "+-------------+------------+\n",
            "| 5.79624e-05 |     1      |\n",
            "+-------------+------------+\n",
            "| 0.00339618  |     1      |\n",
            "+-------------+------------+\n",
            "| 0.000150115 |     1      |\n",
            "+-------------+------------+\n",
            "| 0.000400163 |     1      |\n",
            "+-------------+------------+\n",
            "| 0.00289936  |     1      |\n",
            "+-------------+------------+\n",
            "| 0.00166353  |     1      |\n",
            "+-------------+------------+\n",
            "| 0.000287733 |     1      |\n",
            "+-------------+------------+\n",
            "| 0.000369168 |     1      |\n",
            "+-------------+------------+\n",
            "| 0.000364011 |     1      |\n",
            "+-------------+------------+\n",
            "| 9.72174e-05 |     1      |\n",
            "+-------------+------------+\n",
            "| 0.000647634 |     1      |\n",
            "+-------------+------------+\n",
            "| 4.42138e-05 |     1      |\n",
            "+-------------+------------+\n",
            "| 0.00695276  |     1      |\n",
            "+-------------+------------+\n",
            "| 0.000670227 |     1      |\n",
            "+-------------+------------+\n",
            "| 0.000213553 |     1      |\n",
            "+-------------+------------+\n",
            "| 0.00131242  |     1      |\n",
            "+-------------+------------+\n",
            "| 0.00206449  |     1      |\n",
            "+-------------+------------+\n",
            "| 0.00266563  |     1      |\n",
            "+-------------+------------+\n",
            "| 2.20524e-05 |     1      |\n",
            "+-------------+------------+\n",
            "| 0.00101332  |     1      |\n",
            "+-------------+------------+\n",
            "| 0.000893553 |     1      |\n",
            "+-------------+------------+\n",
            "| 0.000330309 |     1      |\n",
            "+-------------+------------+\n",
            "| 0.00123962  |     1      |\n",
            "+-------------+------------+\n",
            "| 6.83776e-05 |     1      |\n",
            "+-------------+------------+\n",
            "| 0.00814533  |     1      |\n",
            "+-------------+------------+\n",
            "| 0.00209058  |     1      |\n",
            "+-------------+------------+\n",
            "| 0.000543463 |     1      |\n",
            "+-------------+------------+\n",
            "| 0.000689228 |     1      |\n",
            "+-------------+------------+\n",
            "| 0.00141271  |     1      |\n",
            "+-------------+------------+\n",
            "| 0.00559588  |     1      |\n",
            "+-------------+------------+\n",
            "| 0.00034164  |     1      |\n",
            "+-------------+------------+\n",
            "| 0.00057073  |     1      |\n",
            "+-------------+------------+\n"
          ]
        }
      ]
    },
    {
      "cell_type": "code",
      "source": [
        "confusion_matrix=metrics.confusion_matrix(y_true,y_pred,normalize='true')\n",
        "cm_display = metrics.ConfusionMatrixDisplay(confusion_matrix = confusion_matrix, display_labels = ['1-1', '1-2','1-4','PURE'])\n",
        "fig, ax = plt.subplots(figsize=(10,10))\n",
        "cm_display.plot(ax=ax)\n",
        "plt.show();"
      ],
      "metadata": {
        "colab": {
          "base_uri": "https://localhost:8080/",
          "height": 821
        },
        "id": "8mnJ-hQR8lPL",
        "outputId": "c454c82a-6984-4457-992a-5ed1bf933872"
      },
      "execution_count": 135,
      "outputs": [
        {
          "output_type": "display_data",
          "data": {
            "text/plain": [
              "<Figure size 1000x1000 with 2 Axes>"
            ],
            "image/png": "[encoded data removed]"
          },
          "metadata": {}
        }
      ]
    },
    {
      "cell_type": "code",
      "source": [
        "print(f'Precision: {pre.result().numpy()}, Recall: {re.result().numpy()}, Accuracy: {acc.result().numpy()}')"
      ],
      "metadata": {
        "id": "PpLwFhg_wzMw",
        "colab": {
          "base_uri": "https://localhost:8080/"
        },
        "outputId": "c78a1650-4026-4f4b-f212-fcdac2cb9e25"
      },
      "execution_count": 136,
      "outputs": [
        {
          "output_type": "stream",
          "name": "stdout",
          "text": [
            "Precision: 1.0, Recall: 0.9982832670211792, Accuracy: 0.9987244606018066\n"
          ]
        }
      ]
    },
    {
      "cell_type": "markdown",
      "source": [
        "### Saving the model"
      ],
      "metadata": {
        "id": "_KmtxsGlFAUc"
      }
    },
    {
      "cell_type": "code",
      "source": [
        "# Saving it as a h5 file\n",
        "\n",
        "model.save('/content/drive/MyDrive/Project_2/CNN_Model_Related/Model/My_CNN_Model.h5')"
      ],
      "metadata": {
        "id": "gP6ezUodE7Wt"
      },
      "execution_count": 137,
      "outputs": []
    },
    {
      "cell_type": "markdown",
      "source": [
        "### Loading the model and testing"
      ],
      "metadata": {
        "id": "e6cf_9VqFDeE"
      }
    },
    {
      "cell_type": "code",
      "execution_count": 138,
      "metadata": {
        "id": "1YyHgu9vtf1R"
      },
      "outputs": [],
      "source": [
        "model=load_model('/content/drive/MyDrive/Project_2/CNN_Model_Related/Model/My_CNN_Model.h5')"
      ]
    },
    {
      "cell_type": "code",
      "execution_count": 139,
      "metadata": {
        "id": "VGVArk3JuqIh"
      },
      "outputs": [],
      "source": [
        "img=image.load_img('/content/drive/MyDrive/Project_2/BLACK_WHITE/1-4/CR_B_DU_1-4_013.jpg',target_size=(256,256))"
      ]
    },
    {
      "cell_type": "code",
      "execution_count": 140,
      "metadata": {
        "id": "mlSEanHNv0yv"
      },
      "outputs": [],
      "source": [
        "x=image.img_to_array(img)"
      ]
    },
    {
      "cell_type": "code",
      "execution_count": 141,
      "metadata": {
        "id": "Ytjm1xNNwDiw"
      },
      "outputs": [],
      "source": [
        "x=x/255\n",
        "# x.shape"
      ]
    },
    {
      "cell_type": "code",
      "execution_count": 142,
      "metadata": {
        "id": "O2XVAJk9wEOb",
        "colab": {
          "base_uri": "https://localhost:8080/"
        },
        "outputId": "0ed94700-2a75-4045-c172-a2b2fca5c75c"
      },
      "outputs": [
        {
          "output_type": "execute_result",
          "data": {
            "text/plain": [
              "(1, 256, 256, 3)"
            ]
          },
          "metadata": {},
          "execution_count": 142
        }
      ],
      "source": [
        "x=np.expand_dims(x,axis=0)\n",
        "x.shape"
      ]
    },
    {
      "cell_type": "code",
      "execution_count": 143,
      "metadata": {
        "id": "Z0WCmtaYwGAy",
        "colab": {
          "base_uri": "https://localhost:8080/"
        },
        "outputId": "92599763-de21-4e91-8c43-65931617a853"
      },
      "outputs": [
        {
          "output_type": "stream",
          "name": "stdout",
          "text": [
            "1/1 [==============================] - 0s 122ms/step\n"
          ]
        }
      ],
      "source": [
        "pred=model.predict(x)"
      ]
    },
    {
      "cell_type": "code",
      "execution_count": 144,
      "metadata": {
        "id": "8Wxdt0m8wH0r",
        "colab": {
          "base_uri": "https://localhost:8080/"
        },
        "outputId": "c72b7fd4-86ef-4177-8373-f96699c8805b"
      },
      "outputs": [
        {
          "output_type": "stream",
          "name": "stdout",
          "text": [
            "[[1.9684619e-06 9.1327089e-01 1.0000000e+00 2.3824093e-08]]\n"
          ]
        }
      ],
      "source": [
        "print(pred)"
      ]
    },
    {
      "cell_type": "code",
      "execution_count": 145,
      "metadata": {
        "id": "LLL9i03t1hBo",
        "colab": {
          "base_uri": "https://localhost:8080/"
        },
        "outputId": "89b50c87-9e09-425c-973f-1734365ce0ba"
      },
      "outputs": [
        {
          "output_type": "stream",
          "name": "stdout",
          "text": [
            "1-4\n"
          ]
        }
      ],
      "source": [
        "pred_name = classes[np.argmax(pred)]\n",
        "print(pred_name)"
      ]
    }
  ],
  "metadata": {
    "accelerator": "GPU",
    "colab": {
      "provenance": []
    },
    "gpuClass": "standard",
    "kernelspec": {
      "display_name": "Python 3 (ipykernel)",
      "language": "python",
      "name": "python3"
    },
    "language_info": {
      "codemirror_mode": {
        "name": "ipython",
        "version": 3
      },
      "file_extension": ".py",
      "mimetype": "text/x-python",
      "name": "python",
      "nbconvert_exporter": "python",
      "pygments_lexer": "ipython3",
      "version": "3.9.13"
    },
    "vscode": {
      "interpreter": {
        "hash": "b302cdd1e032ee910f5c889c3360c28564c92ad4f326fc3102e39fbe47faee66"
      }
    }
  },
  "nbformat": 4,
  "nbformat_minor": 0
}