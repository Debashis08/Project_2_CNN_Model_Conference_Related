{
  "cells": [
    {
      "cell_type": "markdown",
      "metadata": {
        "id": "uBYwCqCtEjYP"
      },
      "source": [
        "### Importing required libraries"
      ]
    },
    {
      "cell_type": "code",
      "execution_count": 2,
      "metadata": {
        "id": "vs9SfnnnlokY"
      },
      "outputs": [],
      "source": [
        "import tensorflow as tf\n",
        "from tensorflow.keras.layers import Input, Lambda, Dense, Flatten\n",
        "from tensorflow.keras.models import Model\n",
        "from tensorflow.keras.preprocessing import image\n",
        "from tensorflow.keras.preprocessing.image import load_img\n",
        "from tensorflow.keras.models import Sequential\n",
        "from tensorflow.keras.layers import Rescaling, Conv2D, MaxPooling2D, Dense, Flatten, Dropout, BatchNormalization\n",
        "from tensorflow.keras.models import load_model\n",
        "from tensorflow.keras.preprocessing import image\n",
        "from tensorflow.keras.metrics import Precision, Recall, Accuracy\n",
        "import numpy as np\n",
        "import matplotlib.pyplot as plt\n",
        "from sklearn import metrics\n",
        "from sklearn.metrics import cohen_kappa_score,log_loss\n",
        "from tabulate import tabulate\n",
        "from sklearn.metrics import roc_curve, auc\n",
        "from sklearn.preprocessing import label_binarize"
      ]
    },
    {
      "cell_type": "markdown",
      "metadata": {
        "id": "iJ6CFKaPEVGd"
      },
      "source": [
        "### Declaring the Variables"
      ]
    },
    {
      "cell_type": "code",
      "execution_count": 3,
      "metadata": {
        "id": "Za-dL2Aplrlv"
      },
      "outputs": [],
      "source": [
        "IMAGE_SIZE = [256, 256]\n",
        "BATCH_SIZE=16\n",
        "FOLDS=10\n",
        "SCORES_PER_FOLD=[]\n",
        "CLASSES=[\"1-1\",\"1-2\",\"1-4\",\"PURE\"]"
      ]
    },
    {
      "cell_type": "code",
      "execution_count": 4,
      "metadata": {
        "id": "sU-YeLLf4iAA"
      },
      "outputs": [],
      "source": [
        "image_dir='/content/drive/MyDrive/Project_2_Conference_Journal_Work/BLACK_WHITE'"
      ]
    },
    {
      "cell_type": "code",
      "execution_count": 5,
      "metadata": {
        "id": "OPvQOBPsn5Fo"
      },
      "outputs": [],
      "source": [
        "logdir='/content/drive/MyDrive/Project_2_Conference_Journal_Work/Journal_Related/Logs'"
      ]
    },
    {
      "cell_type": "code",
      "execution_count": 6,
      "metadata": {
        "id": "Yuwp9t4Sp9-p"
      },
      "outputs": [],
      "source": [
        "model_dir='/content/drive/MyDrive/Project_2_Conference_Journal_Work/Journal_Related/Model/'"
      ]
    },
    {
      "cell_type": "code",
      "execution_count": 7,
      "metadata": {
        "id": "h_ST2edlv3ZY"
      },
      "outputs": [],
      "source": [
        "tensorboard_callback = tf.keras.callbacks.TensorBoard(log_dir=logdir)"
      ]
    },
    {
      "cell_type": "markdown",
      "metadata": {
        "id": "YPkn5rEDEdAN"
      },
      "source": [
        "### Fetching and Preprocessing the image files"
      ]
    },
    {
      "cell_type": "code",
      "execution_count": 8,
      "metadata": {
        "id": "fh6SpJSSEDSa"
      },
      "outputs": [],
      "source": [
        "normalization_layer = tf.keras.layers.Rescaling(1./255)"
      ]
    },
    {
      "cell_type": "code",
      "execution_count": 9,
      "metadata": {
        "id": "A-yPCHaZEGZ4",
        "colab": {
          "base_uri": "https://localhost:8080/"
        },
        "outputId": "10147f4e-ed24-4d11-ca8d-aab320a6cdda"
      },
      "outputs": [
        {
          "output_type": "stream",
          "name": "stdout",
          "text": [
            "Found 2240 files belonging to 4 classes.\n"
          ]
        }
      ],
      "source": [
        "image_data_set =tf.keras.utils.image_dataset_from_directory(\n",
        "  image_dir,\n",
        "  label_mode='int',\n",
        "  seed=131,\n",
        "  image_size=IMAGE_SIZE,\n",
        "  batch_size=BATCH_SIZE,\n",
        ")"
      ]
    },
    {
      "cell_type": "code",
      "execution_count": 10,
      "metadata": {
        "id": "QImbuHT0NFce",
        "colab": {
          "base_uri": "https://localhost:8080/"
        },
        "outputId": "b56b2358-4d32-4c07-da05-af78729fe635"
      },
      "outputs": [
        {
          "output_type": "stream",
          "name": "stdout",
          "text": [
            "Using 100 sets for Training and Validation\n",
            "Using 40 sets for Testing\n"
          ]
        }
      ],
      "source": [
        "train_val_set=image_data_set.take(100)\n",
        "test_set=image_data_set.skip(100).take(40)\n",
        "print(f'Using {len(train_val_set)} sets for Training and Validation')\n",
        "print(f'Using {len(test_set)} sets for Testing')"
      ]
    },
    {
      "cell_type": "code",
      "execution_count": 11,
      "metadata": {
        "id": "sVLUfWNtEYSM"
      },
      "outputs": [],
      "source": [
        "normalized_train_val_set=train_val_set.map(lambda x,y: (normalization_layer(x), y))\n",
        "normalized_testing_set=test_set.map(lambda x,y: (normalization_layer(x), y))\n",
        "\n",
        "# image_batch, labels_batch = next(iter(normalized_training_set))      #<-----the data is fethched in this form: image batch, label batch"
      ]
    },
    {
      "cell_type": "markdown",
      "metadata": {
        "id": "yRpUjvO_EpUm"
      },
      "source": [
        "### Building the CNN Model"
      ]
    },
    {
      "cell_type": "code",
      "execution_count": 12,
      "metadata": {
        "id": "tJm9QzZgH-DI"
      },
      "outputs": [],
      "source": [
        "def Build_Model():\n",
        "  model=Sequential()\n",
        "  \n",
        "  model.add(Conv2D(32, (3,3), 1, activation='relu', input_shape=(256,256,3)))\n",
        "  model.add(MaxPooling2D(pool_size=(2,2)))\n",
        "\n",
        "  model.add(Conv2D(64, (3,3), 1, activation='relu'))\n",
        "  model.add(MaxPooling2D())\n",
        "\n",
        "  model.add(Conv2D(64, (3,3), 1, activation='relu'))\n",
        "  model.add(MaxPooling2D())\n",
        "\n",
        "  model.add(Conv2D(128, (3,3), 1, activation='relu'))\n",
        "  model.add(MaxPooling2D(pool_size=(2,2)))\n",
        "\n",
        "  model.add(Flatten())\n",
        "\n",
        "  model.add(Dense(256, activation='relu'))\n",
        "  model.add(Dense(4, activation='sigmoid'))\n",
        "\n",
        "  model.compile(optimizer='adam', loss='sparse_categorical_crossentropy', metrics=['accuracy'])\n",
        "  \n",
        "  return model"
      ]
    },
    {
      "cell_type": "code",
      "execution_count": 13,
      "metadata": {
        "id": "YDnLFulroTl1",
        "colab": {
          "base_uri": "https://localhost:8080/"
        },
        "outputId": "cd67aa7b-6604-486b-fd05-d8e58f36f4cf"
      },
      "outputs": [
        {
          "output_type": "stream",
          "name": "stdout",
          "text": [
            "Model: \"sequential\"\n",
            "_________________________________________________________________\n",
            " Layer (type)                Output Shape              Param #   \n",
            "=================================================================\n",
            " conv2d (Conv2D)             (None, 254, 254, 32)      896       \n",
            "                                                                 \n",
            " max_pooling2d (MaxPooling2D  (None, 127, 127, 32)     0         \n",
            " )                                                               \n",
            "                                                                 \n",
            " conv2d_1 (Conv2D)           (None, 125, 125, 64)      18496     \n",
            "                                                                 \n",
            " max_pooling2d_1 (MaxPooling  (None, 62, 62, 64)       0         \n",
            " 2D)                                                             \n",
            "                                                                 \n",
            " conv2d_2 (Conv2D)           (None, 60, 60, 64)        36928     \n",
            "                                                                 \n",
            " max_pooling2d_2 (MaxPooling  (None, 30, 30, 64)       0         \n",
            " 2D)                                                             \n",
            "                                                                 \n",
            " conv2d_3 (Conv2D)           (None, 28, 28, 128)       73856     \n",
            "                                                                 \n",
            " max_pooling2d_3 (MaxPooling  (None, 14, 14, 128)      0         \n",
            " 2D)                                                             \n",
            "                                                                 \n",
            " flatten (Flatten)           (None, 25088)             0         \n",
            "                                                                 \n",
            " dense (Dense)               (None, 256)               6422784   \n",
            "                                                                 \n",
            " dense_1 (Dense)             (None, 4)                 1028      \n",
            "                                                                 \n",
            "=================================================================\n",
            "Total params: 6,553,988\n",
            "Trainable params: 6,553,988\n",
            "Non-trainable params: 0\n",
            "_________________________________________________________________\n"
          ]
        }
      ],
      "source": [
        "# Summary of the model\n",
        "model=Build_Model()\n",
        "model.summary()"
      ]
    },
    {
      "cell_type": "markdown",
      "metadata": {
        "id": "21T4ffIQEuPG"
      },
      "source": [
        "### Peforming the 10 Fold Cross Validation"
      ]
    },
    {
      "cell_type": "code",
      "execution_count": 14,
      "metadata": {
        "id": "otK1Dp9aebg5",
        "colab": {
          "base_uri": "https://localhost:8080/"
        },
        "outputId": "14aa3b2d-4b8e-4451-acce-b12432d3a0e1"
      },
      "outputs": [
        {
          "output_type": "stream",
          "name": "stdout",
          "text": [
            "Fold 1\n",
            "--------------------------------------------------------------------------------------------\n",
            "Epoch 1/20\n",
            "90/90 [==============================] - 232s 2s/step - loss: 0.6601 - accuracy: 0.7222\n",
            "Epoch 2/20\n",
            "90/90 [==============================] - 6s 56ms/step - loss: 0.4382 - accuracy: 0.7924\n",
            "Epoch 3/20\n",
            "90/90 [==============================] - 6s 56ms/step - loss: 0.3516 - accuracy: 0.8486\n",
            "Epoch 4/20\n",
            "90/90 [==============================] - 7s 66ms/step - loss: 0.3815 - accuracy: 0.8389\n",
            "Epoch 5/20\n",
            "90/90 [==============================] - 6s 56ms/step - loss: 0.3888 - accuracy: 0.8285\n",
            "Epoch 6/20\n",
            "90/90 [==============================] - 7s 71ms/step - loss: 0.3774 - accuracy: 0.8403\n",
            "Epoch 7/20\n",
            "90/90 [==============================] - 6s 56ms/step - loss: 0.3381 - accuracy: 0.8410\n",
            "Epoch 8/20\n",
            "90/90 [==============================] - 7s 71ms/step - loss: 0.3314 - accuracy: 0.8562\n",
            "Epoch 9/20\n",
            "90/90 [==============================] - 6s 55ms/step - loss: 0.3358 - accuracy: 0.8639\n",
            "Epoch 10/20\n",
            "90/90 [==============================] - 6s 56ms/step - loss: 0.4025 - accuracy: 0.8361\n",
            "Epoch 11/20\n",
            "90/90 [==============================] - 9s 86ms/step - loss: 0.2889 - accuracy: 0.8729\n",
            "Epoch 12/20\n",
            "90/90 [==============================] - 6s 56ms/step - loss: 0.2590 - accuracy: 0.8771\n",
            "Epoch 13/20\n",
            "90/90 [==============================] - 7s 72ms/step - loss: 0.2559 - accuracy: 0.8951\n",
            "Epoch 14/20\n",
            "90/90 [==============================] - 6s 56ms/step - loss: 0.2398 - accuracy: 0.9090\n",
            "Epoch 15/20\n",
            "90/90 [==============================] - 7s 72ms/step - loss: 0.2419 - accuracy: 0.9076\n",
            "Epoch 16/20\n",
            "90/90 [==============================] - 6s 56ms/step - loss: 0.2855 - accuracy: 0.8979\n",
            "Epoch 17/20\n",
            "90/90 [==============================] - 6s 55ms/step - loss: 0.1819 - accuracy: 0.9354\n",
            "Epoch 18/20\n",
            "90/90 [==============================] - 7s 71ms/step - loss: 0.3758 - accuracy: 0.8694\n",
            "Epoch 19/20\n",
            "90/90 [==============================] - 6s 56ms/step - loss: 0.3251 - accuracy: 0.8667\n",
            "Epoch 20/20\n",
            "90/90 [==============================] - 7s 59ms/step - loss: 0.1875 - accuracy: 0.9403\n",
            "\n",
            "\n",
            "Evaluating the model\n",
            "\n",
            "\n",
            "10/10 [==============================] - 1s 50ms/step - loss: 0.2668 - accuracy: 0.9000\n",
            "--------------------------------------------------------------------------------------------\n",
            "Fold 2\n",
            "--------------------------------------------------------------------------------------------\n",
            "Epoch 1/20\n",
            "90/90 [==============================] - 10s 70ms/step - loss: 0.6569 - accuracy: 0.7028\n",
            "Epoch 2/20\n",
            "90/90 [==============================] - 8s 85ms/step - loss: 0.4307 - accuracy: 0.8097\n",
            "Epoch 3/20\n",
            "90/90 [==============================] - 7s 75ms/step - loss: 0.4921 - accuracy: 0.7937\n",
            "Epoch 4/20\n",
            "90/90 [==============================] - 7s 75ms/step - loss: 0.3582 - accuracy: 0.8431\n",
            "Epoch 5/20\n",
            "90/90 [==============================] - 7s 79ms/step - loss: 0.3325 - accuracy: 0.8583\n",
            "Epoch 6/20\n",
            "90/90 [==============================] - 7s 72ms/step - loss: 0.3622 - accuracy: 0.8451\n",
            "Epoch 7/20\n",
            "90/90 [==============================] - 8s 85ms/step - loss: 0.3434 - accuracy: 0.8549\n",
            "Epoch 8/20\n",
            "90/90 [==============================] - 6s 68ms/step - loss: 0.2978 - accuracy: 0.8806\n",
            "Epoch 9/20\n",
            "90/90 [==============================] - 8s 85ms/step - loss: 0.2869 - accuracy: 0.8917\n",
            "Epoch 10/20\n",
            "90/90 [==============================] - 8s 83ms/step - loss: 0.2283 - accuracy: 0.9174\n",
            "Epoch 11/20\n",
            "90/90 [==============================] - 7s 69ms/step - loss: 0.2765 - accuracy: 0.8910\n",
            "Epoch 12/20\n",
            "90/90 [==============================] - 8s 86ms/step - loss: 0.2458 - accuracy: 0.9278\n",
            "Epoch 13/20\n",
            "90/90 [==============================] - 8s 82ms/step - loss: 0.2018 - accuracy: 0.9264\n",
            "Epoch 14/20\n",
            "90/90 [==============================] - 7s 68ms/step - loss: 0.1611 - accuracy: 0.9465\n",
            "Epoch 15/20\n",
            "90/90 [==============================] - 7s 69ms/step - loss: 0.1284 - accuracy: 0.9542\n",
            "Epoch 16/20\n",
            "90/90 [==============================] - 9s 94ms/step - loss: 0.0995 - accuracy: 0.9653\n",
            "Epoch 17/20\n",
            "90/90 [==============================] - 8s 85ms/step - loss: 0.0842 - accuracy: 0.9715\n",
            "Epoch 18/20\n",
            "90/90 [==============================] - 7s 69ms/step - loss: 0.1167 - accuracy: 0.9632\n",
            "Epoch 19/20\n",
            "90/90 [==============================] - 8s 86ms/step - loss: 0.1071 - accuracy: 0.9653\n",
            "Epoch 20/20\n",
            "90/90 [==============================] - 6s 68ms/step - loss: 0.1240 - accuracy: 0.9611\n",
            "\n",
            "\n",
            "Evaluating the model\n",
            "\n",
            "\n",
            "10/10 [==============================] - 2s 78ms/step - loss: 0.1551 - accuracy: 0.9625\n",
            "--------------------------------------------------------------------------------------------\n",
            "Fold 3\n",
            "--------------------------------------------------------------------------------------------\n",
            "Epoch 1/20\n",
            "90/90 [==============================] - 9s 75ms/step - loss: 0.6365 - accuracy: 0.7472\n",
            "Epoch 2/20\n",
            "90/90 [==============================] - 8s 91ms/step - loss: 0.4320 - accuracy: 0.8153\n",
            "Epoch 3/20\n",
            "90/90 [==============================] - 7s 75ms/step - loss: 0.4514 - accuracy: 0.8056\n",
            "Epoch 4/20\n",
            "90/90 [==============================] - 8s 85ms/step - loss: 0.4346 - accuracy: 0.8194\n",
            "Epoch 5/20\n",
            "90/90 [==============================] - 8s 86ms/step - loss: 0.3291 - accuracy: 0.8493\n",
            "Epoch 6/20\n",
            "90/90 [==============================] - 7s 74ms/step - loss: 0.3309 - accuracy: 0.8597\n",
            "Epoch 7/20\n",
            "90/90 [==============================] - 8s 89ms/step - loss: 0.2801 - accuracy: 0.8757\n",
            "Epoch 8/20\n",
            "90/90 [==============================] - 8s 86ms/step - loss: 0.3341 - accuracy: 0.8660\n",
            "Epoch 9/20\n",
            "90/90 [==============================] - 7s 74ms/step - loss: 0.2918 - accuracy: 0.8896\n",
            "Epoch 10/20\n",
            "90/90 [==============================] - 7s 74ms/step - loss: 0.2977 - accuracy: 0.8847\n",
            "Epoch 11/20\n",
            "90/90 [==============================] - 8s 87ms/step - loss: 0.2178 - accuracy: 0.9201\n",
            "Epoch 12/20\n",
            "90/90 [==============================] - 8s 90ms/step - loss: 0.2289 - accuracy: 0.9236\n",
            "Epoch 13/20\n",
            "90/90 [==============================] - 7s 73ms/step - loss: 0.2812 - accuracy: 0.8868\n",
            "Epoch 14/20\n",
            "90/90 [==============================] - 8s 77ms/step - loss: 0.1465 - accuracy: 0.9542\n",
            "Epoch 15/20\n",
            "90/90 [==============================] - 8s 89ms/step - loss: 0.1231 - accuracy: 0.9604\n",
            "Epoch 16/20\n",
            "90/90 [==============================] - 7s 76ms/step - loss: 0.1698 - accuracy: 0.9514\n",
            "Epoch 17/20\n",
            "90/90 [==============================] - 7s 72ms/step - loss: 0.2419 - accuracy: 0.9299\n",
            "Epoch 18/20\n",
            "90/90 [==============================] - 8s 90ms/step - loss: 0.0831 - accuracy: 0.9694\n",
            "Epoch 19/20\n",
            "90/90 [==============================] - 8s 81ms/step - loss: 0.0732 - accuracy: 0.9729\n",
            "Epoch 20/20\n",
            "90/90 [==============================] - 8s 82ms/step - loss: 0.0812 - accuracy: 0.9771\n",
            "\n",
            "\n",
            "Evaluating the model\n",
            "\n",
            "\n",
            "10/10 [==============================] - 2s 70ms/step - loss: 0.2999 - accuracy: 0.9500\n",
            "--------------------------------------------------------------------------------------------\n",
            "Fold 4\n",
            "--------------------------------------------------------------------------------------------\n",
            "Epoch 1/20\n",
            "90/90 [==============================] - 10s 80ms/step - loss: 0.6434 - accuracy: 0.7271\n",
            "Epoch 2/20\n",
            "90/90 [==============================] - 9s 94ms/step - loss: 0.4140 - accuracy: 0.8201\n",
            "Epoch 3/20\n",
            "90/90 [==============================] - 8s 84ms/step - loss: 0.3955 - accuracy: 0.8257\n",
            "Epoch 4/20\n",
            "90/90 [==============================] - 7s 77ms/step - loss: 0.3727 - accuracy: 0.8479\n",
            "Epoch 5/20\n",
            "90/90 [==============================] - 8s 79ms/step - loss: 0.3629 - accuracy: 0.8493\n",
            "Epoch 6/20\n",
            "90/90 [==============================] - 9s 95ms/step - loss: 0.4380 - accuracy: 0.8222\n",
            "Epoch 7/20\n",
            "90/90 [==============================] - 7s 77ms/step - loss: 0.3217 - accuracy: 0.8639\n",
            "Epoch 8/20\n",
            "90/90 [==============================] - 9s 95ms/step - loss: 0.3700 - accuracy: 0.8451\n",
            "Epoch 9/20\n",
            "90/90 [==============================] - 8s 85ms/step - loss: 0.3168 - accuracy: 0.8681\n",
            "Epoch 10/20\n",
            "90/90 [==============================] - 7s 78ms/step - loss: 0.3778 - accuracy: 0.8583\n",
            "Epoch 11/20\n",
            "90/90 [==============================] - 9s 94ms/step - loss: 0.2692 - accuracy: 0.8861\n",
            "Epoch 12/20\n",
            "90/90 [==============================] - 8s 87ms/step - loss: 0.3082 - accuracy: 0.8806\n",
            "Epoch 13/20\n",
            "90/90 [==============================] - 8s 81ms/step - loss: 0.2708 - accuracy: 0.8979\n",
            "Epoch 14/20\n",
            "90/90 [==============================] - 9s 94ms/step - loss: 0.2074 - accuracy: 0.9271\n",
            "Epoch 15/20\n",
            "90/90 [==============================] - 9s 92ms/step - loss: 0.2004 - accuracy: 0.9333\n",
            "Epoch 16/20\n",
            "90/90 [==============================] - 7s 78ms/step - loss: 0.2142 - accuracy: 0.9194\n",
            "Epoch 17/20\n",
            "90/90 [==============================] - 8s 78ms/step - loss: 0.1416 - accuracy: 0.9528\n",
            "Epoch 18/20\n",
            "90/90 [==============================] - 9s 94ms/step - loss: 0.1538 - accuracy: 0.9438\n",
            "Epoch 19/20\n",
            "90/90 [==============================] - 9s 95ms/step - loss: 0.1542 - accuracy: 0.9424\n",
            "Epoch 20/20\n",
            "90/90 [==============================] - 7s 76ms/step - loss: 0.0904 - accuracy: 0.9694\n",
            "\n",
            "\n",
            "Evaluating the model\n",
            "\n",
            "\n",
            "10/10 [==============================] - 3s 51ms/step - loss: 0.0447 - accuracy: 0.9812\n",
            "--------------------------------------------------------------------------------------------\n",
            "Fold 5\n",
            "--------------------------------------------------------------------------------------------\n",
            "Epoch 1/20\n",
            "90/90 [==============================] - 11s 93ms/step - loss: 0.6322 - accuracy: 0.7153\n",
            "Epoch 2/20\n",
            "90/90 [==============================] - 8s 83ms/step - loss: 0.4380 - accuracy: 0.7937\n",
            "Epoch 3/20\n",
            "90/90 [==============================] - 11s 111ms/step - loss: 0.3778 - accuracy: 0.8306\n",
            "Epoch 4/20\n",
            "90/90 [==============================] - 8s 80ms/step - loss: 0.3913 - accuracy: 0.8340\n",
            "Epoch 5/20\n",
            "90/90 [==============================] - 8s 81ms/step - loss: 0.3948 - accuracy: 0.8410\n",
            "Epoch 6/20\n",
            "90/90 [==============================] - 9s 97ms/step - loss: 0.3003 - accuracy: 0.8694\n",
            "Epoch 7/20\n",
            "90/90 [==============================] - 9s 92ms/step - loss: 0.3021 - accuracy: 0.8625\n",
            "Epoch 8/20\n",
            "90/90 [==============================] - 8s 84ms/step - loss: 0.2754 - accuracy: 0.8854\n",
            "Epoch 9/20\n",
            "90/90 [==============================] - 9s 98ms/step - loss: 0.3113 - accuracy: 0.8819\n",
            "Epoch 10/20\n",
            "90/90 [==============================] - 9s 98ms/step - loss: 0.2530 - accuracy: 0.9090\n",
            "Epoch 11/20\n",
            "90/90 [==============================] - 8s 81ms/step - loss: 0.2337 - accuracy: 0.9118\n",
            "Epoch 12/20\n",
            "90/90 [==============================] - 9s 97ms/step - loss: 0.2928 - accuracy: 0.9160\n",
            "Epoch 13/20\n",
            "90/90 [==============================] - 9s 97ms/step - loss: 0.1544 - accuracy: 0.9458\n",
            "Epoch 14/20\n",
            "90/90 [==============================] - 8s 81ms/step - loss: 0.1151 - accuracy: 0.9667\n",
            "Epoch 15/20\n",
            "90/90 [==============================] - 9s 97ms/step - loss: 0.1981 - accuracy: 0.9396\n",
            "Epoch 16/20\n",
            "90/90 [==============================] - 9s 96ms/step - loss: 0.1380 - accuracy: 0.9625\n",
            "Epoch 17/20\n",
            "90/90 [==============================] - 8s 82ms/step - loss: 0.0969 - accuracy: 0.9667\n",
            "Epoch 18/20\n",
            "90/90 [==============================] - 9s 98ms/step - loss: 0.1163 - accuracy: 0.9639\n",
            "Epoch 19/20\n",
            "90/90 [==============================] - 9s 97ms/step - loss: 0.1030 - accuracy: 0.9660\n",
            "Epoch 20/20\n",
            "90/90 [==============================] - 8s 81ms/step - loss: 0.1017 - accuracy: 0.9757\n",
            "\n",
            "\n",
            "Evaluating the model\n",
            "\n",
            "\n",
            "10/10 [==============================] - 3s 48ms/step - loss: 0.6378 - accuracy: 0.8500\n",
            "--------------------------------------------------------------------------------------------\n",
            "Fold 6\n",
            "--------------------------------------------------------------------------------------------\n",
            "Epoch 1/20\n",
            "90/90 [==============================] - 12s 105ms/step - loss: 0.5474 - accuracy: 0.7542\n",
            "Epoch 2/20\n",
            "90/90 [==============================] - 8s 87ms/step - loss: 0.4145 - accuracy: 0.8306\n",
            "Epoch 3/20\n",
            "90/90 [==============================] - 9s 101ms/step - loss: 0.3883 - accuracy: 0.8382\n",
            "Epoch 4/20\n",
            "90/90 [==============================] - 11s 122ms/step - loss: 0.4002 - accuracy: 0.8340\n",
            "Epoch 5/20\n",
            "90/90 [==============================] - 9s 101ms/step - loss: 0.3626 - accuracy: 0.8562\n",
            "Epoch 6/20\n",
            "90/90 [==============================] - 9s 100ms/step - loss: 0.3193 - accuracy: 0.8542\n",
            "Epoch 7/20\n",
            "90/90 [==============================] - 8s 87ms/step - loss: 0.3394 - accuracy: 0.8583\n",
            "Epoch 8/20\n",
            "90/90 [==============================] - 9s 102ms/step - loss: 0.2857 - accuracy: 0.8764\n",
            "Epoch 9/20\n",
            "90/90 [==============================] - 9s 100ms/step - loss: 0.2677 - accuracy: 0.8931\n",
            "Epoch 10/20\n",
            "90/90 [==============================] - 8s 86ms/step - loss: 0.2239 - accuracy: 0.9187\n",
            "Epoch 11/20\n",
            "90/90 [==============================] - 8s 87ms/step - loss: 0.2459 - accuracy: 0.9139\n",
            "Epoch 12/20\n",
            "90/90 [==============================] - 9s 102ms/step - loss: 0.3740 - accuracy: 0.8736\n",
            "Epoch 13/20\n",
            "90/90 [==============================] - 9s 94ms/step - loss: 0.2371 - accuracy: 0.9319\n",
            "Epoch 14/20\n",
            "90/90 [==============================] - 8s 86ms/step - loss: 0.3819 - accuracy: 0.9285\n",
            "Epoch 15/20\n",
            "90/90 [==============================] - 9s 94ms/step - loss: 0.3049 - accuracy: 0.8826\n",
            "Epoch 16/20\n",
            "90/90 [==============================] - 10s 102ms/step - loss: 0.2244 - accuracy: 0.9299\n",
            "Epoch 17/20\n",
            "90/90 [==============================] - 8s 86ms/step - loss: 0.1928 - accuracy: 0.9403\n",
            "Epoch 18/20\n",
            "90/90 [==============================] - 8s 85ms/step - loss: 0.1644 - accuracy: 0.9424\n",
            "Epoch 19/20\n",
            "90/90 [==============================] - 9s 97ms/step - loss: 0.1897 - accuracy: 0.9375\n",
            "Epoch 20/20\n",
            "90/90 [==============================] - 10s 102ms/step - loss: 0.1405 - accuracy: 0.9493\n",
            "\n",
            "\n",
            "Evaluating the model\n",
            "\n",
            "\n",
            "10/10 [==============================] - 3s 49ms/step - loss: 0.0991 - accuracy: 0.9688\n",
            "--------------------------------------------------------------------------------------------\n",
            "Fold 7\n",
            "--------------------------------------------------------------------------------------------\n",
            "Epoch 1/20\n",
            "90/90 [==============================] - 12s 100ms/step - loss: 0.6500 - accuracy: 0.6938\n",
            "Epoch 2/20\n",
            "90/90 [==============================] - 10s 107ms/step - loss: 0.3839 - accuracy: 0.8333\n",
            "Epoch 3/20\n",
            "90/90 [==============================] - 9s 101ms/step - loss: 0.3671 - accuracy: 0.8354\n",
            "Epoch 4/20\n",
            "90/90 [==============================] - 9s 92ms/step - loss: 0.3418 - accuracy: 0.8479\n",
            "Epoch 5/20\n",
            "90/90 [==============================] - 10s 102ms/step - loss: 0.3804 - accuracy: 0.8243\n",
            "Epoch 6/20\n",
            "90/90 [==============================] - 10s 107ms/step - loss: 0.3078 - accuracy: 0.8604\n",
            "Epoch 7/20\n",
            "90/90 [==============================] - 9s 99ms/step - loss: 0.3324 - accuracy: 0.8625\n",
            "Epoch 8/20\n",
            "90/90 [==============================] - 8s 91ms/step - loss: 0.2968 - accuracy: 0.8660\n",
            "Epoch 9/20\n",
            "90/90 [==============================] - 10s 103ms/step - loss: 0.2638 - accuracy: 0.8868\n",
            "Epoch 10/20\n",
            "90/90 [==============================] - 10s 107ms/step - loss: 0.2296 - accuracy: 0.9076\n",
            "Epoch 11/20\n",
            "90/90 [==============================] - 9s 99ms/step - loss: 0.2258 - accuracy: 0.9236\n",
            "Epoch 12/20\n",
            "90/90 [==============================] - 8s 91ms/step - loss: 0.1585 - accuracy: 0.9465\n",
            "Epoch 13/20\n",
            "90/90 [==============================] - 10s 106ms/step - loss: 0.2535 - accuracy: 0.9271\n",
            "Epoch 14/20\n",
            "90/90 [==============================] - 10s 106ms/step - loss: 0.1296 - accuracy: 0.9528\n",
            "Epoch 15/20\n",
            "90/90 [==============================] - 9s 91ms/step - loss: 0.2629 - accuracy: 0.9111\n",
            "Epoch 16/20\n",
            "90/90 [==============================] - 10s 101ms/step - loss: 0.2029 - accuracy: 0.9347\n",
            "Epoch 17/20\n",
            "90/90 [==============================] - 10s 110ms/step - loss: 0.0990 - accuracy: 0.9653\n",
            "Epoch 18/20\n",
            "90/90 [==============================] - 9s 96ms/step - loss: 0.0864 - accuracy: 0.9646\n",
            "Epoch 19/20\n",
            "90/90 [==============================] - 9s 98ms/step - loss: 0.0548 - accuracy: 0.9778\n",
            "Epoch 20/20\n",
            "90/90 [==============================] - 10s 107ms/step - loss: 0.0682 - accuracy: 0.9722\n",
            "\n",
            "\n",
            "Evaluating the model\n",
            "\n",
            "\n",
            "10/10 [==============================] - 3s 50ms/step - loss: 0.0588 - accuracy: 0.9875\n",
            "--------------------------------------------------------------------------------------------\n",
            "Fold 8\n",
            "--------------------------------------------------------------------------------------------\n",
            "Epoch 1/20\n",
            "90/90 [==============================] - 12s 112ms/step - loss: 0.6435 - accuracy: 0.7340\n",
            "Epoch 2/20\n",
            "90/90 [==============================] - 10s 113ms/step - loss: 0.4090 - accuracy: 0.8215\n",
            "Epoch 3/20\n",
            "90/90 [==============================] - 9s 94ms/step - loss: 0.3477 - accuracy: 0.8458\n",
            "Epoch 4/20\n",
            "90/90 [==============================] - 12s 127ms/step - loss: 0.3654 - accuracy: 0.8382\n",
            "Epoch 5/20\n",
            "90/90 [==============================] - 10s 111ms/step - loss: 0.3585 - accuracy: 0.8410\n",
            "Epoch 6/20\n",
            "90/90 [==============================] - 9s 98ms/step - loss: 0.3585 - accuracy: 0.8528\n",
            "Epoch 7/20\n",
            "90/90 [==============================] - 10s 104ms/step - loss: 0.3474 - accuracy: 0.8528\n",
            "Epoch 8/20\n",
            "90/90 [==============================] - 10s 110ms/step - loss: 0.3119 - accuracy: 0.8562\n",
            "Epoch 9/20\n",
            "90/90 [==============================] - 10s 110ms/step - loss: 0.2567 - accuracy: 0.8903\n",
            "Epoch 10/20\n",
            "90/90 [==============================] - 9s 96ms/step - loss: 0.2744 - accuracy: 0.8993\n",
            "Epoch 11/20\n",
            "90/90 [==============================] - 10s 110ms/step - loss: 0.2644 - accuracy: 0.8931\n",
            "Epoch 12/20\n",
            "90/90 [==============================] - 10s 111ms/step - loss: 0.2731 - accuracy: 0.9104\n",
            "Epoch 13/20\n",
            "90/90 [==============================] - 9s 98ms/step - loss: 0.1657 - accuracy: 0.9340\n",
            "Epoch 14/20\n",
            "90/90 [==============================] - 9s 96ms/step - loss: 0.1516 - accuracy: 0.9451\n",
            "Epoch 15/20\n",
            "90/90 [==============================] - 10s 109ms/step - loss: 0.1379 - accuracy: 0.9535\n",
            "Epoch 16/20\n",
            "90/90 [==============================] - 10s 112ms/step - loss: 0.1584 - accuracy: 0.9396\n",
            "Epoch 17/20\n",
            "90/90 [==============================] - 9s 95ms/step - loss: 0.0925 - accuracy: 0.9701\n",
            "Epoch 18/20\n",
            "90/90 [==============================] - 10s 105ms/step - loss: 0.1167 - accuracy: 0.9674\n",
            "Epoch 19/20\n",
            "90/90 [==============================] - 10s 111ms/step - loss: 0.0778 - accuracy: 0.9715\n",
            "Epoch 20/20\n",
            "90/90 [==============================] - 9s 98ms/step - loss: 0.0366 - accuracy: 0.9826\n",
            "\n",
            "\n",
            "Evaluating the model\n",
            "\n",
            "\n",
            "10/10 [==============================] - 4s 48ms/step - loss: 0.2380 - accuracy: 0.9250\n",
            "--------------------------------------------------------------------------------------------\n",
            "Fold 9\n",
            "--------------------------------------------------------------------------------------------\n",
            "Epoch 1/20\n",
            "90/90 [==============================] - 14s 134ms/step - loss: 0.5937 - accuracy: 0.7528\n",
            "Epoch 2/20\n",
            "90/90 [==============================] - 10s 106ms/step - loss: 0.4044 - accuracy: 0.8215\n",
            "Epoch 3/20\n",
            "90/90 [==============================] - 11s 115ms/step - loss: 0.4334 - accuracy: 0.8236\n",
            "Epoch 4/20\n",
            "90/90 [==============================] - 11s 117ms/step - loss: 0.4088 - accuracy: 0.8354\n",
            "Epoch 5/20\n",
            "90/90 [==============================] - 9s 100ms/step - loss: 0.3882 - accuracy: 0.8215\n",
            "Epoch 6/20\n",
            "90/90 [==============================] - 11s 112ms/step - loss: 0.3687 - accuracy: 0.8431\n",
            "Epoch 7/20\n",
            "90/90 [==============================] - 11s 115ms/step - loss: 0.3115 - accuracy: 0.8687\n",
            "Epoch 8/20\n",
            "90/90 [==============================] - 10s 102ms/step - loss: 0.2953 - accuracy: 0.8667\n",
            "Epoch 9/20\n",
            "90/90 [==============================] - 11s 115ms/step - loss: 0.3054 - accuracy: 0.8736\n",
            "Epoch 10/20\n",
            "90/90 [==============================] - 11s 116ms/step - loss: 0.3576 - accuracy: 0.8583\n",
            "Epoch 11/20\n",
            "90/90 [==============================] - 9s 98ms/step - loss: 0.2817 - accuracy: 0.8986\n",
            "Epoch 12/20\n",
            "90/90 [==============================] - 11s 116ms/step - loss: 0.2653 - accuracy: 0.9097\n",
            "Epoch 13/20\n",
            "90/90 [==============================] - 11s 115ms/step - loss: 0.2182 - accuracy: 0.9194\n",
            "Epoch 14/20\n",
            "90/90 [==============================] - 9s 101ms/step - loss: 0.2286 - accuracy: 0.9299\n",
            "Epoch 15/20\n",
            "90/90 [==============================] - 10s 105ms/step - loss: 0.1509 - accuracy: 0.9444\n",
            "Epoch 16/20\n",
            "90/90 [==============================] - 12s 130ms/step - loss: 0.2106 - accuracy: 0.9431\n",
            "Epoch 17/20\n",
            "90/90 [==============================] - 10s 110ms/step - loss: 0.1941 - accuracy: 0.9319\n",
            "Epoch 18/20\n",
            "90/90 [==============================] - 10s 103ms/step - loss: 0.1018 - accuracy: 0.9660\n",
            "Epoch 19/20\n",
            "90/90 [==============================] - 11s 116ms/step - loss: 0.0960 - accuracy: 0.9667\n",
            "Epoch 20/20\n",
            "90/90 [==============================] - 11s 115ms/step - loss: 0.1014 - accuracy: 0.9660\n",
            "\n",
            "\n",
            "Evaluating the model\n",
            "\n",
            "\n",
            "10/10 [==============================] - 4s 47ms/step - loss: 0.1537 - accuracy: 0.9438\n",
            "--------------------------------------------------------------------------------------------\n",
            "Fold 10\n",
            "--------------------------------------------------------------------------------------------\n",
            "Epoch 1/20\n",
            "90/90 [==============================] - 9s 74ms/step - loss: 0.7067 - accuracy: 0.6903\n",
            "Epoch 2/20\n",
            "90/90 [==============================] - 5s 57ms/step - loss: 0.4733 - accuracy: 0.7868\n",
            "Epoch 3/20\n",
            "90/90 [==============================] - 5s 57ms/step - loss: 0.3918 - accuracy: 0.8319\n",
            "Epoch 4/20\n",
            "90/90 [==============================] - 7s 72ms/step - loss: 0.3588 - accuracy: 0.8410\n",
            "Epoch 5/20\n",
            "90/90 [==============================] - 5s 57ms/step - loss: 0.3222 - accuracy: 0.8611\n",
            "Epoch 6/20\n",
            "90/90 [==============================] - 7s 73ms/step - loss: 0.3159 - accuracy: 0.8736\n",
            "Epoch 7/20\n",
            "90/90 [==============================] - 6s 65ms/step - loss: 0.3265 - accuracy: 0.8514\n",
            "Epoch 8/20\n",
            "90/90 [==============================] - 6s 57ms/step - loss: 0.3025 - accuracy: 0.8729\n",
            "Epoch 9/20\n",
            "90/90 [==============================] - 5s 57ms/step - loss: 0.2615 - accuracy: 0.8875\n",
            "Epoch 10/20\n",
            "90/90 [==============================] - 7s 70ms/step - loss: 0.3508 - accuracy: 0.8604\n",
            "Epoch 11/20\n",
            "90/90 [==============================] - 5s 57ms/step - loss: 0.3606 - accuracy: 0.8576\n",
            "Epoch 12/20\n",
            "90/90 [==============================] - 7s 72ms/step - loss: 0.3482 - accuracy: 0.8458\n",
            "Epoch 13/20\n",
            "90/90 [==============================] - 6s 60ms/step - loss: 0.2159 - accuracy: 0.9201\n",
            "Epoch 14/20\n",
            "90/90 [==============================] - 5s 56ms/step - loss: 0.2038 - accuracy: 0.9354\n",
            "Epoch 15/20\n",
            "90/90 [==============================] - 5s 56ms/step - loss: 0.1671 - accuracy: 0.9521\n",
            "Epoch 16/20\n",
            "90/90 [==============================] - 6s 68ms/step - loss: 0.1553 - accuracy: 0.9479\n",
            "Epoch 17/20\n",
            "90/90 [==============================] - 6s 58ms/step - loss: 0.1346 - accuracy: 0.9472\n",
            "Epoch 18/20\n",
            "90/90 [==============================] - 8s 85ms/step - loss: 0.1847 - accuracy: 0.9382\n",
            "Epoch 19/20\n",
            "90/90 [==============================] - 6s 58ms/step - loss: 0.1164 - accuracy: 0.9653\n",
            "Epoch 20/20\n",
            "90/90 [==============================] - 5s 56ms/step - loss: 0.0980 - accuracy: 0.9618\n",
            "\n",
            "\n",
            "Evaluating the model\n",
            "\n",
            "\n",
            "10/10 [==============================] - 5s 77ms/step - loss: 0.1028 - accuracy: 0.9688\n",
            "--------------------------------------------------------------------------------------------\n"
          ]
        }
      ],
      "source": [
        "i=0\n",
        "j=10\n",
        "k=90\n",
        "\n",
        "for fold_var in range(0,FOLDS,1):\n",
        "  print(f'Fold {fold_var+1}')\n",
        "  print('--------------------------------------------------------------------------------------------')\n",
        "  training_set1=normalized_train_val_set.take(i)\n",
        "  training_set2=normalized_train_val_set.skip(i+j).take(k)\n",
        "  training_set=training_set1.concatenate(training_set2)\n",
        "  validation_set=normalized_train_val_set.skip(i).take(j)\n",
        "  i=i+10\n",
        "  j=10\n",
        "  k=k-10\n",
        "  \n",
        "  model=Build_Model()\n",
        "  Model_Run = model.fit(\n",
        "    training_set,\n",
        "    epochs=20,\n",
        "    steps_per_epoch=len(training_set),\n",
        "    callbacks=[tensorboard_callback]\n",
        "  )\n",
        "  print('\\n')\n",
        "  print(f'Evaluating the model')\n",
        "  print('\\n')\n",
        "  cur_scores=model.evaluate(validation_set)\n",
        "  cur_scores[0]*=100\n",
        "  cur_scores[1]*=100\n",
        "  cur_scores=[fold_var+1,cur_scores[0],cur_scores[1]]\n",
        "  SCORES_PER_FOLD.append(cur_scores)\n",
        "\n",
        "  model.save(model_dir+'model_'+str(fold_var+1)+'.h5')\n",
        "  print('--------------------------------------------------------------------------------------------')\n",
        "  tf.keras.backend.clear_session()\n"
      ]
    },
    {
      "cell_type": "code",
      "execution_count": 15,
      "metadata": {
        "id": "IxXiy2USK3hC",
        "colab": {
          "base_uri": "https://localhost:8080/"
        },
        "outputId": "c012f6d4-5f65-4152-d9ca-1c0b77cb6df9"
      },
      "outputs": [
        {
          "output_type": "stream",
          "name": "stdout",
          "text": [
            "10 Fold Cross Validation Result\n",
            "+---------------+----------------------+--------------------------+\n",
            "|   Fold Number |   Validation Loss(%) |   Validation Accuracy(%) |\n",
            "+===============+======================+==========================+\n",
            "|             1 |             26.6759  |                   90     |\n",
            "+---------------+----------------------+--------------------------+\n",
            "|             2 |             15.5052  |                   96.25  |\n",
            "+---------------+----------------------+--------------------------+\n",
            "|             3 |             29.9884  |                   95     |\n",
            "+---------------+----------------------+--------------------------+\n",
            "|             4 |              4.47103 |                   98.125 |\n",
            "+---------------+----------------------+--------------------------+\n",
            "|             5 |             63.783   |                   85     |\n",
            "+---------------+----------------------+--------------------------+\n",
            "|             6 |              9.90526 |                   96.875 |\n",
            "+---------------+----------------------+--------------------------+\n",
            "|             7 |              5.87622 |                   98.75  |\n",
            "+---------------+----------------------+--------------------------+\n",
            "|             8 |             23.8021  |                   92.5   |\n",
            "+---------------+----------------------+--------------------------+\n",
            "|             9 |             15.3702  |                   94.375 |\n",
            "+---------------+----------------------+--------------------------+\n",
            "|            10 |             10.2777  |                   96.875 |\n",
            "+---------------+----------------------+--------------------------+\n"
          ]
        }
      ],
      "source": [
        "column_headers=['Fold Number','Validation Loss(%)','Validation Accuracy(%)']\n",
        "print('10 Fold Cross Validation Result')\n",
        "print(tabulate(SCORES_PER_FOLD, headers=column_headers, tablefmt=\"grid\"))"
      ]
    },
    {
      "cell_type": "markdown",
      "metadata": {
        "id": "Ou_MBkGIG1sd"
      },
      "source": [
        "### Selecting the model with highest accuracy for training"
      ]
    },
    {
      "cell_type": "code",
      "execution_count": 16,
      "metadata": {
        "id": "iIj4X_luG1Ce",
        "colab": {
          "base_uri": "https://localhost:8080/"
        },
        "outputId": "e68f3774-4977-446f-cfe8-d53f95828cd1"
      },
      "outputs": [
        {
          "output_type": "stream",
          "name": "stdout",
          "text": [
            "The maximum validation accuracy is: 98.7500011920929\n",
            "The folds having 98.7500011920929 validation accuracy are:\n",
            "7\n",
            "Selecting the model of fold no 7 for fine parameter tuning\n"
          ]
        }
      ],
      "source": [
        "max_acc=SCORES_PER_FOLD[0][2]\n",
        "max_acc_index=[]\n",
        "for i in range(len(SCORES_PER_FOLD)):\n",
        "  if(SCORES_PER_FOLD[i][2]>max_acc):\n",
        "    max_acc=SCORES_PER_FOLD[i][2]\n",
        "print(f'The maximum validation accuracy is: {max_acc}')\n",
        "for i in range(len(SCORES_PER_FOLD)):\n",
        "  if(SCORES_PER_FOLD[i][2]==max_acc):\n",
        "    max_acc_index.append(i)\n",
        "print(f'The folds having {max_acc} validation accuracy are:')\n",
        "for i in range(len(max_acc_index)):\n",
        "  print(max_acc_index[i]+1)\n",
        "\n",
        "result=-1\n",
        "if(len(max_acc_index)>1):\n",
        "    min_loss=SCORES_PER_FOLD[max_acc_index[0]][1]\n",
        "    j=0\n",
        "    result=max_acc_index[0]\n",
        "    while(j<len(max_acc_index)):\n",
        "      index=max_acc_index[j]\n",
        "      if(SCORES_PER_FOLD[index][1]<min_loss):\n",
        "        min_loss=SCORES_PER_FOLD[index][1]\n",
        "        result=index\n",
        "      j+=1\n",
        "else:\n",
        "  result=max_acc_index[0]\n",
        "print(f'Selecting the model of fold no {result+1} for fine parameter tuning')\n",
        "model=load_model(model_dir+'model_'+str(result+1)+'.h5')"
      ]
    },
    {
      "cell_type": "markdown",
      "metadata": {
        "id": "5WyyGpDKsyuK"
      },
      "source": [
        "### Training the model for fine parameter tuning"
      ]
    },
    {
      "cell_type": "code",
      "execution_count": 17,
      "metadata": {
        "id": "QXQHGC5ys6Up",
        "colab": {
          "base_uri": "https://localhost:8080/"
        },
        "outputId": "cad4afd8-d592-4adc-f805-a268260e7831"
      },
      "outputs": [
        {
          "output_type": "stream",
          "name": "stdout",
          "text": [
            "Epoch 1/30\n",
            "80/80 [==============================] - 13s 130ms/step - loss: 0.0571 - accuracy: 0.9828 - val_loss: 0.0278 - val_accuracy: 0.9875\n",
            "Epoch 2/30\n",
            "80/80 [==============================] - 10s 121ms/step - loss: 0.0536 - accuracy: 0.9781 - val_loss: 0.0452 - val_accuracy: 0.9812\n",
            "Epoch 3/30\n",
            "80/80 [==============================] - 11s 135ms/step - loss: 0.0487 - accuracy: 0.9820 - val_loss: 0.0900 - val_accuracy: 0.9719\n",
            "Epoch 4/30\n",
            "80/80 [==============================] - 11s 136ms/step - loss: 0.1395 - accuracy: 0.9602 - val_loss: 0.0771 - val_accuracy: 0.9688\n",
            "Epoch 5/30\n",
            "80/80 [==============================] - 10s 127ms/step - loss: 0.1912 - accuracy: 0.9648 - val_loss: 0.0487 - val_accuracy: 0.9750\n",
            "Epoch 6/30\n",
            "80/80 [==============================] - 10s 120ms/step - loss: 0.0772 - accuracy: 0.9766 - val_loss: 0.0797 - val_accuracy: 0.9781\n",
            "Epoch 7/30\n",
            "80/80 [==============================] - 11s 139ms/step - loss: 0.0909 - accuracy: 0.9781 - val_loss: 0.1494 - val_accuracy: 0.9375\n",
            "Epoch 8/30\n",
            "80/80 [==============================] - 11s 134ms/step - loss: 0.0805 - accuracy: 0.9727 - val_loss: 0.1101 - val_accuracy: 0.9594\n",
            "Epoch 9/30\n",
            "80/80 [==============================] - 15s 186ms/step - loss: 0.0587 - accuracy: 0.9820 - val_loss: 0.0190 - val_accuracy: 0.9969\n",
            "Epoch 10/30\n",
            "80/80 [==============================] - 9s 112ms/step - loss: 0.0253 - accuracy: 0.9914 - val_loss: 0.0243 - val_accuracy: 0.9906\n",
            "Epoch 11/30\n",
            "80/80 [==============================] - 10s 127ms/step - loss: 0.0165 - accuracy: 0.9969 - val_loss: 0.0132 - val_accuracy: 0.9937\n",
            "Epoch 12/30\n",
            "80/80 [==============================] - 11s 129ms/step - loss: 0.0104 - accuracy: 0.9977 - val_loss: 0.0169 - val_accuracy: 0.9937\n",
            "Epoch 13/30\n",
            "80/80 [==============================] - 10s 116ms/step - loss: 0.0105 - accuracy: 0.9977 - val_loss: 0.0180 - val_accuracy: 0.9937\n",
            "Epoch 14/30\n",
            "80/80 [==============================] - 10s 127ms/step - loss: 0.0082 - accuracy: 0.9969 - val_loss: 0.0169 - val_accuracy: 0.9937\n",
            "Epoch 15/30\n",
            "80/80 [==============================] - 12s 151ms/step - loss: 0.0059 - accuracy: 0.9992 - val_loss: 0.0105 - val_accuracy: 0.9969\n",
            "Epoch 16/30\n",
            "80/80 [==============================] - 9s 111ms/step - loss: 0.0043 - accuracy: 0.9984 - val_loss: 0.0132 - val_accuracy: 0.9937\n",
            "Epoch 17/30\n",
            "80/80 [==============================] - 10s 128ms/step - loss: 0.0025 - accuracy: 0.9992 - val_loss: 0.0068 - val_accuracy: 0.9969\n",
            "Epoch 18/30\n",
            "80/80 [==============================] - 15s 185ms/step - loss: 0.0036 - accuracy: 0.9992 - val_loss: 0.0274 - val_accuracy: 0.9875\n",
            "Epoch 19/30\n",
            "80/80 [==============================] - 10s 118ms/step - loss: 9.3160e-04 - accuracy: 1.0000 - val_loss: 0.0043 - val_accuracy: 0.9969\n",
            "Epoch 20/30\n",
            "80/80 [==============================] - 11s 137ms/step - loss: 8.1635e-04 - accuracy: 1.0000 - val_loss: 0.0039 - val_accuracy: 1.0000\n",
            "Epoch 21/30\n",
            "80/80 [==============================] - 10s 121ms/step - loss: 6.7032e-04 - accuracy: 1.0000 - val_loss: 0.0043 - val_accuracy: 0.9969\n",
            "Epoch 22/30\n",
            "80/80 [==============================] - 10s 113ms/step - loss: 4.4759e-04 - accuracy: 1.0000 - val_loss: 0.0020 - val_accuracy: 1.0000\n",
            "Epoch 23/30\n",
            "80/80 [==============================] - 11s 137ms/step - loss: 3.4941e-04 - accuracy: 1.0000 - val_loss: 0.0014 - val_accuracy: 1.0000\n",
            "Epoch 24/30\n",
            "80/80 [==============================] - 11s 129ms/step - loss: 3.1945e-04 - accuracy: 1.0000 - val_loss: 0.0048 - val_accuracy: 0.9969\n",
            "Epoch 25/30\n",
            "80/80 [==============================] - 10s 122ms/step - loss: 2.4717e-04 - accuracy: 1.0000 - val_loss: 0.0011 - val_accuracy: 1.0000\n",
            "Epoch 26/30\n",
            "80/80 [==============================] - 10s 116ms/step - loss: 1.6179e-04 - accuracy: 1.0000 - val_loss: 0.0055 - val_accuracy: 0.9969\n",
            "Epoch 27/30\n",
            "80/80 [==============================] - 11s 138ms/step - loss: 1.8042e-04 - accuracy: 1.0000 - val_loss: 9.2349e-04 - val_accuracy: 1.0000\n",
            "Epoch 28/30\n",
            "80/80 [==============================] - 15s 188ms/step - loss: 1.4364e-04 - accuracy: 1.0000 - val_loss: 0.0018 - val_accuracy: 1.0000\n",
            "Epoch 29/30\n",
            "80/80 [==============================] - 11s 135ms/step - loss: 1.4254e-04 - accuracy: 1.0000 - val_loss: 0.0029 - val_accuracy: 1.0000\n",
            "Epoch 30/30\n",
            "80/80 [==============================] - 12s 142ms/step - loss: 1.0431e-04 - accuracy: 1.0000 - val_loss: 0.0012 - val_accuracy: 1.0000\n"
          ]
        }
      ],
      "source": [
        "training_set=normalized_train_val_set.take(80)\n",
        "validation_set=normalized_train_val_set.skip(80).take(20)\n",
        "\n",
        "Cur_Model_Run = model.fit(\n",
        "    training_set,\n",
        "    validation_data=validation_set,\n",
        "    epochs=30,\n",
        "    steps_per_epoch=len(training_set),\n",
        "    validation_steps=len(validation_set),\n",
        "    callbacks=[tensorboard_callback]\n",
        "  )"
      ]
    },
    {
      "cell_type": "markdown",
      "source": [
        "### Saving the fine tuned model"
      ],
      "metadata": {
        "id": "2Bs6G7k2biNO"
      }
    },
    {
      "cell_type": "code",
      "source": [
        "model.save('/content/drive/MyDrive/Project_2_Conference_Journal_Work/Journal_Related/model_fine_tuned.h5')"
      ],
      "metadata": {
        "id": "xVajQWKsbhq5"
      },
      "execution_count": 18,
      "outputs": []
    },
    {
      "cell_type": "markdown",
      "metadata": {
        "id": "dAfpCTCWExrN"
      },
      "source": [
        "### Plotting the performance of the model after fine parameter tuning"
      ]
    },
    {
      "cell_type": "code",
      "execution_count": 19,
      "metadata": {
        "id": "Ip0NtKLos4sU",
        "colab": {
          "base_uri": "https://localhost:8080/",
          "height": 619
        },
        "outputId": "df3ad16e-17f4-4440-db68-3458d284a197"
      },
      "outputs": [
        {
          "output_type": "display_data",
          "data": {
            "text/plain": [
              "<Figure size 1000x600 with 1 Axes>"
            ],
            "image/png": "[encoded data removed]"
          },
          "metadata": {}
        },
        {
          "output_type": "stream",
          "name": "stderr",
          "text": [
            "WARNING:matplotlib.backends.backend_ps:The PostScript backend does not support transparency; partially transparent artists will be rendered opaque.\n"
          ]
        }
      ],
      "source": [
        "# Plotting the loss\n",
        "\n",
        "\n",
        "fig=plt.figure(figsize=(10,6));\n",
        "plt.plot(Cur_Model_Run.history['loss'], color='blue', label='Training Loss')\n",
        "plt.plot(Cur_Model_Run.history['val_loss'], color='red', label='Validation Loss')\n",
        "plt.xlabel(\"Epochs\")\n",
        "plt.ylabel(\"Loss\")\n",
        "fig.suptitle('Loss',fontsize=15)\n",
        "plt.legend()\n",
        "plt.show()\n",
        "fig.savefig('/content/drive/MyDrive/Project_2_Conference_Journal_Work/Journal_Related/Loss.eps', format='eps', dpi=600)"
      ]
    },
    {
      "cell_type": "code",
      "execution_count": 20,
      "metadata": {
        "id": "Qif0CC2Wx-zq",
        "colab": {
          "base_uri": "https://localhost:8080/",
          "height": 619
        },
        "outputId": "440ca546-1c00-4c1c-8bad-a85e3e24226f"
      },
      "outputs": [
        {
          "output_type": "display_data",
          "data": {
            "text/plain": [
              "<Figure size 1000x600 with 1 Axes>"
            ],
            "image/png": "[encoded data removed]"
          },
          "metadata": {}
        },
        {
          "output_type": "stream",
          "name": "stderr",
          "text": [
            "WARNING:matplotlib.backends.backend_ps:The PostScript backend does not support transparency; partially transparent artists will be rendered opaque.\n"
          ]
        }
      ],
      "source": [
        "# Plotting the accuracy\n",
        "\n",
        "\n",
        "fig=plt.figure(figsize=(10,6));\n",
        "plt.plot(Cur_Model_Run.history['accuracy'], color='blue', label='Training Accuracy')\n",
        "plt.plot(Cur_Model_Run.history['val_accuracy'], color='red', label='Validation Accuracy')\n",
        "plt.xlabel(\"Epochs\")\n",
        "plt.ylabel(\"Accuracy\")\n",
        "fig.suptitle('Accuracy',fontsize=15)\n",
        "plt.legend()\n",
        "plt.show()\n",
        "fig.savefig('/content/drive/MyDrive/Project_2_Conference_Journal_Work/Journal_Related/Accuracy.eps', format='eps', dpi=600)"
      ]
    },
    {
      "cell_type": "markdown",
      "metadata": {
        "id": "ry0YiEGL4H7v"
      },
      "source": [
        "###Calcualting Precision, Recall, Accuracy, F Score, Cohen-Kappa Score,ROC AUC and Log-Loss Score of the Model"
      ]
    },
    {
      "cell_type": "code",
      "execution_count": 21,
      "metadata": {
        "id": "7A8M6AA-1KH0"
      },
      "outputs": [],
      "source": [
        "pre = Precision()\n",
        "re = Recall()\n",
        "acc = Accuracy()"
      ]
    },
    {
      "cell_type": "code",
      "execution_count": 22,
      "metadata": {
        "id": "JOFrZ_XmgIx0",
        "colab": {
          "base_uri": "https://localhost:8080/"
        },
        "outputId": "1f8031d8-1a0a-4bea-f4e5-619a2b0af64f"
      },
      "outputs": [
        {
          "output_type": "stream",
          "name": "stdout",
          "text": [
            "1/1 [==============================] - 0s 50ms/step - loss: 3.5891e-05 - accuracy: 1.0000\n",
            "1/1 [==============================] - 0s 123ms/step\n",
            "1/1 [==============================] - 0s 41ms/step - loss: 1.5598e-04 - accuracy: 1.0000\n",
            "1/1 [==============================] - 0s 32ms/step\n",
            "1/1 [==============================] - 0s 44ms/step - loss: 0.1268 - accuracy: 0.9375\n",
            "1/1 [==============================] - 0s 30ms/step\n",
            "1/1 [==============================] - 0s 48ms/step - loss: 2.2312e-05 - accuracy: 1.0000\n",
            "1/1 [==============================] - 0s 36ms/step\n",
            "1/1 [==============================] - 0s 44ms/step - loss: 1.0668e-05 - accuracy: 1.0000\n",
            "1/1 [==============================] - 0s 29ms/step\n",
            "1/1 [==============================] - 0s 41ms/step - loss: 0.0046 - accuracy: 1.0000\n",
            "1/1 [==============================] - 0s 29ms/step\n",
            "1/1 [==============================] - 0s 41ms/step - loss: 2.4079e-04 - accuracy: 1.0000\n",
            "1/1 [==============================] - 0s 31ms/step\n",
            "1/1 [==============================] - 0s 41ms/step - loss: 0.0047 - accuracy: 1.0000\n",
            "1/1 [==============================] - 0s 32ms/step\n",
            "1/1 [==============================] - 0s 39ms/step - loss: 0.0749 - accuracy: 0.9375\n",
            "1/1 [==============================] - 0s 36ms/step\n",
            "1/1 [==============================] - 0s 43ms/step - loss: 7.6480e-05 - accuracy: 1.0000\n",
            "1/1 [==============================] - 0s 28ms/step\n",
            "1/1 [==============================] - 0s 38ms/step - loss: 6.7723e-04 - accuracy: 1.0000\n",
            "1/1 [==============================] - 0s 25ms/step\n",
            "1/1 [==============================] - 0s 39ms/step - loss: 0.0229 - accuracy: 1.0000\n",
            "1/1 [==============================] - 0s 25ms/step\n",
            "1/1 [==============================] - 0s 55ms/step - loss: 3.3249e-05 - accuracy: 1.0000\n",
            "1/1 [==============================] - 0s 26ms/step\n",
            "1/1 [==============================] - 0s 44ms/step - loss: 1.9244e-05 - accuracy: 1.0000\n",
            "1/1 [==============================] - 0s 25ms/step\n",
            "1/1 [==============================] - 0s 40ms/step - loss: 0.3652 - accuracy: 0.9375\n",
            "1/1 [==============================] - 0s 33ms/step\n",
            "1/1 [==============================] - 0s 51ms/step - loss: 0.2150 - accuracy: 0.8750\n",
            "1/1 [==============================] - 0s 26ms/step\n",
            "1/1 [==============================] - 0s 38ms/step - loss: 8.6052e-06 - accuracy: 1.0000\n",
            "1/1 [==============================] - 0s 26ms/step\n",
            "1/1 [==============================] - 0s 44ms/step - loss: 0.0017 - accuracy: 1.0000\n",
            "1/1 [==============================] - 0s 27ms/step\n",
            "1/1 [==============================] - 0s 42ms/step - loss: 0.0282 - accuracy: 1.0000\n",
            "1/1 [==============================] - 0s 25ms/step\n",
            "1/1 [==============================] - 0s 39ms/step - loss: 4.6310e-05 - accuracy: 1.0000\n",
            "1/1 [==============================] - 0s 24ms/step\n",
            "1/1 [==============================] - 0s 45ms/step - loss: 0.1086 - accuracy: 0.9375\n",
            "1/1 [==============================] - 0s 25ms/step\n",
            "1/1 [==============================] - 0s 52ms/step - loss: 1.4285 - accuracy: 0.8125\n",
            "1/1 [==============================] - 0s 37ms/step\n",
            "1/1 [==============================] - 0s 41ms/step - loss: 0.1434 - accuracy: 0.9375\n",
            "1/1 [==============================] - 0s 28ms/step\n",
            "1/1 [==============================] - 0s 40ms/step - loss: 4.7684e-07 - accuracy: 1.0000\n",
            "1/1 [==============================] - 0s 26ms/step\n",
            "1/1 [==============================] - 0s 41ms/step - loss: 6.0074e-04 - accuracy: 1.0000\n",
            "1/1 [==============================] - 0s 29ms/step\n",
            "1/1 [==============================] - 0s 44ms/step - loss: 0.1287 - accuracy: 0.9375\n",
            "1/1 [==============================] - 0s 25ms/step\n",
            "1/1 [==============================] - 0s 63ms/step - loss: 0.0086 - accuracy: 1.0000\n",
            "1/1 [==============================] - 0s 37ms/step\n",
            "1/1 [==============================] - 0s 58ms/step - loss: 0.0014 - accuracy: 1.0000\n",
            "1/1 [==============================] - 0s 34ms/step\n",
            "1/1 [==============================] - 0s 40ms/step - loss: 0.0018 - accuracy: 1.0000\n",
            "1/1 [==============================] - 0s 25ms/step\n",
            "1/1 [==============================] - 0s 41ms/step - loss: 1.6957e-05 - accuracy: 1.0000\n",
            "1/1 [==============================] - 0s 26ms/step\n",
            "1/1 [==============================] - 0s 39ms/step - loss: 0.0065 - accuracy: 1.0000\n",
            "1/1 [==============================] - 0s 25ms/step\n",
            "1/1 [==============================] - 0s 46ms/step - loss: 6.9642e-04 - accuracy: 1.0000\n",
            "1/1 [==============================] - 0s 31ms/step\n",
            "1/1 [==============================] - 0s 45ms/step - loss: 5.8027e-04 - accuracy: 1.0000\n",
            "1/1 [==============================] - 0s 26ms/step\n",
            "1/1 [==============================] - 0s 41ms/step - loss: 0.4407 - accuracy: 0.9375\n",
            "1/1 [==============================] - 0s 33ms/step\n",
            "1/1 [==============================] - 0s 39ms/step - loss: 0.0551 - accuracy: 0.9375\n",
            "1/1 [==============================] - 0s 25ms/step\n",
            "1/1 [==============================] - 0s 40ms/step - loss: 9.6586e-05 - accuracy: 1.0000\n",
            "1/1 [==============================] - 0s 25ms/step\n",
            "1/1 [==============================] - 0s 39ms/step - loss: 0.0102 - accuracy: 1.0000\n",
            "1/1 [==============================] - 0s 25ms/step\n",
            "1/1 [==============================] - 0s 48ms/step - loss: 0.4889 - accuracy: 0.9375\n",
            "1/1 [==============================] - 0s 25ms/step\n",
            "1/1 [==============================] - 0s 40ms/step - loss: 0.0019 - accuracy: 1.0000\n",
            "1/1 [==============================] - 0s 26ms/step\n",
            "1/1 [==============================] - 0s 45ms/step - loss: 1.5764e-04 - accuracy: 1.0000\n",
            "1/1 [==============================] - 0s 25ms/step\n"
          ]
        }
      ],
      "source": [
        "True_label=[]\n",
        "Predicted_label=[]\n",
        "Predicted_probabilities=[]\n",
        "score=[]\n",
        "for images,labels in (normalized_testing_set):              \n",
        "  score.append(model.evaluate(images,labels))\n",
        "  for it in range(len(labels)):\n",
        "    True_label.append(labels[it])\n",
        "  pred=model.predict(images)\n",
        "  y_max=[]\n",
        "  for it in range(len(pred)):\n",
        "      Predicted_probabilities.append(pred[it])\n",
        "      y_max.append(np.argmax(pred[it]))\n",
        "      Predicted_label.append(np.argmax(pred[it]))\n",
        "  pre.update_state(labels,y_max)\n",
        "  re.update_state(labels,y_max)\n",
        "  acc.update_state(labels,y_max)"
      ]
    },
    {
      "cell_type": "code",
      "execution_count": 23,
      "metadata": {
        "id": "sXaKqak7HO2B"
      },
      "outputs": [],
      "source": [
        "f_score=(2*pre.result().numpy()*re.result().numpy())/(pre.result().numpy()+re.result().numpy())"
      ]
    },
    {
      "cell_type": "code",
      "source": [
        "kappa=cohen_kappa_score(True_label,Predicted_label)"
      ],
      "metadata": {
        "id": "XMzexDbXotg7"
      },
      "execution_count": 24,
      "outputs": []
    },
    {
      "cell_type": "code",
      "source": [
        "True_label=np.array(True_label)\n",
        "Predicted_label=np.array(Predicted_label)\n",
        "Predicted_probabilities=np.array(Predicted_probabilities)"
      ],
      "metadata": {
        "id": "Wcl0IrxGaLDQ"
      },
      "execution_count": 25,
      "outputs": []
    },
    {
      "cell_type": "code",
      "source": [
        "Binarized_True_label=label_binarize(True_label,classes=[0, 1, 2, 3])"
      ],
      "metadata": {
        "id": "7qG_wsr3VrXg"
      },
      "execution_count": 26,
      "outputs": []
    },
    {
      "cell_type": "code",
      "source": [
        "#Calcualting the fpr, tpr and auc\n",
        "\n",
        "\n",
        "fpr = [0] * 4\n",
        "tpr = [0] * 4\n",
        "roc_auc= [0] * 4\n",
        "avg_roc_auc=0\n",
        "for i in range(4):\n",
        "    fpr[i], tpr[i], _ = roc_curve(Binarized_True_label[:, i], Predicted_probabilities[:, i])\n",
        "    roc_auc[i] = auc(fpr[i], tpr[i])"
      ],
      "metadata": {
        "id": "EbK4lo_7nRS3"
      },
      "execution_count": 27,
      "outputs": []
    },
    {
      "cell_type": "code",
      "source": [
        "roc_auc_details=[]\n",
        "for i in range(4):\n",
        "  temp=[CLASSES[i],roc_auc[i]]\n",
        "  roc_auc_details.append(temp)"
      ],
      "metadata": {
        "id": "rYWaDxzvmOj2"
      },
      "execution_count": 28,
      "outputs": []
    },
    {
      "cell_type": "code",
      "source": [
        "column_headers=['CLASS','ROC-AUC']\n",
        "print('ROC-AUC Results')\n",
        "print(tabulate(roc_auc_details, headers=column_headers, tablefmt=\"grid\"))"
      ],
      "metadata": {
        "id": "wheI9TP_krZz",
        "colab": {
          "base_uri": "https://localhost:8080/"
        },
        "outputId": "dd9b257c-ef40-4c66-9b13-57936d336146"
      },
      "execution_count": 29,
      "outputs": [
        {
          "output_type": "stream",
          "name": "stdout",
          "text": [
            "ROC-AUC Results\n",
            "+---------+-----------+\n",
            "| CLASS   |   ROC-AUC |\n",
            "+=========+===========+\n",
            "| 1-1     |  0.998244 |\n",
            "+---------+-----------+\n",
            "| 1-2     |  0.981587 |\n",
            "+---------+-----------+\n",
            "| 1-4     |  0.999701 |\n",
            "+---------+-----------+\n",
            "| PURE    |  1        |\n",
            "+---------+-----------+\n"
          ]
        }
      ]
    },
    {
      "cell_type": "code",
      "source": [
        "avg_roc_auc=sum(roc_auc)/4"
      ],
      "metadata": {
        "id": "qiyUOxmhjm44"
      },
      "execution_count": 30,
      "outputs": []
    },
    {
      "cell_type": "code",
      "source": [
        "print(f'The average ROC-AUC value is: {avg_roc_auc}')"
      ],
      "metadata": {
        "id": "0fKCrfPekteJ",
        "colab": {
          "base_uri": "https://localhost:8080/"
        },
        "outputId": "9f8233f6-acb9-41c6-f039-1d34fa24071b"
      },
      "execution_count": 31,
      "outputs": [
        {
          "output_type": "stream",
          "name": "stdout",
          "text": [
            "The average ROC-AUC value is: 0.9948828073282254\n"
          ]
        }
      ]
    },
    {
      "cell_type": "code",
      "source": [
        "#Plotting the ROC Curve\n",
        "\n",
        "\n",
        "fig=plt.figure(figsize=(10,10));\n",
        "color=['red','blue','brown','orange']\n",
        "for i in range(4):\n",
        "  plt.plot(fpr[i],tpr[i],color[i],label='Class {} (AUC= {:.6F})'.format(CLASSES[i],roc_auc[i]))\n",
        "plt.plot([0, 1], [0, 1], 'k--')\n",
        "plt.xlim([0.0, 1.0])\n",
        "plt.ylim([0.0, 1.0])\n",
        "plt.xlabel('False Positive Rate')\n",
        "plt.ylabel('True Positive Rate')\n",
        "plt.suptitle('One-vs-Rest ROC Curve',fontsize=15)\n",
        "plt.legend(loc='lower right')\n",
        "plt.show()\n",
        "fig.savefig('/content/drive/MyDrive/Project_2_Conference_Journal_Work/Journal_Related/ROC_AUC.eps', format='eps', dpi=600)"
      ],
      "metadata": {
        "id": "1TPRFUudgmbZ",
        "colab": {
          "base_uri": "https://localhost:8080/",
          "height": 967
        },
        "outputId": "a8ab7a03-0301-49a5-b7e0-6ffd47de1de9"
      },
      "execution_count": 47,
      "outputs": [
        {
          "output_type": "display_data",
          "data": {
            "text/plain": [
              "<Figure size 1000x1000 with 1 Axes>"
            ],
            "image/png": "[encoded data removed]"
          },
          "metadata": {}
        },
        {
          "output_type": "stream",
          "name": "stderr",
          "text": [
            "WARNING:matplotlib.backends.backend_ps:The PostScript backend does not support transparency; partially transparent artists will be rendered opaque.\n"
          ]
        }
      ]
    },
    {
      "cell_type": "code",
      "source": [
        "#Plotting the ROC Curve (Zoomed in at the top left corner)\n",
        "\n",
        "\n",
        "fig=plt.figure(figsize=(10,10));\n",
        "color=['red','blue','brown','orange']\n",
        "for i in range(4):\n",
        "  plt.plot(fpr[i],tpr[i],color[i],label='Class {} (AUC= {:.6F})'.format(CLASSES[i],roc_auc[i]))\n",
        "plt.plot([0, 1], [0, 1], 'k--')\n",
        "plt.xlim([0.0, 0.50])\n",
        "plt.ylim([0.0, 1.0])\n",
        "plt.xlabel('False Positive Rate')\n",
        "plt.ylabel('True Positive Rate')\n",
        "plt.suptitle('One-vs-Rest ROC Curve (Zoomed top-left)',fontsize=15)\n",
        "plt.legend(loc='lower right')\n",
        "plt.show()\n",
        "fig.savefig('/content/drive/MyDrive/Project_2_Conference_Journal_Work/Journal_Related/ROC_AUC_Zoomed.eps', format='eps', dpi=600)"
      ],
      "metadata": {
        "id": "AwVBigCunRH8",
        "colab": {
          "base_uri": "https://localhost:8080/",
          "height": 967
        },
        "outputId": "7eba867f-4038-4122-ee75-6e150fd55556"
      },
      "execution_count": 48,
      "outputs": [
        {
          "output_type": "display_data",
          "data": {
            "text/plain": [
              "<Figure size 1000x1000 with 1 Axes>"
            ],
            "image/png": "[encoded data removed]"
          },
          "metadata": {}
        },
        {
          "output_type": "stream",
          "name": "stderr",
          "text": [
            "WARNING:matplotlib.backends.backend_ps:The PostScript backend does not support transparency; partially transparent artists will be rendered opaque.\n"
          ]
        }
      ]
    },
    {
      "cell_type": "code",
      "source": [
        "#Calculating the Log-loss Score (One-vs-Rest)\n",
        "\n",
        "\n",
        "temp=[0]*4\n",
        "loss=[0]*4\n",
        "epsilon = 1e-15  # Small constant to avoid division by zero\n",
        "N = Binarized_True_label.shape[0]\n",
        "    \n",
        "for i in range(4):\n",
        "  # Clip predicted probabilities to avoid log(0) cases\n",
        "  temp[i]= np.clip(Predicted_probabilities[:,i], epsilon, 1 - epsilon)\n",
        "  # Calculate cross-entropy loss\n",
        "  loss[i] = -np.sum(Binarized_True_label[:,i] * np.log(temp[i])) / N"
      ],
      "metadata": {
        "id": "QT3fQGgZ91nB"
      },
      "execution_count": 34,
      "outputs": []
    },
    {
      "cell_type": "code",
      "source": [
        "log_loss_result=[]\n",
        "for i in range(4):\n",
        "  log_loss_result.append([CLASSES[i],loss[i]])"
      ],
      "metadata": {
        "id": "s3w8vzJQ0ByQ"
      },
      "execution_count": 35,
      "outputs": []
    },
    {
      "cell_type": "code",
      "source": [
        "column_headers=['CLASS','LOG-LOSS VALUE']\n",
        "print('Log-Loss Results')\n",
        "print(tabulate(log_loss_result, headers=column_headers, tablefmt=\"grid\"))"
      ],
      "metadata": {
        "id": "MHkko6VE0Bvm",
        "colab": {
          "base_uri": "https://localhost:8080/"
        },
        "outputId": "64e223e5-a24a-443e-fe9f-0affff0b485c"
      },
      "execution_count": 36,
      "outputs": [
        {
          "output_type": "stream",
          "name": "stdout",
          "text": [
            "Log-Loss Results\n",
            "+---------+------------------+\n",
            "| CLASS   |   LOG-LOSS VALUE |\n",
            "+=========+==================+\n",
            "| 1-1     |      0.00768092  |\n",
            "+---------+------------------+\n",
            "| 1-2     |      0.00502446  |\n",
            "+---------+------------------+\n",
            "| 1-4     |      1.0375e-06  |\n",
            "+---------+------------------+\n",
            "| PURE    |      2.13735e-06 |\n",
            "+---------+------------------+\n"
          ]
        }
      ]
    },
    {
      "cell_type": "code",
      "execution_count": 37,
      "metadata": {
        "id": "vXUmWz_3AzUr",
        "colab": {
          "base_uri": "https://localhost:8080/"
        },
        "outputId": "84be0b88-af67-4447-b886-8d821c951851"
      },
      "outputs": [
        {
          "output_type": "stream",
          "name": "stdout",
          "text": [
            "Precision: 0.9916840195655823, Recall: 0.983505129814148, Accuracy: 0.9781249761581421, F Score: 0.9875776112598026, Cohen Kappa Score: 0.9708111946886799\n"
          ]
        }
      ],
      "source": [
        "print(f'Precision: {pre.result().numpy()}, Recall: {re.result().numpy()}, Accuracy: {acc.result().numpy()}, F Score: {f_score}, Cohen Kappa Score: {kappa}')"
      ]
    },
    {
      "cell_type": "code",
      "execution_count": 38,
      "metadata": {
        "id": "8mnJ-hQR8lPL",
        "colab": {
          "base_uri": "https://localhost:8080/",
          "height": 821
        },
        "outputId": "2388e8e1-3052-44d9-d650-9b44e4f5d092"
      },
      "outputs": [
        {
          "output_type": "display_data",
          "data": {
            "text/plain": [
              "<Figure size 1000x1000 with 2 Axes>"
            ],
            "image/png": "[encoded data removed]"
          },
          "metadata": {}
        }
      ],
      "source": [
        "#Plotting the Confusion Matrix\n",
        "\n",
        "\n",
        "confusion_matrix=metrics.confusion_matrix(True_label,Predicted_label,normalize='true')\n",
        "cm_display = metrics.ConfusionMatrixDisplay(confusion_matrix = confusion_matrix, display_labels = ['1-1', '1-2','1-4','PURE'])\n",
        "fig, ax = plt.subplots(figsize=(10,10))\n",
        "cm_display.plot(ax=ax)\n",
        "plt.show();\n",
        "fig.savefig('/content/drive/MyDrive/Project_2_Conference_Journal_Work/Journal_Related/Confusion_Matrix.eps', format='eps', dpi=600)"
      ]
    },
    {
      "cell_type": "markdown",
      "metadata": {
        "id": "e6cf_9VqFDeE"
      },
      "source": [
        "### Demonstrating how to use the model"
      ]
    },
    {
      "cell_type": "code",
      "execution_count": 39,
      "metadata": {
        "id": "VGVArk3JuqIh"
      },
      "outputs": [],
      "source": [
        "img=image.load_img('/content/drive/MyDrive/Project_2_Conference_Journal_Work/BLACK_WHITE/1-4/CR_B_DU_1-4_012.jpg',target_size=(256,256))"
      ]
    },
    {
      "cell_type": "code",
      "execution_count": 40,
      "metadata": {
        "id": "mlSEanHNv0yv"
      },
      "outputs": [],
      "source": [
        "x=image.img_to_array(img)"
      ]
    },
    {
      "cell_type": "code",
      "execution_count": 41,
      "metadata": {
        "id": "Ytjm1xNNwDiw"
      },
      "outputs": [],
      "source": [
        "x=x/255"
      ]
    },
    {
      "cell_type": "code",
      "execution_count": 42,
      "metadata": {
        "id": "O2XVAJk9wEOb",
        "colab": {
          "base_uri": "https://localhost:8080/"
        },
        "outputId": "9775ffc3-c452-4831-f0d9-bc4995839f2c"
      },
      "outputs": [
        {
          "output_type": "execute_result",
          "data": {
            "text/plain": [
              "(1, 256, 256, 3)"
            ]
          },
          "metadata": {},
          "execution_count": 42
        }
      ],
      "source": [
        "x=np.expand_dims(x,axis=0)\n",
        "x.shape"
      ]
    },
    {
      "cell_type": "code",
      "execution_count": 43,
      "metadata": {
        "id": "Z0WCmtaYwGAy",
        "colab": {
          "base_uri": "https://localhost:8080/"
        },
        "outputId": "b7fea813-6a9e-42d3-b0c8-8413138b754f"
      },
      "outputs": [
        {
          "output_type": "stream",
          "name": "stdout",
          "text": [
            "1/1 [==============================] - 0s 178ms/step\n"
          ]
        }
      ],
      "source": [
        "pred=model.predict(x)"
      ]
    },
    {
      "cell_type": "code",
      "execution_count": 44,
      "metadata": {
        "id": "8Wxdt0m8wH0r",
        "colab": {
          "base_uri": "https://localhost:8080/"
        },
        "outputId": "82ad8aae-2ec0-4661-cb0d-23ba836ea2f3"
      },
      "outputs": [
        {
          "output_type": "stream",
          "name": "stdout",
          "text": [
            "[[3.0673411e-12 9.2571151e-01 1.0000000e+00 5.3790137e-18]]\n"
          ]
        }
      ],
      "source": [
        "print(pred)"
      ]
    },
    {
      "cell_type": "code",
      "execution_count": 45,
      "metadata": {
        "id": "LLL9i03t1hBo",
        "colab": {
          "base_uri": "https://localhost:8080/"
        },
        "outputId": "97affaab-63dd-4975-e6d7-25779c8dbded"
      },
      "outputs": [
        {
          "output_type": "stream",
          "name": "stdout",
          "text": [
            "1-4\n"
          ]
        }
      ],
      "source": [
        "pred_name = CLASSES[np.argmax(pred)]\n",
        "print(pred_name)"
      ]
    }
  ],
  "metadata": {
    "accelerator": "GPU",
    "colab": {
      "provenance": [],
      "gpuType": "T4"
    },
    "gpuClass": "standard",
    "kernelspec": {
      "display_name": "Python 3 (ipykernel)",
      "language": "python",
      "name": "python3"
    },
    "language_info": {
      "codemirror_mode": {
        "name": "ipython",
        "version": 3
      },
      "file_extension": ".py",
      "mimetype": "text/x-python",
      "name": "python",
      "nbconvert_exporter": "python",
      "pygments_lexer": "ipython3",
      "version": "3.9.13"
    },
    "vscode": {
      "interpreter": {
        "hash": "b302cdd1e032ee910f5c889c3360c28564c92ad4f326fc3102e39fbe47faee66"
      }
    }
  },
  "nbformat": 4,
  "nbformat_minor": 0
}